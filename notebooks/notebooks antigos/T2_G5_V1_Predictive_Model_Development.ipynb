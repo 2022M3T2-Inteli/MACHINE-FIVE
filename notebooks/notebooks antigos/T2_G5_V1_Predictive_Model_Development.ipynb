{
  "cells": [
    {
      "cell_type": "code",
      "execution_count": 2,
      "metadata": {
        "colab": {
          "base_uri": "https://localhost:8080/"
        },
        "id": "9tKQ-PF-0dze",
        "outputId": "abe446b4-f3b6-476c-e4cd-2e69a70f0f05"
      },
      "outputs": [
        {
          "name": "stdout",
          "output_type": "stream",
          "text": [
            "Mounted at /content/drive/\n"
          ]
        }
      ],
      "source": [
        "import pandas as pd\n",
        "from google.colab import drive\n",
        "import numpy as np\n",
        "import sklearn\n",
        "\n",
        "drive = drive.mount('/content/drive/')"
      ]
    },
    {
      "cell_type": "markdown",
      "metadata": {
        "id": "FdKDXxRPyMtK"
      },
      "source": [
        "##Primeiros comandos\n",
        "Acesso aos dados da planinha Everymind\n",
        "\n",
        "---\n",
        "\n",
        "*   Limpeza e remoção de algumas colunas que não vão ser necessárias na amplitude do nosso modelo\n",
        "*   Troca dos valores nulo para zero e sua ordenação\n",
        "*   Definição das variáveis \"base\", como a tabela Everymind da spreadsheet, e \"reconhecimento\", como a tabela Reconhecimento."
      ]
    },
    {
      "cell_type": "code",
      "execution_count": 3,
      "metadata": {
        "colab": {
          "base_uri": "https://localhost:8080/"
        },
        "id": "uDUmsIMj0ucv",
        "outputId": "3a3a4ee6-42db-4d56-94e0-52de29a5cb15"
      },
      "outputs": [
        {
          "name": "stderr",
          "output_type": "stream",
          "text": [
            "/usr/local/lib/python3.7/dist-packages/openpyxl/worksheet/_reader.py:312: UserWarning: Unknown extension is not supported and will be removed\n",
            "  warn(msg)\n",
            "/usr/local/lib/python3.7/dist-packages/ipykernel_launcher.py:4: UserWarning: Boolean Series key will be reindexed to match DataFrame index.\n",
            "  after removing the cwd from sys.path.\n"
          ]
        },
        {
          "data": {
            "text/plain": [
              "Index(['Matricula', 'Dt Admissao', 'Dt Saida', 'Tipo Saida', 'Cargo',\n",
              "       'Salario Mês', 'Dt Nascimento', 'Genero', 'Estado Civil',\n",
              "       'Escolaridade ', 'Estado', 'Cidade', 'Area', 'Idade'],\n",
              "      dtype='object')"
            ]
          },
          "execution_count": 3,
          "metadata": {},
          "output_type": "execute_result"
        }
      ],
      "source": [
        "base = pd.read_excel(\"/content/drive/Shareddrives/grupo5_modulo3/Everymind | Grupo 5.xlsx\", \"Everymind\")\n",
        "reconhecimento = pd.read_excel(\"/content/drive/Shareddrives/grupo5_modulo3/Everymind | Grupo 5.xlsx\", \"Reconhecimento\")\n",
        "\n",
        "base[base[\"Tipo Saida\"].notna().sort_values()]\n",
        "base = base.drop(['Nome Completo'], axis=1)\n",
        "base = base.drop(['Etnia'], axis=1)\n",
        "\n",
        "base.columns"
      ]
    },
    {
      "cell_type": "markdown",
      "metadata": {
        "id": "jE-dge4B_5nI"
      },
      "source": [
        "##Este código cria 4 novas colunas na tabela Everymind.\n",
        "\n",
        "\n",
        "---\n",
        "\n",
        "\n",
        "- Essas tabelas se referem ao hot encoding no qual será inserido o tempo (intervalos de 3, 6, 9 e 12 meses) para promoção ou reconhecimento dentro da empresa."
      ]
    },
    {
      "cell_type": "code",
      "execution_count": 4,
      "metadata": {
        "colab": {
          "base_uri": "https://localhost:8080/"
        },
        "id": "WAxvj5HX2Bey",
        "outputId": "438a8c62-0eb6-4909-fcaf-6a26a601cf6d"
      },
      "outputs": [
        {
          "data": {
            "text/plain": [
              "Index(['Matricula', 'Dt Admissao', 'Dt Saida', 'Tipo Saida', 'Cargo',\n",
              "       'Salario Mês', 'Dt Nascimento', 'Genero', 'Estado Civil',\n",
              "       'Escolaridade ', 'Estado', 'Cidade', 'Area', 'Idade', '3 Meses >',\n",
              "       '6 Meses >', '9 Meses >', '12 Meses >'],\n",
              "      dtype='object')"
            ]
          },
          "execution_count": 4,
          "metadata": {},
          "output_type": "execute_result"
        }
      ],
      "source": [
        "base['3 Meses >'] = 0\n",
        "base['6 Meses >'] = 0\n",
        "base['9 Meses >'] = 0\n",
        "base['12 Meses >'] = 0\n",
        "\n",
        "base.columns"
      ]
    },
    {
      "cell_type": "code",
      "execution_count": 5,
      "metadata": {
        "id": "GyqCc1TkFaGQ"
      },
      "outputs": [],
      "source": [
        "# base = base[['Matricula', 'Dt Admissao', 'Dt Saida', 'Tempo de casa', 'Tipo Saida', 'Cargo', 'Salario Mês', 'Dt Nascimento', 'Genero', 'Estado Civil', 'Escolaridade ', 'Estado', 'Cidade', 'Area', 'Idade', '3 Meses >', '6 Meses >', '9 Meses >', '12 Meses >']]"
      ]
    },
    {
      "cell_type": "markdown",
      "metadata": {
        "id": "y3iKVZGa3FXo"
      },
      "source": [
        "## Função que verifica, cria novas colunas e ás preenche\n",
        "\n",
        "\n",
        "---\n",
        "\n",
        "\n",
        "Tinhamos um grande problema em relação a tabela de reconhecimento e a tabela everymind, então criamos esse script para solucionar. O script pega cada matricula da tabela everymind e verifica se existe promoção ou merito na tabela \"Reconhecimento\", ele cria 4 colunas de tempo na tabela Everymind e vai preenchendo com base nos meritos e promoções da tabela de Reconhecimento."
      ]
    },
    {
      "cell_type": "code",
      "execution_count": 6,
      "metadata": {
        "id": "dwKlv5x92UJx"
      },
      "outputs": [],
      "source": [
        "from xlrd.book import display_cell_address\n",
        "from datetime import date\n",
        "import numpy as np\n",
        "import math \n",
        "\n",
        "for item in base['Matricula']:\n",
        "  for i in reconhecimento['Matricula']:\n",
        "    if i == item:\n",
        "      da = reconhecimento.iloc[int(i-1):int(i),3] #este código esta buscando um dado na tabela Reconhecimento\n",
        "      date = reconhecimento.iloc[int(i-1):int(i),4]\n",
        "      data3 = date - da\n",
        "      data3 = data3.to_string()[3:-4].strip() #Transforma nossa data em string\n",
        "\n",
        "      if data3 != 'ies([' and data3 != '':#Retira valores nulos ou ruídosos\n",
        "        data3 = int(data3) #Transforma nossa data em um número inteiro. Ex: 200\n",
        "      else: \n",
        "        data3 = 0\n",
        "      mot = reconhecimento.iloc[int(i-1):int(i),7]\n",
        "      motivo = mot.to_string(index=False)\n",
        "      PROMOÇÃO = 2\n",
        "      MÉRITO = 1\n",
        "      if (data3 >= 90) and (int(data3) < 180):# os códigos abaixo estão preenchendo as novas colunas criadas com base na planilha Reconhecimento\n",
        "          if (motivo == 'PROMOÇÃO'):\n",
        "            base.iat[int(item),14] = 2\n",
        "          elif (motivo == 'MÉRITO'):\n",
        "            base.iat[int(item),14] = 1\n",
        "          else:\n",
        "            base.iat[int(item),14] = 0\n",
        "      if (data3 > 180) and (int(data3) <= 273):\n",
        "          if (motivo == 'PROMOÇÃO'):\n",
        "            base.iat[int(item),15] = 2\n",
        "          elif (motivo == 'MÉRITO'):\n",
        "            base.iat[int(item),15] = 1\n",
        "          else:\n",
        "            base.iat[int(item),15] = 0\n",
        "      if (data3 > 273) and (int(data3) <= 365):\n",
        "          if (motivo == 'PROMOÇÃO'):\n",
        "            base.iat[int(item),16] = 2\n",
        "          elif (motivo == 'MÉRITO'):\n",
        "            base.iat[int(item),16] = 1\n",
        "          else:\n",
        "            base.iat[int(item),16] = 0\n",
        "      if (data3 > 365):\n",
        "          if (motivo == 'PROMOÇÃO'):\n",
        "            base.iat[int(item),17] = 2\n",
        "          elif (motivo == 'MÉRITO'):\n",
        "            base.iat[int(item),17] = 1\n",
        "          else:\n",
        "            base.iat[int(item),17] = 0\n"
      ]
    },
    {
      "cell_type": "markdown",
      "metadata": {
        "id": "aqdFVUWaFdQq"
      },
      "source": [
        "## Definição de Novas Tabelas\n",
        "\n",
        "---\n",
        "\n",
        "Criação da tabela Tempo de casa, que marca em dias quanto tempo a pessoa teve de empresa - para aquelas que têm data de saída, caso não, 0."
      ]
    },
    {
      "cell_type": "code",
      "execution_count": 7,
      "metadata": {
        "colab": {
          "base_uri": "https://localhost:8080/",
          "height": 659
        },
        "id": "I_tqky1bEANU",
        "outputId": "56a3bb4a-49d5-4ab2-cb8d-a1a144ec8f46"
      },
      "outputs": [
        {
          "data": {
            "text/html": [
              "\n",
              "  <div id=\"df-15a3a7bf-0a33-4579-bb76-16f3c2945748\">\n",
              "    <div class=\"colab-df-container\">\n",
              "      <div>\n",
              "<style scoped>\n",
              "    .dataframe tbody tr th:only-of-type {\n",
              "        vertical-align: middle;\n",
              "    }\n",
              "\n",
              "    .dataframe tbody tr th {\n",
              "        vertical-align: top;\n",
              "    }\n",
              "\n",
              "    .dataframe thead th {\n",
              "        text-align: right;\n",
              "    }\n",
              "</style>\n",
              "<table border=\"1\" class=\"dataframe\">\n",
              "  <thead>\n",
              "    <tr style=\"text-align: right;\">\n",
              "      <th></th>\n",
              "      <th>Matricula</th>\n",
              "      <th>Dt Admissao</th>\n",
              "      <th>Dt Saida</th>\n",
              "      <th>Tipo Saida</th>\n",
              "      <th>Cargo</th>\n",
              "      <th>Salario Mês</th>\n",
              "      <th>Dt Nascimento</th>\n",
              "      <th>Genero</th>\n",
              "      <th>Estado Civil</th>\n",
              "      <th>Escolaridade</th>\n",
              "      <th>Estado</th>\n",
              "      <th>Cidade</th>\n",
              "      <th>Area</th>\n",
              "      <th>Idade</th>\n",
              "      <th>3 Meses &gt;</th>\n",
              "      <th>6 Meses &gt;</th>\n",
              "      <th>9 Meses &gt;</th>\n",
              "      <th>12 Meses &gt;</th>\n",
              "      <th>Tempo de casa</th>\n",
              "    </tr>\n",
              "  </thead>\n",
              "  <tbody>\n",
              "    <tr>\n",
              "      <th>10</th>\n",
              "      <td>20.0</td>\n",
              "      <td>2009-04-01</td>\n",
              "      <td>2021-10-29</td>\n",
              "      <td>Pedido de Demissão</td>\n",
              "      <td>Dev Especialista</td>\n",
              "      <td>4406.965</td>\n",
              "      <td>1981-06-16</td>\n",
              "      <td>Masculino</td>\n",
              "      <td>Solteiro</td>\n",
              "      <td>Graduação</td>\n",
              "      <td>SP</td>\n",
              "      <td>Santos</td>\n",
              "      <td>AMS</td>\n",
              "      <td>41</td>\n",
              "      <td>0</td>\n",
              "      <td>0</td>\n",
              "      <td>0</td>\n",
              "      <td>0</td>\n",
              "      <td>4594.0</td>\n",
              "    </tr>\n",
              "    <tr>\n",
              "      <th>56</th>\n",
              "      <td>90.0</td>\n",
              "      <td>2015-05-04</td>\n",
              "      <td>2022-05-20</td>\n",
              "      <td>Pedido de Demissão</td>\n",
              "      <td>Dev Sr</td>\n",
              "      <td>4660.530</td>\n",
              "      <td>1993-06-10</td>\n",
              "      <td>Masculino</td>\n",
              "      <td>Solteiro</td>\n",
              "      <td>Graduação</td>\n",
              "      <td>SP</td>\n",
              "      <td>São Paulo</td>\n",
              "      <td>Analytics</td>\n",
              "      <td>29</td>\n",
              "      <td>0</td>\n",
              "      <td>0</td>\n",
              "      <td>0</td>\n",
              "      <td>0</td>\n",
              "      <td>2573.0</td>\n",
              "    </tr>\n",
              "    <tr>\n",
              "      <th>57</th>\n",
              "      <td>91.0</td>\n",
              "      <td>2015-09-21</td>\n",
              "      <td>2022-05-03</td>\n",
              "      <td>Pedido de Demissão</td>\n",
              "      <td>Arquiteto</td>\n",
              "      <td>7772.155</td>\n",
              "      <td>1985-10-25</td>\n",
              "      <td>Masculino</td>\n",
              "      <td>Casado</td>\n",
              "      <td>Graduação</td>\n",
              "      <td>SP</td>\n",
              "      <td>Santa Bárbara D'Oeste</td>\n",
              "      <td>Analytics</td>\n",
              "      <td>36</td>\n",
              "      <td>0</td>\n",
              "      <td>0</td>\n",
              "      <td>0</td>\n",
              "      <td>0</td>\n",
              "      <td>2416.0</td>\n",
              "    </tr>\n",
              "    <tr>\n",
              "      <th>3</th>\n",
              "      <td>7.0</td>\n",
              "      <td>2015-09-01</td>\n",
              "      <td>2021-10-29</td>\n",
              "      <td>Pedido de Demissão</td>\n",
              "      <td>Arquiteto</td>\n",
              "      <td>7000.000</td>\n",
              "      <td>1986-08-31</td>\n",
              "      <td>Masculino</td>\n",
              "      <td>Solteiro</td>\n",
              "      <td>Graduação</td>\n",
              "      <td>SP</td>\n",
              "      <td>São Paulo</td>\n",
              "      <td>Core &amp; Industrias</td>\n",
              "      <td>36</td>\n",
              "      <td>0</td>\n",
              "      <td>0</td>\n",
              "      <td>0</td>\n",
              "      <td>1</td>\n",
              "      <td>2250.0</td>\n",
              "    </tr>\n",
              "    <tr>\n",
              "      <th>5</th>\n",
              "      <td>9.0</td>\n",
              "      <td>2015-12-07</td>\n",
              "      <td>2021-11-12</td>\n",
              "      <td>Pedido de Demissão</td>\n",
              "      <td>Arquiteto</td>\n",
              "      <td>6500.000</td>\n",
              "      <td>1988-07-07</td>\n",
              "      <td>Masculino</td>\n",
              "      <td>Solteiro</td>\n",
              "      <td>Graduação</td>\n",
              "      <td>SP</td>\n",
              "      <td>São Paulo</td>\n",
              "      <td>Core &amp; Industrias</td>\n",
              "      <td>34</td>\n",
              "      <td>0</td>\n",
              "      <td>0</td>\n",
              "      <td>0</td>\n",
              "      <td>0</td>\n",
              "      <td>2167.0</td>\n",
              "    </tr>\n",
              "    <tr>\n",
              "      <th>...</th>\n",
              "      <td>...</td>\n",
              "      <td>...</td>\n",
              "      <td>...</td>\n",
              "      <td>...</td>\n",
              "      <td>...</td>\n",
              "      <td>...</td>\n",
              "      <td>...</td>\n",
              "      <td>...</td>\n",
              "      <td>...</td>\n",
              "      <td>...</td>\n",
              "      <td>...</td>\n",
              "      <td>...</td>\n",
              "      <td>...</td>\n",
              "      <td>...</td>\n",
              "      <td>...</td>\n",
              "      <td>...</td>\n",
              "      <td>...</td>\n",
              "      <td>...</td>\n",
              "      <td>...</td>\n",
              "    </tr>\n",
              "    <tr>\n",
              "      <th>359</th>\n",
              "      <td>413.0</td>\n",
              "      <td>2022-03-16</td>\n",
              "      <td>2022-04-01</td>\n",
              "      <td>Rescisao Contrato Exp - Dispensa</td>\n",
              "      <td>Arquiteto</td>\n",
              "      <td>7250.000</td>\n",
              "      <td>1982-08-04</td>\n",
              "      <td>Masculino</td>\n",
              "      <td>Solteiro</td>\n",
              "      <td>Graduação</td>\n",
              "      <td>SP</td>\n",
              "      <td>São Paulo</td>\n",
              "      <td>Core &amp; Industrias</td>\n",
              "      <td>40</td>\n",
              "      <td>0</td>\n",
              "      <td>0</td>\n",
              "      <td>0</td>\n",
              "      <td>0</td>\n",
              "      <td>16.0</td>\n",
              "    </tr>\n",
              "    <tr>\n",
              "      <th>433</th>\n",
              "      <td>489.0</td>\n",
              "      <td>2022-06-13</td>\n",
              "      <td>2022-06-20</td>\n",
              "      <td>Rescisao Contrato Exp - Pedido</td>\n",
              "      <td>Dev Especialista</td>\n",
              "      <td>6000.000</td>\n",
              "      <td>1977-02-10</td>\n",
              "      <td>Masculino</td>\n",
              "      <td>Casado</td>\n",
              "      <td>Pós Graduação</td>\n",
              "      <td>RS</td>\n",
              "      <td>Porto Alegre</td>\n",
              "      <td>Core &amp; Industrias</td>\n",
              "      <td>45</td>\n",
              "      <td>0</td>\n",
              "      <td>0</td>\n",
              "      <td>0</td>\n",
              "      <td>0</td>\n",
              "      <td>7.0</td>\n",
              "    </tr>\n",
              "    <tr>\n",
              "      <th>470</th>\n",
              "      <td>526.0</td>\n",
              "      <td>2022-07-18</td>\n",
              "      <td>2022-07-25</td>\n",
              "      <td>Rescisao Contrato Exp - Pedido</td>\n",
              "      <td>Dev Jr</td>\n",
              "      <td>1500.000</td>\n",
              "      <td>1993-07-15</td>\n",
              "      <td>Feminino</td>\n",
              "      <td>Solteiro</td>\n",
              "      <td>Pós Graduação</td>\n",
              "      <td>PR</td>\n",
              "      <td>Colombo</td>\n",
              "      <td>Integration</td>\n",
              "      <td>29</td>\n",
              "      <td>0</td>\n",
              "      <td>0</td>\n",
              "      <td>0</td>\n",
              "      <td>0</td>\n",
              "      <td>7.0</td>\n",
              "    </tr>\n",
              "    <tr>\n",
              "      <th>159</th>\n",
              "      <td>205.0</td>\n",
              "      <td>2021-03-01</td>\n",
              "      <td>2021-03-05</td>\n",
              "      <td>Rescisao Contrato Exp - Pedido</td>\n",
              "      <td>Dev Pl</td>\n",
              "      <td>2250.000</td>\n",
              "      <td>1991-08-14</td>\n",
              "      <td>Masculino</td>\n",
              "      <td>Solteiro</td>\n",
              "      <td>Graduação</td>\n",
              "      <td>SP</td>\n",
              "      <td>São Paulo</td>\n",
              "      <td>Analytics</td>\n",
              "      <td>31</td>\n",
              "      <td>0</td>\n",
              "      <td>0</td>\n",
              "      <td>0</td>\n",
              "      <td>0</td>\n",
              "      <td>4.0</td>\n",
              "    </tr>\n",
              "    <tr>\n",
              "      <th>352</th>\n",
              "      <td>406.0</td>\n",
              "      <td>2022-03-16</td>\n",
              "      <td>2022-03-17</td>\n",
              "      <td>Rescisao Contrato Exp - Pedido</td>\n",
              "      <td>Trainee - Dev</td>\n",
              "      <td>1017.000</td>\n",
              "      <td>1983-01-04</td>\n",
              "      <td>Masculino</td>\n",
              "      <td>Casado</td>\n",
              "      <td>Superior incompleto</td>\n",
              "      <td>SP</td>\n",
              "      <td>São Paulo</td>\n",
              "      <td>Best Minds</td>\n",
              "      <td>39</td>\n",
              "      <td>0</td>\n",
              "      <td>0</td>\n",
              "      <td>0</td>\n",
              "      <td>0</td>\n",
              "      <td>1.0</td>\n",
              "    </tr>\n",
              "  </tbody>\n",
              "</table>\n",
              "<p>191 rows × 19 columns</p>\n",
              "</div>\n",
              "      <button class=\"colab-df-convert\" onclick=\"convertToInteractive('df-15a3a7bf-0a33-4579-bb76-16f3c2945748')\"\n",
              "              title=\"Convert this dataframe to an interactive table.\"\n",
              "              style=\"display:none;\">\n",
              "        \n",
              "  <svg xmlns=\"http://www.w3.org/2000/svg\" height=\"24px\"viewBox=\"0 0 24 24\"\n",
              "       width=\"24px\">\n",
              "    <path d=\"M0 0h24v24H0V0z\" fill=\"none\"/>\n",
              "    <path d=\"M18.56 5.44l.94 2.06.94-2.06 2.06-.94-2.06-.94-.94-2.06-.94 2.06-2.06.94zm-11 1L8.5 8.5l.94-2.06 2.06-.94-2.06-.94L8.5 2.5l-.94 2.06-2.06.94zm10 10l.94 2.06.94-2.06 2.06-.94-2.06-.94-.94-2.06-.94 2.06-2.06.94z\"/><path d=\"M17.41 7.96l-1.37-1.37c-.4-.4-.92-.59-1.43-.59-.52 0-1.04.2-1.43.59L10.3 9.45l-7.72 7.72c-.78.78-.78 2.05 0 2.83L4 21.41c.39.39.9.59 1.41.59.51 0 1.02-.2 1.41-.59l7.78-7.78 2.81-2.81c.8-.78.8-2.07 0-2.86zM5.41 20L4 18.59l7.72-7.72 1.47 1.35L5.41 20z\"/>\n",
              "  </svg>\n",
              "      </button>\n",
              "      \n",
              "  <style>\n",
              "    .colab-df-container {\n",
              "      display:flex;\n",
              "      flex-wrap:wrap;\n",
              "      gap: 12px;\n",
              "    }\n",
              "\n",
              "    .colab-df-convert {\n",
              "      background-color: #E8F0FE;\n",
              "      border: none;\n",
              "      border-radius: 50%;\n",
              "      cursor: pointer;\n",
              "      display: none;\n",
              "      fill: #1967D2;\n",
              "      height: 32px;\n",
              "      padding: 0 0 0 0;\n",
              "      width: 32px;\n",
              "    }\n",
              "\n",
              "    .colab-df-convert:hover {\n",
              "      background-color: #E2EBFA;\n",
              "      box-shadow: 0px 1px 2px rgba(60, 64, 67, 0.3), 0px 1px 3px 1px rgba(60, 64, 67, 0.15);\n",
              "      fill: #174EA6;\n",
              "    }\n",
              "\n",
              "    [theme=dark] .colab-df-convert {\n",
              "      background-color: #3B4455;\n",
              "      fill: #D2E3FC;\n",
              "    }\n",
              "\n",
              "    [theme=dark] .colab-df-convert:hover {\n",
              "      background-color: #434B5C;\n",
              "      box-shadow: 0px 1px 3px 1px rgba(0, 0, 0, 0.15);\n",
              "      filter: drop-shadow(0px 1px 2px rgba(0, 0, 0, 0.3));\n",
              "      fill: #FFFFFF;\n",
              "    }\n",
              "  </style>\n",
              "\n",
              "      <script>\n",
              "        const buttonEl =\n",
              "          document.querySelector('#df-15a3a7bf-0a33-4579-bb76-16f3c2945748 button.colab-df-convert');\n",
              "        buttonEl.style.display =\n",
              "          google.colab.kernel.accessAllowed ? 'block' : 'none';\n",
              "\n",
              "        async function convertToInteractive(key) {\n",
              "          const element = document.querySelector('#df-15a3a7bf-0a33-4579-bb76-16f3c2945748');\n",
              "          const dataTable =\n",
              "            await google.colab.kernel.invokeFunction('convertToInteractive',\n",
              "                                                     [key], {});\n",
              "          if (!dataTable) return;\n",
              "\n",
              "          const docLinkHtml = 'Like what you see? Visit the ' +\n",
              "            '<a target=\"_blank\" href=https://colab.research.google.com/notebooks/data_table.ipynb>data table notebook</a>'\n",
              "            + ' to learn more about interactive tables.';\n",
              "          element.innerHTML = '';\n",
              "          dataTable['output_type'] = 'display_data';\n",
              "          await google.colab.output.renderOutput(dataTable, element);\n",
              "          const docLink = document.createElement('div');\n",
              "          docLink.innerHTML = docLinkHtml;\n",
              "          element.appendChild(docLink);\n",
              "        }\n",
              "      </script>\n",
              "    </div>\n",
              "  </div>\n",
              "  "
            ],
            "text/plain": [
              "     Matricula Dt Admissao   Dt Saida                        Tipo Saida  \\\n",
              "10        20.0  2009-04-01 2021-10-29                Pedido de Demissão   \n",
              "56        90.0  2015-05-04 2022-05-20                Pedido de Demissão   \n",
              "57        91.0  2015-09-21 2022-05-03                Pedido de Demissão   \n",
              "3          7.0  2015-09-01 2021-10-29                Pedido de Demissão   \n",
              "5          9.0  2015-12-07 2021-11-12                Pedido de Demissão   \n",
              "..         ...         ...        ...                               ...   \n",
              "359      413.0  2022-03-16 2022-04-01  Rescisao Contrato Exp - Dispensa   \n",
              "433      489.0  2022-06-13 2022-06-20    Rescisao Contrato Exp - Pedido   \n",
              "470      526.0  2022-07-18 2022-07-25    Rescisao Contrato Exp - Pedido   \n",
              "159      205.0  2021-03-01 2021-03-05    Rescisao Contrato Exp - Pedido   \n",
              "352      406.0  2022-03-16 2022-03-17    Rescisao Contrato Exp - Pedido   \n",
              "\n",
              "                 Cargo  Salario Mês Dt Nascimento      Genero Estado Civil  \\\n",
              "10    Dev Especialista     4406.965    1981-06-16  Masculino     Solteiro    \n",
              "56              Dev Sr     4660.530    1993-06-10  Masculino     Solteiro    \n",
              "57           Arquiteto     7772.155    1985-10-25  Masculino       Casado    \n",
              "3            Arquiteto     7000.000    1986-08-31  Masculino     Solteiro    \n",
              "5            Arquiteto     6500.000    1988-07-07  Masculino     Solteiro    \n",
              "..                 ...          ...           ...         ...          ...   \n",
              "359          Arquiteto     7250.000    1982-08-04  Masculino     Solteiro    \n",
              "433   Dev Especialista     6000.000    1977-02-10  Masculino       Casado    \n",
              "470             Dev Jr     1500.000    1993-07-15    Feminino    Solteiro    \n",
              "159             Dev Pl     2250.000    1991-08-14  Masculino     Solteiro    \n",
              "352      Trainee - Dev     1017.000    1983-01-04  Masculino       Casado    \n",
              "\n",
              "           Escolaridade  Estado                 Cidade               Area  \\\n",
              "10             Graduação     SP                 Santos                AMS   \n",
              "56             Graduação     SP              São Paulo          Analytics   \n",
              "57             Graduação     SP  Santa Bárbara D'Oeste          Analytics   \n",
              "3              Graduação     SP              São Paulo  Core & Industrias   \n",
              "5              Graduação     SP              São Paulo  Core & Industrias   \n",
              "..                   ...    ...                    ...                ...   \n",
              "359            Graduação     SP              São Paulo  Core & Industrias   \n",
              "433        Pós Graduação     RS           Porto Alegre  Core & Industrias   \n",
              "470        Pós Graduação     PR                Colombo        Integration   \n",
              "159            Graduação     SP              São Paulo          Analytics   \n",
              "352  Superior incompleto     SP              São Paulo         Best Minds   \n",
              "\n",
              "     Idade  3 Meses >  6 Meses >  9 Meses >  12 Meses >  Tempo de casa  \n",
              "10      41          0          0          0           0         4594.0  \n",
              "56      29          0          0          0           0         2573.0  \n",
              "57      36          0          0          0           0         2416.0  \n",
              "3       36          0          0          0           1         2250.0  \n",
              "5       34          0          0          0           0         2167.0  \n",
              "..     ...        ...        ...        ...         ...            ...  \n",
              "359     40          0          0          0           0           16.0  \n",
              "433     45          0          0          0           0            7.0  \n",
              "470     29          0          0          0           0            7.0  \n",
              "159     31          0          0          0           0            4.0  \n",
              "352     39          0          0          0           0            1.0  \n",
              "\n",
              "[191 rows x 19 columns]"
            ]
          },
          "execution_count": 7,
          "metadata": {},
          "output_type": "execute_result"
        }
      ],
      "source": [
        "import datetime\n",
        "\n",
        "# base['Dt Saida'] = base['Dt Saida'].fillna('-')\n",
        "base['Dt Admissao'] = pd.to_datetime(base['Dt Admissao'])\n",
        "\n",
        "houseTime = []\n",
        "\n",
        "for ind in base.index:\n",
        "  # if base['Dt Saida'][ind] != '-':\n",
        "  if base['Dt Saida'][ind]:\n",
        "    houseTime.append((base['Dt Saida'][ind] - base['Dt Admissao'][ind]).days)\n",
        "  else:\n",
        "    houseTime.append(0)\n",
        "\n",
        "base['Tempo de casa'] = houseTime\n",
        "base[base['Dt Saida'].notna()].sort_values('Tempo de casa', ascending=False)"
      ]
    },
    {
      "cell_type": "code",
      "execution_count": 8,
      "metadata": {
        "id": "salnR9THKUOw"
      },
      "outputs": [],
      "source": [
        "base.replace('(^\\s+|\\s+$)', '', regex=True, inplace=True)"
      ]
    },
    {
      "cell_type": "code",
      "execution_count": 9,
      "metadata": {
        "colab": {
          "base_uri": "https://localhost:8080/"
        },
        "id": "VgN9DLHWJyzp",
        "outputId": "157f0cf8-5b92-4f61-f94f-cc90ee80ae90"
      },
      "outputs": [
        {
          "data": {
            "text/plain": [
              "{'Ensino Médio',\n",
              " 'Ensino Médio Incompleto',\n",
              " 'Graduação',\n",
              " 'Mestrado',\n",
              " 'Pós Graduação',\n",
              " 'Superior incompleto',\n",
              " 'Técnico'}"
            ]
          },
          "execution_count": 9,
          "metadata": {},
          "output_type": "execute_result"
        }
      ],
      "source": [
        "set(base[\"Escolaridade \"].values)"
      ]
    },
    {
      "cell_type": "markdown",
      "metadata": {
        "id": "qeA3qgPTUEVr"
      },
      "source": [
        "## Hot Encoding \n",
        "---\n",
        "\n",
        "Atribuição de variáveis binárias, em colunas ('Tipo Saida', 'Cargo', 'Genero', 'Estado', 'Estado Civil', 'Escolaridade ') que estavam anteriormente em formato de string. \n",
        "\n",
        "Nossa intenção é segmentar e podem alimentar a inteligência com o melhor estado possível após o tratamento de dados, principalmente em atributos importantes para o andamento do projeto"
      ]
    },
    {
      "cell_type": "markdown",
      "metadata": {
        "id": "eNqCtfOKHlz9"
      },
      "source": [
        "### Legendas\n",
        "\n",
        "##### Tipo de Saída\n",
        "- 0: Dispensa sem justa causa\n",
        "- 1: Pedido de demissão\n",
        "- 2: Recisão contrato - Exp/Dispensa (Saiu em menos de 3 meses por opção da empresa)\n",
        "- 3: Recisão contrato - Exp/Pedido (Saiu em menos de 3 meses por pedido)\n",
        "- 4: Não saiu\n",
        "\n",
        "##### Escolaridade\n",
        "- 0: Ensino médio\n",
        "- 1: Ensino médio incompleto\n",
        "- 2: Graduação\n",
        "- 3: Mestrado\n",
        "- 4: Pós graduação\n",
        "- 5: Superior incompleto\n",
        "- 6: Técnico\n",
        "\n",
        "#### Estado civil\n",
        "- 0: Casado\n",
        "- 1: Divorciado\n",
        "- 2: Separado\n",
        "- 3: Solteiro\n",
        "- 4: União estável"
      ]
    },
    {
      "cell_type": "code",
      "execution_count": 10,
      "metadata": {
        "id": "mkh2aDKtBMUh"
      },
      "outputs": [],
      "source": [
        "from sklearn import preprocessing\n",
        "\n",
        "pd.get_dummies(base, columns=['Cargo', 'Genero', 'Estado'])\n",
        "\n",
        "label = preprocessing.LabelEncoder()\n",
        "\n",
        "base['Tipo Saida']= label.fit_transform(base['Tipo Saida'])\n",
        "base['Escolaridade ']= label.fit_transform(base['Escolaridade '])\n",
        "base['Estado Civil']= label.fit_transform(base['Estado Civil'])"
      ]
    },
    {
      "cell_type": "code",
      "execution_count": 11,
      "metadata": {
        "colab": {
          "base_uri": "https://localhost:8080/",
          "height": 468
        },
        "id": "gdPl8te9faV9",
        "outputId": "cc80ad99-1087-4894-9c61-39da78e00343"
      },
      "outputs": [
        {
          "data": {
            "text/html": [
              "\n",
              "  <div id=\"df-b48c17db-1246-44cd-aef6-d045036b54a7\">\n",
              "    <div class=\"colab-df-container\">\n",
              "      <div>\n",
              "<style scoped>\n",
              "    .dataframe tbody tr th:only-of-type {\n",
              "        vertical-align: middle;\n",
              "    }\n",
              "\n",
              "    .dataframe tbody tr th {\n",
              "        vertical-align: top;\n",
              "    }\n",
              "\n",
              "    .dataframe thead th {\n",
              "        text-align: right;\n",
              "    }\n",
              "</style>\n",
              "<table border=\"1\" class=\"dataframe\">\n",
              "  <thead>\n",
              "    <tr style=\"text-align: right;\">\n",
              "      <th></th>\n",
              "      <th>Matricula</th>\n",
              "      <th>Dt Admissao</th>\n",
              "      <th>Dt Saida</th>\n",
              "      <th>Tipo Saida</th>\n",
              "      <th>Cargo</th>\n",
              "      <th>Salario Mês</th>\n",
              "      <th>Dt Nascimento</th>\n",
              "      <th>Genero</th>\n",
              "      <th>Estado Civil</th>\n",
              "      <th>Escolaridade</th>\n",
              "      <th>Estado</th>\n",
              "      <th>Cidade</th>\n",
              "      <th>Area</th>\n",
              "      <th>Idade</th>\n",
              "      <th>3 Meses &gt;</th>\n",
              "      <th>6 Meses &gt;</th>\n",
              "      <th>9 Meses &gt;</th>\n",
              "      <th>12 Meses &gt;</th>\n",
              "      <th>Tempo de casa</th>\n",
              "    </tr>\n",
              "  </thead>\n",
              "  <tbody>\n",
              "    <tr>\n",
              "      <th>0</th>\n",
              "      <td>2.0</td>\n",
              "      <td>2015-02-02</td>\n",
              "      <td>NaT</td>\n",
              "      <td>4</td>\n",
              "      <td>Gerente Sr</td>\n",
              "      <td>9914.4</td>\n",
              "      <td>1992-01-25</td>\n",
              "      <td>Masculino</td>\n",
              "      <td>3</td>\n",
              "      <td>2</td>\n",
              "      <td>SP</td>\n",
              "      <td>São Paulo</td>\n",
              "      <td>CPG &amp; Retail</td>\n",
              "      <td>30</td>\n",
              "      <td>0</td>\n",
              "      <td>0</td>\n",
              "      <td>0</td>\n",
              "      <td>0</td>\n",
              "      <td>NaN</td>\n",
              "    </tr>\n",
              "    <tr>\n",
              "      <th>1</th>\n",
              "      <td>3.0</td>\n",
              "      <td>2015-03-26</td>\n",
              "      <td>NaT</td>\n",
              "      <td>4</td>\n",
              "      <td>Gerente Sr</td>\n",
              "      <td>8250.0</td>\n",
              "      <td>1991-08-03</td>\n",
              "      <td>Masculino</td>\n",
              "      <td>3</td>\n",
              "      <td>2</td>\n",
              "      <td>SP</td>\n",
              "      <td>Osasco</td>\n",
              "      <td>CPG &amp; Retail</td>\n",
              "      <td>31</td>\n",
              "      <td>0</td>\n",
              "      <td>0</td>\n",
              "      <td>0</td>\n",
              "      <td>0</td>\n",
              "      <td>NaN</td>\n",
              "    </tr>\n",
              "    <tr>\n",
              "      <th>2</th>\n",
              "      <td>4.0</td>\n",
              "      <td>2015-04-05</td>\n",
              "      <td>NaT</td>\n",
              "      <td>4</td>\n",
              "      <td>Arquiteto Sr</td>\n",
              "      <td>9914.4</td>\n",
              "      <td>1988-03-05</td>\n",
              "      <td>Masculino</td>\n",
              "      <td>3</td>\n",
              "      <td>2</td>\n",
              "      <td>SP</td>\n",
              "      <td>São Paulo</td>\n",
              "      <td>Education</td>\n",
              "      <td>34</td>\n",
              "      <td>0</td>\n",
              "      <td>0</td>\n",
              "      <td>0</td>\n",
              "      <td>1</td>\n",
              "      <td>NaN</td>\n",
              "    </tr>\n",
              "    <tr>\n",
              "      <th>3</th>\n",
              "      <td>7.0</td>\n",
              "      <td>2015-09-01</td>\n",
              "      <td>2021-10-29</td>\n",
              "      <td>1</td>\n",
              "      <td>Arquiteto</td>\n",
              "      <td>7000.0</td>\n",
              "      <td>1986-08-31</td>\n",
              "      <td>Masculino</td>\n",
              "      <td>3</td>\n",
              "      <td>2</td>\n",
              "      <td>SP</td>\n",
              "      <td>São Paulo</td>\n",
              "      <td>Core &amp; Industrias</td>\n",
              "      <td>36</td>\n",
              "      <td>0</td>\n",
              "      <td>0</td>\n",
              "      <td>0</td>\n",
              "      <td>1</td>\n",
              "      <td>2250.0</td>\n",
              "    </tr>\n",
              "    <tr>\n",
              "      <th>4</th>\n",
              "      <td>8.0</td>\n",
              "      <td>2015-12-07</td>\n",
              "      <td>2020-05-29</td>\n",
              "      <td>1</td>\n",
              "      <td>Dev Pl</td>\n",
              "      <td>2750.0</td>\n",
              "      <td>1994-06-27</td>\n",
              "      <td>Masculino</td>\n",
              "      <td>3</td>\n",
              "      <td>2</td>\n",
              "      <td>SP</td>\n",
              "      <td>São Paulo</td>\n",
              "      <td>CPG &amp; Retail</td>\n",
              "      <td>28</td>\n",
              "      <td>0</td>\n",
              "      <td>0</td>\n",
              "      <td>0</td>\n",
              "      <td>2</td>\n",
              "      <td>1635.0</td>\n",
              "    </tr>\n",
              "    <tr>\n",
              "      <th>...</th>\n",
              "      <td>...</td>\n",
              "      <td>...</td>\n",
              "      <td>...</td>\n",
              "      <td>...</td>\n",
              "      <td>...</td>\n",
              "      <td>...</td>\n",
              "      <td>...</td>\n",
              "      <td>...</td>\n",
              "      <td>...</td>\n",
              "      <td>...</td>\n",
              "      <td>...</td>\n",
              "      <td>...</td>\n",
              "      <td>...</td>\n",
              "      <td>...</td>\n",
              "      <td>...</td>\n",
              "      <td>...</td>\n",
              "      <td>...</td>\n",
              "      <td>...</td>\n",
              "      <td>...</td>\n",
              "    </tr>\n",
              "    <tr>\n",
              "      <th>470</th>\n",
              "      <td>526.0</td>\n",
              "      <td>2022-07-18</td>\n",
              "      <td>2022-07-25</td>\n",
              "      <td>3</td>\n",
              "      <td>Dev Jr</td>\n",
              "      <td>1500.0</td>\n",
              "      <td>1993-07-15</td>\n",
              "      <td>Feminino</td>\n",
              "      <td>3</td>\n",
              "      <td>4</td>\n",
              "      <td>PR</td>\n",
              "      <td>Colombo</td>\n",
              "      <td>Integration</td>\n",
              "      <td>29</td>\n",
              "      <td>0</td>\n",
              "      <td>0</td>\n",
              "      <td>0</td>\n",
              "      <td>0</td>\n",
              "      <td>7.0</td>\n",
              "    </tr>\n",
              "    <tr>\n",
              "      <th>471</th>\n",
              "      <td>527.0</td>\n",
              "      <td>2022-07-18</td>\n",
              "      <td>NaT</td>\n",
              "      <td>4</td>\n",
              "      <td>Arquiteto</td>\n",
              "      <td>7000.0</td>\n",
              "      <td>1981-08-16</td>\n",
              "      <td>Masculino</td>\n",
              "      <td>0</td>\n",
              "      <td>5</td>\n",
              "      <td>SP</td>\n",
              "      <td>Guarulhos</td>\n",
              "      <td>Mkt Cloud</td>\n",
              "      <td>41</td>\n",
              "      <td>0</td>\n",
              "      <td>0</td>\n",
              "      <td>0</td>\n",
              "      <td>0</td>\n",
              "      <td>NaN</td>\n",
              "    </tr>\n",
              "    <tr>\n",
              "      <th>472</th>\n",
              "      <td>528.0</td>\n",
              "      <td>2022-07-18</td>\n",
              "      <td>NaT</td>\n",
              "      <td>4</td>\n",
              "      <td>Dev Jr</td>\n",
              "      <td>1750.0</td>\n",
              "      <td>1991-12-05</td>\n",
              "      <td>Masculino</td>\n",
              "      <td>3</td>\n",
              "      <td>4</td>\n",
              "      <td>DF</td>\n",
              "      <td>Brasília</td>\n",
              "      <td>Integration</td>\n",
              "      <td>30</td>\n",
              "      <td>0</td>\n",
              "      <td>0</td>\n",
              "      <td>0</td>\n",
              "      <td>0</td>\n",
              "      <td>NaN</td>\n",
              "    </tr>\n",
              "    <tr>\n",
              "      <th>473</th>\n",
              "      <td>529.0</td>\n",
              "      <td>2022-07-18</td>\n",
              "      <td>NaT</td>\n",
              "      <td>4</td>\n",
              "      <td>Dev Pl</td>\n",
              "      <td>2750.0</td>\n",
              "      <td>1990-01-18</td>\n",
              "      <td>Masculino</td>\n",
              "      <td>3</td>\n",
              "      <td>5</td>\n",
              "      <td>MG</td>\n",
              "      <td>Unaí</td>\n",
              "      <td>Commerce</td>\n",
              "      <td>32</td>\n",
              "      <td>0</td>\n",
              "      <td>0</td>\n",
              "      <td>0</td>\n",
              "      <td>0</td>\n",
              "      <td>NaN</td>\n",
              "    </tr>\n",
              "    <tr>\n",
              "      <th>474</th>\n",
              "      <td>530.0</td>\n",
              "      <td>2022-07-18</td>\n",
              "      <td>NaT</td>\n",
              "      <td>4</td>\n",
              "      <td>Dev Especialista</td>\n",
              "      <td>5500.0</td>\n",
              "      <td>1956-11-13</td>\n",
              "      <td>Masculino</td>\n",
              "      <td>0</td>\n",
              "      <td>2</td>\n",
              "      <td>SP</td>\n",
              "      <td>Jundiaí</td>\n",
              "      <td>Analytics</td>\n",
              "      <td>65</td>\n",
              "      <td>0</td>\n",
              "      <td>0</td>\n",
              "      <td>0</td>\n",
              "      <td>0</td>\n",
              "      <td>NaN</td>\n",
              "    </tr>\n",
              "  </tbody>\n",
              "</table>\n",
              "<p>475 rows × 19 columns</p>\n",
              "</div>\n",
              "      <button class=\"colab-df-convert\" onclick=\"convertToInteractive('df-b48c17db-1246-44cd-aef6-d045036b54a7')\"\n",
              "              title=\"Convert this dataframe to an interactive table.\"\n",
              "              style=\"display:none;\">\n",
              "        \n",
              "  <svg xmlns=\"http://www.w3.org/2000/svg\" height=\"24px\"viewBox=\"0 0 24 24\"\n",
              "       width=\"24px\">\n",
              "    <path d=\"M0 0h24v24H0V0z\" fill=\"none\"/>\n",
              "    <path d=\"M18.56 5.44l.94 2.06.94-2.06 2.06-.94-2.06-.94-.94-2.06-.94 2.06-2.06.94zm-11 1L8.5 8.5l.94-2.06 2.06-.94-2.06-.94L8.5 2.5l-.94 2.06-2.06.94zm10 10l.94 2.06.94-2.06 2.06-.94-2.06-.94-.94-2.06-.94 2.06-2.06.94z\"/><path d=\"M17.41 7.96l-1.37-1.37c-.4-.4-.92-.59-1.43-.59-.52 0-1.04.2-1.43.59L10.3 9.45l-7.72 7.72c-.78.78-.78 2.05 0 2.83L4 21.41c.39.39.9.59 1.41.59.51 0 1.02-.2 1.41-.59l7.78-7.78 2.81-2.81c.8-.78.8-2.07 0-2.86zM5.41 20L4 18.59l7.72-7.72 1.47 1.35L5.41 20z\"/>\n",
              "  </svg>\n",
              "      </button>\n",
              "      \n",
              "  <style>\n",
              "    .colab-df-container {\n",
              "      display:flex;\n",
              "      flex-wrap:wrap;\n",
              "      gap: 12px;\n",
              "    }\n",
              "\n",
              "    .colab-df-convert {\n",
              "      background-color: #E8F0FE;\n",
              "      border: none;\n",
              "      border-radius: 50%;\n",
              "      cursor: pointer;\n",
              "      display: none;\n",
              "      fill: #1967D2;\n",
              "      height: 32px;\n",
              "      padding: 0 0 0 0;\n",
              "      width: 32px;\n",
              "    }\n",
              "\n",
              "    .colab-df-convert:hover {\n",
              "      background-color: #E2EBFA;\n",
              "      box-shadow: 0px 1px 2px rgba(60, 64, 67, 0.3), 0px 1px 3px 1px rgba(60, 64, 67, 0.15);\n",
              "      fill: #174EA6;\n",
              "    }\n",
              "\n",
              "    [theme=dark] .colab-df-convert {\n",
              "      background-color: #3B4455;\n",
              "      fill: #D2E3FC;\n",
              "    }\n",
              "\n",
              "    [theme=dark] .colab-df-convert:hover {\n",
              "      background-color: #434B5C;\n",
              "      box-shadow: 0px 1px 3px 1px rgba(0, 0, 0, 0.15);\n",
              "      filter: drop-shadow(0px 1px 2px rgba(0, 0, 0, 0.3));\n",
              "      fill: #FFFFFF;\n",
              "    }\n",
              "  </style>\n",
              "\n",
              "      <script>\n",
              "        const buttonEl =\n",
              "          document.querySelector('#df-b48c17db-1246-44cd-aef6-d045036b54a7 button.colab-df-convert');\n",
              "        buttonEl.style.display =\n",
              "          google.colab.kernel.accessAllowed ? 'block' : 'none';\n",
              "\n",
              "        async function convertToInteractive(key) {\n",
              "          const element = document.querySelector('#df-b48c17db-1246-44cd-aef6-d045036b54a7');\n",
              "          const dataTable =\n",
              "            await google.colab.kernel.invokeFunction('convertToInteractive',\n",
              "                                                     [key], {});\n",
              "          if (!dataTable) return;\n",
              "\n",
              "          const docLinkHtml = 'Like what you see? Visit the ' +\n",
              "            '<a target=\"_blank\" href=https://colab.research.google.com/notebooks/data_table.ipynb>data table notebook</a>'\n",
              "            + ' to learn more about interactive tables.';\n",
              "          element.innerHTML = '';\n",
              "          dataTable['output_type'] = 'display_data';\n",
              "          await google.colab.output.renderOutput(dataTable, element);\n",
              "          const docLink = document.createElement('div');\n",
              "          docLink.innerHTML = docLinkHtml;\n",
              "          element.appendChild(docLink);\n",
              "        }\n",
              "      </script>\n",
              "    </div>\n",
              "  </div>\n",
              "  "
            ],
            "text/plain": [
              "     Matricula Dt Admissao   Dt Saida  Tipo Saida             Cargo  \\\n",
              "0          2.0  2015-02-02        NaT           4        Gerente Sr   \n",
              "1          3.0  2015-03-26        NaT           4        Gerente Sr   \n",
              "2          4.0  2015-04-05        NaT           4      Arquiteto Sr   \n",
              "3          7.0  2015-09-01 2021-10-29           1         Arquiteto   \n",
              "4          8.0  2015-12-07 2020-05-29           1            Dev Pl   \n",
              "..         ...         ...        ...         ...               ...   \n",
              "470      526.0  2022-07-18 2022-07-25           3            Dev Jr   \n",
              "471      527.0  2022-07-18        NaT           4         Arquiteto   \n",
              "472      528.0  2022-07-18        NaT           4            Dev Jr   \n",
              "473      529.0  2022-07-18        NaT           4            Dev Pl   \n",
              "474      530.0  2022-07-18        NaT           4  Dev Especialista   \n",
              "\n",
              "     Salario Mês Dt Nascimento     Genero  Estado Civil  Escolaridade  Estado  \\\n",
              "0         9914.4    1992-01-25  Masculino             3              2     SP   \n",
              "1         8250.0    1991-08-03  Masculino             3              2     SP   \n",
              "2         9914.4    1988-03-05  Masculino             3              2     SP   \n",
              "3         7000.0    1986-08-31  Masculino             3              2     SP   \n",
              "4         2750.0    1994-06-27  Masculino             3              2     SP   \n",
              "..           ...           ...        ...           ...            ...    ...   \n",
              "470       1500.0    1993-07-15   Feminino             3              4     PR   \n",
              "471       7000.0    1981-08-16  Masculino             0              5     SP   \n",
              "472       1750.0    1991-12-05  Masculino             3              4     DF   \n",
              "473       2750.0    1990-01-18  Masculino             3              5     MG   \n",
              "474       5500.0    1956-11-13  Masculino             0              2     SP   \n",
              "\n",
              "        Cidade               Area  Idade  3 Meses >  6 Meses >  9 Meses >  \\\n",
              "0    São Paulo       CPG & Retail     30          0          0          0   \n",
              "1       Osasco       CPG & Retail     31          0          0          0   \n",
              "2    São Paulo          Education     34          0          0          0   \n",
              "3    São Paulo  Core & Industrias     36          0          0          0   \n",
              "4    São Paulo       CPG & Retail     28          0          0          0   \n",
              "..         ...                ...    ...        ...        ...        ...   \n",
              "470    Colombo        Integration     29          0          0          0   \n",
              "471  Guarulhos          Mkt Cloud     41          0          0          0   \n",
              "472   Brasília        Integration     30          0          0          0   \n",
              "473       Unaí           Commerce     32          0          0          0   \n",
              "474    Jundiaí          Analytics     65          0          0          0   \n",
              "\n",
              "     12 Meses >  Tempo de casa  \n",
              "0             0            NaN  \n",
              "1             0            NaN  \n",
              "2             1            NaN  \n",
              "3             1         2250.0  \n",
              "4             2         1635.0  \n",
              "..          ...            ...  \n",
              "470           0            7.0  \n",
              "471           0            NaN  \n",
              "472           0            NaN  \n",
              "473           0            NaN  \n",
              "474           0            NaN  \n",
              "\n",
              "[475 rows x 19 columns]"
            ]
          },
          "execution_count": 11,
          "metadata": {},
          "output_type": "execute_result"
        }
      ],
      "source": [
        "base"
      ]
    },
    {
      "cell_type": "markdown",
      "metadata": {
        "id": "sbvqMmfBDoqw"
      },
      "source": [
        "## Tempo de casa (Apenas dos que possuem data de saida)\n",
        "\n",
        "---\n",
        "\n",
        "Delimitação de alguns cálculos na coluna 'Tempo de Casa' que podem ser reaproveitados no futuro"
      ]
    },
    {
      "cell_type": "code",
      "execution_count": 12,
      "metadata": {
        "colab": {
          "base_uri": "https://localhost:8080/",
          "height": 300
        },
        "id": "DKoc33tuDRil",
        "outputId": "7f79b8f6-29a2-4649-cb59-ae2b9385249c"
      },
      "outputs": [
        {
          "data": {
            "text/html": [
              "\n",
              "  <div id=\"df-d66cc1bf-a313-4dea-9662-7a7ebf249efb\">\n",
              "    <div class=\"colab-df-container\">\n",
              "      <div>\n",
              "<style scoped>\n",
              "    .dataframe tbody tr th:only-of-type {\n",
              "        vertical-align: middle;\n",
              "    }\n",
              "\n",
              "    .dataframe tbody tr th {\n",
              "        vertical-align: top;\n",
              "    }\n",
              "\n",
              "    .dataframe thead th {\n",
              "        text-align: right;\n",
              "    }\n",
              "</style>\n",
              "<table border=\"1\" class=\"dataframe\">\n",
              "  <thead>\n",
              "    <tr style=\"text-align: right;\">\n",
              "      <th></th>\n",
              "      <th>Matricula</th>\n",
              "      <th>Tipo Saida</th>\n",
              "      <th>Salario Mês</th>\n",
              "      <th>Estado Civil</th>\n",
              "      <th>Escolaridade</th>\n",
              "      <th>Idade</th>\n",
              "      <th>3 Meses &gt;</th>\n",
              "      <th>6 Meses &gt;</th>\n",
              "      <th>9 Meses &gt;</th>\n",
              "      <th>12 Meses &gt;</th>\n",
              "      <th>Tempo de casa</th>\n",
              "    </tr>\n",
              "  </thead>\n",
              "  <tbody>\n",
              "    <tr>\n",
              "      <th>count</th>\n",
              "      <td>191.000000</td>\n",
              "      <td>191.000000</td>\n",
              "      <td>191.000000</td>\n",
              "      <td>191.000000</td>\n",
              "      <td>191.000000</td>\n",
              "      <td>191.000000</td>\n",
              "      <td>191.000000</td>\n",
              "      <td>191.000000</td>\n",
              "      <td>191.000000</td>\n",
              "      <td>191.000000</td>\n",
              "      <td>191.000000</td>\n",
              "    </tr>\n",
              "    <tr>\n",
              "      <th>mean</th>\n",
              "      <td>194.120419</td>\n",
              "      <td>1.130890</td>\n",
              "      <td>3214.681728</td>\n",
              "      <td>2.267016</td>\n",
              "      <td>2.643979</td>\n",
              "      <td>31.219895</td>\n",
              "      <td>0.036649</td>\n",
              "      <td>0.068063</td>\n",
              "      <td>0.089005</td>\n",
              "      <td>0.492147</td>\n",
              "      <td>449.078534</td>\n",
              "    </tr>\n",
              "    <tr>\n",
              "      <th>std</th>\n",
              "      <td>113.673406</td>\n",
              "      <td>0.851401</td>\n",
              "      <td>1733.183590</td>\n",
              "      <td>1.271928</td>\n",
              "      <td>1.204794</td>\n",
              "      <td>7.682778</td>\n",
              "      <td>0.237791</td>\n",
              "      <td>0.325376</td>\n",
              "      <td>0.393947</td>\n",
              "      <td>0.759980</td>\n",
              "      <td>552.737131</td>\n",
              "    </tr>\n",
              "    <tr>\n",
              "      <th>min</th>\n",
              "      <td>7.000000</td>\n",
              "      <td>0.000000</td>\n",
              "      <td>837.785000</td>\n",
              "      <td>0.000000</td>\n",
              "      <td>0.000000</td>\n",
              "      <td>20.000000</td>\n",
              "      <td>0.000000</td>\n",
              "      <td>0.000000</td>\n",
              "      <td>0.000000</td>\n",
              "      <td>0.000000</td>\n",
              "      <td>1.000000</td>\n",
              "    </tr>\n",
              "    <tr>\n",
              "      <th>25%</th>\n",
              "      <td>108.500000</td>\n",
              "      <td>1.000000</td>\n",
              "      <td>1941.295000</td>\n",
              "      <td>1.500000</td>\n",
              "      <td>2.000000</td>\n",
              "      <td>25.000000</td>\n",
              "      <td>0.000000</td>\n",
              "      <td>0.000000</td>\n",
              "      <td>0.000000</td>\n",
              "      <td>0.000000</td>\n",
              "      <td>149.500000</td>\n",
              "    </tr>\n",
              "    <tr>\n",
              "      <th>50%</th>\n",
              "      <td>180.000000</td>\n",
              "      <td>1.000000</td>\n",
              "      <td>3000.000000</td>\n",
              "      <td>3.000000</td>\n",
              "      <td>2.000000</td>\n",
              "      <td>30.000000</td>\n",
              "      <td>0.000000</td>\n",
              "      <td>0.000000</td>\n",
              "      <td>0.000000</td>\n",
              "      <td>0.000000</td>\n",
              "      <td>261.000000</td>\n",
              "    </tr>\n",
              "    <tr>\n",
              "      <th>75%</th>\n",
              "      <td>265.000000</td>\n",
              "      <td>1.000000</td>\n",
              "      <td>4175.000000</td>\n",
              "      <td>3.000000</td>\n",
              "      <td>3.000000</td>\n",
              "      <td>36.000000</td>\n",
              "      <td>0.000000</td>\n",
              "      <td>0.000000</td>\n",
              "      <td>0.000000</td>\n",
              "      <td>1.000000</td>\n",
              "      <td>496.500000</td>\n",
              "    </tr>\n",
              "    <tr>\n",
              "      <th>max</th>\n",
              "      <td>526.000000</td>\n",
              "      <td>3.000000</td>\n",
              "      <td>8500.000000</td>\n",
              "      <td>4.000000</td>\n",
              "      <td>6.000000</td>\n",
              "      <td>61.000000</td>\n",
              "      <td>2.000000</td>\n",
              "      <td>2.000000</td>\n",
              "      <td>2.000000</td>\n",
              "      <td>2.000000</td>\n",
              "      <td>4594.000000</td>\n",
              "    </tr>\n",
              "  </tbody>\n",
              "</table>\n",
              "</div>\n",
              "      <button class=\"colab-df-convert\" onclick=\"convertToInteractive('df-d66cc1bf-a313-4dea-9662-7a7ebf249efb')\"\n",
              "              title=\"Convert this dataframe to an interactive table.\"\n",
              "              style=\"display:none;\">\n",
              "        \n",
              "  <svg xmlns=\"http://www.w3.org/2000/svg\" height=\"24px\"viewBox=\"0 0 24 24\"\n",
              "       width=\"24px\">\n",
              "    <path d=\"M0 0h24v24H0V0z\" fill=\"none\"/>\n",
              "    <path d=\"M18.56 5.44l.94 2.06.94-2.06 2.06-.94-2.06-.94-.94-2.06-.94 2.06-2.06.94zm-11 1L8.5 8.5l.94-2.06 2.06-.94-2.06-.94L8.5 2.5l-.94 2.06-2.06.94zm10 10l.94 2.06.94-2.06 2.06-.94-2.06-.94-.94-2.06-.94 2.06-2.06.94z\"/><path d=\"M17.41 7.96l-1.37-1.37c-.4-.4-.92-.59-1.43-.59-.52 0-1.04.2-1.43.59L10.3 9.45l-7.72 7.72c-.78.78-.78 2.05 0 2.83L4 21.41c.39.39.9.59 1.41.59.51 0 1.02-.2 1.41-.59l7.78-7.78 2.81-2.81c.8-.78.8-2.07 0-2.86zM5.41 20L4 18.59l7.72-7.72 1.47 1.35L5.41 20z\"/>\n",
              "  </svg>\n",
              "      </button>\n",
              "      \n",
              "  <style>\n",
              "    .colab-df-container {\n",
              "      display:flex;\n",
              "      flex-wrap:wrap;\n",
              "      gap: 12px;\n",
              "    }\n",
              "\n",
              "    .colab-df-convert {\n",
              "      background-color: #E8F0FE;\n",
              "      border: none;\n",
              "      border-radius: 50%;\n",
              "      cursor: pointer;\n",
              "      display: none;\n",
              "      fill: #1967D2;\n",
              "      height: 32px;\n",
              "      padding: 0 0 0 0;\n",
              "      width: 32px;\n",
              "    }\n",
              "\n",
              "    .colab-df-convert:hover {\n",
              "      background-color: #E2EBFA;\n",
              "      box-shadow: 0px 1px 2px rgba(60, 64, 67, 0.3), 0px 1px 3px 1px rgba(60, 64, 67, 0.15);\n",
              "      fill: #174EA6;\n",
              "    }\n",
              "\n",
              "    [theme=dark] .colab-df-convert {\n",
              "      background-color: #3B4455;\n",
              "      fill: #D2E3FC;\n",
              "    }\n",
              "\n",
              "    [theme=dark] .colab-df-convert:hover {\n",
              "      background-color: #434B5C;\n",
              "      box-shadow: 0px 1px 3px 1px rgba(0, 0, 0, 0.15);\n",
              "      filter: drop-shadow(0px 1px 2px rgba(0, 0, 0, 0.3));\n",
              "      fill: #FFFFFF;\n",
              "    }\n",
              "  </style>\n",
              "\n",
              "      <script>\n",
              "        const buttonEl =\n",
              "          document.querySelector('#df-d66cc1bf-a313-4dea-9662-7a7ebf249efb button.colab-df-convert');\n",
              "        buttonEl.style.display =\n",
              "          google.colab.kernel.accessAllowed ? 'block' : 'none';\n",
              "\n",
              "        async function convertToInteractive(key) {\n",
              "          const element = document.querySelector('#df-d66cc1bf-a313-4dea-9662-7a7ebf249efb');\n",
              "          const dataTable =\n",
              "            await google.colab.kernel.invokeFunction('convertToInteractive',\n",
              "                                                     [key], {});\n",
              "          if (!dataTable) return;\n",
              "\n",
              "          const docLinkHtml = 'Like what you see? Visit the ' +\n",
              "            '<a target=\"_blank\" href=https://colab.research.google.com/notebooks/data_table.ipynb>data table notebook</a>'\n",
              "            + ' to learn more about interactive tables.';\n",
              "          element.innerHTML = '';\n",
              "          dataTable['output_type'] = 'display_data';\n",
              "          await google.colab.output.renderOutput(dataTable, element);\n",
              "          const docLink = document.createElement('div');\n",
              "          docLink.innerHTML = docLinkHtml;\n",
              "          element.appendChild(docLink);\n",
              "        }\n",
              "      </script>\n",
              "    </div>\n",
              "  </div>\n",
              "  "
            ],
            "text/plain": [
              "        Matricula  Tipo Saida  Salario Mês  Estado Civil  Escolaridade   \\\n",
              "count  191.000000  191.000000   191.000000    191.000000     191.000000   \n",
              "mean   194.120419    1.130890  3214.681728      2.267016       2.643979   \n",
              "std    113.673406    0.851401  1733.183590      1.271928       1.204794   \n",
              "min      7.000000    0.000000   837.785000      0.000000       0.000000   \n",
              "25%    108.500000    1.000000  1941.295000      1.500000       2.000000   \n",
              "50%    180.000000    1.000000  3000.000000      3.000000       2.000000   \n",
              "75%    265.000000    1.000000  4175.000000      3.000000       3.000000   \n",
              "max    526.000000    3.000000  8500.000000      4.000000       6.000000   \n",
              "\n",
              "            Idade   3 Meses >   6 Meses >   9 Meses >  12 Meses >  \\\n",
              "count  191.000000  191.000000  191.000000  191.000000  191.000000   \n",
              "mean    31.219895    0.036649    0.068063    0.089005    0.492147   \n",
              "std      7.682778    0.237791    0.325376    0.393947    0.759980   \n",
              "min     20.000000    0.000000    0.000000    0.000000    0.000000   \n",
              "25%     25.000000    0.000000    0.000000    0.000000    0.000000   \n",
              "50%     30.000000    0.000000    0.000000    0.000000    0.000000   \n",
              "75%     36.000000    0.000000    0.000000    0.000000    1.000000   \n",
              "max     61.000000    2.000000    2.000000    2.000000    2.000000   \n",
              "\n",
              "       Tempo de casa  \n",
              "count     191.000000  \n",
              "mean      449.078534  \n",
              "std       552.737131  \n",
              "min         1.000000  \n",
              "25%       149.500000  \n",
              "50%       261.000000  \n",
              "75%       496.500000  \n",
              "max      4594.000000  "
            ]
          },
          "execution_count": 12,
          "metadata": {},
          "output_type": "execute_result"
        }
      ],
      "source": [
        "base[base['Tempo de casa'] > 0].describe()"
      ]
    },
    {
      "cell_type": "markdown",
      "metadata": {
        "id": "6t45KyvAVGu0"
      },
      "source": [
        "## Agrupamento de Dados por Data de Saída e Tipo de Saída(' Dt Saida ' e ' Tipo Saida ')\n",
        "---\n",
        "\n",
        "Somatórias dos dados em cada colunas por Data de Saída, em com o Tipo de Saída referenciado"
      ]
    },
    {
      "cell_type": "code",
      "execution_count": 13,
      "metadata": {
        "colab": {
          "base_uri": "https://localhost:8080/",
          "height": 455
        },
        "id": "nfpvaaTHOJpw",
        "outputId": "52a5e520-0aaa-48de-aaa8-48be6ed28409"
      },
      "outputs": [
        {
          "data": {
            "text/html": [
              "\n",
              "  <div id=\"df-d6560eb4-22cf-447f-ad6f-4c13b3d03127\">\n",
              "    <div class=\"colab-df-container\">\n",
              "      <div>\n",
              "<style scoped>\n",
              "    .dataframe tbody tr th:only-of-type {\n",
              "        vertical-align: middle;\n",
              "    }\n",
              "\n",
              "    .dataframe tbody tr th {\n",
              "        vertical-align: top;\n",
              "    }\n",
              "\n",
              "    .dataframe thead th {\n",
              "        text-align: right;\n",
              "    }\n",
              "</style>\n",
              "<table border=\"1\" class=\"dataframe\">\n",
              "  <thead>\n",
              "    <tr style=\"text-align: right;\">\n",
              "      <th></th>\n",
              "      <th></th>\n",
              "      <th>Matricula</th>\n",
              "      <th>Salario Mês</th>\n",
              "      <th>Estado Civil</th>\n",
              "      <th>Escolaridade</th>\n",
              "      <th>Idade</th>\n",
              "      <th>3 Meses &gt;</th>\n",
              "      <th>6 Meses &gt;</th>\n",
              "      <th>9 Meses &gt;</th>\n",
              "      <th>12 Meses &gt;</th>\n",
              "      <th>Tempo de casa</th>\n",
              "    </tr>\n",
              "    <tr>\n",
              "      <th>Dt Saida</th>\n",
              "      <th>Tipo Saida</th>\n",
              "      <th></th>\n",
              "      <th></th>\n",
              "      <th></th>\n",
              "      <th></th>\n",
              "      <th></th>\n",
              "      <th></th>\n",
              "      <th></th>\n",
              "      <th></th>\n",
              "      <th></th>\n",
              "      <th></th>\n",
              "    </tr>\n",
              "  </thead>\n",
              "  <tbody>\n",
              "    <tr>\n",
              "      <th>2020-01-07</th>\n",
              "      <th>1</th>\n",
              "      <td>95.0</td>\n",
              "      <td>3750.000</td>\n",
              "      <td>3</td>\n",
              "      <td>2</td>\n",
              "      <td>37</td>\n",
              "      <td>0</td>\n",
              "      <td>0</td>\n",
              "      <td>0</td>\n",
              "      <td>0</td>\n",
              "      <td>141.0</td>\n",
              "    </tr>\n",
              "    <tr>\n",
              "      <th>2020-01-17</th>\n",
              "      <th>1</th>\n",
              "      <td>75.0</td>\n",
              "      <td>837.785</td>\n",
              "      <td>0</td>\n",
              "      <td>4</td>\n",
              "      <td>51</td>\n",
              "      <td>0</td>\n",
              "      <td>0</td>\n",
              "      <td>0</td>\n",
              "      <td>0</td>\n",
              "      <td>304.0</td>\n",
              "    </tr>\n",
              "    <tr>\n",
              "      <th>2020-01-22</th>\n",
              "      <th>1</th>\n",
              "      <td>23.0</td>\n",
              "      <td>3228.455</td>\n",
              "      <td>3</td>\n",
              "      <td>2</td>\n",
              "      <td>30</td>\n",
              "      <td>0</td>\n",
              "      <td>0</td>\n",
              "      <td>0</td>\n",
              "      <td>0</td>\n",
              "      <td>863.0</td>\n",
              "    </tr>\n",
              "    <tr>\n",
              "      <th>2020-02-12</th>\n",
              "      <th>0</th>\n",
              "      <td>102.0</td>\n",
              "      <td>1200.000</td>\n",
              "      <td>3</td>\n",
              "      <td>2</td>\n",
              "      <td>24</td>\n",
              "      <td>0</td>\n",
              "      <td>0</td>\n",
              "      <td>0</td>\n",
              "      <td>0</td>\n",
              "      <td>155.0</td>\n",
              "    </tr>\n",
              "    <tr>\n",
              "      <th>2020-02-21</th>\n",
              "      <th>1</th>\n",
              "      <td>140.0</td>\n",
              "      <td>5858.615</td>\n",
              "      <td>6</td>\n",
              "      <td>4</td>\n",
              "      <td>57</td>\n",
              "      <td>0</td>\n",
              "      <td>0</td>\n",
              "      <td>0</td>\n",
              "      <td>2</td>\n",
              "      <td>855.0</td>\n",
              "    </tr>\n",
              "    <tr>\n",
              "      <th>...</th>\n",
              "      <th>...</th>\n",
              "      <td>...</td>\n",
              "      <td>...</td>\n",
              "      <td>...</td>\n",
              "      <td>...</td>\n",
              "      <td>...</td>\n",
              "      <td>...</td>\n",
              "      <td>...</td>\n",
              "      <td>...</td>\n",
              "      <td>...</td>\n",
              "      <td>...</td>\n",
              "    </tr>\n",
              "    <tr>\n",
              "      <th>2022-07-15</th>\n",
              "      <th>1</th>\n",
              "      <td>979.0</td>\n",
              "      <td>8826.975</td>\n",
              "      <td>9</td>\n",
              "      <td>12</td>\n",
              "      <td>79</td>\n",
              "      <td>0</td>\n",
              "      <td>0</td>\n",
              "      <td>0</td>\n",
              "      <td>0</td>\n",
              "      <td>813.0</td>\n",
              "    </tr>\n",
              "    <tr>\n",
              "      <th>2022-07-18</th>\n",
              "      <th>1</th>\n",
              "      <td>324.0</td>\n",
              "      <td>1525.400</td>\n",
              "      <td>3</td>\n",
              "      <td>2</td>\n",
              "      <td>37</td>\n",
              "      <td>0</td>\n",
              "      <td>2</td>\n",
              "      <td>0</td>\n",
              "      <td>0</td>\n",
              "      <td>257.0</td>\n",
              "    </tr>\n",
              "    <tr>\n",
              "      <th>2022-07-22</th>\n",
              "      <th>0</th>\n",
              "      <td>342.0</td>\n",
              "      <td>7118.535</td>\n",
              "      <td>0</td>\n",
              "      <td>2</td>\n",
              "      <td>42</td>\n",
              "      <td>0</td>\n",
              "      <td>0</td>\n",
              "      <td>0</td>\n",
              "      <td>0</td>\n",
              "      <td>248.0</td>\n",
              "    </tr>\n",
              "    <tr>\n",
              "      <th>2022-07-25</th>\n",
              "      <th>3</th>\n",
              "      <td>526.0</td>\n",
              "      <td>1500.000</td>\n",
              "      <td>3</td>\n",
              "      <td>4</td>\n",
              "      <td>29</td>\n",
              "      <td>0</td>\n",
              "      <td>0</td>\n",
              "      <td>0</td>\n",
              "      <td>0</td>\n",
              "      <td>7.0</td>\n",
              "    </tr>\n",
              "    <tr>\n",
              "      <th>2022-07-27</th>\n",
              "      <th>1</th>\n",
              "      <td>212.0</td>\n",
              "      <td>5381.000</td>\n",
              "      <td>3</td>\n",
              "      <td>2</td>\n",
              "      <td>23</td>\n",
              "      <td>0</td>\n",
              "      <td>0</td>\n",
              "      <td>0</td>\n",
              "      <td>2</td>\n",
              "      <td>492.0</td>\n",
              "    </tr>\n",
              "  </tbody>\n",
              "</table>\n",
              "<p>151 rows × 10 columns</p>\n",
              "</div>\n",
              "      <button class=\"colab-df-convert\" onclick=\"convertToInteractive('df-d6560eb4-22cf-447f-ad6f-4c13b3d03127')\"\n",
              "              title=\"Convert this dataframe to an interactive table.\"\n",
              "              style=\"display:none;\">\n",
              "        \n",
              "  <svg xmlns=\"http://www.w3.org/2000/svg\" height=\"24px\"viewBox=\"0 0 24 24\"\n",
              "       width=\"24px\">\n",
              "    <path d=\"M0 0h24v24H0V0z\" fill=\"none\"/>\n",
              "    <path d=\"M18.56 5.44l.94 2.06.94-2.06 2.06-.94-2.06-.94-.94-2.06-.94 2.06-2.06.94zm-11 1L8.5 8.5l.94-2.06 2.06-.94-2.06-.94L8.5 2.5l-.94 2.06-2.06.94zm10 10l.94 2.06.94-2.06 2.06-.94-2.06-.94-.94-2.06-.94 2.06-2.06.94z\"/><path d=\"M17.41 7.96l-1.37-1.37c-.4-.4-.92-.59-1.43-.59-.52 0-1.04.2-1.43.59L10.3 9.45l-7.72 7.72c-.78.78-.78 2.05 0 2.83L4 21.41c.39.39.9.59 1.41.59.51 0 1.02-.2 1.41-.59l7.78-7.78 2.81-2.81c.8-.78.8-2.07 0-2.86zM5.41 20L4 18.59l7.72-7.72 1.47 1.35L5.41 20z\"/>\n",
              "  </svg>\n",
              "      </button>\n",
              "      \n",
              "  <style>\n",
              "    .colab-df-container {\n",
              "      display:flex;\n",
              "      flex-wrap:wrap;\n",
              "      gap: 12px;\n",
              "    }\n",
              "\n",
              "    .colab-df-convert {\n",
              "      background-color: #E8F0FE;\n",
              "      border: none;\n",
              "      border-radius: 50%;\n",
              "      cursor: pointer;\n",
              "      display: none;\n",
              "      fill: #1967D2;\n",
              "      height: 32px;\n",
              "      padding: 0 0 0 0;\n",
              "      width: 32px;\n",
              "    }\n",
              "\n",
              "    .colab-df-convert:hover {\n",
              "      background-color: #E2EBFA;\n",
              "      box-shadow: 0px 1px 2px rgba(60, 64, 67, 0.3), 0px 1px 3px 1px rgba(60, 64, 67, 0.15);\n",
              "      fill: #174EA6;\n",
              "    }\n",
              "\n",
              "    [theme=dark] .colab-df-convert {\n",
              "      background-color: #3B4455;\n",
              "      fill: #D2E3FC;\n",
              "    }\n",
              "\n",
              "    [theme=dark] .colab-df-convert:hover {\n",
              "      background-color: #434B5C;\n",
              "      box-shadow: 0px 1px 3px 1px rgba(0, 0, 0, 0.15);\n",
              "      filter: drop-shadow(0px 1px 2px rgba(0, 0, 0, 0.3));\n",
              "      fill: #FFFFFF;\n",
              "    }\n",
              "  </style>\n",
              "\n",
              "      <script>\n",
              "        const buttonEl =\n",
              "          document.querySelector('#df-d6560eb4-22cf-447f-ad6f-4c13b3d03127 button.colab-df-convert');\n",
              "        buttonEl.style.display =\n",
              "          google.colab.kernel.accessAllowed ? 'block' : 'none';\n",
              "\n",
              "        async function convertToInteractive(key) {\n",
              "          const element = document.querySelector('#df-d6560eb4-22cf-447f-ad6f-4c13b3d03127');\n",
              "          const dataTable =\n",
              "            await google.colab.kernel.invokeFunction('convertToInteractive',\n",
              "                                                     [key], {});\n",
              "          if (!dataTable) return;\n",
              "\n",
              "          const docLinkHtml = 'Like what you see? Visit the ' +\n",
              "            '<a target=\"_blank\" href=https://colab.research.google.com/notebooks/data_table.ipynb>data table notebook</a>'\n",
              "            + ' to learn more about interactive tables.';\n",
              "          element.innerHTML = '';\n",
              "          dataTable['output_type'] = 'display_data';\n",
              "          await google.colab.output.renderOutput(dataTable, element);\n",
              "          const docLink = document.createElement('div');\n",
              "          docLink.innerHTML = docLinkHtml;\n",
              "          element.appendChild(docLink);\n",
              "        }\n",
              "      </script>\n",
              "    </div>\n",
              "  </div>\n",
              "  "
            ],
            "text/plain": [
              "                       Matricula  Salario Mês  Estado Civil  Escolaridade   \\\n",
              "Dt Saida   Tipo Saida                                                        \n",
              "2020-01-07 1                95.0     3750.000             3              2   \n",
              "2020-01-17 1                75.0      837.785             0              4   \n",
              "2020-01-22 1                23.0     3228.455             3              2   \n",
              "2020-02-12 0               102.0     1200.000             3              2   \n",
              "2020-02-21 1               140.0     5858.615             6              4   \n",
              "...                          ...          ...           ...            ...   \n",
              "2022-07-15 1               979.0     8826.975             9             12   \n",
              "2022-07-18 1               324.0     1525.400             3              2   \n",
              "2022-07-22 0               342.0     7118.535             0              2   \n",
              "2022-07-25 3               526.0     1500.000             3              4   \n",
              "2022-07-27 1               212.0     5381.000             3              2   \n",
              "\n",
              "                       Idade  3 Meses >  6 Meses >  9 Meses >  12 Meses >  \\\n",
              "Dt Saida   Tipo Saida                                                       \n",
              "2020-01-07 1              37          0          0          0           0   \n",
              "2020-01-17 1              51          0          0          0           0   \n",
              "2020-01-22 1              30          0          0          0           0   \n",
              "2020-02-12 0              24          0          0          0           0   \n",
              "2020-02-21 1              57          0          0          0           2   \n",
              "...                      ...        ...        ...        ...         ...   \n",
              "2022-07-15 1              79          0          0          0           0   \n",
              "2022-07-18 1              37          0          2          0           0   \n",
              "2022-07-22 0              42          0          0          0           0   \n",
              "2022-07-25 3              29          0          0          0           0   \n",
              "2022-07-27 1              23          0          0          0           2   \n",
              "\n",
              "                       Tempo de casa  \n",
              "Dt Saida   Tipo Saida                 \n",
              "2020-01-07 1                   141.0  \n",
              "2020-01-17 1                   304.0  \n",
              "2020-01-22 1                   863.0  \n",
              "2020-02-12 0                   155.0  \n",
              "2020-02-21 1                   855.0  \n",
              "...                              ...  \n",
              "2022-07-15 1                   813.0  \n",
              "2022-07-18 1                   257.0  \n",
              "2022-07-22 0                   248.0  \n",
              "2022-07-25 3                     7.0  \n",
              "2022-07-27 1                   492.0  \n",
              "\n",
              "[151 rows x 10 columns]"
            ]
          },
          "execution_count": 13,
          "metadata": {},
          "output_type": "execute_result"
        }
      ],
      "source": [
        "base.groupby(['Dt Saida', 'Tipo Saida']).sum()"
      ]
    },
    {
      "cell_type": "markdown",
      "metadata": {
        "id": "WrmUy6m8FvnY"
      },
      "source": [
        "# Gráficos"
      ]
    },
    {
      "cell_type": "code",
      "execution_count": 14,
      "metadata": {
        "colab": {
          "base_uri": "https://localhost:8080/",
          "height": 542
        },
        "id": "qUR5tT1wH4Vr",
        "outputId": "0d6f08c4-92b2-4f56-e150-ea7680d7a066"
      },
      "outputs": [
        {
          "data": {
            "text/html": [
              "<html>\n",
              "<head><meta charset=\"utf-8\" /></head>\n",
              "<body>\n",
              "    <div>            <script src=\"https://cdnjs.cloudflare.com/ajax/libs/mathjax/2.7.5/MathJax.js?config=TeX-AMS-MML_SVG\"></script><script type=\"text/javascript\">if (window.MathJax) {MathJax.Hub.Config({SVG: {font: \"STIX-Web\"}});}</script>                <script type=\"text/javascript\">window.PlotlyConfig = {MathJaxConfig: 'local'};</script>\n",
              "        <script src=\"https://cdn.plot.ly/plotly-2.8.3.min.js\"></script>                <div id=\"84de9570-7b87-4b96-a92b-25c63967be20\" class=\"plotly-graph-div\" style=\"height:525px; width:100%;\"></div>            <script type=\"text/javascript\">                                    window.PLOTLYENV=window.PLOTLYENV || {};                                    if (document.getElementById(\"84de9570-7b87-4b96-a92b-25c63967be20\")) {                    Plotly.newPlot(                        \"84de9570-7b87-4b96-a92b-25c63967be20\",                        [{\"customdata\":[[\"Gerente Sr\"],[\"Gerente Sr\"],[\"Arquiteto Sr\"],[\"Arquiteto\"],[\"Dev Pl\"],[\"Arquiteto\"],[\"Arquiteto\"],[\"Dev Pl\"],[\"Dev Pl\"],[\"Dev Sr\"],[\"Dev Especialista\"],[\"Diretor\"],[\"Dev Sr\"],[\"Gerente Sr\"],[\"Dev Pl\"],[\"Dev Sr\"],[\"Dev Sr\"],[\"Dev Especialista\"],[\"Funcional Pl\"],[\"Funcional Sr\"],[\"Consultor\"],[\"Dev Especialista\"],[\"Funcional Pl\"],[\"Dev Especialista\"],[\"Dev Jr\"],[\"Scrum Master Jr\"],[\"Dev Pl\"],[\"Dev Sr\"],[\"Dev Sr\"],[\"Funcional Sr\"],[\"Funcional Sr\"],[\"Dev Sr\"],[\"Dev Especialista\"],[\"Dev Pl\"],[\"Funcional Sr\"],[\"Gerente\"],[\"Dev Pl\"],[\"Funcional Pl\"],[\"Gerente\"],[\"Dev Jr\"],[\"Dev Sr\"],[\"Dev Especialista\"],[\"Dev Especialista\"],[\"Dev Pl\"],[\"Dev Pl\"],[\"Dev Sr\"],[\"Dev Jr\"],[\"Dev Pl\"],[\"Dev Pl\"],[\"Funcional Jr\"],[\"Gerente\"],[\"Trainee - Dev\"],[\"Dev Especialista\"],[\"Funcional Sr\"],[\"Dev Pl\"],[\"Gerente\"],[\"Dev Sr\"],[\"Arquiteto\"],[\"Funcional Jr\"],[\"Dev Sr\"],[\"Gerente\"],[\"Funcional Sr\"],[\"Dev Pl\"],[\"Dev Jr\"],[\"Dev Jr\"],[\"Dev Pl\"],[\"Funcional Pl\"],[\"Funcional Jr\"],[\"Dev Pl\"],[\"Gerente PV\"],[\"Gerente\"],[\"Dev Sr\"],[\"Funcional Sr\"],[\"Funcional Sr\"],[\"Consultor\"],[\"Dev Pl\"],[\"Dev Jr\"],[\"Trainee - Dev\"],[\"Funcional Pl\"],[\"Funcional Jr\"],[\"Funcional Jr\"],[\"Dev Jr\"],[\"Funcional Pl\"],[\"Dev Jr\"],[\"Trainee - Dev\"],[\"Dev Jr\"],[\"Trainee - Dev\"],[\"Funcional Jr\"],[\"Dev Pl\"],[\"Trainee - Dev\"],[\"Dev Sr\"],[\"Dev Pl\"],[\"Trainee - Dev\"],[\"Funcional Jr\"],[\"Trainee - Dev\"],[\"Funcional Pl\"],[\"Funcional Pl\"],[\"Trainee - Dev\"],[\"Dev Jr\"],[\"Gerente\"],[\"Dev Jr\"],[\"Funcional Jr\"],[\"Assistente II\"],[\"Dev Pl\"],[\"Gerente\"],[\"Dev Sr\"],[\"Dev Jr\"],[\"Dev Jr\"],[\"Dev Pl\"],[\"Gerente Sr\"],[\"Dev Sr\"],[\"Diretor\"],[\"Dev Pl\"],[\"Dev Sr\"],[\"Dev Pl\"],[\"Dev Pl\"],[\"Dev Pl\"],[\"Funcional Sr\"],[\"Dev Pl\"],[\"Dev Pl\"],[\"Gerente Vendas I\"],[\"Dev Sr\"],[\"Dev Pl\"],[\"Funcional Jr\"],[\"Dev Sr\"],[\"Dev Jr\"],[\"Funcional Pl\"],[\"Funcional Sr\"],[\"Gerente\"],[\"Dev Pl\"],[\"Dev Jr\"],[\"Funcional Especialista\"],[\"Dev Pl\"],[\"Dev Pl\"],[\"Funcional Pl\"],[\"Dev Pl\"],[\"Funcional Sr\"],[\"Teste Sr\"],[\"Comercial IS\"],[\"Funcional Jr\"],[\"Funcional Pl\"],[\"Dev Pl\"],[\"Dev Especialista\"],[\"Gerente\"],[\"Dev Jr\"],[\"Dev Jr\"],[\"Funcional Sr\"],[\"Dev Pl\"],[\"Gerente\"],[\"Dev Jr\"],[\"Gerente Vendas II\"],[\"Dev Sr\"],[\"Dev Pl\"],[\"Dev Especialista\"],[\"Dev Pl\"],[\"Gerente\"],[\"Funcional Pl\"],[\"Funcional Especialista\"],[\"Funcional Pl\"],[\"Funcional Pl\"],[\"Funcional Especialista\"],[\"Funcional Pl\"],[\"Dev Sr\"],[\"Dev Pl\"],[\"Funcional Jr\"],[\"Dev Pl\"],[\"Dev Sr\"],[\"Scrum Master Jr\"],[\"Dev Jr\"],[\"Trainee - Dev\"],[\"Dev Jr\"],[\"Dev Jr\"],[\"Trainee - Dev\"],[\"Dev Jr\"],[\"Dev Jr\"],[\"Scrum Master Jr\"],[\"Dev Jr\"],[\"Funcional Jr\"],[\"Dev Jr\"],[\"Dev Jr\"],[\"Dev Jr\"],[\"Dev Jr\"],[\"Dev Jr\"],[\"Dev Jr\"],[\"Dev Jr\"],[\"Dev Pl\"],[\"Dev Pl\"],[\"Funcional Jr\"],[\"Dev Sr\"],[\"Dev Jr\"],[\"Funcional Especialista\"],[\"Funcional Pl\"],[\"Gerente\"],[\"Dev Sr\"],[\"Funcional Pl\"],[\"Arquiteto\"],[\"Diretor\"],[\"Vice Presidente\"],[\"Gerente CS Sr\"],[\"Diretor\"],[\"Diretor\"],[\"Dev Jr\"],[\"Trainee - Dev\"],[\"Dev Pl\"],[\"Dev Pl\"],[\"Dev Sr\"],[\"Auxiliar de Limpeza\"],[\"Gerente\"],[\"Funcional Pl\"],[\"Dev Especialista\"],[\"Gerente\"],[\"Funcional Jr\"],[\"Dev Jr\"],[\"Gerente\"],[\"Funcional Pl\"],[\"Gerente\"],[\"Funcional Sr\"],[\"Funcional Pl\"],[\"Funcional Especialista\"],[\"Funcional Especialista\"],[\"Funcional Pl\"],[\"Funcional Pl\"],[\"Dev Jr\"],[\"Diretor\"],[\"Funcional Pl\"],[\"Dev Jr\"],[\"Gerente Vendas III\"],[\"Gerente Vendas II\"],[\"Trainee - Dev\"],[\"Dev Pl\"],[\"Dev Pl\"],[\"Trainee - Dev\"],[\"Gerente Vendas I\"],[\"Dev Jr\"],[\"Dev Jr\"],[\"Gerente\"],[\"Arquiteto\"],[\"Pessoas Pl\"],[\"Dev Pl\"],[\"Gerente\"],[\"Funcional Pl\"],[\"Gerente Sr\"],[\"Diretor\"],[\"Arquiteto Sr\"],[\"Financeiro Jr\"],[\"Pessoas Pl\"],[\"Diretor\"],[\"Dev Jr\"],[\"Pessoas Pl\"],[\"Trainee - Dev\"],[\"Trainee - Dev\"],[\"Trainee - Dev\"],[\"Trainee - Dev\"],[\"Gerente\"],[\"Trainee - Dev\"],[\"Comercial Pl\"],[\"Dev Pl\"],[\"Dev Jr\"],[\"Trainee - Dev\"],[\"Educa\\u00e7\\u00e3o Pl\"],[\"Funcional Sr\"],[\"Dev Especialista\"],[\"Marketing PL\"],[\"Dev Pl\"],[\"Dev Pl\"],[\"Gerente Vendas I\"],[\"Dev Especialista\"],[\"Funcional Pl\"],[\"Trainee - Dev\"],[\"Trainee - Dev\"],[\"Trainee - Dev\"],[\"Trainee - Dev\"],[\"Trainee - Dev\"],[\"Trainee - Dev\"],[\"Trainee - Dev\"],[\"Trainee - Dev\"],[\"Trainee - Dev\"],[\"Trainee - Dev\"],[\"Trainee - Dev\"],[\"Arquiteto\"],[\"Trainee - Dev\"],[\"Trainee - Dev\"],[\"Trainee - Dev\"],[\"Trainee - Dev\"],[\"Trainee - Dev\"],[\"Trainee - Dev\"],[\"Trainee - Dev\"],[\"Trainee - Dev\"],[\"Trainee - Dev\"],[\"Marketing PL\"],[\"Trainee - Dev\"],[\"Trainee - Dev\"],[\"Trainee - Dev\"],[\"Trainee - Dev\"],[\"Arquiteto\"],[\"Trainee - Dev\"],[\"Trainee - Dev\"],[\"Trainee - Dev\"],[\"Trainee - Dev\"],[\"Trainee - Dev\"],[\"Assistente I\"],[\"Trainee - Dev\"],[\"Dev Sr\"],[\"Funcional Jr\"],[\"Dev Pl\"],[\"Funcional Pl\"],[\"Dev Jr\"],[\"Trainee - Dev\"],[\"Dev Especialista\"],[\"Gerente Vendas I\"],[\"Funcional Jr\"],[\"Dev Pl\"],[\"Dev Pl\"],[\"Funcional Pl\"],[\"Infraestrutura Jr\"],[\"Funcional Sr\"],[\"Funcional Pl\"],[\"Gerente\"],[\"Gerente\"],[\"Estagiaria\"],[\"Funcional Sr\"],[\"Arquiteto Sr\"],[\"Funcional Pl\"],[\"Funcional Pl\"],[\"Gerente Vendas I\"],[\"Gerente Vendas I\"],[\"Funcional Jr\"],[\"Funcional Pl\"],[\"Pessoas Pl\"],[\"Funcional Pl\"],[\"Estagiaria\"],[\"Estagiaria\"],[\"Funcional Pl\"],[\"Gerente\"],[\"Arquiteto\"],[\"Trainee - Dev\"],[\"Trainee - Funcional\"],[\"Trainee - Dev\"],[\"Trainee - Dev\"],[\"Trainee - Dev\"],[\"Trainee - Dev\"],[\"Trainee - Dev\"],[\"Trainee - Dev\"],[\"Trainee - Dev\"],[\"Trainee - Dev\"],[\"Trainee - Dev\"],[\"Trainee - Dev\"],[\"Trainee - Dev\"],[\"Trainee - Dev\"],[\"Trainee - Dev\"],[\"Trainee - Dev\"],[\"Funcional Pl\"],[\"Gerente\"],[\"Dev Jr\"],[\"Dev Jr\"],[\"Arquiteto\"],[\"Dev Especialista\"]],\"hovertemplate\":\"Estado=SP<br>Tipo Saida=%{x}<br>Cidade=%{y}<br>Cargo=%{customdata[0]}<extra></extra>\",\"legendgroup\":\"SP\",\"marker\":{\"color\":\"#636efa\",\"symbol\":\"circle\"},\"mode\":\"markers\",\"name\":\"SP\",\"orientation\":\"h\",\"showlegend\":true,\"x\":[4,4,4,1,1,1,1,1,1,0,1,4,1,4,1,4,1,1,1,4,1,4,1,1,1,1,1,1,4,4,1,0,4,4,1,1,1,1,4,1,4,4,1,1,0,1,1,4,4,1,4,0,1,1,4,4,1,1,4,1,4,1,1,1,1,1,1,0,1,4,4,1,1,4,1,1,1,0,4,1,1,4,4,0,0,1,0,4,4,0,4,4,0,1,0,4,1,1,0,4,0,1,4,0,1,1,1,1,3,4,4,4,0,4,3,3,1,0,1,1,1,3,1,1,4,2,1,3,4,0,1,4,0,1,4,1,0,3,1,1,4,3,1,4,1,1,0,2,4,1,1,4,3,3,4,4,1,1,1,1,4,1,4,1,1,4,1,1,1,1,4,4,1,4,4,4,0,1,4,4,1,4,4,4,1,4,1,4,0,1,4,3,4,4,4,0,4,4,4,4,4,4,4,1,1,4,4,4,1,4,4,4,0,4,1,4,4,4,2,1,4,1,4,4,4,4,4,1,4,1,3,4,1,4,0,1,0,4,4,1,4,4,4,4,4,4,4,4,4,4,4,4,4,4,4,4,4,4,4,4,4,0,4,4,2,3,4,4,4,4,3,4,4,3,4,4,4,1,4,2,4,4,4,4,4,4,4,4,4,4,4,4,4,4,4,4,4,4,4,4,4,4,4,4,4,4,4,4,3,2,3,4,4,4,4,4,4,3,4,4,4,3,4,4,4,4,4,4,4,4,4,4,4,4,4,4,4,4,4,4,4,4,4,4,4,4,4,4,4,4,4,4,4,4,4,4,4],\"xaxis\":\"x\",\"y\":[\"S\\u00e3o Paulo\",\"Osasco\",\"S\\u00e3o Paulo\",\"S\\u00e3o Paulo\",\"S\\u00e3o Paulo\",\"S\\u00e3o Paulo\",\"S\\u00e3o Paulo\",\"Guarulhos\",\"Cotia\",\"S\\u00e3o Paulo\",\"Santos\",\"Osasco\",\"Francisco Morato\",\"S\\u00e3o Paulo\",\"S\\u00e3o Bernardo do Campo\",\"S\\u00e3o Paulo\",\"S\\u00e3o Bernardo do Campo\",\"S\\u00e3o Paulo\",\"S\\u00e3o Paulo\",\"S\\u00e3o Bernardo do Campo\",\"S\\u00e3o Paulo\",\"Osasco\",\"S\\u00e3o Paulo\",\"Guarulhos\",\"S\\u00e3o Paulo\",\"Osasco\",\"S\\u00e3o Paulo\",\"Itaquaquecetuba\",\"S\\u00e3o Paulo\",\"Santo Andr\\u00e9\",\"S\\u00e3o Paulo\",\"S\\u00e3o Paulo\",\"Barueri\",\"S\\u00e3o Paulo\",\"S\\u00e3o Paulo\",\"S\\u00e3o Paulo\",\"S\\u00e3o Paulo\",\"S\\u00e3o Paulo\",\"Barueri\",\"Mau\\u00e1\",\"Osasco\",\"Mogi das Cruzes\",\"S\\u00e3o Paulo\",\"Franca\",\"S\\u00e3o Paulo\",\"Diadema\",\"S\\u00e3o Paulo\",\"S\\u00e3o Paulo\",\"S\\u00e3o Paulo\",\"Osasco\",\"S\\u00e3o Paulo\",\"S\\u00e3o Paulo\",\"Caieiras\",\"S\\u00e3o Paulo\",\"S\\u00e3o Paulo\",\"S\\u00e3o Paulo\",\"S\\u00e3o Paulo\",\"Santa B\\u00e1rbara D'Oeste\",\"S\\u00e3o Paulo\",\"S\\u00e3o Paulo\",\"Diadema\",\"S\\u00e3o Paulo\",\"S\\u00e3o Paulo\",\"Mogi das Cruzes\",\"Osasco\",\"S\\u00e3o Vicente\",\"S\\u00e3o Paulo\",\"Osasco\",\"S\\u00e3o Paulo\",\"Osasco\",\"S\\u00e3o Paulo\",\"S\\u00e3o Bernardo do Campo\",\"S\\u00e3o Paulo\",\"S\\u00e3o Paulo\",\"Paul\\u00ednia\",\"S\\u00e3o Vicente\",\"S\\u00e3o Paulo\",\"S\\u00e3o Paulo\",\"S\\u00e3o Paulo\",\"S\\u00e3o Paulo\",\"S\\u00e3o Paulo\",\"Itapevi\",\"S\\u00e3o Bernardo do Campo\",\"S\\u00e3o Paulo\",\"Santo Andr\\u00e9\",\"Santo Andr\\u00e9\",\"Carapicu\\u00edba\",\"S\\u00e3o Paulo\",\"Osasco\",\"Guarulhos\",\"Mau\\u00e1\",\"Guarulhos\",\"Santo Andr\\u00e9\",\"S\\u00e3o Paulo\",\"S\\u00e3o Paulo\",\"Carapicu\\u00edba\",\"S\\u00e3o Paulo\",\"S\\u00e3o Paulo\",\"S\\u00e3o Bernardo do Campo\",\"Guarulhos\",\"S\\u00e3o Bernardo do Campo\",\"S\\u00e3o Paulo\",\"S\\u00e3o Paulo\",\"Diadema\",\"S\\u00e3o Paulo\",\"Itaquaquecetuba\",\"S\\u00e3o Paulo\",\"Itaquaquecetuba\",\"S\\u00e3o Paulo\",\"Mogi das Cruzes\",\"Bragan\\u00e7a Paulista\",\"S\\u00e3o Paulo\",\"Sorocaba\",\"S\\u00e3o Paulo\",\"S\\u00e3o Paulo\",\"S\\u00e3o Paulo\",\"S\\u00e3o Caetano do Sul\",\"S\\u00e3o Paulo\",\"Paul\\u00ednia\",\"Tabo\\u00e3o da Serra\",\"Santo Andr\\u00e9\",\"S\\u00e3o Paulo\",\"S\\u00e3o Paulo\",\"S\\u00e3o Paulo\",\"Guarulhos\",\"S\\u00e3o Paulo\",\"S\\u00e3o Paulo\",\"Sorocaba\",\"Barueri\",\"S\\u00e3o Paulo\",\"S\\u00e3o Paulo\",\"S\\u00e3o Paulo\",\"S\\u00e3o Paulo\",\"Campo Limpo Paulista\",\"S\\u00e3o Paulo\",\"S\\u00e3o Paulo\",\"S\\u00e3o Paulo\",\"S\\u00e3o Paulo\",\"S\\u00e3o Paulo\",\"Itapecerica da Serra\",\"Santo Andr\\u00e9\",\"S\\u00e3o Bernardo do Campo\",\"Sorocaba\",\"Jundia\\u00ed\",\"Osasco\",\"Sorocaba\",\"Mogi das Cruzes\",\"S\\u00e3o Paulo\",\"S\\u00e3o Paulo\",\"S\\u00e3o Paulo\",\"S\\u00e3o Paulo\",\"S\\u00e3o Paulo\",\"S\\u00e3o Paulo\",\"Sorocaba\",\"S\\u00e3o Paulo\",\"S\\u00e3o Paulo\",\"Carapicu\\u00edba\",\"S\\u00e3o Paulo\",\"S\\u00e3o Paulo\",\"S\\u00e3o Paulo\",\"S\\u00e3o Paulo\",\"S\\u00e3o Paulo\",\"Presidente Prudente\",\"S\\u00e3o Paulo\",\"S\\u00e3o Paulo\",\"S\\u00e3o Paulo\",\"Limeira\",\"Ribeir\\u00e3o Preto\",\"Santana de Parna\\u00edba\",\"Jundia\\u00ed\",\"S\\u00e3o Paulo\",\"S\\u00e3o Paulo\",\"Suzano\",\"S\\u00e3o Paulo\",\"S\\u00e3o Paulo\",\"Itanha\\u00e9m\",\"Santos\",\"Praia Grande\",\"Santo Andr\\u00e9\",\"S\\u00e3o Paulo\",\"Praia Grande\",\"S\\u00e3o Paulo\",\"S\\u00e3o Paulo\",\"Campinas\",\"Itapecerica da Serra\",\"Itaquaquecetuba\",\"S\\u00e3o Paulo\",\"S\\u00e3o Paulo\",\"S\\u00e3o Paulo\",\"S\\u00e3o Bernardo do Campo\",\"S\\u00e3o Paulo\",\"S\\u00e3o Paulo\",\"Mogi das Cruzes\",\"Mogi das Cruzes\",\"Diadema\",\"S\\u00e3o Paulo\",\"S\\u00e3o Paulo\",\"S\\u00e3o Bernardo do Campo\",\"S\\u00e3o Paulo\",\"Osasco\",\"Itapevi\",\"Osasco\",\"S\\u00e3o Paulo\",\"Franca\",\"Suzano\",\"S\\u00e3o Paulo\",\"S\\u00e3o Paulo\",\"S\\u00e3o Paulo\",\"Carapicu\\u00edba\",\"S\\u00e3o Paulo\",\"S\\u00e3o Paulo\",\"S\\u00e3o Paulo\",\"S\\u00e3o Paulo\",\"Barueri\",\"S\\u00e3o Paulo\",\"Ribeir\\u00e3o Pires\",\"Praia Grande\",\"Limeira\",\"Guarulhos\",\"Guarulhos\",\"Santo Andr\\u00e9\",\"S\\u00e3o Paulo\",\"S\\u00e3o Paulo\",\"S\\u00e3o Paulo\",\"S\\u00e3o Paulo\",\"Tabo\\u00e3o da Serra\",\"S\\u00e3o Paulo\",\"S\\u00e3o Paulo\",\"Vinhedo\",\"Caieiras\",\"Campinas\",\"S\\u00e3o Paulo\",\"S\\u00e3o Paulo\",\"Mau\\u00e1\",\"Hortol\\u00e2ndia\",\"Barueri\",\"S\\u00e3o Paulo\",\"Sorocaba\",\"Piracicaba\",\"S\\u00e3o Paulo\",\"Sorocaba\",\"S\\u00e3o Paulo\",\"S\\u00e3o Paulo\",\"Sorocaba\",\"S\\u00e3o Paulo\",\"S\\u00e3o Paulo\",\"S\\u00e3o Paulo\",\"S\\u00e3o Paulo\",\"S\\u00e3o Paulo\",\"Guaimb\\u00ea\",\"Promiss\\u00e3o\",\"S\\u00e3o Paulo\",\"Palmital\",\"S\\u00e3o Paulo\",\"Guai\\u00e7ara\",\"S\\u00e3o Paulo\",\"S\\u00e3o Paulo\",\"S\\u00e3o Paulo\",\"S\\u00e3o Paulo\",\"Tabo\\u00e3o da Serra\",\"S\\u00e3o Paulo\",\"S\\u00e3o Paulo\",\"S\\u00e3o Paulo\",\"Mogi das Cruzes\",\"S\\u00e3o Paulo\",\"S\\u00e3o Paulo\",\"S\\u00e3o Bernardo do Campo\",\"S\\u00e3o Paulo\",\"Guarulhos\",\"Mau\\u00e1\",\"S\\u00e3o Paulo\",\"S\\u00e3o Paulo\",\"Santo Andr\\u00e9\",\"S\\u00e3o Paulo\",\"Santos\",\"S\\u00e3o Paulo\",\"S\\u00e3o Paulo\",\"Osasco\",\"S\\u00e3o Paulo\",\"S\\u00e3o Paulo\",\"S\\u00e3o Paulo\",\"Tabo\\u00e3o da Serra\",\"S\\u00e3o Paulo\",\"S\\u00e3o Paulo\",\"S\\u00e3o Vicente\",\"Carapicu\\u00edba\",\"Indaiatuba\",\"Santana de Parna\\u00edba\",\"S\\u00e3o Paulo\",\"S\\u00e3o Paulo\",\"Praia Grande\",\"Po\\u00e1\",\"Suzano\",\"S\\u00e3o Paulo\",\"Jundia\\u00ed\",\"Cotia\",\"S\\u00e3o Bernardo do Campo\",\"S\\u00e3o Paulo\",\"Taubat\\u00e9\",\"S\\u00e3o Paulo\",\"S\\u00e3o Paulo\",\"Santos\",\"Santo Andr\\u00e9\",\"Hortol\\u00e2ndia\",\"Mogi Mirim\",\"S\\u00e3o Paulo\",\"Mairipor\\u00e3\",\"Mogi das Cruzes\",\"Guarulhos\",\"S\\u00e3o Paulo\",\"Sert\\u00e3ozinho\",\"S\\u00e3o Caetano do Sul\",\"Santana de Parna\\u00edba\",\"Osasco\",\"S\\u00e3o Paulo\",\"Cabre\\u00fava\",\"S\\u00e3o Paulo\",\"S\\u00e3o Paulo\",\"Cotia\",\"S\\u00e3o Paulo\",\"Pindamonhangaba\",\"S\\u00e3o Paulo\",\"S\\u00e3o Paulo\",\"Po\\u00e1\",\"S\\u00e3o Paulo\",\"Hortol\\u00e2ndia\",\"S\\u00e3o Paulo\",\"S\\u00e3o Paulo\",\"S\\u00e3o Paulo\",\"Osasco\",\"S\\u00e3o Paulo\",\"S\\u00e3o Paulo\",\"S\\u00e3o Paulo\",\"Osasco\",\"Atibaia\",\"S\\u00e3o Paulo\",\"Sorocaba\",\"S\\u00e3o Paulo\",\"S\\u00e3o Paulo\",\"S\\u00e3o Paulo\",\"S\\u00e3o Paulo\",\"S\\u00e3o Paulo\",\"S\\u00e3o Paulo\",\"Praia Grande\",\"Praia Grande\",\"Osasco\",\"Atibaia\",\"Jandira\",\"Osasco\",\"S\\u00e3o Paulo\",\"Cotia\",\"S\\u00e3o Paulo\",\"Embu-Gua\\u00e7u\",\"Presidente Prudente\",\"Mau\\u00e1\",\"Guarulhos\",\"Jundia\\u00ed\"],\"yaxis\":\"y\",\"type\":\"scatter\"},{\"customdata\":[[\"Gerente Sr\"],[\"Dev Sr\"],[\"Dev Pl\"],[\"Dev Jr\"],[\"Dev Especialista\"],[\"Dev Pl\"],[\"Funcional Jr\"],[\"Funcional Pl\"],[\"Dev Pl\"],[\"Dev Especialista\"],[\"Dev Jr\"],[\"Dev Jr\"],[\"Trainee - Dev\"],[\"Trainee - Dev\"],[\"Dev Pl\"],[\"Gerente Vendas I\"],[\"Dev Pl\"],[\"Trainee - Dev\"],[\"Dev Jr\"],[\"Dev Pl\"]],\"hovertemplate\":\"Estado=MG<br>Tipo Saida=%{x}<br>Cidade=%{y}<br>Cargo=%{customdata[0]}<extra></extra>\",\"legendgroup\":\"MG\",\"marker\":{\"color\":\"#EF553B\",\"symbol\":\"circle\"},\"mode\":\"markers\",\"name\":\"MG\",\"orientation\":\"h\",\"showlegend\":true,\"x\":[4,1,3,1,4,4,4,1,1,4,4,4,4,4,4,4,4,4,4,4],\"xaxis\":\"x\",\"y\":[\"Belo Horizonte\",\"Alfenas\",\"Alfenas\",\"Belo Horizonte\",\"Uberl\\u00e2ndia\",\"Uberl\\u00e2ndia\",\"S\\u00e3o Louren\\u00e7o\",\"Contagem\",\"Uberl\\u00e2ndia\",\"Nova Lima\",\"Belo Horizonte\",\"Uberl\\u00e2ndia\",\"Belo Horizonte\",\"Divin\\u00f3polis\",\"Belo Horizonte\",\"Igarap\\u00e9\",\"Pedro Leopoldo\",\"Divin\\u00f3polis\",\"Congonhas\",\"Una\\u00ed\"],\"yaxis\":\"y\",\"type\":\"scatter\"},{\"customdata\":[[\"Dev Especialista\"],[\"Dev Pl\"],[\"Dev Pl\"],[\"Dev Pl\"],[\"Dev Sr\"],[\"Dev Jr\"],[\"Funcional Sr\"],[\"Dev Jr\"],[\"Dev Jr\"],[\"Pessoas Pl\"],[\"Trainee - Funcional\"],[\"Dev Pl\"],[\"Trainee - Dev\"],[\"Trainee - Dev\"],[\"Trainee - Dev\"],[\"Dev Sr\"],[\"Gerente\"],[\"Funcional Pl\"],[\"Funcional Pl\"],[\"Dev Jr\"]],\"hovertemplate\":\"Estado=PR<br>Tipo Saida=%{x}<br>Cidade=%{y}<br>Cargo=%{customdata[0]}<extra></extra>\",\"legendgroup\":\"PR\",\"marker\":{\"color\":\"#00cc96\",\"symbol\":\"circle\"},\"mode\":\"markers\",\"name\":\"PR\",\"orientation\":\"h\",\"showlegend\":true,\"x\":[3,1,1,4,4,1,4,1,4,4,4,4,0,4,4,4,4,4,4,3],\"xaxis\":\"x\",\"y\":[\"Curitiba\",\"Londrina\",\"Londrina\",\"Londrina\",\"Londrina\",\"Londrina\",\"Curitiba\",\"Londrina\",\"Londrina\",\"Curitiba\",\"Catanduvas\",\"Francisco Beltr\\u00e3o\",\"Rio Negro\",\"Rio Negro\",\"Dois Vizinhos\",\"Maring\\u00e1\",\"Curitiba\",\"Curitiba\",\"Londrina\",\"Colombo\"],\"yaxis\":\"y\",\"type\":\"scatter\"},{\"customdata\":[[\"Dev Pl\"],[\"Dev Pl\"],[\"Dev Especialista\"],[\"Dev Especialista\"],[\"Dev Pl\"],[\"Dev Especialista\"],[\"Dev Especialista\"],[\"Funcional Jr\"],[\"Dev Especialista\"],[\"Funcional Jr\"],[\"Trainee - Dev\"]],\"hovertemplate\":\"Estado=PE<br>Tipo Saida=%{x}<br>Cidade=%{y}<br>Cargo=%{customdata[0]}<extra></extra>\",\"legendgroup\":\"PE\",\"marker\":{\"color\":\"#ab63fa\",\"symbol\":\"circle\"},\"mode\":\"markers\",\"name\":\"PE\",\"orientation\":\"h\",\"showlegend\":true,\"x\":[1,1,1,4,1,3,4,1,1,4,4],\"xaxis\":\"x\",\"y\":[\"Recife\",\"Igarassu\",\"Paulista\",\"Camaragibe\",\"Recife\",\"Camaragibe\",\"Garanhuns\",\"Recife\",\"Recife\",\"Paulista\",\"Recife\"],\"yaxis\":\"y\",\"type\":\"scatter\"},{\"customdata\":[[\"Funcional Especialista\"],[\"Arquiteto\"]],\"hovertemplate\":\"Estado=GO<br>Tipo Saida=%{x}<br>Cidade=%{y}<br>Cargo=%{customdata[0]}<extra></extra>\",\"legendgroup\":\"GO\",\"marker\":{\"color\":\"#FFA15A\",\"symbol\":\"circle\"},\"mode\":\"markers\",\"name\":\"GO\",\"orientation\":\"h\",\"showlegend\":true,\"x\":[4,4],\"xaxis\":\"x\",\"y\":[\"Bela Vista de Goi\\u00e1s\",\"An\\u00e1polis\"],\"yaxis\":\"y\",\"type\":\"scatter\"},{\"customdata\":[[\"Dev Jr\"],[\"Trainee - Dev\"],[\"Trainee - Dev\"],[\"Dev Pl\"]],\"hovertemplate\":\"Estado=BA<br>Tipo Saida=%{x}<br>Cidade=%{y}<br>Cargo=%{customdata[0]}<extra></extra>\",\"legendgroup\":\"BA\",\"marker\":{\"color\":\"#19d3f3\",\"symbol\":\"circle\"},\"mode\":\"markers\",\"name\":\"BA\",\"orientation\":\"h\",\"showlegend\":true,\"x\":[2,4,4,4],\"xaxis\":\"x\",\"y\":[\"Salvador\",\"Salvador\",\"Santa Maria da Vit\\u00f3ria\",\"Salvador\"],\"yaxis\":\"y\",\"type\":\"scatter\"},{\"customdata\":[[\"Dev Pl\"]],\"hovertemplate\":\"Estado=MA<br>Tipo Saida=%{x}<br>Cidade=%{y}<br>Cargo=%{customdata[0]}<extra></extra>\",\"legendgroup\":\"MA\",\"marker\":{\"color\":\"#FF6692\",\"symbol\":\"circle\"},\"mode\":\"markers\",\"name\":\"MA\",\"orientation\":\"h\",\"showlegend\":true,\"x\":[2],\"xaxis\":\"x\",\"y\":[\"Bacabal\"],\"yaxis\":\"y\",\"type\":\"scatter\"},{\"customdata\":[[\"Dev Sr\"],[\"Dev Sr\"],[\"Dev Pl\"],[\"Funcional Pl\"],[\"Dev Jr\"],[\"Trainee - Dev\"],[\"Trainee - Dev\"],[\"Trainee - Dev\"]],\"hovertemplate\":\"Estado=CE<br>Tipo Saida=%{x}<br>Cidade=%{y}<br>Cargo=%{customdata[0]}<extra></extra>\",\"legendgroup\":\"CE\",\"marker\":{\"color\":\"#B6E880\",\"symbol\":\"circle\"},\"mode\":\"markers\",\"name\":\"CE\",\"orientation\":\"h\",\"showlegend\":true,\"x\":[3,3,1,4,4,4,4,4],\"xaxis\":\"x\",\"y\":[\"Caucaia\",\"Fortaleza\",\"Fortaleza\",\"Eus\\u00e9bio\",\"Fortaleza\",\"Sobral\",\"Juazeiro do Norte\",\"Fortaleza\"],\"yaxis\":\"y\",\"type\":\"scatter\"},{\"customdata\":[[\"Dev Sr\"],[\"Trainee - Dev\"],[\"Trainee - Dev\"],[\"Trainee - Dev\"],[\"Trainee - Dev\"],[\"Trainee - Dev\"]],\"hovertemplate\":\"Estado=PA<br>Tipo Saida=%{x}<br>Cidade=%{y}<br>Cargo=%{customdata[0]}<extra></extra>\",\"legendgroup\":\"PA\",\"marker\":{\"color\":\"#FF97FF\",\"symbol\":\"circle\"},\"mode\":\"markers\",\"name\":\"PA\",\"orientation\":\"h\",\"showlegend\":true,\"x\":[4,4,4,0,0,4],\"xaxis\":\"x\",\"y\":[\"Ananindeua\",\"Santa Maria do Par\\u00e1\",\"Bel\\u00e9m\",\"Abaetetuba\",\"Bel\\u00e9m\",\"Bel\\u00e9m\"],\"yaxis\":\"y\",\"type\":\"scatter\"},{\"customdata\":[[\"Dev Sr\"],[\"Dev Pl\"],[\"Dev Pl\"],[\"Dev Jr\"],[\"Dev Jr\"],[\"Dev Especialista\"],[\"Educa\\u00e7\\u00e3o Pl\"],[\"Trainee - Dev\"],[\"Gerente\"]],\"hovertemplate\":\"Estado=RJ<br>Tipo Saida=%{x}<br>Cidade=%{y}<br>Cargo=%{customdata[0]}<extra></extra>\",\"legendgroup\":\"RJ\",\"marker\":{\"color\":\"#FECB52\",\"symbol\":\"circle\"},\"mode\":\"markers\",\"name\":\"RJ\",\"orientation\":\"h\",\"showlegend\":true,\"x\":[0,1,1,4,1,4,4,4,4],\"xaxis\":\"x\",\"y\":[\"Niter\\u00f3i\",\"Niter\\u00f3i\",\"Rio de Janeiro\",\"Ipanema\",\"Rio de Janeiro\",\"Rio de Janeiro\",\"Rio de Janeiro\",\"Nova Igua\\u00e7u\",\"Maric\\u00e1\"],\"yaxis\":\"y\",\"type\":\"scatter\"},{\"customdata\":[[\"Dev Especialista\"],[\"Gerente\"],[\"Funcional Sr\"],[\"Dev Pl\"],[\"Dev Jr\"],[\"Funcional Jr\"],[\"Dev Pl\"],[\"Dev Jr\"],[\"Dev Especialista\"]],\"hovertemplate\":\"Estado=RS<br>Tipo Saida=%{x}<br>Cidade=%{y}<br>Cargo=%{customdata[0]}<extra></extra>\",\"legendgroup\":\"RS\",\"marker\":{\"color\":\"#636efa\",\"symbol\":\"circle\"},\"mode\":\"markers\",\"name\":\"RS\",\"orientation\":\"h\",\"showlegend\":true,\"x\":[4,4,1,4,4,4,4,4,3],\"xaxis\":\"x\",\"y\":[\"Charqueadas\",\"Novo Hamburgo\",\"Canoas\",\"Pelotas\",\"Pelotas\",\"Erechim\",\"Rio Grande\",\"Pelotas\",\"Porto Alegre\"],\"yaxis\":\"y\",\"type\":\"scatter\"},{\"customdata\":[[\"Dev Pl\"],[\"Dev Especialista\"],[\"Trainee - Dev\"],[\"Trainee - Dev\"],[\"Trainee - Dev\"],[\"Trainee - Dev\"],[\"Trainee - Dev\"],[\"Trainee - Dev\"],[\"Trainee - Dev\"],[\"Trainee - Dev\"],[\"Trainee - Dev\"],[\"Trainee - Dev\"],[\"Dev Pl\"],[\"Dev Jr\"],[\"Funcional Pl\"]],\"hovertemplate\":\"Estado=SC<br>Tipo Saida=%{x}<br>Cidade=%{y}<br>Cargo=%{customdata[0]}<extra></extra>\",\"legendgroup\":\"SC\",\"marker\":{\"color\":\"#EF553B\",\"symbol\":\"circle\"},\"mode\":\"markers\",\"name\":\"SC\",\"orientation\":\"h\",\"showlegend\":true,\"x\":[1,1,4,4,4,4,4,4,4,4,4,4,4,4,4],\"xaxis\":\"x\",\"y\":[\"Balne\\u00e1rio Cambori\\u00fa\",\"Florian\\u00f3polis\",\"Florian\\u00f3polis\",\"Mafra\",\"Itai\\u00f3polis\",\"Mafra\",\"Mafra\",\"Mafra\",\"Mafra\",\"Conc\\u00f3rdia\",\"Mafra\",\"Conc\\u00f3rdia\",\"Navegantes\",\"S\\u00e3o Jos\\u00e9\",\"Florian\\u00f3polis\"],\"yaxis\":\"y\",\"type\":\"scatter\"},{\"customdata\":[[\"Consultor\"],[\"Funcional Jr\"],[\"Teste Jr\"],[\"Dev Jr\"]],\"hovertemplate\":\"Estado=DF<br>Tipo Saida=%{x}<br>Cidade=%{y}<br>Cargo=%{customdata[0]}<extra></extra>\",\"legendgroup\":\"DF\",\"marker\":{\"color\":\"#00cc96\",\"symbol\":\"circle\"},\"mode\":\"markers\",\"name\":\"DF\",\"orientation\":\"h\",\"showlegend\":true,\"x\":[0,4,4,4],\"xaxis\":\"x\",\"y\":[\"Bras\\u00edlia\",\"Bras\\u00edlia\",\"Bras\\u00edlia\",\"Bras\\u00edlia\"],\"yaxis\":\"y\",\"type\":\"scatter\"},{\"customdata\":[[\"Funcional Jr\"],[\"Trainee - Dev\"],[\"Trainee - Dev\"],[\"Trainee - Dev\"],[\"Trainee - Funcional\"]],\"hovertemplate\":\"Estado=PB<br>Tipo Saida=%{x}<br>Cidade=%{y}<br>Cargo=%{customdata[0]}<extra></extra>\",\"legendgroup\":\"PB\",\"marker\":{\"color\":\"#ab63fa\",\"symbol\":\"circle\"},\"mode\":\"markers\",\"name\":\"PB\",\"orientation\":\"h\",\"showlegend\":true,\"x\":[4,4,4,4,4],\"xaxis\":\"x\",\"y\":[\"Jo\\u00e3o Pessoa\",\"Patos\",\"Jo\\u00e3o Pessoa\",\"Cabedelo\",\"Jo\\u00e3o Pessoa\"],\"yaxis\":\"y\",\"type\":\"scatter\"},{\"customdata\":[[\"Dev Jr\"],[\"Dev Jr\"]],\"hovertemplate\":\"Estado=SE<br>Tipo Saida=%{x}<br>Cidade=%{y}<br>Cargo=%{customdata[0]}<extra></extra>\",\"legendgroup\":\"SE\",\"marker\":{\"color\":\"#FFA15A\",\"symbol\":\"circle\"},\"mode\":\"markers\",\"name\":\"SE\",\"orientation\":\"h\",\"showlegend\":true,\"x\":[4,4],\"xaxis\":\"x\",\"y\":[\"S\\u00e3o Crist\\u00f3v\\u00e3o\",\"Salgado\"],\"yaxis\":\"y\",\"type\":\"scatter\"},{\"customdata\":[[\"Trainee - Dev\"]],\"hovertemplate\":\"Estado=MS<br>Tipo Saida=%{x}<br>Cidade=%{y}<br>Cargo=%{customdata[0]}<extra></extra>\",\"legendgroup\":\"MS\",\"marker\":{\"color\":\"#19d3f3\",\"symbol\":\"circle\"},\"mode\":\"markers\",\"name\":\"MS\",\"orientation\":\"h\",\"showlegend\":true,\"x\":[4],\"xaxis\":\"x\",\"y\":[\"Campo Grande\"],\"yaxis\":\"y\",\"type\":\"scatter\"},{\"customdata\":[[\"Trainee - Dev\"]],\"hovertemplate\":\"Estado=RN<br>Tipo Saida=%{x}<br>Cidade=%{y}<br>Cargo=%{customdata[0]}<extra></extra>\",\"legendgroup\":\"RN\",\"marker\":{\"color\":\"#FF6692\",\"symbol\":\"circle\"},\"mode\":\"markers\",\"name\":\"RN\",\"orientation\":\"h\",\"showlegend\":true,\"x\":[4],\"xaxis\":\"x\",\"y\":[\"Rafael Fernandes\"],\"yaxis\":\"y\",\"type\":\"scatter\"}],                        {\"template\":{\"data\":{\"bar\":[{\"error_x\":{\"color\":\"#2a3f5f\"},\"error_y\":{\"color\":\"#2a3f5f\"},\"marker\":{\"line\":{\"color\":\"#E5ECF6\",\"width\":0.5},\"pattern\":{\"fillmode\":\"overlay\",\"size\":10,\"solidity\":0.2}},\"type\":\"bar\"}],\"barpolar\":[{\"marker\":{\"line\":{\"color\":\"#E5ECF6\",\"width\":0.5},\"pattern\":{\"fillmode\":\"overlay\",\"size\":10,\"solidity\":0.2}},\"type\":\"barpolar\"}],\"carpet\":[{\"aaxis\":{\"endlinecolor\":\"#2a3f5f\",\"gridcolor\":\"white\",\"linecolor\":\"white\",\"minorgridcolor\":\"white\",\"startlinecolor\":\"#2a3f5f\"},\"baxis\":{\"endlinecolor\":\"#2a3f5f\",\"gridcolor\":\"white\",\"linecolor\":\"white\",\"minorgridcolor\":\"white\",\"startlinecolor\":\"#2a3f5f\"},\"type\":\"carpet\"}],\"choropleth\":[{\"colorbar\":{\"outlinewidth\":0,\"ticks\":\"\"},\"type\":\"choropleth\"}],\"contour\":[{\"colorbar\":{\"outlinewidth\":0,\"ticks\":\"\"},\"colorscale\":[[0.0,\"#0d0887\"],[0.1111111111111111,\"#46039f\"],[0.2222222222222222,\"#7201a8\"],[0.3333333333333333,\"#9c179e\"],[0.4444444444444444,\"#bd3786\"],[0.5555555555555556,\"#d8576b\"],[0.6666666666666666,\"#ed7953\"],[0.7777777777777778,\"#fb9f3a\"],[0.8888888888888888,\"#fdca26\"],[1.0,\"#f0f921\"]],\"type\":\"contour\"}],\"contourcarpet\":[{\"colorbar\":{\"outlinewidth\":0,\"ticks\":\"\"},\"type\":\"contourcarpet\"}],\"heatmap\":[{\"colorbar\":{\"outlinewidth\":0,\"ticks\":\"\"},\"colorscale\":[[0.0,\"#0d0887\"],[0.1111111111111111,\"#46039f\"],[0.2222222222222222,\"#7201a8\"],[0.3333333333333333,\"#9c179e\"],[0.4444444444444444,\"#bd3786\"],[0.5555555555555556,\"#d8576b\"],[0.6666666666666666,\"#ed7953\"],[0.7777777777777778,\"#fb9f3a\"],[0.8888888888888888,\"#fdca26\"],[1.0,\"#f0f921\"]],\"type\":\"heatmap\"}],\"heatmapgl\":[{\"colorbar\":{\"outlinewidth\":0,\"ticks\":\"\"},\"colorscale\":[[0.0,\"#0d0887\"],[0.1111111111111111,\"#46039f\"],[0.2222222222222222,\"#7201a8\"],[0.3333333333333333,\"#9c179e\"],[0.4444444444444444,\"#bd3786\"],[0.5555555555555556,\"#d8576b\"],[0.6666666666666666,\"#ed7953\"],[0.7777777777777778,\"#fb9f3a\"],[0.8888888888888888,\"#fdca26\"],[1.0,\"#f0f921\"]],\"type\":\"heatmapgl\"}],\"histogram\":[{\"marker\":{\"pattern\":{\"fillmode\":\"overlay\",\"size\":10,\"solidity\":0.2}},\"type\":\"histogram\"}],\"histogram2d\":[{\"colorbar\":{\"outlinewidth\":0,\"ticks\":\"\"},\"colorscale\":[[0.0,\"#0d0887\"],[0.1111111111111111,\"#46039f\"],[0.2222222222222222,\"#7201a8\"],[0.3333333333333333,\"#9c179e\"],[0.4444444444444444,\"#bd3786\"],[0.5555555555555556,\"#d8576b\"],[0.6666666666666666,\"#ed7953\"],[0.7777777777777778,\"#fb9f3a\"],[0.8888888888888888,\"#fdca26\"],[1.0,\"#f0f921\"]],\"type\":\"histogram2d\"}],\"histogram2dcontour\":[{\"colorbar\":{\"outlinewidth\":0,\"ticks\":\"\"},\"colorscale\":[[0.0,\"#0d0887\"],[0.1111111111111111,\"#46039f\"],[0.2222222222222222,\"#7201a8\"],[0.3333333333333333,\"#9c179e\"],[0.4444444444444444,\"#bd3786\"],[0.5555555555555556,\"#d8576b\"],[0.6666666666666666,\"#ed7953\"],[0.7777777777777778,\"#fb9f3a\"],[0.8888888888888888,\"#fdca26\"],[1.0,\"#f0f921\"]],\"type\":\"histogram2dcontour\"}],\"mesh3d\":[{\"colorbar\":{\"outlinewidth\":0,\"ticks\":\"\"},\"type\":\"mesh3d\"}],\"parcoords\":[{\"line\":{\"colorbar\":{\"outlinewidth\":0,\"ticks\":\"\"}},\"type\":\"parcoords\"}],\"pie\":[{\"automargin\":true,\"type\":\"pie\"}],\"scatter\":[{\"marker\":{\"colorbar\":{\"outlinewidth\":0,\"ticks\":\"\"}},\"type\":\"scatter\"}],\"scatter3d\":[{\"line\":{\"colorbar\":{\"outlinewidth\":0,\"ticks\":\"\"}},\"marker\":{\"colorbar\":{\"outlinewidth\":0,\"ticks\":\"\"}},\"type\":\"scatter3d\"}],\"scattercarpet\":[{\"marker\":{\"colorbar\":{\"outlinewidth\":0,\"ticks\":\"\"}},\"type\":\"scattercarpet\"}],\"scattergeo\":[{\"marker\":{\"colorbar\":{\"outlinewidth\":0,\"ticks\":\"\"}},\"type\":\"scattergeo\"}],\"scattergl\":[{\"marker\":{\"colorbar\":{\"outlinewidth\":0,\"ticks\":\"\"}},\"type\":\"scattergl\"}],\"scattermapbox\":[{\"marker\":{\"colorbar\":{\"outlinewidth\":0,\"ticks\":\"\"}},\"type\":\"scattermapbox\"}],\"scatterpolar\":[{\"marker\":{\"colorbar\":{\"outlinewidth\":0,\"ticks\":\"\"}},\"type\":\"scatterpolar\"}],\"scatterpolargl\":[{\"marker\":{\"colorbar\":{\"outlinewidth\":0,\"ticks\":\"\"}},\"type\":\"scatterpolargl\"}],\"scatterternary\":[{\"marker\":{\"colorbar\":{\"outlinewidth\":0,\"ticks\":\"\"}},\"type\":\"scatterternary\"}],\"surface\":[{\"colorbar\":{\"outlinewidth\":0,\"ticks\":\"\"},\"colorscale\":[[0.0,\"#0d0887\"],[0.1111111111111111,\"#46039f\"],[0.2222222222222222,\"#7201a8\"],[0.3333333333333333,\"#9c179e\"],[0.4444444444444444,\"#bd3786\"],[0.5555555555555556,\"#d8576b\"],[0.6666666666666666,\"#ed7953\"],[0.7777777777777778,\"#fb9f3a\"],[0.8888888888888888,\"#fdca26\"],[1.0,\"#f0f921\"]],\"type\":\"surface\"}],\"table\":[{\"cells\":{\"fill\":{\"color\":\"#EBF0F8\"},\"line\":{\"color\":\"white\"}},\"header\":{\"fill\":{\"color\":\"#C8D4E3\"},\"line\":{\"color\":\"white\"}},\"type\":\"table\"}]},\"layout\":{\"annotationdefaults\":{\"arrowcolor\":\"#2a3f5f\",\"arrowhead\":0,\"arrowwidth\":1},\"autotypenumbers\":\"strict\",\"coloraxis\":{\"colorbar\":{\"outlinewidth\":0,\"ticks\":\"\"}},\"colorscale\":{\"diverging\":[[0,\"#8e0152\"],[0.1,\"#c51b7d\"],[0.2,\"#de77ae\"],[0.3,\"#f1b6da\"],[0.4,\"#fde0ef\"],[0.5,\"#f7f7f7\"],[0.6,\"#e6f5d0\"],[0.7,\"#b8e186\"],[0.8,\"#7fbc41\"],[0.9,\"#4d9221\"],[1,\"#276419\"]],\"sequential\":[[0.0,\"#0d0887\"],[0.1111111111111111,\"#46039f\"],[0.2222222222222222,\"#7201a8\"],[0.3333333333333333,\"#9c179e\"],[0.4444444444444444,\"#bd3786\"],[0.5555555555555556,\"#d8576b\"],[0.6666666666666666,\"#ed7953\"],[0.7777777777777778,\"#fb9f3a\"],[0.8888888888888888,\"#fdca26\"],[1.0,\"#f0f921\"]],\"sequentialminus\":[[0.0,\"#0d0887\"],[0.1111111111111111,\"#46039f\"],[0.2222222222222222,\"#7201a8\"],[0.3333333333333333,\"#9c179e\"],[0.4444444444444444,\"#bd3786\"],[0.5555555555555556,\"#d8576b\"],[0.6666666666666666,\"#ed7953\"],[0.7777777777777778,\"#fb9f3a\"],[0.8888888888888888,\"#fdca26\"],[1.0,\"#f0f921\"]]},\"colorway\":[\"#636efa\",\"#EF553B\",\"#00cc96\",\"#ab63fa\",\"#FFA15A\",\"#19d3f3\",\"#FF6692\",\"#B6E880\",\"#FF97FF\",\"#FECB52\"],\"font\":{\"color\":\"#2a3f5f\"},\"geo\":{\"bgcolor\":\"white\",\"lakecolor\":\"white\",\"landcolor\":\"#E5ECF6\",\"showlakes\":true,\"showland\":true,\"subunitcolor\":\"white\"},\"hoverlabel\":{\"align\":\"left\"},\"hovermode\":\"closest\",\"mapbox\":{\"style\":\"light\"},\"paper_bgcolor\":\"white\",\"plot_bgcolor\":\"#E5ECF6\",\"polar\":{\"angularaxis\":{\"gridcolor\":\"white\",\"linecolor\":\"white\",\"ticks\":\"\"},\"bgcolor\":\"#E5ECF6\",\"radialaxis\":{\"gridcolor\":\"white\",\"linecolor\":\"white\",\"ticks\":\"\"}},\"scene\":{\"xaxis\":{\"backgroundcolor\":\"#E5ECF6\",\"gridcolor\":\"white\",\"gridwidth\":2,\"linecolor\":\"white\",\"showbackground\":true,\"ticks\":\"\",\"zerolinecolor\":\"white\"},\"yaxis\":{\"backgroundcolor\":\"#E5ECF6\",\"gridcolor\":\"white\",\"gridwidth\":2,\"linecolor\":\"white\",\"showbackground\":true,\"ticks\":\"\",\"zerolinecolor\":\"white\"},\"zaxis\":{\"backgroundcolor\":\"#E5ECF6\",\"gridcolor\":\"white\",\"gridwidth\":2,\"linecolor\":\"white\",\"showbackground\":true,\"ticks\":\"\",\"zerolinecolor\":\"white\"}},\"shapedefaults\":{\"line\":{\"color\":\"#2a3f5f\"}},\"ternary\":{\"aaxis\":{\"gridcolor\":\"white\",\"linecolor\":\"white\",\"ticks\":\"\"},\"baxis\":{\"gridcolor\":\"white\",\"linecolor\":\"white\",\"ticks\":\"\"},\"bgcolor\":\"#E5ECF6\",\"caxis\":{\"gridcolor\":\"white\",\"linecolor\":\"white\",\"ticks\":\"\"}},\"title\":{\"x\":0.05},\"xaxis\":{\"automargin\":true,\"gridcolor\":\"white\",\"linecolor\":\"white\",\"ticks\":\"\",\"title\":{\"standoff\":15},\"zerolinecolor\":\"white\",\"zerolinewidth\":2},\"yaxis\":{\"automargin\":true,\"gridcolor\":\"white\",\"linecolor\":\"white\",\"ticks\":\"\",\"title\":{\"standoff\":15},\"zerolinecolor\":\"white\",\"zerolinewidth\":2}}},\"xaxis\":{\"anchor\":\"y\",\"domain\":[0.0,1.0],\"title\":{\"text\":\"Tipo Saida\"}},\"yaxis\":{\"anchor\":\"x\",\"domain\":[0.0,1.0],\"title\":{\"text\":\"Cidade\"}},\"legend\":{\"title\":{\"text\":\"Estado\"},\"tracegroupgap\":0},\"margin\":{\"t\":60}},                        {\"responsive\": true}                    ).then(function(){\n",
              "                            \n",
              "var gd = document.getElementById('84de9570-7b87-4b96-a92b-25c63967be20');\n",
              "var x = new MutationObserver(function (mutations, observer) {{\n",
              "        var display = window.getComputedStyle(gd).display;\n",
              "        if (!display || display === 'none') {{\n",
              "            console.log([gd, 'removed!']);\n",
              "            Plotly.purge(gd);\n",
              "            observer.disconnect();\n",
              "        }}\n",
              "}});\n",
              "\n",
              "// Listen for the removal of the full notebook cells\n",
              "var notebookContainer = gd.closest('#notebook-container');\n",
              "if (notebookContainer) {{\n",
              "    x.observe(notebookContainer, {childList: true});\n",
              "}}\n",
              "\n",
              "// Listen for the clearing of the current output cell\n",
              "var outputEl = gd.closest('.output');\n",
              "if (outputEl) {{\n",
              "    x.observe(outputEl, {childList: true});\n",
              "}}\n",
              "\n",
              "                        })                };                            </script>        </div>\n",
              "</body>\n",
              "</html>"
            ]
          },
          "metadata": {},
          "output_type": "display_data"
        }
      ],
      "source": [
        "import plotly.express as px\n",
        "import matplotlib.pyplot as plt\n",
        "\n",
        "df = base\n",
        "fig = px.scatter(df, x=\"Tipo Saida\", y=\"Cidade\", color=\"Estado\",\n",
        "                 hover_data=['Cargo'])\n",
        "fig.show()"
      ]
    },
    {
      "cell_type": "code",
      "execution_count": 15,
      "metadata": {
        "colab": {
          "base_uri": "https://localhost:8080/",
          "height": 542
        },
        "id": "HG-2PoxH_PTS",
        "outputId": "711e88d5-af4e-4c47-bd41-f4bfe83b1e60"
      },
      "outputs": [
        {
          "data": {
            "text/html": [
              "<html>\n",
              "<head><meta charset=\"utf-8\" /></head>\n",
              "<body>\n",
              "    <div>            <script src=\"https://cdnjs.cloudflare.com/ajax/libs/mathjax/2.7.5/MathJax.js?config=TeX-AMS-MML_SVG\"></script><script type=\"text/javascript\">if (window.MathJax) {MathJax.Hub.Config({SVG: {font: \"STIX-Web\"}});}</script>                <script type=\"text/javascript\">window.PlotlyConfig = {MathJaxConfig: 'local'};</script>\n",
              "        <script src=\"https://cdn.plot.ly/plotly-2.8.3.min.js\"></script>                <div id=\"36eaf94c-b05a-41a3-9911-4cb91ea72b67\" class=\"plotly-graph-div\" style=\"height:525px; width:100%;\"></div>            <script type=\"text/javascript\">                                    window.PLOTLYENV=window.PLOTLYENV || {};                                    if (document.getElementById(\"36eaf94c-b05a-41a3-9911-4cb91ea72b67\")) {                    Plotly.newPlot(                        \"36eaf94c-b05a-41a3-9911-4cb91ea72b67\",                        [{\"customdata\":[[4],[4],[1],[1],[1],[4],[1],[1],[4],[4],[1],[1],[0],[1],[4],[1],[1],[4],[1],[0],[4],[4],[1],[4],[1],[1],[3],[4],[1],[4],[1],[3],[4],[4],[4],[0],[4],[4],[4],[4],[4],[4],[1],[0],[4],[4],[1],[1],[4],[4],[4],[4],[4],[4],[4],[1],[4],[4],[4],[4],[4],[4],[3],[4],[4],[4],[4],[4],[4],[4],[4],[4],[4],[4],[4],[4],[4],[4],[4],[4],[4]],\"hovertemplate\":\"Area=CPG & Retail<br>Tempo de casa=%{x}<br>Cargo=%{y}<br>Tipo Saida=%{customdata[0]}<extra></extra>\",\"legendgroup\":\"CPG & Retail\",\"marker\":{\"color\":\"#636efa\",\"symbol\":\"circle\"},\"mode\":\"markers\",\"name\":\"CPG & Retail\",\"orientation\":\"h\",\"showlegend\":true,\"x\":[null,null,1635.0,1425.0,1375.0,null,1003.0,857.0,null,null,820.0,872.0,367.0,445.0,null,186.0,325.0,null,466.0,191.0,null,null,175.0,null,175.0,219.0,39.0,null,272.0,null,298.0,77.0,null,null,null,413.0,null,null,null,null,null,null,158.0,296.0,null,null,180.0,93.0,null,null,null,null,null,null,null,121.0,null,null,null,null,null,null,35.0,null,null,null,null,null,null,null,null,null,null,null,null,null,null,null,null,null,null],\"xaxis\":\"x\",\"y\":[\"Gerente Sr\",\"Gerente Sr\",\"Dev Pl\",\"Dev Pl\",\"Dev Pl\",\"Dev Especialista\",\"Funcional Pl\",\"Dev Jr\",\"Dev Sr\",\"Dev Especialista\",\"Funcional Sr\",\"Dev Jr\",\"Trainee - Dev\",\"Funcional Sr\",\"Gerente\",\"Dev Jr\",\"Dev Jr\",\"Gerente\",\"Dev Jr\",\"Trainee - Dev\",\"Dev Pl\",\"Dev Pl\",\"Trainee - Dev\",\"Dev Sr\",\"Dev Pl\",\"Funcional Pl\",\"Funcional Sr\",\"Gerente\",\"Dev Pl\",\"Funcional Especialista\",\"Funcional Pl\",\"Dev Sr\",\"Dev Sr\",\"Dev Jr\",\"Dev Jr\",\"Dev Jr\",\"Dev Jr\",\"Dev Jr\",\"Dev Pl\",\"Funcional Especialista\",\"Diretor\",\"Dev Sr\",\"Funcional Pl\",\"Dev Jr\",\"Funcional Sr\",\"Dev Jr\",\"Funcional Sr\",\"Dev Especialista\",\"Trainee - Funcional\",\"Trainee - Dev\",\"Dev Jr\",\"Dev Especialista\",\"Trainee - Dev\",\"Trainee - Dev\",\"Trainee - Dev\",\"Trainee - Dev\",\"Trainee - Dev\",\"Trainee - Dev\",\"Trainee - Dev\",\"Trainee - Dev\",\"Trainee - Dev\",\"Dev Pl\",\"Gerente\",\"Funcional Sr\",\"Funcional Pl\",\"Dev Jr\",\"Funcional Pl\",\"Funcional Jr\",\"Funcional Pl\",\"Funcional Pl\",\"Trainee - Dev\",\"Trainee - Dev\",\"Trainee - Dev\",\"Trainee - Dev\",\"Trainee - Dev\",\"Trainee - Dev\",\"Trainee - Dev\",\"Trainee - Dev\",\"Trainee - Dev\",\"Dev Pl\",\"Gerente\"],\"yaxis\":\"y\",\"type\":\"scatter\"},{\"customdata\":[[4],[4],[4]],\"hovertemplate\":\"Area=Education<br>Tempo de casa=%{x}<br>Cargo=%{y}<br>Tipo Saida=%{customdata[0]}<extra></extra>\",\"legendgroup\":\"Education\",\"marker\":{\"color\":\"#EF553B\",\"symbol\":\"circle\"},\"mode\":\"markers\",\"name\":\"Education\",\"orientation\":\"h\",\"showlegend\":true,\"x\":[null,null,null],\"xaxis\":\"x\",\"y\":[\"Arquiteto Sr\",\"Educa\\u00e7\\u00e3o Pl\",\"Educa\\u00e7\\u00e3o Pl\"],\"yaxis\":\"y\",\"type\":\"scatter\"},{\"customdata\":[[1],[1],[1],[1],[0],[4],[1],[4],[1],[1],[4],[1],[1],[4],[1],[0],[1],[1],[4],[4],[4],[1],[0],[1],[4],[1],[4],[1],[4],[4],[1],[1],[1],[1],[0],[1],[1],[4],[1],[1],[0],[4],[1],[0],[4],[0],[4],[0],[1],[1],[0],[0],[1],[1],[1],[4],[4],[4],[0],[4],[3],[3],[1],[0],[1],[1],[1],[4],[2],[1],[0],[4],[1],[3],[1],[4],[1],[3],[1],[1],[0],[2],[1],[4],[1],[4],[1],[4],[4],[1],[1],[1],[1],[2],[3],[4],[4],[1],[4],[4],[1],[4],[1],[4],[1],[1],[4],[1],[1],[1],[4],[1],[0],[3],[1],[4],[4],[4],[4],[1],[0],[4],[1],[1],[1],[1],[4],[1],[4],[4],[4],[4],[4],[3],[4],[4],[4],[2],[1],[4],[1],[1],[4],[4],[4],[1],[1],[1],[3],[4],[4],[4],[4],[4],[4],[4],[4],[4],[4],[4],[4],[0],[4],[4],[4],[2],[4],[4],[4],[4],[4],[4],[4],[2],[4],[4],[4],[4],[4],[4],[4],[4],[4],[4],[4],[4],[4],[4],[4],[4],[4],[3],[4],[4],[4],[4],[4],[4],[4],[4],[4],[4]],\"hovertemplate\":\"Area=Core & Industrias<br>Tempo de casa=%{x}<br>Cargo=%{y}<br>Tipo Saida=%{customdata[0]}<extra></extra>\",\"legendgroup\":\"Core & Industrias\",\"marker\":{\"color\":\"#00cc96\",\"symbol\":\"circle\"},\"mode\":\"markers\",\"name\":\"Core & Industrias\",\"orientation\":\"h\",\"showlegend\":true,\"x\":[2250.0,2167.0,1649.0,1341.0,1334.0,null,863.0,null,1024.0,1389.0,null,669.0,1207.0,null,802.0,1082.0,1081.0,414.0,null,null,null,669.0,588.0,704.0,null,494.0,null,954.0,null,null,952.0,141.0,284.0,767.0,155.0,703.0,652.0,null,654.0,758.0,330.0,null,368.0,191.0,null,191.0,null,330.0,676.0,851.0,448.0,387.0,499.0,723.0,441.0,null,null,null,210.0,null,37.0,82.0,163.0,568.0,394.0,466.0,403.0,null,42.0,424.0,674.0,null,494.0,83.0,417.0,null,226.0,74.0,254.0,262.0,182.0,49.0,112.0,null,172.0,null,151.0,null,null,466.0,492.0,333.0,165.0,44.0,74.0,null,null,431.0,null,null,305.0,null,382.0,null,438.0,429.0,null,312.0,101.0,105.0,null,123.0,249.0,87.0,261.0,null,null,null,null,227.0,127.0,null,301.0,137.0,137.0,357.0,null,148.0,null,null,null,null,null,46.0,null,null,null,44.0,184.0,null,161.0,242.0,null,null,null,197.0,257.0,254.0,64.0,null,null,null,null,null,null,null,null,null,null,null,null,151.0,null,null,null,41.0,null,null,null,null,null,null,null,16.0,null,null,null,null,null,null,null,null,null,null,null,null,null,null,null,null,null,7.0,null,null,null,null,null,null,null,null,null,null],\"xaxis\":\"x\",\"y\":[\"Arquiteto\",\"Arquiteto\",\"Arquiteto\",\"Dev Pl\",\"Dev Sr\",\"Diretor\",\"Dev Sr\",\"Dev Sr\",\"Dev Sr\",\"Dev Especialista\",\"Funcional Sr\",\"Dev Especialista\",\"Dev Sr\",\"Funcional Sr\",\"Funcional Sr\",\"Dev Sr\",\"Gerente\",\"Funcional Pl\",\"Gerente\",\"Dev Sr\",\"Dev Especialista\",\"Dev Pl\",\"Dev Pl\",\"Dev Sr\",\"Dev Pl\",\"Funcional Jr\",\"Gerente\",\"Dev Especialista\",\"Dev Pl\",\"Gerente\",\"Dev Sr\",\"Funcional Sr\",\"Dev Pl\",\"Funcional Pl\",\"Funcional Jr\",\"Dev Pl\",\"Dev Sr\",\"Funcional Sr\",\"Consultor\",\"Dev Jr\",\"Trainee - Dev\",\"Funcional Pl\",\"Funcional Jr\",\"Trainee - Dev\",\"Funcional Jr\",\"Trainee - Dev\",\"Dev Sr\",\"Trainee - Dev\",\"Funcional Jr\",\"Funcional Pl\",\"Dev Jr\",\"Dev Jr\",\"Funcional Jr\",\"Gerente\",\"Dev Sr\",\"Gerente Sr\",\"Gerente Sr\",\"Diretor\",\"Dev Pl\",\"Dev Sr\",\"Dev Pl\",\"Dev Pl\",\"Dev Pl\",\"Funcional Sr\",\"Dev Pl\",\"Dev Pl\",\"Funcional Jr\",\"Dev Sr\",\"Dev Jr\",\"Dev Jr\",\"Dev Pl\",\"Funcional Pl\",\"Funcional Jr\",\"Dev Pl\",\"Dev Especialista\",\"Gerente\",\"Dev Jr\",\"Dev Especialista\",\"Dev Jr\",\"Dev Pl\",\"Funcional Sr\",\"Dev Pl\",\"Dev Pl\",\"Gerente\",\"Dev Jr\",\"Dev Sr\",\"Dev Pl\",\"Dev Pl\",\"Gerente\",\"Funcional Pl\",\"Funcional Especialista\",\"Funcional Pl\",\"Funcional Pl\",\"Dev Jr\",\"Dev Sr\",\"Dev Sr\",\"Dev Pl\",\"Funcional Jr\",\"Dev Especialista\",\"Dev Pl\",\"Dev Sr\",\"Dev Pl\",\"Dev Jr\",\"Dev Jr\",\"Funcional Jr\",\"Dev Jr\",\"Dev Jr\",\"Dev Jr\",\"Dev Pl\",\"Funcional Pl\",\"Dev Sr\",\"Dev Pl\",\"Dev Sr\",\"Funcional Pl\",\"Dev Jr\",\"Funcional Sr\",\"Dev Sr\",\"Dev Especialista\",\"Funcional Pl\",\"Dev Pl\",\"Arquiteto\",\"Dev Jr\",\"Dev Pl\",\"Dev Pl\",\"Dev Pl\",\"Dev Especialista\",\"Dev Especialista\",\"Dev Jr\",\"Dev Especialista\",\"Dev Especialista\",\"Gerente\",\"Gerente\",\"Funcional Jr\",\"Dev Especialista\",\"Gerente\",\"Gerente\",\"Funcional Pl\",\"Funcional Especialista\",\"Funcional Especialista\",\"Funcional Pl\",\"Funcional Pl\",\"Dev Pl\",\"Funcional Pl\",\"Dev Jr\",\"Trainee - Dev\",\"Dev Pl\",\"Funcional Jr\",\"Dev Especialista\",\"Dev Pl\",\"Dev Jr\",\"Trainee - Dev\",\"Funcional Jr\",\"Dev Jr\",\"Funcional Pl\",\"Dev Jr\",\"Trainee - Dev\",\"Dev Jr\",\"Trainee - Dev\",\"Funcional Jr\",\"Trainee - Dev\",\"Trainee - Dev\",\"Dev Especialista\",\"Trainee - Dev\",\"Trainee - Dev\",\"Trainee - Funcional\",\"Dev Pl\",\"Funcional Jr\",\"Trainee - Dev\",\"Teste Jr\",\"Trainee - Dev\",\"Trainee - Dev\",\"Trainee - Dev\",\"Trainee - Dev\",\"Arquiteto\",\"Trainee - Dev\",\"Trainee - Dev\",\"Trainee - Dev\",\"Trainee - Dev\",\"Trainee - Dev\",\"Trainee - Dev\",\"Trainee - Dev\",\"Trainee - Dev\",\"Trainee - Dev\",\"Dev Pl\",\"Dev Pl\",\"Trainee - Dev\",\"Dev Jr\",\"Dev Jr\",\"Dev Pl\",\"Funcional Pl\",\"Dev Pl\",\"Dev Especialista\",\"Funcional Pl\",\"Trainee - Dev\",\"Trainee - Dev\",\"Trainee - Dev\",\"Trainee - Dev\",\"Trainee - Dev\",\"Trainee - Dev\",\"Trainee - Dev\",\"Trainee - Dev\",\"Funcional Pl\"],\"yaxis\":\"y\",\"type\":\"scatter\"},{\"customdata\":[[1],[4],[1],[1],[4],[4],[1],[4],[0],[0],[0],[0],[3],[4],[1],[4],[4],[4],[4],[4],[4],[1],[1],[4],[0],[1],[4],[4],[4],[4],[4],[4],[3],[4],[4],[4]],\"hovertemplate\":\"Area=AMS<br>Tempo de casa=%{x}<br>Cargo=%{y}<br>Tipo Saida=%{customdata[0]}<extra></extra>\",\"legendgroup\":\"AMS\",\"marker\":{\"color\":\"#ab63fa\",\"symbol\":\"circle\"},\"mode\":\"markers\",\"name\":\"AMS\",\"orientation\":\"h\",\"showlegend\":true,\"x\":[4594.0,null,743.0,616.0,null,null,438.0,null,484.0,330.0,156.0,304.0,16.0,null,207.0,null,null,null,null,null,null,252.0,118.0,null,185.0,234.0,null,null,null,null,null,null,51.0,null,null,null],\"xaxis\":\"x\",\"y\":[\"Dev Especialista\",\"Dev Pl\",\"Dev Pl\",\"Dev Jr\",\"Dev Pl\",\"Funcional Jr\",\"Funcional Sr\",\"Dev Jr\",\"Dev Jr\",\"Trainee - Dev\",\"Dev Pl\",\"Funcional Sr\",\"Teste Sr\",\"Funcional Pl\",\"Dev Jr\",\"Funcional Jr\",\"Dev Jr\",\"Dev Jr\",\"Funcional Jr\",\"Diretor\",\"Trainee - Dev\",\"Dev Pl\",\"Dev Pl\",\"Dev Jr\",\"Dev Jr\",\"Gerente\",\"Trainee - Dev\",\"Trainee - Dev\",\"Trainee - Dev\",\"Trainee - Dev\",\"Funcional Jr\",\"Dev Pl\",\"Dev Especialista\",\"Trainee - Funcional\",\"Trainee - Dev\",\"Gerente\"],\"yaxis\":\"y\",\"type\":\"scatter\"},{\"customdata\":[[4],[1],[4],[1],[4],[4],[4],[4],[4],[3],[4],[4],[4],[4]],\"hovertemplate\":\"Area=Mkt Cloud<br>Tempo de casa=%{x}<br>Cargo=%{y}<br>Tipo Saida=%{customdata[0]}<extra></extra>\",\"legendgroup\":\"Mkt Cloud\",\"marker\":{\"color\":\"#FFA15A\",\"symbol\":\"circle\"},\"mode\":\"markers\",\"name\":\"Mkt Cloud\",\"orientation\":\"h\",\"showlegend\":true,\"x\":[null,1528.0,null,197.0,null,null,null,null,null,60.0,null,null,null,null],\"xaxis\":\"x\",\"y\":[\"Gerente Sr\",\"Funcional Pl\",\"Funcional Pl\",\"Trainee - Dev\",\"Scrum Master Jr\",\"Trainee - Dev\",\"Trainee - Dev\",\"Funcional Jr\",\"Funcional Pl\",\"Funcional Jr\",\"Funcional Pl\",\"Funcional Sr\",\"Gerente\",\"Arquiteto\"],\"yaxis\":\"y\",\"type\":\"scatter\"},{\"customdata\":[[1]],\"hovertemplate\":\"Area=BAC<br>Tempo de casa=%{x}<br>Cargo=%{y}<br>Tipo Saida=%{customdata[0]}<extra></extra>\",\"legendgroup\":\"BAC\",\"marker\":{\"color\":\"#19d3f3\",\"symbol\":\"circle\"},\"mode\":\"markers\",\"name\":\"BAC\",\"orientation\":\"h\",\"showlegend\":true,\"x\":[1866.0],\"xaxis\":\"x\",\"y\":[\"Consultor\"],\"yaxis\":\"y\",\"type\":\"scatter\"},{\"customdata\":[[1],[1],[4],[1],[1],[1],[4],[0],[4],[4],[4],[4],[4],[4],[4],[4],[4],[4],[4]],\"hovertemplate\":\"Area=PS<br>Tempo de casa=%{x}<br>Cargo=%{y}<br>Tipo Saida=%{customdata[0]}<extra></extra>\",\"legendgroup\":\"PS\",\"marker\":{\"color\":\"#FF6692\",\"symbol\":\"circle\"},\"mode\":\"markers\",\"name\":\"PS\",\"orientation\":\"h\",\"showlegend\":true,\"x\":[1347.0,788.0,null,303.0,309.0,340.0,null,228.0,null,null,null,null,null,null,null,null,null,null,null],\"xaxis\":\"x\",\"y\":[\"Scrum Master Jr\",\"Funcional Jr\",\"Funcional Especialista\",\"Dev Pl\",\"Dev Pl\",\"Scrum Master Jr\",\"Gerente\",\"Consultor\",\"Trainee - Dev\",\"Trainee - Dev\",\"Trainee - Dev\",\"Dev Pl\",\"Funcional Pl\",\"Arquiteto\",\"Dev Pl\",\"Dev Pl\",\"Funcional Pl\",\"Dev Sr\",\"Funcional Pl\"],\"yaxis\":\"y\",\"type\":\"scatter\"},{\"customdata\":[[1],[1],[1],[1],[3],[3],[0],[1],[1],[3],[3],[2],[0]],\"hovertemplate\":\"Area=Produtos<br>Tempo de casa=%{x}<br>Cargo=%{y}<br>Tipo Saida=%{customdata[0]}<extra></extra>\",\"legendgroup\":\"Produtos\",\"marker\":{\"color\":\"#B6E880\",\"symbol\":\"circle\"},\"mode\":\"markers\",\"name\":\"Produtos\",\"orientation\":\"h\",\"showlegend\":true,\"x\":[997.0,333.0,296.0,214.0,29.0,88.0,171.0,262.0,202.0,45.0,79.0,77.0,114.0],\"xaxis\":\"x\",\"y\":[\"Dev Pl\",\"Dev Pl\",\"Dev Jr\",\"Dev Jr\",\"Dev Pl\",\"Dev Sr\",\"Dev Pl\",\"Dev Sr\",\"Dev Pl\",\"Dev Pl\",\"Dev Especialista\",\"Dev Pl\",\"Dev Sr\"],\"yaxis\":\"y\",\"type\":\"scatter\"},{\"customdata\":[[1],[4],[1],[1],[1],[4],[4],[4],[4],[1],[1],[4],[3],[4],[2],[4],[4],[4]],\"hovertemplate\":\"Area=Vendas<br>Tempo de casa=%{x}<br>Cargo=%{y}<br>Tipo Saida=%{customdata[0]}<extra></extra>\",\"legendgroup\":\"Vendas\",\"marker\":{\"color\":\"#FF97FF\",\"symbol\":\"circle\"},\"mode\":\"markers\",\"name\":\"Vendas\",\"orientation\":\"h\",\"showlegend\":true,\"x\":[304.0,null,662.0,243.0,256.0,null,null,null,null,172.0,135.0,null,30.0,null,77.0,null,null,null],\"xaxis\":\"x\",\"y\":[\"Dev Especialista\",\"Gerente PV\",\"Gerente Vendas I\",\"Comercial IS\",\"Gerente Vendas II\",\"Diretor\",\"Vice Presidente\",\"Gerente CS Sr\",\"Gerente Vendas III\",\"Gerente Vendas II\",\"Gerente Vendas I\",\"Comercial Pl\",\"Gerente Vendas I\",\"Assistente I\",\"Gerente Vendas I\",\"Gerente Vendas I\",\"Gerente Vendas I\",\"Gerente Vendas I\"],\"yaxis\":\"y\",\"type\":\"scatter\"},{\"customdata\":[[1],[1],[4],[3],[1],[4],[1],[0],[1],[4],[1],[4],[4],[4],[4],[4],[4],[4],[4],[4],[4],[4]],\"hovertemplate\":\"Area=Analytics<br>Tempo de casa=%{x}<br>Cargo=%{y}<br>Tipo Saida=%{customdata[0]}<extra></extra>\",\"legendgroup\":\"Analytics\",\"marker\":{\"color\":\"#FECB52\",\"symbol\":\"circle\"},\"mode\":\"markers\",\"name\":\"Analytics\",\"orientation\":\"h\",\"showlegend\":true,\"x\":[2573.0,2416.0,null,4.0,333.0,null,165.0,248.0,121.0,null,205.0,null,null,null,null,null,null,null,null,null,null,null],\"xaxis\":\"x\",\"y\":[\"Dev Sr\",\"Arquiteto\",\"Funcional Especialista\",\"Dev Pl\",\"Trainee - Dev\",\"Dev Jr\",\"Dev Jr\",\"Arquiteto\",\"Gerente\",\"Gerente Sr\",\"Dev Jr\",\"Dev Jr\",\"Trainee - Dev\",\"Trainee - Dev\",\"Trainee - Dev\",\"Dev Sr\",\"Dev Especialista\",\"Gerente\",\"Trainee - Dev\",\"Trainee - Dev\",\"Trainee - Dev\",\"Dev Especialista\"],\"yaxis\":\"y\",\"type\":\"scatter\"},{\"customdata\":[[1],[4],[1],[4],[4],[4],[0],[0],[4],[4],[4],[4],[4],[4],[4],[4],[4],[4],[0],[4],[4],[4],[4],[4],[4],[4],[4],[4],[3],[4]],\"hovertemplate\":\"Area=Commerce<br>Tempo de casa=%{x}<br>Cargo=%{y}<br>Tipo Saida=%{customdata[0]}<extra></extra>\",\"legendgroup\":\"Commerce\",\"marker\":{\"color\":\"#636efa\",\"symbol\":\"circle\"},\"mode\":\"markers\",\"name\":\"Commerce\",\"orientation\":\"h\",\"showlegend\":true,\"x\":[697.0,null,234.0,null,null,null,249.0,249.0,null,null,null,null,null,null,null,null,null,null,151.0,null,null,null,null,null,null,null,null,null,30.0,null],\"xaxis\":\"x\",\"y\":[\"Dev Pl\",\"Funcional Pl\",\"Funcional Pl\",\"Dev Especialista\",\"Trainee - Dev\",\"Trainee - Dev\",\"Trainee - Dev\",\"Trainee - Dev\",\"Funcional Pl\",\"Diretor\",\"Arquiteto Sr\",\"Dev Pl\",\"Trainee - Dev\",\"Trainee - Dev\",\"Trainee - Dev\",\"Trainee - Dev\",\"Trainee - Dev\",\"Trainee - Dev\",\"Trainee - Dev\",\"Trainee - Dev\",\"Trainee - Dev\",\"Trainee - Dev\",\"Trainee - Dev\",\"Dev Pl\",\"Dev Jr\",\"Dev Jr\",\"Dev Jr\",\"Gerente\",\"Arquiteto Sr\",\"Dev Pl\"],\"yaxis\":\"y\",\"type\":\"scatter\"},{\"customdata\":[[4]],\"hovertemplate\":\"Area=BPM<br>Tempo de casa=%{x}<br>Cargo=%{y}<br>Tipo Saida=%{customdata[0]}<extra></extra>\",\"legendgroup\":\"BPM\",\"marker\":{\"color\":\"#EF553B\",\"symbol\":\"circle\"},\"mode\":\"markers\",\"name\":\"BPM\",\"orientation\":\"h\",\"showlegend\":true,\"x\":[null],\"xaxis\":\"x\",\"y\":[\"Gerente\"],\"yaxis\":\"y\",\"type\":\"scatter\"},{\"customdata\":[[4]],\"hovertemplate\":\"Area=Diretoria<br>Tempo de casa=%{x}<br>Cargo=%{y}<br>Tipo Saida=%{customdata[0]}<extra></extra>\",\"legendgroup\":\"Diretoria\",\"marker\":{\"color\":\"#00cc96\",\"symbol\":\"circle\"},\"mode\":\"markers\",\"name\":\"Diretoria\",\"orientation\":\"h\",\"showlegend\":true,\"x\":[null],\"xaxis\":\"x\",\"y\":[\"Assistente II\"],\"yaxis\":\"y\",\"type\":\"scatter\"},{\"customdata\":[[4],[4],[4]],\"hovertemplate\":\"Area=Financeiro<br>Tempo de casa=%{x}<br>Cargo=%{y}<br>Tipo Saida=%{customdata[0]}<extra></extra>\",\"legendgroup\":\"Financeiro\",\"marker\":{\"color\":\"#ab63fa\",\"symbol\":\"circle\"},\"mode\":\"markers\",\"name\":\"Financeiro\",\"orientation\":\"h\",\"showlegend\":true,\"x\":[null,null,null],\"xaxis\":\"x\",\"y\":[\"Auxiliar de Limpeza\",\"Gerente\",\"Financeiro Jr\"],\"yaxis\":\"y\",\"type\":\"scatter\"},{\"customdata\":[[4],[4],[4],[4],[4],[4],[4],[4],[4],[3],[4]],\"hovertemplate\":\"Area=Integration<br>Tempo de casa=%{x}<br>Cargo=%{y}<br>Tipo Saida=%{customdata[0]}<extra></extra>\",\"legendgroup\":\"Integration\",\"marker\":{\"color\":\"#FFA15A\",\"symbol\":\"circle\"},\"mode\":\"markers\",\"name\":\"Integration\",\"orientation\":\"h\",\"showlegend\":true,\"x\":[null,null,null,null,null,null,null,null,null,7.0,null],\"xaxis\":\"x\",\"y\":[\"Diretor\",\"Dev Pl\",\"Arquiteto\",\"Arquiteto\",\"Trainee - Dev\",\"Trainee - Dev\",\"Dev Jr\",\"Dev Jr\",\"Dev Jr\",\"Dev Jr\",\"Dev Jr\"],\"yaxis\":\"y\",\"type\":\"scatter\"},{\"customdata\":[[4],[4],[4],[4],[4],[4],[4],[4],[4]],\"hovertemplate\":\"Area=People<br>Tempo de casa=%{x}<br>Cargo=%{y}<br>Tipo Saida=%{customdata[0]}<extra></extra>\",\"legendgroup\":\"People\",\"marker\":{\"color\":\"#19d3f3\",\"symbol\":\"circle\"},\"mode\":\"markers\",\"name\":\"People\",\"orientation\":\"h\",\"showlegend\":true,\"x\":[null,null,null,null,null,null,null,null,null],\"xaxis\":\"x\",\"y\":[\"Pessoas Pl\",\"Pessoas Pl\",\"Pessoas Pl\",\"Diretor\",\"Pessoas Pl\",\"Estagiaria\",\"Pessoas Pl\",\"Estagiaria\",\"Estagiaria\"],\"yaxis\":\"y\",\"type\":\"scatter\"},{\"customdata\":[[4],[4],[4],[4],[4],[4],[4],[4]],\"hovertemplate\":\"Area=Agencia Digital<br>Tempo de casa=%{x}<br>Cargo=%{y}<br>Tipo Saida=%{customdata[0]}<extra></extra>\",\"legendgroup\":\"Agencia Digital\",\"marker\":{\"color\":\"#FF6692\",\"symbol\":\"circle\"},\"mode\":\"markers\",\"name\":\"Agencia Digital\",\"orientation\":\"h\",\"showlegend\":true,\"x\":[null,null,null,null,null,null,null,null],\"xaxis\":\"x\",\"y\":[\"Gerente\",\"Funcional Sr\",\"Marketing PL\",\"Trainee - Dev\",\"Marketing PL\",\"Dev Jr\",\"Funcional Pl\",\"Trainee - Dev\"],\"yaxis\":\"y\",\"type\":\"scatter\"},{\"customdata\":[[3],[3]],\"hovertemplate\":\"Area=Best Minds<br>Tempo de casa=%{x}<br>Cargo=%{y}<br>Tipo Saida=%{customdata[0]}<extra></extra>\",\"legendgroup\":\"Best Minds\",\"marker\":{\"color\":\"#B6E880\",\"symbol\":\"circle\"},\"mode\":\"markers\",\"name\":\"Best Minds\",\"orientation\":\"h\",\"showlegend\":true,\"x\":[77.0,1.0],\"xaxis\":\"x\",\"y\":[\"Trainee - Dev\",\"Trainee - Dev\"],\"yaxis\":\"y\",\"type\":\"scatter\"},{\"customdata\":[[4]],\"hovertemplate\":\"Area=Infraestrutura<br>Tempo de casa=%{x}<br>Cargo=%{y}<br>Tipo Saida=%{customdata[0]}<extra></extra>\",\"legendgroup\":\"Infraestrutura\",\"marker\":{\"color\":\"#FF97FF\",\"symbol\":\"circle\"},\"mode\":\"markers\",\"name\":\"Infraestrutura\",\"orientation\":\"h\",\"showlegend\":true,\"x\":[null],\"xaxis\":\"x\",\"y\":[\"Infraestrutura Jr\"],\"yaxis\":\"y\",\"type\":\"scatter\"}],                        {\"template\":{\"data\":{\"bar\":[{\"error_x\":{\"color\":\"#2a3f5f\"},\"error_y\":{\"color\":\"#2a3f5f\"},\"marker\":{\"line\":{\"color\":\"#E5ECF6\",\"width\":0.5},\"pattern\":{\"fillmode\":\"overlay\",\"size\":10,\"solidity\":0.2}},\"type\":\"bar\"}],\"barpolar\":[{\"marker\":{\"line\":{\"color\":\"#E5ECF6\",\"width\":0.5},\"pattern\":{\"fillmode\":\"overlay\",\"size\":10,\"solidity\":0.2}},\"type\":\"barpolar\"}],\"carpet\":[{\"aaxis\":{\"endlinecolor\":\"#2a3f5f\",\"gridcolor\":\"white\",\"linecolor\":\"white\",\"minorgridcolor\":\"white\",\"startlinecolor\":\"#2a3f5f\"},\"baxis\":{\"endlinecolor\":\"#2a3f5f\",\"gridcolor\":\"white\",\"linecolor\":\"white\",\"minorgridcolor\":\"white\",\"startlinecolor\":\"#2a3f5f\"},\"type\":\"carpet\"}],\"choropleth\":[{\"colorbar\":{\"outlinewidth\":0,\"ticks\":\"\"},\"type\":\"choropleth\"}],\"contour\":[{\"colorbar\":{\"outlinewidth\":0,\"ticks\":\"\"},\"colorscale\":[[0.0,\"#0d0887\"],[0.1111111111111111,\"#46039f\"],[0.2222222222222222,\"#7201a8\"],[0.3333333333333333,\"#9c179e\"],[0.4444444444444444,\"#bd3786\"],[0.5555555555555556,\"#d8576b\"],[0.6666666666666666,\"#ed7953\"],[0.7777777777777778,\"#fb9f3a\"],[0.8888888888888888,\"#fdca26\"],[1.0,\"#f0f921\"]],\"type\":\"contour\"}],\"contourcarpet\":[{\"colorbar\":{\"outlinewidth\":0,\"ticks\":\"\"},\"type\":\"contourcarpet\"}],\"heatmap\":[{\"colorbar\":{\"outlinewidth\":0,\"ticks\":\"\"},\"colorscale\":[[0.0,\"#0d0887\"],[0.1111111111111111,\"#46039f\"],[0.2222222222222222,\"#7201a8\"],[0.3333333333333333,\"#9c179e\"],[0.4444444444444444,\"#bd3786\"],[0.5555555555555556,\"#d8576b\"],[0.6666666666666666,\"#ed7953\"],[0.7777777777777778,\"#fb9f3a\"],[0.8888888888888888,\"#fdca26\"],[1.0,\"#f0f921\"]],\"type\":\"heatmap\"}],\"heatmapgl\":[{\"colorbar\":{\"outlinewidth\":0,\"ticks\":\"\"},\"colorscale\":[[0.0,\"#0d0887\"],[0.1111111111111111,\"#46039f\"],[0.2222222222222222,\"#7201a8\"],[0.3333333333333333,\"#9c179e\"],[0.4444444444444444,\"#bd3786\"],[0.5555555555555556,\"#d8576b\"],[0.6666666666666666,\"#ed7953\"],[0.7777777777777778,\"#fb9f3a\"],[0.8888888888888888,\"#fdca26\"],[1.0,\"#f0f921\"]],\"type\":\"heatmapgl\"}],\"histogram\":[{\"marker\":{\"pattern\":{\"fillmode\":\"overlay\",\"size\":10,\"solidity\":0.2}},\"type\":\"histogram\"}],\"histogram2d\":[{\"colorbar\":{\"outlinewidth\":0,\"ticks\":\"\"},\"colorscale\":[[0.0,\"#0d0887\"],[0.1111111111111111,\"#46039f\"],[0.2222222222222222,\"#7201a8\"],[0.3333333333333333,\"#9c179e\"],[0.4444444444444444,\"#bd3786\"],[0.5555555555555556,\"#d8576b\"],[0.6666666666666666,\"#ed7953\"],[0.7777777777777778,\"#fb9f3a\"],[0.8888888888888888,\"#fdca26\"],[1.0,\"#f0f921\"]],\"type\":\"histogram2d\"}],\"histogram2dcontour\":[{\"colorbar\":{\"outlinewidth\":0,\"ticks\":\"\"},\"colorscale\":[[0.0,\"#0d0887\"],[0.1111111111111111,\"#46039f\"],[0.2222222222222222,\"#7201a8\"],[0.3333333333333333,\"#9c179e\"],[0.4444444444444444,\"#bd3786\"],[0.5555555555555556,\"#d8576b\"],[0.6666666666666666,\"#ed7953\"],[0.7777777777777778,\"#fb9f3a\"],[0.8888888888888888,\"#fdca26\"],[1.0,\"#f0f921\"]],\"type\":\"histogram2dcontour\"}],\"mesh3d\":[{\"colorbar\":{\"outlinewidth\":0,\"ticks\":\"\"},\"type\":\"mesh3d\"}],\"parcoords\":[{\"line\":{\"colorbar\":{\"outlinewidth\":0,\"ticks\":\"\"}},\"type\":\"parcoords\"}],\"pie\":[{\"automargin\":true,\"type\":\"pie\"}],\"scatter\":[{\"marker\":{\"colorbar\":{\"outlinewidth\":0,\"ticks\":\"\"}},\"type\":\"scatter\"}],\"scatter3d\":[{\"line\":{\"colorbar\":{\"outlinewidth\":0,\"ticks\":\"\"}},\"marker\":{\"colorbar\":{\"outlinewidth\":0,\"ticks\":\"\"}},\"type\":\"scatter3d\"}],\"scattercarpet\":[{\"marker\":{\"colorbar\":{\"outlinewidth\":0,\"ticks\":\"\"}},\"type\":\"scattercarpet\"}],\"scattergeo\":[{\"marker\":{\"colorbar\":{\"outlinewidth\":0,\"ticks\":\"\"}},\"type\":\"scattergeo\"}],\"scattergl\":[{\"marker\":{\"colorbar\":{\"outlinewidth\":0,\"ticks\":\"\"}},\"type\":\"scattergl\"}],\"scattermapbox\":[{\"marker\":{\"colorbar\":{\"outlinewidth\":0,\"ticks\":\"\"}},\"type\":\"scattermapbox\"}],\"scatterpolar\":[{\"marker\":{\"colorbar\":{\"outlinewidth\":0,\"ticks\":\"\"}},\"type\":\"scatterpolar\"}],\"scatterpolargl\":[{\"marker\":{\"colorbar\":{\"outlinewidth\":0,\"ticks\":\"\"}},\"type\":\"scatterpolargl\"}],\"scatterternary\":[{\"marker\":{\"colorbar\":{\"outlinewidth\":0,\"ticks\":\"\"}},\"type\":\"scatterternary\"}],\"surface\":[{\"colorbar\":{\"outlinewidth\":0,\"ticks\":\"\"},\"colorscale\":[[0.0,\"#0d0887\"],[0.1111111111111111,\"#46039f\"],[0.2222222222222222,\"#7201a8\"],[0.3333333333333333,\"#9c179e\"],[0.4444444444444444,\"#bd3786\"],[0.5555555555555556,\"#d8576b\"],[0.6666666666666666,\"#ed7953\"],[0.7777777777777778,\"#fb9f3a\"],[0.8888888888888888,\"#fdca26\"],[1.0,\"#f0f921\"]],\"type\":\"surface\"}],\"table\":[{\"cells\":{\"fill\":{\"color\":\"#EBF0F8\"},\"line\":{\"color\":\"white\"}},\"header\":{\"fill\":{\"color\":\"#C8D4E3\"},\"line\":{\"color\":\"white\"}},\"type\":\"table\"}]},\"layout\":{\"annotationdefaults\":{\"arrowcolor\":\"#2a3f5f\",\"arrowhead\":0,\"arrowwidth\":1},\"autotypenumbers\":\"strict\",\"coloraxis\":{\"colorbar\":{\"outlinewidth\":0,\"ticks\":\"\"}},\"colorscale\":{\"diverging\":[[0,\"#8e0152\"],[0.1,\"#c51b7d\"],[0.2,\"#de77ae\"],[0.3,\"#f1b6da\"],[0.4,\"#fde0ef\"],[0.5,\"#f7f7f7\"],[0.6,\"#e6f5d0\"],[0.7,\"#b8e186\"],[0.8,\"#7fbc41\"],[0.9,\"#4d9221\"],[1,\"#276419\"]],\"sequential\":[[0.0,\"#0d0887\"],[0.1111111111111111,\"#46039f\"],[0.2222222222222222,\"#7201a8\"],[0.3333333333333333,\"#9c179e\"],[0.4444444444444444,\"#bd3786\"],[0.5555555555555556,\"#d8576b\"],[0.6666666666666666,\"#ed7953\"],[0.7777777777777778,\"#fb9f3a\"],[0.8888888888888888,\"#fdca26\"],[1.0,\"#f0f921\"]],\"sequentialminus\":[[0.0,\"#0d0887\"],[0.1111111111111111,\"#46039f\"],[0.2222222222222222,\"#7201a8\"],[0.3333333333333333,\"#9c179e\"],[0.4444444444444444,\"#bd3786\"],[0.5555555555555556,\"#d8576b\"],[0.6666666666666666,\"#ed7953\"],[0.7777777777777778,\"#fb9f3a\"],[0.8888888888888888,\"#fdca26\"],[1.0,\"#f0f921\"]]},\"colorway\":[\"#636efa\",\"#EF553B\",\"#00cc96\",\"#ab63fa\",\"#FFA15A\",\"#19d3f3\",\"#FF6692\",\"#B6E880\",\"#FF97FF\",\"#FECB52\"],\"font\":{\"color\":\"#2a3f5f\"},\"geo\":{\"bgcolor\":\"white\",\"lakecolor\":\"white\",\"landcolor\":\"#E5ECF6\",\"showlakes\":true,\"showland\":true,\"subunitcolor\":\"white\"},\"hoverlabel\":{\"align\":\"left\"},\"hovermode\":\"closest\",\"mapbox\":{\"style\":\"light\"},\"paper_bgcolor\":\"white\",\"plot_bgcolor\":\"#E5ECF6\",\"polar\":{\"angularaxis\":{\"gridcolor\":\"white\",\"linecolor\":\"white\",\"ticks\":\"\"},\"bgcolor\":\"#E5ECF6\",\"radialaxis\":{\"gridcolor\":\"white\",\"linecolor\":\"white\",\"ticks\":\"\"}},\"scene\":{\"xaxis\":{\"backgroundcolor\":\"#E5ECF6\",\"gridcolor\":\"white\",\"gridwidth\":2,\"linecolor\":\"white\",\"showbackground\":true,\"ticks\":\"\",\"zerolinecolor\":\"white\"},\"yaxis\":{\"backgroundcolor\":\"#E5ECF6\",\"gridcolor\":\"white\",\"gridwidth\":2,\"linecolor\":\"white\",\"showbackground\":true,\"ticks\":\"\",\"zerolinecolor\":\"white\"},\"zaxis\":{\"backgroundcolor\":\"#E5ECF6\",\"gridcolor\":\"white\",\"gridwidth\":2,\"linecolor\":\"white\",\"showbackground\":true,\"ticks\":\"\",\"zerolinecolor\":\"white\"}},\"shapedefaults\":{\"line\":{\"color\":\"#2a3f5f\"}},\"ternary\":{\"aaxis\":{\"gridcolor\":\"white\",\"linecolor\":\"white\",\"ticks\":\"\"},\"baxis\":{\"gridcolor\":\"white\",\"linecolor\":\"white\",\"ticks\":\"\"},\"bgcolor\":\"#E5ECF6\",\"caxis\":{\"gridcolor\":\"white\",\"linecolor\":\"white\",\"ticks\":\"\"}},\"title\":{\"x\":0.05},\"xaxis\":{\"automargin\":true,\"gridcolor\":\"white\",\"linecolor\":\"white\",\"ticks\":\"\",\"title\":{\"standoff\":15},\"zerolinecolor\":\"white\",\"zerolinewidth\":2},\"yaxis\":{\"automargin\":true,\"gridcolor\":\"white\",\"linecolor\":\"white\",\"ticks\":\"\",\"title\":{\"standoff\":15},\"zerolinecolor\":\"white\",\"zerolinewidth\":2}}},\"xaxis\":{\"anchor\":\"y\",\"domain\":[0.0,1.0],\"title\":{\"text\":\"Tempo de casa\"}},\"yaxis\":{\"anchor\":\"x\",\"domain\":[0.0,1.0],\"title\":{\"text\":\"Cargo\"}},\"legend\":{\"title\":{\"text\":\"Area\"},\"tracegroupgap\":0},\"margin\":{\"t\":60}},                        {\"responsive\": true}                    ).then(function(){\n",
              "                            \n",
              "var gd = document.getElementById('36eaf94c-b05a-41a3-9911-4cb91ea72b67');\n",
              "var x = new MutationObserver(function (mutations, observer) {{\n",
              "        var display = window.getComputedStyle(gd).display;\n",
              "        if (!display || display === 'none') {{\n",
              "            console.log([gd, 'removed!']);\n",
              "            Plotly.purge(gd);\n",
              "            observer.disconnect();\n",
              "        }}\n",
              "}});\n",
              "\n",
              "// Listen for the removal of the full notebook cells\n",
              "var notebookContainer = gd.closest('#notebook-container');\n",
              "if (notebookContainer) {{\n",
              "    x.observe(notebookContainer, {childList: true});\n",
              "}}\n",
              "\n",
              "// Listen for the clearing of the current output cell\n",
              "var outputEl = gd.closest('.output');\n",
              "if (outputEl) {{\n",
              "    x.observe(outputEl, {childList: true});\n",
              "}}\n",
              "\n",
              "                        })                };                            </script>        </div>\n",
              "</body>\n",
              "</html>"
            ]
          },
          "metadata": {},
          "output_type": "display_data"
        }
      ],
      "source": [
        "fig1 = px.scatter(base,x='Tempo de casa',y='Cargo', color='Area', hover_data = ['Tipo Saida'])\n",
        "fig1.show()"
      ]
    },
    {
      "cell_type": "code",
      "execution_count": 16,
      "metadata": {
        "colab": {
          "base_uri": "https://localhost:8080/",
          "height": 542
        },
        "id": "g-MwtKwsxZuQ",
        "outputId": "1128f6b8-9c9c-46b5-f4ca-2e066e3bbe9f"
      },
      "outputs": [
        {
          "data": {
            "text/html": [
              "<html>\n",
              "<head><meta charset=\"utf-8\" /></head>\n",
              "<body>\n",
              "    <div>            <script src=\"https://cdnjs.cloudflare.com/ajax/libs/mathjax/2.7.5/MathJax.js?config=TeX-AMS-MML_SVG\"></script><script type=\"text/javascript\">if (window.MathJax) {MathJax.Hub.Config({SVG: {font: \"STIX-Web\"}});}</script>                <script type=\"text/javascript\">window.PlotlyConfig = {MathJaxConfig: 'local'};</script>\n",
              "        <script src=\"https://cdn.plot.ly/plotly-2.8.3.min.js\"></script>                <div id=\"cb5483c9-f4ca-4a5e-937e-a2ec7605781a\" class=\"plotly-graph-div\" style=\"height:525px; width:100%;\"></div>            <script type=\"text/javascript\">                                    window.PLOTLYENV=window.PLOTLYENV || {};                                    if (document.getElementById(\"cb5483c9-f4ca-4a5e-937e-a2ec7605781a\")) {                    Plotly.newPlot(                        \"cb5483c9-f4ca-4a5e-937e-a2ec7605781a\",                        [{\"hovertemplate\":\"Area=%{x}<br>Tipo Saida=%{y}<br>Tempo de casa=%{marker.color}<extra></extra>\",\"legendgroup\":\"\",\"marker\":{\"color\":[null,null,null,2250.0,1635.0,2167.0,1649.0,1425.0,1341.0,1334.0,4594.0,null,863.0,null,1375.0,null,1024.0,1389.0,1528.0,null,1866.0,null,1003.0,669.0,857.0,1347.0,997.0,1207.0,null,null,802.0,1082.0,null,null,820.0,1081.0,743.0,414.0,null,616.0,null,null,304.0,669.0,588.0,704.0,872.0,null,null,494.0,null,367.0,954.0,445.0,null,null,2573.0,2416.0,null,952.0,null,141.0,284.0,186.0,325.0,333.0,767.0,155.0,703.0,null,null,652.0,438.0,null,654.0,697.0,758.0,330.0,null,788.0,368.0,null,null,484.0,191.0,466.0,191.0,null,null,191.0,null,null,330.0,676.0,330.0,null,851.0,175.0,448.0,null,387.0,499.0,null,156.0,723.0,441.0,296.0,214.0,null,29.0,null,null,null,210.0,null,37.0,82.0,163.0,568.0,175.0,394.0,662.0,88.0,466.0,403.0,null,42.0,219.0,39.0,null,171.0,424.0,null,674.0,262.0,272.0,null,202.0,304.0,16.0,243.0,494.0,null,83.0,417.0,null,226.0,74.0,254.0,262.0,182.0,49.0,112.0,45.0,null,207.0,172.0,256.0,null,4.0,151.0,79.0,null,null,null,466.0,492.0,333.0,165.0,null,44.0,298.0,77.0,74.0,null,303.0,309.0,null,431.0,77.0,null,null,305.0,340.0,null,null,382.0,null,197.0,null,null,333.0,null,null,null,413.0,438.0,null,null,429.0,null,null,null,312.0,null,101.0,105.0,null,null,123.0,249.0,114.0,165.0,null,87.0,261.0,null,null,null,null,null,227.0,127.0,null,null,null,null,null,null,null,301.0,137.0,137.0,357.0,null,null,148.0,null,null,null,158.0,null,252.0,null,null,null,296.0,46.0,228.0,null,234.0,null,null,null,44.0,118.0,184.0,null,161.0,242.0,null,null,null,null,null,null,null,172.0,null,197.0,257.0,254.0,64.0,null,null,null,180.0,null,135.0,null,null,null,93.0,null,249.0,249.0,185.0,234.0,248.0,null,null,null,121.0,null,null,null,null,null,205.0,null,null,null,null,null,null,null,null,null,null,null,null,null,null,null,null,null,null,null,null,null,null,null,null,null,null,null,null,151.0,null,null,151.0,null,null,null,null,null,null,null,null,null,41.0,null,30.0,null,null,null,null,null,null,77.0,null,null,1.0,null,null,null,null,121.0,null,16.0,null,null,null,null,null,null,null,null,null,null,null,null,null,null,null,null,null,null,null,null,null,null,null,null,null,null,null,null,null,null,null,null,null,null,null,null,null,51.0,77.0,60.0,null,null,null,null,null,null,null,null,null,35.0,null,null,null,null,null,null,null,null,30.0,null,null,null,null,null,null,null,null,null,null,null,null,null,null,7.0,null,null,null,null,null,null,null,null,null,null,null,null,null,null,null,null,null,null,null,null,null,null,null,null,null,null,null,null,null,null,null,null,null,null,null,null,7.0,null,null,null,null],\"coloraxis\":\"coloraxis\",\"symbol\":\"circle\"},\"mode\":\"markers\",\"name\":\"\",\"orientation\":\"v\",\"showlegend\":false,\"x\":[\"CPG & Retail\",\"CPG & Retail\",\"Education\",\"Core & Industrias\",\"CPG & Retail\",\"Core & Industrias\",\"Core & Industrias\",\"CPG & Retail\",\"Core & Industrias\",\"Core & Industrias\",\"AMS\",\"Core & Industrias\",\"Core & Industrias\",\"Mkt Cloud\",\"CPG & Retail\",\"Core & Industrias\",\"Core & Industrias\",\"Core & Industrias\",\"Mkt Cloud\",\"Core & Industrias\",\"BAC\",\"CPG & Retail\",\"CPG & Retail\",\"Core & Industrias\",\"CPG & Retail\",\"PS\",\"Produtos\",\"Core & Industrias\",\"CPG & Retail\",\"Core & Industrias\",\"Core & Industrias\",\"Core & Industrias\",\"CPG & Retail\",\"AMS\",\"CPG & Retail\",\"Core & Industrias\",\"AMS\",\"Core & Industrias\",\"Core & Industrias\",\"AMS\",\"Core & Industrias\",\"Core & Industrias\",\"Vendas\",\"Core & Industrias\",\"Core & Industrias\",\"Core & Industrias\",\"CPG & Retail\",\"AMS\",\"Core & Industrias\",\"Core & Industrias\",\"Core & Industrias\",\"CPG & Retail\",\"Core & Industrias\",\"CPG & Retail\",\"Core & Industrias\",\"Core & Industrias\",\"Analytics\",\"Analytics\",\"AMS\",\"Core & Industrias\",\"CPG & Retail\",\"Core & Industrias\",\"Core & Industrias\",\"CPG & Retail\",\"CPG & Retail\",\"Produtos\",\"Core & Industrias\",\"Core & Industrias\",\"Core & Industrias\",\"Vendas\",\"CPG & Retail\",\"Core & Industrias\",\"AMS\",\"Core & Industrias\",\"Core & Industrias\",\"Commerce\",\"Core & Industrias\",\"Core & Industrias\",\"Core & Industrias\",\"PS\",\"Core & Industrias\",\"AMS\",\"Mkt Cloud\",\"AMS\",\"Core & Industrias\",\"CPG & Retail\",\"CPG & Retail\",\"Core & Industrias\",\"CPG & Retail\",\"Core & Industrias\",\"Core & Industrias\",\"CPG & Retail\",\"Core & Industrias\",\"Core & Industrias\",\"AMS\",\"Commerce\",\"Core & Industrias\",\"CPG & Retail\",\"Core & Industrias\",\"BPM\",\"Core & Industrias\",\"Core & Industrias\",\"Diretoria\",\"AMS\",\"Core & Industrias\",\"Core & Industrias\",\"Produtos\",\"Produtos\",\"Core & Industrias\",\"Produtos\",\"Core & Industrias\",\"CPG & Retail\",\"Core & Industrias\",\"Core & Industrias\",\"Core & Industrias\",\"Core & Industrias\",\"Core & Industrias\",\"Core & Industrias\",\"Core & Industrias\",\"CPG & Retail\",\"Core & Industrias\",\"Vendas\",\"Produtos\",\"Core & Industrias\",\"Core & Industrias\",\"Core & Industrias\",\"Core & Industrias\",\"CPG & Retail\",\"CPG & Retail\",\"CPG & Retail\",\"Produtos\",\"Core & Industrias\",\"Analytics\",\"Core & Industrias\",\"Produtos\",\"CPG & Retail\",\"Core & Industrias\",\"Produtos\",\"AMS\",\"AMS\",\"Vendas\",\"Core & Industrias\",\"AMS\",\"Core & Industrias\",\"Core & Industrias\",\"Core & Industrias\",\"Core & Industrias\",\"Core & Industrias\",\"Core & Industrias\",\"Core & Industrias\",\"Core & Industrias\",\"Core & Industrias\",\"Core & Industrias\",\"Produtos\",\"Core & Industrias\",\"AMS\",\"Core & Industrias\",\"Vendas\",\"Core & Industrias\",\"Analytics\",\"Core & Industrias\",\"Produtos\",\"Core & Industrias\",\"Core & Industrias\",\"PS\",\"Core & Industrias\",\"Core & Industrias\",\"Core & Industrias\",\"Core & Industrias\",\"CPG & Retail\",\"Core & Industrias\",\"CPG & Retail\",\"Produtos\",\"Core & Industrias\",\"Core & Industrias\",\"PS\",\"PS\",\"Core & Industrias\",\"Core & Industrias\",\"CPG & Retail\",\"Core & Industrias\",\"Core & Industrias\",\"Core & Industrias\",\"PS\",\"Core & Industrias\",\"CPG & Retail\",\"Core & Industrias\",\"AMS\",\"Mkt Cloud\",\"AMS\",\"Core & Industrias\",\"Analytics\",\"CPG & Retail\",\"CPG & Retail\",\"Mkt Cloud\",\"CPG & Retail\",\"Core & Industrias\",\"CPG & Retail\",\"Analytics\",\"Core & Industrias\",\"Core & Industrias\",\"CPG & Retail\",\"AMS\",\"Core & Industrias\",\"CPG & Retail\",\"Core & Industrias\",\"Core & Industrias\",\"Core & Industrias\",\"AMS\",\"Core & Industrias\",\"Core & Industrias\",\"Produtos\",\"Analytics\",\"CPG & Retail\",\"Core & Industrias\",\"Core & Industrias\",\"Core & Industrias\",\"PS\",\"Core & Industrias\",\"Core & Industrias\",\"Core & Industrias\",\"Core & Industrias\",\"Core & Industrias\",\"Vendas\",\"Vendas\",\"Vendas\",\"CPG & Retail\",\"AMS\",\"Core & Industrias\",\"AMS\",\"Core & Industrias\",\"Core & Industrias\",\"Core & Industrias\",\"Core & Industrias\",\"Core & Industrias\",\"CPG & Retail\",\"Core & Industrias\",\"Core & Industrias\",\"Financeiro\",\"Financeiro\",\"CPG & Retail\",\"Core & Industrias\",\"AMS\",\"Core & Industrias\",\"Core & Industrias\",\"Core & Industrias\",\"CPG & Retail\",\"Core & Industrias\",\"PS\",\"Core & Industrias\",\"Commerce\",\"Core & Industrias\",\"CPG & Retail\",\"Core & Industrias\",\"Core & Industrias\",\"AMS\",\"Core & Industrias\",\"Core & Industrias\",\"Core & Industrias\",\"Core & Industrias\",\"AMS\",\"Commerce\",\"Integration\",\"Core & Industrias\",\"Core & Industrias\",\"Vendas\",\"CPG & Retail\",\"Vendas\",\"Core & Industrias\",\"Core & Industrias\",\"Core & Industrias\",\"Core & Industrias\",\"Core & Industrias\",\"Core & Industrias\",\"Core & Industrias\",\"Core & Industrias\",\"CPG & Retail\",\"Core & Industrias\",\"Vendas\",\"Core & Industrias\",\"Commerce\",\"Core & Industrias\",\"CPG & Retail\",\"Commerce\",\"Commerce\",\"Commerce\",\"AMS\",\"AMS\",\"Analytics\",\"People\",\"Integration\",\"People\",\"Analytics\",\"Commerce\",\"Analytics\",\"Commerce\",\"CPG & Retail\",\"CPG & Retail\",\"Analytics\",\"Commerce\",\"Financeiro\",\"People\",\"People\",\"CPG & Retail\",\"People\",\"PS\",\"Core & Industrias\",\"PS\",\"AMS\",\"Analytics\",\"PS\",\"Agencia Digital\",\"AMS\",\"Vendas\",\"Commerce\",\"Core & Industrias\",\"Core & Industrias\",\"Education\",\"Commerce\",\"Core & Industrias\",\"Agencia Digital\",\"PS\",\"Commerce\",\"Commerce\",\"Commerce\",\"Core & Industrias\",\"Core & Industrias\",\"Core & Industrias\",\"Commerce\",\"Commerce\",\"Commerce\",\"Commerce\",\"Core & Industrias\",\"Commerce\",\"Core & Industrias\",\"Core & Industrias\",\"Commerce\",\"Commerce\",\"Agencia Digital\",\"Commerce\",\"Core & Industrias\",\"Core & Industrias\",\"Vendas\",\"CPG & Retail\",\"PS\",\"PS\",\"Core & Industrias\",\"CPG & Retail\",\"Core & Industrias\",\"Best Minds\",\"CPG & Retail\",\"Core & Industrias\",\"Best Minds\",\"Core & Industrias\",\"Mkt Cloud\",\"CPG & Retail\",\"Core & Industrias\",\"CPG & Retail\",\"Core & Industrias\",\"Core & Industrias\",\"Core & Industrias\",\"Agencia Digital\",\"Analytics\",\"CPG & Retail\",\"Core & Industrias\",\"CPG & Retail\",\"Core & Industrias\",\"CPG & Retail\",\"Core & Industrias\",\"AMS\",\"Core & Industrias\",\"Agencia Digital\",\"Core & Industrias\",\"Core & Industrias\",\"CPG & Retail\",\"CPG & Retail\",\"Integration\",\"Core & Industrias\",\"Analytics\",\"AMS\",\"Analytics\",\"Mkt Cloud\",\"Vendas\",\"Core & Industrias\",\"Analytics\",\"AMS\",\"AMS\",\"Commerce\",\"Core & Industrias\",\"Mkt Cloud\",\"Core & Industrias\",\"PS\",\"Commerce\",\"Mkt Cloud\",\"Agencia Digital\",\"Core & Industrias\",\"Core & Industrias\",\"AMS\",\"Vendas\",\"Mkt Cloud\",\"CPG & Retail\",\"PS\",\"Mkt Cloud\",\"Infraestrutura\",\"Mkt Cloud\",\"Commerce\",\"Core & Industrias\",\"Core & Industrias\",\"PS\",\"CPG & Retail\",\"Analytics\",\"Core & Industrias\",\"Commerce\",\"People\",\"Vendas\",\"Core & Industrias\",\"PS\",\"CPG & Retail\",\"Commerce\",\"Analytics\",\"CPG & Retail\",\"CPG & Retail\",\"Agencia Digital\",\"CPG & Retail\",\"Vendas\",\"Vendas\",\"CPG & Retail\",\"CPG & Retail\",\"People\",\"CPG & Retail\",\"Education\",\"People\",\"People\",\"Core & Industrias\",\"Core & Industrias\",\"Mkt Cloud\",\"Integration\",\"CPG & Retail\",\"AMS\",\"Analytics\",\"Analytics\",\"CPG & Retail\",\"CPG & Retail\",\"Core & Industrias\",\"CPG & Retail\",\"CPG & Retail\",\"CPG & Retail\",\"Agencia Digital\",\"CPG & Retail\",\"Core & Industrias\",\"Integration\",\"Core & Industrias\",\"Core & Industrias\",\"Analytics\",\"CPG & Retail\",\"CPG & Retail\",\"Core & Industrias\",\"Core & Industrias\",\"Core & Industrias\",\"Integration\",\"Core & Industrias\",\"AMS\",\"CPG & Retail\",\"Core & Industrias\",\"PS\",\"AMS\",\"Integration\",\"Integration\",\"Integration\",\"CPG & Retail\",\"Integration\",\"Mkt Cloud\",\"Integration\",\"Commerce\",\"Analytics\"],\"xaxis\":\"x\",\"y\":[4,4,4,1,1,1,1,1,1,0,1,4,1,4,1,4,1,1,1,4,1,4,1,1,1,1,1,1,4,4,1,0,4,4,1,1,1,1,4,1,4,4,1,1,0,1,1,4,4,1,4,0,1,1,4,4,1,1,4,1,4,1,1,1,1,1,1,0,1,4,4,1,1,4,1,1,1,0,4,1,1,4,4,0,0,1,0,4,4,0,4,4,0,1,0,4,1,1,0,4,0,1,4,0,1,1,1,1,4,3,4,4,4,0,4,3,3,1,0,1,1,1,3,1,1,4,2,1,3,4,0,1,4,0,1,1,4,1,0,3,1,1,4,3,1,4,1,3,1,1,0,2,1,3,4,1,1,1,4,3,1,3,4,4,4,1,1,1,1,4,2,1,2,3,4,1,1,4,1,3,4,4,1,1,4,4,1,4,1,4,4,1,4,4,4,0,1,4,4,1,4,4,4,1,4,1,1,4,4,1,0,0,1,4,3,1,4,4,4,4,4,1,0,4,4,4,4,4,4,4,1,1,1,1,4,4,1,4,4,4,1,4,1,4,4,4,0,3,0,4,1,4,4,4,2,1,1,4,1,1,4,4,4,4,4,4,4,1,4,1,1,1,3,4,4,4,1,4,1,4,4,4,1,4,0,0,0,1,0,4,4,4,1,4,4,4,4,4,1,4,4,4,4,4,4,4,4,4,4,4,4,4,4,4,4,4,4,4,4,4,4,4,4,4,4,4,4,0,4,4,0,4,4,4,4,4,4,4,4,4,2,4,3,4,4,4,4,4,4,3,4,4,3,4,4,4,4,1,4,2,4,4,4,4,4,4,4,4,4,4,4,4,4,4,4,4,4,4,4,4,4,4,4,4,4,4,4,4,4,4,4,4,4,4,4,4,4,3,2,3,4,4,4,4,4,4,4,4,4,3,4,4,4,4,4,4,4,4,3,4,4,4,4,4,4,4,4,4,4,4,4,4,4,3,4,4,4,4,4,4,4,4,4,4,4,4,4,4,4,4,4,4,4,4,4,4,4,4,4,4,4,4,4,4,4,4,4,4,4,4,3,4,4,4,4],\"yaxis\":\"y\",\"type\":\"scatter\"}],                        {\"template\":{\"data\":{\"bar\":[{\"error_x\":{\"color\":\"#2a3f5f\"},\"error_y\":{\"color\":\"#2a3f5f\"},\"marker\":{\"line\":{\"color\":\"#E5ECF6\",\"width\":0.5},\"pattern\":{\"fillmode\":\"overlay\",\"size\":10,\"solidity\":0.2}},\"type\":\"bar\"}],\"barpolar\":[{\"marker\":{\"line\":{\"color\":\"#E5ECF6\",\"width\":0.5},\"pattern\":{\"fillmode\":\"overlay\",\"size\":10,\"solidity\":0.2}},\"type\":\"barpolar\"}],\"carpet\":[{\"aaxis\":{\"endlinecolor\":\"#2a3f5f\",\"gridcolor\":\"white\",\"linecolor\":\"white\",\"minorgridcolor\":\"white\",\"startlinecolor\":\"#2a3f5f\"},\"baxis\":{\"endlinecolor\":\"#2a3f5f\",\"gridcolor\":\"white\",\"linecolor\":\"white\",\"minorgridcolor\":\"white\",\"startlinecolor\":\"#2a3f5f\"},\"type\":\"carpet\"}],\"choropleth\":[{\"colorbar\":{\"outlinewidth\":0,\"ticks\":\"\"},\"type\":\"choropleth\"}],\"contour\":[{\"colorbar\":{\"outlinewidth\":0,\"ticks\":\"\"},\"colorscale\":[[0.0,\"#0d0887\"],[0.1111111111111111,\"#46039f\"],[0.2222222222222222,\"#7201a8\"],[0.3333333333333333,\"#9c179e\"],[0.4444444444444444,\"#bd3786\"],[0.5555555555555556,\"#d8576b\"],[0.6666666666666666,\"#ed7953\"],[0.7777777777777778,\"#fb9f3a\"],[0.8888888888888888,\"#fdca26\"],[1.0,\"#f0f921\"]],\"type\":\"contour\"}],\"contourcarpet\":[{\"colorbar\":{\"outlinewidth\":0,\"ticks\":\"\"},\"type\":\"contourcarpet\"}],\"heatmap\":[{\"colorbar\":{\"outlinewidth\":0,\"ticks\":\"\"},\"colorscale\":[[0.0,\"#0d0887\"],[0.1111111111111111,\"#46039f\"],[0.2222222222222222,\"#7201a8\"],[0.3333333333333333,\"#9c179e\"],[0.4444444444444444,\"#bd3786\"],[0.5555555555555556,\"#d8576b\"],[0.6666666666666666,\"#ed7953\"],[0.7777777777777778,\"#fb9f3a\"],[0.8888888888888888,\"#fdca26\"],[1.0,\"#f0f921\"]],\"type\":\"heatmap\"}],\"heatmapgl\":[{\"colorbar\":{\"outlinewidth\":0,\"ticks\":\"\"},\"colorscale\":[[0.0,\"#0d0887\"],[0.1111111111111111,\"#46039f\"],[0.2222222222222222,\"#7201a8\"],[0.3333333333333333,\"#9c179e\"],[0.4444444444444444,\"#bd3786\"],[0.5555555555555556,\"#d8576b\"],[0.6666666666666666,\"#ed7953\"],[0.7777777777777778,\"#fb9f3a\"],[0.8888888888888888,\"#fdca26\"],[1.0,\"#f0f921\"]],\"type\":\"heatmapgl\"}],\"histogram\":[{\"marker\":{\"pattern\":{\"fillmode\":\"overlay\",\"size\":10,\"solidity\":0.2}},\"type\":\"histogram\"}],\"histogram2d\":[{\"colorbar\":{\"outlinewidth\":0,\"ticks\":\"\"},\"colorscale\":[[0.0,\"#0d0887\"],[0.1111111111111111,\"#46039f\"],[0.2222222222222222,\"#7201a8\"],[0.3333333333333333,\"#9c179e\"],[0.4444444444444444,\"#bd3786\"],[0.5555555555555556,\"#d8576b\"],[0.6666666666666666,\"#ed7953\"],[0.7777777777777778,\"#fb9f3a\"],[0.8888888888888888,\"#fdca26\"],[1.0,\"#f0f921\"]],\"type\":\"histogram2d\"}],\"histogram2dcontour\":[{\"colorbar\":{\"outlinewidth\":0,\"ticks\":\"\"},\"colorscale\":[[0.0,\"#0d0887\"],[0.1111111111111111,\"#46039f\"],[0.2222222222222222,\"#7201a8\"],[0.3333333333333333,\"#9c179e\"],[0.4444444444444444,\"#bd3786\"],[0.5555555555555556,\"#d8576b\"],[0.6666666666666666,\"#ed7953\"],[0.7777777777777778,\"#fb9f3a\"],[0.8888888888888888,\"#fdca26\"],[1.0,\"#f0f921\"]],\"type\":\"histogram2dcontour\"}],\"mesh3d\":[{\"colorbar\":{\"outlinewidth\":0,\"ticks\":\"\"},\"type\":\"mesh3d\"}],\"parcoords\":[{\"line\":{\"colorbar\":{\"outlinewidth\":0,\"ticks\":\"\"}},\"type\":\"parcoords\"}],\"pie\":[{\"automargin\":true,\"type\":\"pie\"}],\"scatter\":[{\"marker\":{\"colorbar\":{\"outlinewidth\":0,\"ticks\":\"\"}},\"type\":\"scatter\"}],\"scatter3d\":[{\"line\":{\"colorbar\":{\"outlinewidth\":0,\"ticks\":\"\"}},\"marker\":{\"colorbar\":{\"outlinewidth\":0,\"ticks\":\"\"}},\"type\":\"scatter3d\"}],\"scattercarpet\":[{\"marker\":{\"colorbar\":{\"outlinewidth\":0,\"ticks\":\"\"}},\"type\":\"scattercarpet\"}],\"scattergeo\":[{\"marker\":{\"colorbar\":{\"outlinewidth\":0,\"ticks\":\"\"}},\"type\":\"scattergeo\"}],\"scattergl\":[{\"marker\":{\"colorbar\":{\"outlinewidth\":0,\"ticks\":\"\"}},\"type\":\"scattergl\"}],\"scattermapbox\":[{\"marker\":{\"colorbar\":{\"outlinewidth\":0,\"ticks\":\"\"}},\"type\":\"scattermapbox\"}],\"scatterpolar\":[{\"marker\":{\"colorbar\":{\"outlinewidth\":0,\"ticks\":\"\"}},\"type\":\"scatterpolar\"}],\"scatterpolargl\":[{\"marker\":{\"colorbar\":{\"outlinewidth\":0,\"ticks\":\"\"}},\"type\":\"scatterpolargl\"}],\"scatterternary\":[{\"marker\":{\"colorbar\":{\"outlinewidth\":0,\"ticks\":\"\"}},\"type\":\"scatterternary\"}],\"surface\":[{\"colorbar\":{\"outlinewidth\":0,\"ticks\":\"\"},\"colorscale\":[[0.0,\"#0d0887\"],[0.1111111111111111,\"#46039f\"],[0.2222222222222222,\"#7201a8\"],[0.3333333333333333,\"#9c179e\"],[0.4444444444444444,\"#bd3786\"],[0.5555555555555556,\"#d8576b\"],[0.6666666666666666,\"#ed7953\"],[0.7777777777777778,\"#fb9f3a\"],[0.8888888888888888,\"#fdca26\"],[1.0,\"#f0f921\"]],\"type\":\"surface\"}],\"table\":[{\"cells\":{\"fill\":{\"color\":\"#EBF0F8\"},\"line\":{\"color\":\"white\"}},\"header\":{\"fill\":{\"color\":\"#C8D4E3\"},\"line\":{\"color\":\"white\"}},\"type\":\"table\"}]},\"layout\":{\"annotationdefaults\":{\"arrowcolor\":\"#2a3f5f\",\"arrowhead\":0,\"arrowwidth\":1},\"autotypenumbers\":\"strict\",\"coloraxis\":{\"colorbar\":{\"outlinewidth\":0,\"ticks\":\"\"}},\"colorscale\":{\"diverging\":[[0,\"#8e0152\"],[0.1,\"#c51b7d\"],[0.2,\"#de77ae\"],[0.3,\"#f1b6da\"],[0.4,\"#fde0ef\"],[0.5,\"#f7f7f7\"],[0.6,\"#e6f5d0\"],[0.7,\"#b8e186\"],[0.8,\"#7fbc41\"],[0.9,\"#4d9221\"],[1,\"#276419\"]],\"sequential\":[[0.0,\"#0d0887\"],[0.1111111111111111,\"#46039f\"],[0.2222222222222222,\"#7201a8\"],[0.3333333333333333,\"#9c179e\"],[0.4444444444444444,\"#bd3786\"],[0.5555555555555556,\"#d8576b\"],[0.6666666666666666,\"#ed7953\"],[0.7777777777777778,\"#fb9f3a\"],[0.8888888888888888,\"#fdca26\"],[1.0,\"#f0f921\"]],\"sequentialminus\":[[0.0,\"#0d0887\"],[0.1111111111111111,\"#46039f\"],[0.2222222222222222,\"#7201a8\"],[0.3333333333333333,\"#9c179e\"],[0.4444444444444444,\"#bd3786\"],[0.5555555555555556,\"#d8576b\"],[0.6666666666666666,\"#ed7953\"],[0.7777777777777778,\"#fb9f3a\"],[0.8888888888888888,\"#fdca26\"],[1.0,\"#f0f921\"]]},\"colorway\":[\"#636efa\",\"#EF553B\",\"#00cc96\",\"#ab63fa\",\"#FFA15A\",\"#19d3f3\",\"#FF6692\",\"#B6E880\",\"#FF97FF\",\"#FECB52\"],\"font\":{\"color\":\"#2a3f5f\"},\"geo\":{\"bgcolor\":\"white\",\"lakecolor\":\"white\",\"landcolor\":\"#E5ECF6\",\"showlakes\":true,\"showland\":true,\"subunitcolor\":\"white\"},\"hoverlabel\":{\"align\":\"left\"},\"hovermode\":\"closest\",\"mapbox\":{\"style\":\"light\"},\"paper_bgcolor\":\"white\",\"plot_bgcolor\":\"#E5ECF6\",\"polar\":{\"angularaxis\":{\"gridcolor\":\"white\",\"linecolor\":\"white\",\"ticks\":\"\"},\"bgcolor\":\"#E5ECF6\",\"radialaxis\":{\"gridcolor\":\"white\",\"linecolor\":\"white\",\"ticks\":\"\"}},\"scene\":{\"xaxis\":{\"backgroundcolor\":\"#E5ECF6\",\"gridcolor\":\"white\",\"gridwidth\":2,\"linecolor\":\"white\",\"showbackground\":true,\"ticks\":\"\",\"zerolinecolor\":\"white\"},\"yaxis\":{\"backgroundcolor\":\"#E5ECF6\",\"gridcolor\":\"white\",\"gridwidth\":2,\"linecolor\":\"white\",\"showbackground\":true,\"ticks\":\"\",\"zerolinecolor\":\"white\"},\"zaxis\":{\"backgroundcolor\":\"#E5ECF6\",\"gridcolor\":\"white\",\"gridwidth\":2,\"linecolor\":\"white\",\"showbackground\":true,\"ticks\":\"\",\"zerolinecolor\":\"white\"}},\"shapedefaults\":{\"line\":{\"color\":\"#2a3f5f\"}},\"ternary\":{\"aaxis\":{\"gridcolor\":\"white\",\"linecolor\":\"white\",\"ticks\":\"\"},\"baxis\":{\"gridcolor\":\"white\",\"linecolor\":\"white\",\"ticks\":\"\"},\"bgcolor\":\"#E5ECF6\",\"caxis\":{\"gridcolor\":\"white\",\"linecolor\":\"white\",\"ticks\":\"\"}},\"title\":{\"x\":0.05},\"xaxis\":{\"automargin\":true,\"gridcolor\":\"white\",\"linecolor\":\"white\",\"ticks\":\"\",\"title\":{\"standoff\":15},\"zerolinecolor\":\"white\",\"zerolinewidth\":2},\"yaxis\":{\"automargin\":true,\"gridcolor\":\"white\",\"linecolor\":\"white\",\"ticks\":\"\",\"title\":{\"standoff\":15},\"zerolinecolor\":\"white\",\"zerolinewidth\":2}}},\"xaxis\":{\"anchor\":\"y\",\"domain\":[0.0,1.0],\"title\":{\"text\":\"Area\"}},\"yaxis\":{\"anchor\":\"x\",\"domain\":[0.0,1.0],\"title\":{\"text\":\"Tipo Saida\"}},\"coloraxis\":{\"colorbar\":{\"title\":{\"text\":\"Tempo de casa\"}},\"colorscale\":[[0.0,\"#0d0887\"],[0.1111111111111111,\"#46039f\"],[0.2222222222222222,\"#7201a8\"],[0.3333333333333333,\"#9c179e\"],[0.4444444444444444,\"#bd3786\"],[0.5555555555555556,\"#d8576b\"],[0.6666666666666666,\"#ed7953\"],[0.7777777777777778,\"#fb9f3a\"],[0.8888888888888888,\"#fdca26\"],[1.0,\"#f0f921\"]]},\"legend\":{\"tracegroupgap\":0},\"margin\":{\"t\":60}},                        {\"responsive\": true}                    ).then(function(){\n",
              "                            \n",
              "var gd = document.getElementById('cb5483c9-f4ca-4a5e-937e-a2ec7605781a');\n",
              "var x = new MutationObserver(function (mutations, observer) {{\n",
              "        var display = window.getComputedStyle(gd).display;\n",
              "        if (!display || display === 'none') {{\n",
              "            console.log([gd, 'removed!']);\n",
              "            Plotly.purge(gd);\n",
              "            observer.disconnect();\n",
              "        }}\n",
              "}});\n",
              "\n",
              "// Listen for the removal of the full notebook cells\n",
              "var notebookContainer = gd.closest('#notebook-container');\n",
              "if (notebookContainer) {{\n",
              "    x.observe(notebookContainer, {childList: true});\n",
              "}}\n",
              "\n",
              "// Listen for the clearing of the current output cell\n",
              "var outputEl = gd.closest('.output');\n",
              "if (outputEl) {{\n",
              "    x.observe(outputEl, {childList: true});\n",
              "}}\n",
              "\n",
              "                        })                };                            </script>        </div>\n",
              "</body>\n",
              "</html>"
            ]
          },
          "metadata": {},
          "output_type": "display_data"
        }
      ],
      "source": [
        "fig2 = px.scatter(base, x='Area',y='Tipo Saida', color='Tempo de casa')\n",
        "fig2.show()"
      ]
    },
    {
      "cell_type": "markdown",
      "metadata": {
        "id": "WizvePa3-lKh"
      },
      "source": [
        "#Histogramas\n",
        "---\n",
        "Foi feito um tratamento com o df base para coletar apenas as colunas com dados numéricos e posteriormente fazer um histograma com cada coluna.\n"
      ]
    },
    {
      "cell_type": "code",
      "execution_count": 17,
      "metadata": {
        "colab": {
          "base_uri": "https://localhost:8080/",
          "height": 1000
        },
        "id": "p-audSLR-pE4",
        "outputId": "ac851063-5677-4fdc-f266-47a58a0cb492"
      },
      "outputs": [
        {
          "data": {
            "text/html": [
              "<html>\n",
              "<head><meta charset=\"utf-8\" /></head>\n",
              "<body>\n",
              "    <div>            <script src=\"https://cdnjs.cloudflare.com/ajax/libs/mathjax/2.7.5/MathJax.js?config=TeX-AMS-MML_SVG\"></script><script type=\"text/javascript\">if (window.MathJax) {MathJax.Hub.Config({SVG: {font: \"STIX-Web\"}});}</script>                <script type=\"text/javascript\">window.PlotlyConfig = {MathJaxConfig: 'local'};</script>\n",
              "        <script src=\"https://cdn.plot.ly/plotly-2.8.3.min.js\"></script>                <div id=\"710cb78f-e674-4973-a7b7-e004cfb31053\" class=\"plotly-graph-div\" style=\"height:525px; width:100%;\"></div>            <script type=\"text/javascript\">                                    window.PLOTLYENV=window.PLOTLYENV || {};                                    if (document.getElementById(\"710cb78f-e674-4973-a7b7-e004cfb31053\")) {                    Plotly.newPlot(                        \"710cb78f-e674-4973-a7b7-e004cfb31053\",                        [{\"alignmentgroup\":\"True\",\"bingroup\":\"x\",\"hovertemplate\":\"Matricula=%{x}<br>count=%{y}<extra></extra>\",\"legendgroup\":\"\",\"marker\":{\"color\":\"#636efa\",\"pattern\":{\"shape\":\"\"}},\"name\":\"\",\"offsetgroup\":\"\",\"orientation\":\"v\",\"showlegend\":false,\"x\":[2.0,3.0,4.0,7.0,8.0,9.0,13.0,14.0,15.0,18.0,20.0,22.0,23.0,24.0,27.0,28.0,31.0,33.0,35.0,36.0,37.0,39.0,40.0,43.0,47.0,48.0,49.0,51.0,52.0,53.0,56.0,59.0,60.0,62.0,63.0,64.0,65.0,66.0,70.0,72.0,73.0,74.0,75.0,76.0,77.0,78.0,79.0,80.0,81.0,82.0,83.0,84.0,85.0,86.0,87.0,89.0,90.0,91.0,92.0,93.0,94.0,95.0,96.0,97.0,98.0,99.0,100.0,102.0,103.0,106.0,107.0,108.0,109.0,110.0,112.0,113.0,114.0,115.0,116.0,117.0,118.0,119.0,120.0,121.0,122.0,123.0,124.0,125.0,126.0,127.0,128.0,129.0,130.0,131.0,132.0,133.0,134.0,135.0,136.0,138.0,139.0,140.0,141.0,143.0,144.0,145.0,146.0,147.0,148.0,149.0,150.0,151.0,152.0,153.0,154.0,155.0,156.0,157.0,158.0,160.0,161.0,162.0,163.0,164.0,165.0,166.0,167.0,168.0,169.0,170.0,171.0,172.0,173.0,174.0,175.0,176.0,177.0,178.0,179.0,180.0,182.0,184.0,185.0,186.0,188.0,189.0,190.0,191.0,192.0,193.0,195.0,196.0,197.0,198.0,199.0,200.0,201.0,202.0,203.0,205.0,206.0,207.0,208.0,209.0,210.0,211.0,212.0,213.0,214.0,215.0,216.0,217.0,218.0,219.0,220.0,221.0,222.0,223.0,224.0,225.0,226.0,227.0,229.0,230.0,231.0,232.0,233.0,234.0,235.0,236.0,237.0,238.0,239.0,240.0,241.0,242.0,243.0,244.0,245.0,246.0,247.0,248.0,249.0,250.0,251.0,252.0,253.0,254.0,255.0,256.0,257.0,258.0,259.0,260.0,261.0,262.0,263.0,264.0,265.0,266.0,267.0,268.0,269.0,270.0,271.0,275.0,276.0,277.0,279.0,280.0,281.0,282.0,283.0,284.0,285.0,286.0,287.0,288.0,289.0,290.0,293.0,294.0,295.0,296.0,297.0,298.0,299.0,300.0,301.0,302.0,303.0,304.0,306.0,307.0,308.0,309.0,310.0,311.0,312.0,313.0,314.0,315.0,316.0,317.0,318.0,319.0,320.0,321.0,322.0,323.0,324.0,325.0,326.0,327.0,328.0,329.0,330.0,331.0,332.0,333.0,334.0,335.0,336.0,337.0,338.0,339.0,340.0,341.0,342.0,343.0,344.0,345.0,346.0,347.0,348.0,349.0,350.0,351.0,352.0,353.0,354.0,355.0,356.0,357.0,358.0,359.0,360.0,361.0,362.0,363.0,364.0,365.0,366.0,367.0,368.0,369.0,370.0,371.0,372.0,373.0,374.0,375.0,376.0,377.0,378.0,379.0,380.0,381.0,382.0,383.0,384.0,385.0,386.0,387.0,388.0,389.0,390.0,391.0,392.0,393.0,394.0,395.0,396.0,397.0,398.0,399.0,400.0,401.0,402.0,403.0,404.0,405.0,406.0,407.0,408.0,409.0,410.0,411.0,412.0,413.0,414.0,415.0,416.0,417.0,418.0,419.0,420.0,421.0,422.0,423.0,424.0,425.0,426.0,427.0,428.0,429.0,430.0,431.0,432.0,433.0,434.0,435.0,436.0,437.0,438.0,439.0,440.0,441.0,442.0,443.0,444.0,445.0,447.0,448.0,449.0,450.0,451.0,452.0,453.0,454.0,455.0,456.0,457.0,458.0,459.0,460.0,461.0,462.0,463.0,464.0,465.0,466.0,467.0,468.0,470.0,471.0,472.0,473.0,474.0,475.0,476.0,477.0,478.0,479.0,480.0,481.0,482.0,483.0,484.0,485.0,486.0,487.0,488.0,489.0,490.0,491.0,492.0,493.0,494.0,495.0,496.0,497.0,498.0,499.0,500.0,501.0,502.0,503.0,504.0,505.0,506.0,507.0,508.0,509.0,510.0,511.0,512.0,513.0,514.0,515.0,516.0,517.0,518.0,519.0,520.0,521.0,522.0,523.0,524.0,525.0,526.0,527.0,528.0,529.0,530.0],\"xaxis\":\"x\",\"yaxis\":\"y\",\"type\":\"histogram\"}],                        {\"template\":{\"data\":{\"bar\":[{\"error_x\":{\"color\":\"#2a3f5f\"},\"error_y\":{\"color\":\"#2a3f5f\"},\"marker\":{\"line\":{\"color\":\"#E5ECF6\",\"width\":0.5},\"pattern\":{\"fillmode\":\"overlay\",\"size\":10,\"solidity\":0.2}},\"type\":\"bar\"}],\"barpolar\":[{\"marker\":{\"line\":{\"color\":\"#E5ECF6\",\"width\":0.5},\"pattern\":{\"fillmode\":\"overlay\",\"size\":10,\"solidity\":0.2}},\"type\":\"barpolar\"}],\"carpet\":[{\"aaxis\":{\"endlinecolor\":\"#2a3f5f\",\"gridcolor\":\"white\",\"linecolor\":\"white\",\"minorgridcolor\":\"white\",\"startlinecolor\":\"#2a3f5f\"},\"baxis\":{\"endlinecolor\":\"#2a3f5f\",\"gridcolor\":\"white\",\"linecolor\":\"white\",\"minorgridcolor\":\"white\",\"startlinecolor\":\"#2a3f5f\"},\"type\":\"carpet\"}],\"choropleth\":[{\"colorbar\":{\"outlinewidth\":0,\"ticks\":\"\"},\"type\":\"choropleth\"}],\"contour\":[{\"colorbar\":{\"outlinewidth\":0,\"ticks\":\"\"},\"colorscale\":[[0.0,\"#0d0887\"],[0.1111111111111111,\"#46039f\"],[0.2222222222222222,\"#7201a8\"],[0.3333333333333333,\"#9c179e\"],[0.4444444444444444,\"#bd3786\"],[0.5555555555555556,\"#d8576b\"],[0.6666666666666666,\"#ed7953\"],[0.7777777777777778,\"#fb9f3a\"],[0.8888888888888888,\"#fdca26\"],[1.0,\"#f0f921\"]],\"type\":\"contour\"}],\"contourcarpet\":[{\"colorbar\":{\"outlinewidth\":0,\"ticks\":\"\"},\"type\":\"contourcarpet\"}],\"heatmap\":[{\"colorbar\":{\"outlinewidth\":0,\"ticks\":\"\"},\"colorscale\":[[0.0,\"#0d0887\"],[0.1111111111111111,\"#46039f\"],[0.2222222222222222,\"#7201a8\"],[0.3333333333333333,\"#9c179e\"],[0.4444444444444444,\"#bd3786\"],[0.5555555555555556,\"#d8576b\"],[0.6666666666666666,\"#ed7953\"],[0.7777777777777778,\"#fb9f3a\"],[0.8888888888888888,\"#fdca26\"],[1.0,\"#f0f921\"]],\"type\":\"heatmap\"}],\"heatmapgl\":[{\"colorbar\":{\"outlinewidth\":0,\"ticks\":\"\"},\"colorscale\":[[0.0,\"#0d0887\"],[0.1111111111111111,\"#46039f\"],[0.2222222222222222,\"#7201a8\"],[0.3333333333333333,\"#9c179e\"],[0.4444444444444444,\"#bd3786\"],[0.5555555555555556,\"#d8576b\"],[0.6666666666666666,\"#ed7953\"],[0.7777777777777778,\"#fb9f3a\"],[0.8888888888888888,\"#fdca26\"],[1.0,\"#f0f921\"]],\"type\":\"heatmapgl\"}],\"histogram\":[{\"marker\":{\"pattern\":{\"fillmode\":\"overlay\",\"size\":10,\"solidity\":0.2}},\"type\":\"histogram\"}],\"histogram2d\":[{\"colorbar\":{\"outlinewidth\":0,\"ticks\":\"\"},\"colorscale\":[[0.0,\"#0d0887\"],[0.1111111111111111,\"#46039f\"],[0.2222222222222222,\"#7201a8\"],[0.3333333333333333,\"#9c179e\"],[0.4444444444444444,\"#bd3786\"],[0.5555555555555556,\"#d8576b\"],[0.6666666666666666,\"#ed7953\"],[0.7777777777777778,\"#fb9f3a\"],[0.8888888888888888,\"#fdca26\"],[1.0,\"#f0f921\"]],\"type\":\"histogram2d\"}],\"histogram2dcontour\":[{\"colorbar\":{\"outlinewidth\":0,\"ticks\":\"\"},\"colorscale\":[[0.0,\"#0d0887\"],[0.1111111111111111,\"#46039f\"],[0.2222222222222222,\"#7201a8\"],[0.3333333333333333,\"#9c179e\"],[0.4444444444444444,\"#bd3786\"],[0.5555555555555556,\"#d8576b\"],[0.6666666666666666,\"#ed7953\"],[0.7777777777777778,\"#fb9f3a\"],[0.8888888888888888,\"#fdca26\"],[1.0,\"#f0f921\"]],\"type\":\"histogram2dcontour\"}],\"mesh3d\":[{\"colorbar\":{\"outlinewidth\":0,\"ticks\":\"\"},\"type\":\"mesh3d\"}],\"parcoords\":[{\"line\":{\"colorbar\":{\"outlinewidth\":0,\"ticks\":\"\"}},\"type\":\"parcoords\"}],\"pie\":[{\"automargin\":true,\"type\":\"pie\"}],\"scatter\":[{\"marker\":{\"colorbar\":{\"outlinewidth\":0,\"ticks\":\"\"}},\"type\":\"scatter\"}],\"scatter3d\":[{\"line\":{\"colorbar\":{\"outlinewidth\":0,\"ticks\":\"\"}},\"marker\":{\"colorbar\":{\"outlinewidth\":0,\"ticks\":\"\"}},\"type\":\"scatter3d\"}],\"scattercarpet\":[{\"marker\":{\"colorbar\":{\"outlinewidth\":0,\"ticks\":\"\"}},\"type\":\"scattercarpet\"}],\"scattergeo\":[{\"marker\":{\"colorbar\":{\"outlinewidth\":0,\"ticks\":\"\"}},\"type\":\"scattergeo\"}],\"scattergl\":[{\"marker\":{\"colorbar\":{\"outlinewidth\":0,\"ticks\":\"\"}},\"type\":\"scattergl\"}],\"scattermapbox\":[{\"marker\":{\"colorbar\":{\"outlinewidth\":0,\"ticks\":\"\"}},\"type\":\"scattermapbox\"}],\"scatterpolar\":[{\"marker\":{\"colorbar\":{\"outlinewidth\":0,\"ticks\":\"\"}},\"type\":\"scatterpolar\"}],\"scatterpolargl\":[{\"marker\":{\"colorbar\":{\"outlinewidth\":0,\"ticks\":\"\"}},\"type\":\"scatterpolargl\"}],\"scatterternary\":[{\"marker\":{\"colorbar\":{\"outlinewidth\":0,\"ticks\":\"\"}},\"type\":\"scatterternary\"}],\"surface\":[{\"colorbar\":{\"outlinewidth\":0,\"ticks\":\"\"},\"colorscale\":[[0.0,\"#0d0887\"],[0.1111111111111111,\"#46039f\"],[0.2222222222222222,\"#7201a8\"],[0.3333333333333333,\"#9c179e\"],[0.4444444444444444,\"#bd3786\"],[0.5555555555555556,\"#d8576b\"],[0.6666666666666666,\"#ed7953\"],[0.7777777777777778,\"#fb9f3a\"],[0.8888888888888888,\"#fdca26\"],[1.0,\"#f0f921\"]],\"type\":\"surface\"}],\"table\":[{\"cells\":{\"fill\":{\"color\":\"#EBF0F8\"},\"line\":{\"color\":\"white\"}},\"header\":{\"fill\":{\"color\":\"#C8D4E3\"},\"line\":{\"color\":\"white\"}},\"type\":\"table\"}]},\"layout\":{\"annotationdefaults\":{\"arrowcolor\":\"#2a3f5f\",\"arrowhead\":0,\"arrowwidth\":1},\"autotypenumbers\":\"strict\",\"coloraxis\":{\"colorbar\":{\"outlinewidth\":0,\"ticks\":\"\"}},\"colorscale\":{\"diverging\":[[0,\"#8e0152\"],[0.1,\"#c51b7d\"],[0.2,\"#de77ae\"],[0.3,\"#f1b6da\"],[0.4,\"#fde0ef\"],[0.5,\"#f7f7f7\"],[0.6,\"#e6f5d0\"],[0.7,\"#b8e186\"],[0.8,\"#7fbc41\"],[0.9,\"#4d9221\"],[1,\"#276419\"]],\"sequential\":[[0.0,\"#0d0887\"],[0.1111111111111111,\"#46039f\"],[0.2222222222222222,\"#7201a8\"],[0.3333333333333333,\"#9c179e\"],[0.4444444444444444,\"#bd3786\"],[0.5555555555555556,\"#d8576b\"],[0.6666666666666666,\"#ed7953\"],[0.7777777777777778,\"#fb9f3a\"],[0.8888888888888888,\"#fdca26\"],[1.0,\"#f0f921\"]],\"sequentialminus\":[[0.0,\"#0d0887\"],[0.1111111111111111,\"#46039f\"],[0.2222222222222222,\"#7201a8\"],[0.3333333333333333,\"#9c179e\"],[0.4444444444444444,\"#bd3786\"],[0.5555555555555556,\"#d8576b\"],[0.6666666666666666,\"#ed7953\"],[0.7777777777777778,\"#fb9f3a\"],[0.8888888888888888,\"#fdca26\"],[1.0,\"#f0f921\"]]},\"colorway\":[\"#636efa\",\"#EF553B\",\"#00cc96\",\"#ab63fa\",\"#FFA15A\",\"#19d3f3\",\"#FF6692\",\"#B6E880\",\"#FF97FF\",\"#FECB52\"],\"font\":{\"color\":\"#2a3f5f\"},\"geo\":{\"bgcolor\":\"white\",\"lakecolor\":\"white\",\"landcolor\":\"#E5ECF6\",\"showlakes\":true,\"showland\":true,\"subunitcolor\":\"white\"},\"hoverlabel\":{\"align\":\"left\"},\"hovermode\":\"closest\",\"mapbox\":{\"style\":\"light\"},\"paper_bgcolor\":\"white\",\"plot_bgcolor\":\"#E5ECF6\",\"polar\":{\"angularaxis\":{\"gridcolor\":\"white\",\"linecolor\":\"white\",\"ticks\":\"\"},\"bgcolor\":\"#E5ECF6\",\"radialaxis\":{\"gridcolor\":\"white\",\"linecolor\":\"white\",\"ticks\":\"\"}},\"scene\":{\"xaxis\":{\"backgroundcolor\":\"#E5ECF6\",\"gridcolor\":\"white\",\"gridwidth\":2,\"linecolor\":\"white\",\"showbackground\":true,\"ticks\":\"\",\"zerolinecolor\":\"white\"},\"yaxis\":{\"backgroundcolor\":\"#E5ECF6\",\"gridcolor\":\"white\",\"gridwidth\":2,\"linecolor\":\"white\",\"showbackground\":true,\"ticks\":\"\",\"zerolinecolor\":\"white\"},\"zaxis\":{\"backgroundcolor\":\"#E5ECF6\",\"gridcolor\":\"white\",\"gridwidth\":2,\"linecolor\":\"white\",\"showbackground\":true,\"ticks\":\"\",\"zerolinecolor\":\"white\"}},\"shapedefaults\":{\"line\":{\"color\":\"#2a3f5f\"}},\"ternary\":{\"aaxis\":{\"gridcolor\":\"white\",\"linecolor\":\"white\",\"ticks\":\"\"},\"baxis\":{\"gridcolor\":\"white\",\"linecolor\":\"white\",\"ticks\":\"\"},\"bgcolor\":\"#E5ECF6\",\"caxis\":{\"gridcolor\":\"white\",\"linecolor\":\"white\",\"ticks\":\"\"}},\"title\":{\"x\":0.05},\"xaxis\":{\"automargin\":true,\"gridcolor\":\"white\",\"linecolor\":\"white\",\"ticks\":\"\",\"title\":{\"standoff\":15},\"zerolinecolor\":\"white\",\"zerolinewidth\":2},\"yaxis\":{\"automargin\":true,\"gridcolor\":\"white\",\"linecolor\":\"white\",\"ticks\":\"\",\"title\":{\"standoff\":15},\"zerolinecolor\":\"white\",\"zerolinewidth\":2}}},\"xaxis\":{\"anchor\":\"y\",\"domain\":[0.0,1.0],\"title\":{\"text\":\"Matricula\"}},\"yaxis\":{\"anchor\":\"x\",\"domain\":[0.0,1.0],\"title\":{\"text\":\"count\"}},\"legend\":{\"tracegroupgap\":0},\"margin\":{\"t\":60},\"barmode\":\"relative\"},                        {\"responsive\": true}                    ).then(function(){\n",
              "                            \n",
              "var gd = document.getElementById('710cb78f-e674-4973-a7b7-e004cfb31053');\n",
              "var x = new MutationObserver(function (mutations, observer) {{\n",
              "        var display = window.getComputedStyle(gd).display;\n",
              "        if (!display || display === 'none') {{\n",
              "            console.log([gd, 'removed!']);\n",
              "            Plotly.purge(gd);\n",
              "            observer.disconnect();\n",
              "        }}\n",
              "}});\n",
              "\n",
              "// Listen for the removal of the full notebook cells\n",
              "var notebookContainer = gd.closest('#notebook-container');\n",
              "if (notebookContainer) {{\n",
              "    x.observe(notebookContainer, {childList: true});\n",
              "}}\n",
              "\n",
              "// Listen for the clearing of the current output cell\n",
              "var outputEl = gd.closest('.output');\n",
              "if (outputEl) {{\n",
              "    x.observe(outputEl, {childList: true});\n",
              "}}\n",
              "\n",
              "                        })                };                            </script>        </div>\n",
              "</body>\n",
              "</html>"
            ]
          },
          "metadata": {},
          "output_type": "display_data"
        },
        {
          "data": {
            "text/html": [
              "<html>\n",
              "<head><meta charset=\"utf-8\" /></head>\n",
              "<body>\n",
              "    <div>            <script src=\"https://cdnjs.cloudflare.com/ajax/libs/mathjax/2.7.5/MathJax.js?config=TeX-AMS-MML_SVG\"></script><script type=\"text/javascript\">if (window.MathJax) {MathJax.Hub.Config({SVG: {font: \"STIX-Web\"}});}</script>                <script type=\"text/javascript\">window.PlotlyConfig = {MathJaxConfig: 'local'};</script>\n",
              "        <script src=\"https://cdn.plot.ly/plotly-2.8.3.min.js\"></script>                <div id=\"d44f80f1-31cc-4330-aaff-16f1b5988b70\" class=\"plotly-graph-div\" style=\"height:525px; width:100%;\"></div>            <script type=\"text/javascript\">                                    window.PLOTLYENV=window.PLOTLYENV || {};                                    if (document.getElementById(\"d44f80f1-31cc-4330-aaff-16f1b5988b70\")) {                    Plotly.newPlot(                        \"d44f80f1-31cc-4330-aaff-16f1b5988b70\",                        [{\"alignmentgroup\":\"True\",\"bingroup\":\"x\",\"hovertemplate\":\"Tipo Saida=%{x}<br>count=%{y}<extra></extra>\",\"legendgroup\":\"\",\"marker\":{\"color\":\"#636efa\",\"pattern\":{\"shape\":\"\"}},\"name\":\"\",\"offsetgroup\":\"\",\"orientation\":\"v\",\"showlegend\":false,\"x\":[4,4,4,1,1,1,1,1,1,0,1,4,1,4,1,4,1,1,1,4,1,4,1,1,1,1,1,1,4,4,1,0,4,4,1,1,1,1,4,1,4,4,1,1,0,1,1,4,4,1,4,0,1,1,4,4,1,1,4,1,4,1,1,1,1,1,1,0,1,4,4,1,1,4,1,1,1,0,4,1,1,4,4,0,0,1,0,4,4,0,4,4,0,1,0,4,1,1,0,4,0,1,4,0,1,1,1,1,4,3,4,4,4,0,4,3,3,1,0,1,1,1,3,1,1,4,2,1,3,4,0,1,4,0,1,1,4,1,0,3,1,1,4,3,1,4,1,3,1,1,0,2,1,3,4,1,1,1,4,3,1,3,4,4,4,1,1,1,1,4,2,1,2,3,4,1,1,4,1,3,4,4,1,1,4,4,1,4,1,4,4,1,4,4,4,0,1,4,4,1,4,4,4,1,4,1,1,4,4,1,0,0,1,4,3,1,4,4,4,4,4,1,0,4,4,4,4,4,4,4,1,1,1,1,4,4,1,4,4,4,1,4,1,4,4,4,0,3,0,4,1,4,4,4,2,1,1,4,1,1,4,4,4,4,4,4,4,1,4,1,1,1,3,4,4,4,1,4,1,4,4,4,1,4,0,0,0,1,0,4,4,4,1,4,4,4,4,4,1,4,4,4,4,4,4,4,4,4,4,4,4,4,4,4,4,4,4,4,4,4,4,4,4,4,4,4,4,0,4,4,0,4,4,4,4,4,4,4,4,4,2,4,3,4,4,4,4,4,4,3,4,4,3,4,4,4,4,1,4,2,4,4,4,4,4,4,4,4,4,4,4,4,4,4,4,4,4,4,4,4,4,4,4,4,4,4,4,4,4,4,4,4,4,4,4,4,4,3,2,3,4,4,4,4,4,4,4,4,4,3,4,4,4,4,4,4,4,4,3,4,4,4,4,4,4,4,4,4,4,4,4,4,4,3,4,4,4,4,4,4,4,4,4,4,4,4,4,4,4,4,4,4,4,4,4,4,4,4,4,4,4,4,4,4,4,4,4,4,4,4,3,4,4,4,4],\"xaxis\":\"x\",\"yaxis\":\"y\",\"type\":\"histogram\"}],                        {\"template\":{\"data\":{\"bar\":[{\"error_x\":{\"color\":\"#2a3f5f\"},\"error_y\":{\"color\":\"#2a3f5f\"},\"marker\":{\"line\":{\"color\":\"#E5ECF6\",\"width\":0.5},\"pattern\":{\"fillmode\":\"overlay\",\"size\":10,\"solidity\":0.2}},\"type\":\"bar\"}],\"barpolar\":[{\"marker\":{\"line\":{\"color\":\"#E5ECF6\",\"width\":0.5},\"pattern\":{\"fillmode\":\"overlay\",\"size\":10,\"solidity\":0.2}},\"type\":\"barpolar\"}],\"carpet\":[{\"aaxis\":{\"endlinecolor\":\"#2a3f5f\",\"gridcolor\":\"white\",\"linecolor\":\"white\",\"minorgridcolor\":\"white\",\"startlinecolor\":\"#2a3f5f\"},\"baxis\":{\"endlinecolor\":\"#2a3f5f\",\"gridcolor\":\"white\",\"linecolor\":\"white\",\"minorgridcolor\":\"white\",\"startlinecolor\":\"#2a3f5f\"},\"type\":\"carpet\"}],\"choropleth\":[{\"colorbar\":{\"outlinewidth\":0,\"ticks\":\"\"},\"type\":\"choropleth\"}],\"contour\":[{\"colorbar\":{\"outlinewidth\":0,\"ticks\":\"\"},\"colorscale\":[[0.0,\"#0d0887\"],[0.1111111111111111,\"#46039f\"],[0.2222222222222222,\"#7201a8\"],[0.3333333333333333,\"#9c179e\"],[0.4444444444444444,\"#bd3786\"],[0.5555555555555556,\"#d8576b\"],[0.6666666666666666,\"#ed7953\"],[0.7777777777777778,\"#fb9f3a\"],[0.8888888888888888,\"#fdca26\"],[1.0,\"#f0f921\"]],\"type\":\"contour\"}],\"contourcarpet\":[{\"colorbar\":{\"outlinewidth\":0,\"ticks\":\"\"},\"type\":\"contourcarpet\"}],\"heatmap\":[{\"colorbar\":{\"outlinewidth\":0,\"ticks\":\"\"},\"colorscale\":[[0.0,\"#0d0887\"],[0.1111111111111111,\"#46039f\"],[0.2222222222222222,\"#7201a8\"],[0.3333333333333333,\"#9c179e\"],[0.4444444444444444,\"#bd3786\"],[0.5555555555555556,\"#d8576b\"],[0.6666666666666666,\"#ed7953\"],[0.7777777777777778,\"#fb9f3a\"],[0.8888888888888888,\"#fdca26\"],[1.0,\"#f0f921\"]],\"type\":\"heatmap\"}],\"heatmapgl\":[{\"colorbar\":{\"outlinewidth\":0,\"ticks\":\"\"},\"colorscale\":[[0.0,\"#0d0887\"],[0.1111111111111111,\"#46039f\"],[0.2222222222222222,\"#7201a8\"],[0.3333333333333333,\"#9c179e\"],[0.4444444444444444,\"#bd3786\"],[0.5555555555555556,\"#d8576b\"],[0.6666666666666666,\"#ed7953\"],[0.7777777777777778,\"#fb9f3a\"],[0.8888888888888888,\"#fdca26\"],[1.0,\"#f0f921\"]],\"type\":\"heatmapgl\"}],\"histogram\":[{\"marker\":{\"pattern\":{\"fillmode\":\"overlay\",\"size\":10,\"solidity\":0.2}},\"type\":\"histogram\"}],\"histogram2d\":[{\"colorbar\":{\"outlinewidth\":0,\"ticks\":\"\"},\"colorscale\":[[0.0,\"#0d0887\"],[0.1111111111111111,\"#46039f\"],[0.2222222222222222,\"#7201a8\"],[0.3333333333333333,\"#9c179e\"],[0.4444444444444444,\"#bd3786\"],[0.5555555555555556,\"#d8576b\"],[0.6666666666666666,\"#ed7953\"],[0.7777777777777778,\"#fb9f3a\"],[0.8888888888888888,\"#fdca26\"],[1.0,\"#f0f921\"]],\"type\":\"histogram2d\"}],\"histogram2dcontour\":[{\"colorbar\":{\"outlinewidth\":0,\"ticks\":\"\"},\"colorscale\":[[0.0,\"#0d0887\"],[0.1111111111111111,\"#46039f\"],[0.2222222222222222,\"#7201a8\"],[0.3333333333333333,\"#9c179e\"],[0.4444444444444444,\"#bd3786\"],[0.5555555555555556,\"#d8576b\"],[0.6666666666666666,\"#ed7953\"],[0.7777777777777778,\"#fb9f3a\"],[0.8888888888888888,\"#fdca26\"],[1.0,\"#f0f921\"]],\"type\":\"histogram2dcontour\"}],\"mesh3d\":[{\"colorbar\":{\"outlinewidth\":0,\"ticks\":\"\"},\"type\":\"mesh3d\"}],\"parcoords\":[{\"line\":{\"colorbar\":{\"outlinewidth\":0,\"ticks\":\"\"}},\"type\":\"parcoords\"}],\"pie\":[{\"automargin\":true,\"type\":\"pie\"}],\"scatter\":[{\"marker\":{\"colorbar\":{\"outlinewidth\":0,\"ticks\":\"\"}},\"type\":\"scatter\"}],\"scatter3d\":[{\"line\":{\"colorbar\":{\"outlinewidth\":0,\"ticks\":\"\"}},\"marker\":{\"colorbar\":{\"outlinewidth\":0,\"ticks\":\"\"}},\"type\":\"scatter3d\"}],\"scattercarpet\":[{\"marker\":{\"colorbar\":{\"outlinewidth\":0,\"ticks\":\"\"}},\"type\":\"scattercarpet\"}],\"scattergeo\":[{\"marker\":{\"colorbar\":{\"outlinewidth\":0,\"ticks\":\"\"}},\"type\":\"scattergeo\"}],\"scattergl\":[{\"marker\":{\"colorbar\":{\"outlinewidth\":0,\"ticks\":\"\"}},\"type\":\"scattergl\"}],\"scattermapbox\":[{\"marker\":{\"colorbar\":{\"outlinewidth\":0,\"ticks\":\"\"}},\"type\":\"scattermapbox\"}],\"scatterpolar\":[{\"marker\":{\"colorbar\":{\"outlinewidth\":0,\"ticks\":\"\"}},\"type\":\"scatterpolar\"}],\"scatterpolargl\":[{\"marker\":{\"colorbar\":{\"outlinewidth\":0,\"ticks\":\"\"}},\"type\":\"scatterpolargl\"}],\"scatterternary\":[{\"marker\":{\"colorbar\":{\"outlinewidth\":0,\"ticks\":\"\"}},\"type\":\"scatterternary\"}],\"surface\":[{\"colorbar\":{\"outlinewidth\":0,\"ticks\":\"\"},\"colorscale\":[[0.0,\"#0d0887\"],[0.1111111111111111,\"#46039f\"],[0.2222222222222222,\"#7201a8\"],[0.3333333333333333,\"#9c179e\"],[0.4444444444444444,\"#bd3786\"],[0.5555555555555556,\"#d8576b\"],[0.6666666666666666,\"#ed7953\"],[0.7777777777777778,\"#fb9f3a\"],[0.8888888888888888,\"#fdca26\"],[1.0,\"#f0f921\"]],\"type\":\"surface\"}],\"table\":[{\"cells\":{\"fill\":{\"color\":\"#EBF0F8\"},\"line\":{\"color\":\"white\"}},\"header\":{\"fill\":{\"color\":\"#C8D4E3\"},\"line\":{\"color\":\"white\"}},\"type\":\"table\"}]},\"layout\":{\"annotationdefaults\":{\"arrowcolor\":\"#2a3f5f\",\"arrowhead\":0,\"arrowwidth\":1},\"autotypenumbers\":\"strict\",\"coloraxis\":{\"colorbar\":{\"outlinewidth\":0,\"ticks\":\"\"}},\"colorscale\":{\"diverging\":[[0,\"#8e0152\"],[0.1,\"#c51b7d\"],[0.2,\"#de77ae\"],[0.3,\"#f1b6da\"],[0.4,\"#fde0ef\"],[0.5,\"#f7f7f7\"],[0.6,\"#e6f5d0\"],[0.7,\"#b8e186\"],[0.8,\"#7fbc41\"],[0.9,\"#4d9221\"],[1,\"#276419\"]],\"sequential\":[[0.0,\"#0d0887\"],[0.1111111111111111,\"#46039f\"],[0.2222222222222222,\"#7201a8\"],[0.3333333333333333,\"#9c179e\"],[0.4444444444444444,\"#bd3786\"],[0.5555555555555556,\"#d8576b\"],[0.6666666666666666,\"#ed7953\"],[0.7777777777777778,\"#fb9f3a\"],[0.8888888888888888,\"#fdca26\"],[1.0,\"#f0f921\"]],\"sequentialminus\":[[0.0,\"#0d0887\"],[0.1111111111111111,\"#46039f\"],[0.2222222222222222,\"#7201a8\"],[0.3333333333333333,\"#9c179e\"],[0.4444444444444444,\"#bd3786\"],[0.5555555555555556,\"#d8576b\"],[0.6666666666666666,\"#ed7953\"],[0.7777777777777778,\"#fb9f3a\"],[0.8888888888888888,\"#fdca26\"],[1.0,\"#f0f921\"]]},\"colorway\":[\"#636efa\",\"#EF553B\",\"#00cc96\",\"#ab63fa\",\"#FFA15A\",\"#19d3f3\",\"#FF6692\",\"#B6E880\",\"#FF97FF\",\"#FECB52\"],\"font\":{\"color\":\"#2a3f5f\"},\"geo\":{\"bgcolor\":\"white\",\"lakecolor\":\"white\",\"landcolor\":\"#E5ECF6\",\"showlakes\":true,\"showland\":true,\"subunitcolor\":\"white\"},\"hoverlabel\":{\"align\":\"left\"},\"hovermode\":\"closest\",\"mapbox\":{\"style\":\"light\"},\"paper_bgcolor\":\"white\",\"plot_bgcolor\":\"#E5ECF6\",\"polar\":{\"angularaxis\":{\"gridcolor\":\"white\",\"linecolor\":\"white\",\"ticks\":\"\"},\"bgcolor\":\"#E5ECF6\",\"radialaxis\":{\"gridcolor\":\"white\",\"linecolor\":\"white\",\"ticks\":\"\"}},\"scene\":{\"xaxis\":{\"backgroundcolor\":\"#E5ECF6\",\"gridcolor\":\"white\",\"gridwidth\":2,\"linecolor\":\"white\",\"showbackground\":true,\"ticks\":\"\",\"zerolinecolor\":\"white\"},\"yaxis\":{\"backgroundcolor\":\"#E5ECF6\",\"gridcolor\":\"white\",\"gridwidth\":2,\"linecolor\":\"white\",\"showbackground\":true,\"ticks\":\"\",\"zerolinecolor\":\"white\"},\"zaxis\":{\"backgroundcolor\":\"#E5ECF6\",\"gridcolor\":\"white\",\"gridwidth\":2,\"linecolor\":\"white\",\"showbackground\":true,\"ticks\":\"\",\"zerolinecolor\":\"white\"}},\"shapedefaults\":{\"line\":{\"color\":\"#2a3f5f\"}},\"ternary\":{\"aaxis\":{\"gridcolor\":\"white\",\"linecolor\":\"white\",\"ticks\":\"\"},\"baxis\":{\"gridcolor\":\"white\",\"linecolor\":\"white\",\"ticks\":\"\"},\"bgcolor\":\"#E5ECF6\",\"caxis\":{\"gridcolor\":\"white\",\"linecolor\":\"white\",\"ticks\":\"\"}},\"title\":{\"x\":0.05},\"xaxis\":{\"automargin\":true,\"gridcolor\":\"white\",\"linecolor\":\"white\",\"ticks\":\"\",\"title\":{\"standoff\":15},\"zerolinecolor\":\"white\",\"zerolinewidth\":2},\"yaxis\":{\"automargin\":true,\"gridcolor\":\"white\",\"linecolor\":\"white\",\"ticks\":\"\",\"title\":{\"standoff\":15},\"zerolinecolor\":\"white\",\"zerolinewidth\":2}}},\"xaxis\":{\"anchor\":\"y\",\"domain\":[0.0,1.0],\"title\":{\"text\":\"Tipo Saida\"}},\"yaxis\":{\"anchor\":\"x\",\"domain\":[0.0,1.0],\"title\":{\"text\":\"count\"}},\"legend\":{\"tracegroupgap\":0},\"margin\":{\"t\":60},\"barmode\":\"relative\"},                        {\"responsive\": true}                    ).then(function(){\n",
              "                            \n",
              "var gd = document.getElementById('d44f80f1-31cc-4330-aaff-16f1b5988b70');\n",
              "var x = new MutationObserver(function (mutations, observer) {{\n",
              "        var display = window.getComputedStyle(gd).display;\n",
              "        if (!display || display === 'none') {{\n",
              "            console.log([gd, 'removed!']);\n",
              "            Plotly.purge(gd);\n",
              "            observer.disconnect();\n",
              "        }}\n",
              "}});\n",
              "\n",
              "// Listen for the removal of the full notebook cells\n",
              "var notebookContainer = gd.closest('#notebook-container');\n",
              "if (notebookContainer) {{\n",
              "    x.observe(notebookContainer, {childList: true});\n",
              "}}\n",
              "\n",
              "// Listen for the clearing of the current output cell\n",
              "var outputEl = gd.closest('.output');\n",
              "if (outputEl) {{\n",
              "    x.observe(outputEl, {childList: true});\n",
              "}}\n",
              "\n",
              "                        })                };                            </script>        </div>\n",
              "</body>\n",
              "</html>"
            ]
          },
          "metadata": {},
          "output_type": "display_data"
        },
        {
          "data": {
            "text/html": [
              "<html>\n",
              "<head><meta charset=\"utf-8\" /></head>\n",
              "<body>\n",
              "    <div>            <script src=\"https://cdnjs.cloudflare.com/ajax/libs/mathjax/2.7.5/MathJax.js?config=TeX-AMS-MML_SVG\"></script><script type=\"text/javascript\">if (window.MathJax) {MathJax.Hub.Config({SVG: {font: \"STIX-Web\"}});}</script>                <script type=\"text/javascript\">window.PlotlyConfig = {MathJaxConfig: 'local'};</script>\n",
              "        <script src=\"https://cdn.plot.ly/plotly-2.8.3.min.js\"></script>                <div id=\"4a1047fd-6359-4413-9651-396150db56a0\" class=\"plotly-graph-div\" style=\"height:525px; width:100%;\"></div>            <script type=\"text/javascript\">                                    window.PLOTLYENV=window.PLOTLYENV || {};                                    if (document.getElementById(\"4a1047fd-6359-4413-9651-396150db56a0\")) {                    Plotly.newPlot(                        \"4a1047fd-6359-4413-9651-396150db56a0\",                        [{\"alignmentgroup\":\"True\",\"bingroup\":\"x\",\"hovertemplate\":\"Salario M\\u00eas=%{x}<br>count=%{y}<extra></extra>\",\"legendgroup\":\"\",\"marker\":{\"color\":\"#636efa\",\"pattern\":{\"shape\":\"\"}},\"name\":\"\",\"offsetgroup\":\"\",\"orientation\":\"v\",\"showlegend\":false,\"x\":[9914.4,8250.0,9914.4,7000.0,2750.0,6500.0,5000.0,2068.6,2600.0,3600.0,4406.965,11566.8,3228.455,7250.0,3305.225,4250.0,3108.255,4627.315,3580.2,4250.0,4725.635,4957.2,2062.885,4858.615,1800.0,6058.8,2250.0,4000.0,3855.6,4250.0,3458.31,3966.27,5783.4,3000.0,2900.0,6000.0,2000.0,2800.0,6750.0,1400.0,5000.0,5948.5,837.785,2200.0,2000.0,3200.0,1954.79,2754.0,3580.2,1800.0,6000.0,900.0,5500.0,4000.0,3029.4,7000.0,4660.53,7772.155,2500.0,5000.0,7160.4,3750.0,2000.0,1000.0,1000.0,3000.0,2140.495,1200.0,2354.545,8030.665,6609.6,4323.45,3500.0,4957.2,5292.185,2100.0,1927.8,900.0,4131.0,2313.36,1600.0,2423.52,2500.0,1265.4,900.0,1400.0,900.0,2090.285,3500.0,900.0,5287.5,2478.6,900.0,1900.0,900.0,2313.36,3100.0,900.0,1200.0,6250.0,1800.0,2500.0,1652.4,2100.0,6609.6,4371.675,1500.0,1750.0,8537.4,3250.0,9250.0,4681.8,11566.8,3000.0,5232.6,3500.0,2000.0,2000.0,3750.0,3500.0,3000.0,3855.6,3750.0,2600.0,1227.25,4500.0,1600.0,2500.0,3400.0,6609.6,3000.0,1018.165,6184.425,2467.545,4700.0,2850.865,3304.8,3750.0,3869.035,3400.0,1781.79,1786.575,3250.0,2000.0,5000.0,5508.0,1808.175,4800.0,2400.0,2000.0,3800.0,2200.0,2400.0,3750.0,6500.0,1200.0,1600.0,5000.0,4250.0,2250.0,2400.0,4250.0,4677.625,5965.665,5750.0,2690.5,5381.0,3336.22,4100.0,5000.0,2000.0,2798.12,4000.0,4100.0,6750.0,2798.12,3928.13,4000.0,2421.45,4000.0,5650.05,4484.48,5071.735,2242.24,3600.0,5338.665,2242.24,1500.0,1000.0,1500.0,1719.05,1067.735,1750.0,2135.465,1868.535,1601.6,1708.375,1868.535,1500.0,2028.695,1494.825,1868.535,1500.0,1601.6,2402.4,3750.0,3000.0,5250.0,1921.92,3200.0,4270.935,4500.0,1500.0,5000.0,3000.0,2383.35,4200.0,6885.235,4501.885,5825.965,3654.47,3250.0,7000.0,13983.88,14282.245,8855.215,13676.865,11429.215,1750.0,1050.8,3415.1,2750.0,2500.0,6830.2,5884.48,3901.095,2400.0,7881.0,1100.0,7558.215,3250.0,7296.335,3127.0,6254.0,7817.5,2345.25,1250.8,6500.0,6775.165,6720.135,2843.135,6500.0,4500.0,3000.0,6750.0,2500.0,6203.2,3250.0,3000.0,4357.95,2250.0,7177.8,11792.1,3076.2,2250.0,8715.9,2050.0,6101.6,1017.0,3559.265,1525.4,6101.6,3250.0,2700.0,1169.55,1525.4,4750.0,1900.0,4067.735,4067.735,1017.0,1900.0,6101.6,1017.0,1017.0,1017.0,2033.865,5593.135,7118.535,1512.7,3529.635,3000.0,6302.915,2521.165,8319.85,13866.415,1017.0,1017.0,2269.05,9000.0,1652.4,3304.8,13500.0,1500.0,2500.0,1017.0,1017.0,1017.0,1017.0,2000.0,1017.0,6250.0,1017.0,2000.0,3000.0,1750.0,1017.0,2500.0,1017.0,1600.0,4000.0,3500.0,1017.0,1017.0,1017.0,1017.0,1017.0,6000.0,1017.0,1017.0,1017.0,1017.0,1017.0,1017.0,1017.0,1017.0,1017.0,1017.0,4000.0,2750.0,4000.0,1500.0,5000.0,6500.0,2500.0,7500.0,1017.0,1017.0,2000.0,1017.0,1017.0,1017.0,1017.0,1017.0,1017.0,1017.0,1017.0,1017.0,1017.0,7250.0,1017.0,1017.0,1017.0,1017.0,1017.0,1017.0,1017.0,1017.0,1017.0,1017.0,1017.0,3750.0,1017.0,1017.0,1017.0,1017.0,7000.0,1017.0,1017.0,1017.0,1017.0,1017.0,1500.0,1017.0,4775.0,1595.47,2978.17,1716.48,3193.56,2242.005,2523.72,3370.29,1716.48,3491.66,1500.0,1017.0,2250.0,4858.615,5000.0,1750.0,3000.0,3000.0,3500.0,1500.0,4000.0,1716.48,1120.0,3900.0,4000.0,7250.0,6250.0,3250.0,7750.0,625.0,5000.0,3250.0,8500.0,5500.0,8500.0,7750.0,2250.0,1900.0,3000.0,3750.0,6000.0,3000.0,1500.0,2750.0,2250.0,3200.0,2400.0,500.0,500.0,6000.0,2500.0,6500.0,6850.0,1017.0,1017.0,1017.0,1017.0,1017.0,1017.0,1017.0,1017.0,1017.0,1017.0,1017.0,1017.0,1017.0,1017.0,1017.0,1017.0,1017.0,1017.0,1017.0,1017.0,1017.0,1017.0,1017.0,1017.0,1017.0,3000.0,3500.0,3350.0,4250.0,1500.0,1500.0,1500.0,8000.0,1500.0,7000.0,1750.0,2750.0,5500.0],\"xaxis\":\"x\",\"yaxis\":\"y\",\"type\":\"histogram\"}],                        {\"template\":{\"data\":{\"bar\":[{\"error_x\":{\"color\":\"#2a3f5f\"},\"error_y\":{\"color\":\"#2a3f5f\"},\"marker\":{\"line\":{\"color\":\"#E5ECF6\",\"width\":0.5},\"pattern\":{\"fillmode\":\"overlay\",\"size\":10,\"solidity\":0.2}},\"type\":\"bar\"}],\"barpolar\":[{\"marker\":{\"line\":{\"color\":\"#E5ECF6\",\"width\":0.5},\"pattern\":{\"fillmode\":\"overlay\",\"size\":10,\"solidity\":0.2}},\"type\":\"barpolar\"}],\"carpet\":[{\"aaxis\":{\"endlinecolor\":\"#2a3f5f\",\"gridcolor\":\"white\",\"linecolor\":\"white\",\"minorgridcolor\":\"white\",\"startlinecolor\":\"#2a3f5f\"},\"baxis\":{\"endlinecolor\":\"#2a3f5f\",\"gridcolor\":\"white\",\"linecolor\":\"white\",\"minorgridcolor\":\"white\",\"startlinecolor\":\"#2a3f5f\"},\"type\":\"carpet\"}],\"choropleth\":[{\"colorbar\":{\"outlinewidth\":0,\"ticks\":\"\"},\"type\":\"choropleth\"}],\"contour\":[{\"colorbar\":{\"outlinewidth\":0,\"ticks\":\"\"},\"colorscale\":[[0.0,\"#0d0887\"],[0.1111111111111111,\"#46039f\"],[0.2222222222222222,\"#7201a8\"],[0.3333333333333333,\"#9c179e\"],[0.4444444444444444,\"#bd3786\"],[0.5555555555555556,\"#d8576b\"],[0.6666666666666666,\"#ed7953\"],[0.7777777777777778,\"#fb9f3a\"],[0.8888888888888888,\"#fdca26\"],[1.0,\"#f0f921\"]],\"type\":\"contour\"}],\"contourcarpet\":[{\"colorbar\":{\"outlinewidth\":0,\"ticks\":\"\"},\"type\":\"contourcarpet\"}],\"heatmap\":[{\"colorbar\":{\"outlinewidth\":0,\"ticks\":\"\"},\"colorscale\":[[0.0,\"#0d0887\"],[0.1111111111111111,\"#46039f\"],[0.2222222222222222,\"#7201a8\"],[0.3333333333333333,\"#9c179e\"],[0.4444444444444444,\"#bd3786\"],[0.5555555555555556,\"#d8576b\"],[0.6666666666666666,\"#ed7953\"],[0.7777777777777778,\"#fb9f3a\"],[0.8888888888888888,\"#fdca26\"],[1.0,\"#f0f921\"]],\"type\":\"heatmap\"}],\"heatmapgl\":[{\"colorbar\":{\"outlinewidth\":0,\"ticks\":\"\"},\"colorscale\":[[0.0,\"#0d0887\"],[0.1111111111111111,\"#46039f\"],[0.2222222222222222,\"#7201a8\"],[0.3333333333333333,\"#9c179e\"],[0.4444444444444444,\"#bd3786\"],[0.5555555555555556,\"#d8576b\"],[0.6666666666666666,\"#ed7953\"],[0.7777777777777778,\"#fb9f3a\"],[0.8888888888888888,\"#fdca26\"],[1.0,\"#f0f921\"]],\"type\":\"heatmapgl\"}],\"histogram\":[{\"marker\":{\"pattern\":{\"fillmode\":\"overlay\",\"size\":10,\"solidity\":0.2}},\"type\":\"histogram\"}],\"histogram2d\":[{\"colorbar\":{\"outlinewidth\":0,\"ticks\":\"\"},\"colorscale\":[[0.0,\"#0d0887\"],[0.1111111111111111,\"#46039f\"],[0.2222222222222222,\"#7201a8\"],[0.3333333333333333,\"#9c179e\"],[0.4444444444444444,\"#bd3786\"],[0.5555555555555556,\"#d8576b\"],[0.6666666666666666,\"#ed7953\"],[0.7777777777777778,\"#fb9f3a\"],[0.8888888888888888,\"#fdca26\"],[1.0,\"#f0f921\"]],\"type\":\"histogram2d\"}],\"histogram2dcontour\":[{\"colorbar\":{\"outlinewidth\":0,\"ticks\":\"\"},\"colorscale\":[[0.0,\"#0d0887\"],[0.1111111111111111,\"#46039f\"],[0.2222222222222222,\"#7201a8\"],[0.3333333333333333,\"#9c179e\"],[0.4444444444444444,\"#bd3786\"],[0.5555555555555556,\"#d8576b\"],[0.6666666666666666,\"#ed7953\"],[0.7777777777777778,\"#fb9f3a\"],[0.8888888888888888,\"#fdca26\"],[1.0,\"#f0f921\"]],\"type\":\"histogram2dcontour\"}],\"mesh3d\":[{\"colorbar\":{\"outlinewidth\":0,\"ticks\":\"\"},\"type\":\"mesh3d\"}],\"parcoords\":[{\"line\":{\"colorbar\":{\"outlinewidth\":0,\"ticks\":\"\"}},\"type\":\"parcoords\"}],\"pie\":[{\"automargin\":true,\"type\":\"pie\"}],\"scatter\":[{\"marker\":{\"colorbar\":{\"outlinewidth\":0,\"ticks\":\"\"}},\"type\":\"scatter\"}],\"scatter3d\":[{\"line\":{\"colorbar\":{\"outlinewidth\":0,\"ticks\":\"\"}},\"marker\":{\"colorbar\":{\"outlinewidth\":0,\"ticks\":\"\"}},\"type\":\"scatter3d\"}],\"scattercarpet\":[{\"marker\":{\"colorbar\":{\"outlinewidth\":0,\"ticks\":\"\"}},\"type\":\"scattercarpet\"}],\"scattergeo\":[{\"marker\":{\"colorbar\":{\"outlinewidth\":0,\"ticks\":\"\"}},\"type\":\"scattergeo\"}],\"scattergl\":[{\"marker\":{\"colorbar\":{\"outlinewidth\":0,\"ticks\":\"\"}},\"type\":\"scattergl\"}],\"scattermapbox\":[{\"marker\":{\"colorbar\":{\"outlinewidth\":0,\"ticks\":\"\"}},\"type\":\"scattermapbox\"}],\"scatterpolar\":[{\"marker\":{\"colorbar\":{\"outlinewidth\":0,\"ticks\":\"\"}},\"type\":\"scatterpolar\"}],\"scatterpolargl\":[{\"marker\":{\"colorbar\":{\"outlinewidth\":0,\"ticks\":\"\"}},\"type\":\"scatterpolargl\"}],\"scatterternary\":[{\"marker\":{\"colorbar\":{\"outlinewidth\":0,\"ticks\":\"\"}},\"type\":\"scatterternary\"}],\"surface\":[{\"colorbar\":{\"outlinewidth\":0,\"ticks\":\"\"},\"colorscale\":[[0.0,\"#0d0887\"],[0.1111111111111111,\"#46039f\"],[0.2222222222222222,\"#7201a8\"],[0.3333333333333333,\"#9c179e\"],[0.4444444444444444,\"#bd3786\"],[0.5555555555555556,\"#d8576b\"],[0.6666666666666666,\"#ed7953\"],[0.7777777777777778,\"#fb9f3a\"],[0.8888888888888888,\"#fdca26\"],[1.0,\"#f0f921\"]],\"type\":\"surface\"}],\"table\":[{\"cells\":{\"fill\":{\"color\":\"#EBF0F8\"},\"line\":{\"color\":\"white\"}},\"header\":{\"fill\":{\"color\":\"#C8D4E3\"},\"line\":{\"color\":\"white\"}},\"type\":\"table\"}]},\"layout\":{\"annotationdefaults\":{\"arrowcolor\":\"#2a3f5f\",\"arrowhead\":0,\"arrowwidth\":1},\"autotypenumbers\":\"strict\",\"coloraxis\":{\"colorbar\":{\"outlinewidth\":0,\"ticks\":\"\"}},\"colorscale\":{\"diverging\":[[0,\"#8e0152\"],[0.1,\"#c51b7d\"],[0.2,\"#de77ae\"],[0.3,\"#f1b6da\"],[0.4,\"#fde0ef\"],[0.5,\"#f7f7f7\"],[0.6,\"#e6f5d0\"],[0.7,\"#b8e186\"],[0.8,\"#7fbc41\"],[0.9,\"#4d9221\"],[1,\"#276419\"]],\"sequential\":[[0.0,\"#0d0887\"],[0.1111111111111111,\"#46039f\"],[0.2222222222222222,\"#7201a8\"],[0.3333333333333333,\"#9c179e\"],[0.4444444444444444,\"#bd3786\"],[0.5555555555555556,\"#d8576b\"],[0.6666666666666666,\"#ed7953\"],[0.7777777777777778,\"#fb9f3a\"],[0.8888888888888888,\"#fdca26\"],[1.0,\"#f0f921\"]],\"sequentialminus\":[[0.0,\"#0d0887\"],[0.1111111111111111,\"#46039f\"],[0.2222222222222222,\"#7201a8\"],[0.3333333333333333,\"#9c179e\"],[0.4444444444444444,\"#bd3786\"],[0.5555555555555556,\"#d8576b\"],[0.6666666666666666,\"#ed7953\"],[0.7777777777777778,\"#fb9f3a\"],[0.8888888888888888,\"#fdca26\"],[1.0,\"#f0f921\"]]},\"colorway\":[\"#636efa\",\"#EF553B\",\"#00cc96\",\"#ab63fa\",\"#FFA15A\",\"#19d3f3\",\"#FF6692\",\"#B6E880\",\"#FF97FF\",\"#FECB52\"],\"font\":{\"color\":\"#2a3f5f\"},\"geo\":{\"bgcolor\":\"white\",\"lakecolor\":\"white\",\"landcolor\":\"#E5ECF6\",\"showlakes\":true,\"showland\":true,\"subunitcolor\":\"white\"},\"hoverlabel\":{\"align\":\"left\"},\"hovermode\":\"closest\",\"mapbox\":{\"style\":\"light\"},\"paper_bgcolor\":\"white\",\"plot_bgcolor\":\"#E5ECF6\",\"polar\":{\"angularaxis\":{\"gridcolor\":\"white\",\"linecolor\":\"white\",\"ticks\":\"\"},\"bgcolor\":\"#E5ECF6\",\"radialaxis\":{\"gridcolor\":\"white\",\"linecolor\":\"white\",\"ticks\":\"\"}},\"scene\":{\"xaxis\":{\"backgroundcolor\":\"#E5ECF6\",\"gridcolor\":\"white\",\"gridwidth\":2,\"linecolor\":\"white\",\"showbackground\":true,\"ticks\":\"\",\"zerolinecolor\":\"white\"},\"yaxis\":{\"backgroundcolor\":\"#E5ECF6\",\"gridcolor\":\"white\",\"gridwidth\":2,\"linecolor\":\"white\",\"showbackground\":true,\"ticks\":\"\",\"zerolinecolor\":\"white\"},\"zaxis\":{\"backgroundcolor\":\"#E5ECF6\",\"gridcolor\":\"white\",\"gridwidth\":2,\"linecolor\":\"white\",\"showbackground\":true,\"ticks\":\"\",\"zerolinecolor\":\"white\"}},\"shapedefaults\":{\"line\":{\"color\":\"#2a3f5f\"}},\"ternary\":{\"aaxis\":{\"gridcolor\":\"white\",\"linecolor\":\"white\",\"ticks\":\"\"},\"baxis\":{\"gridcolor\":\"white\",\"linecolor\":\"white\",\"ticks\":\"\"},\"bgcolor\":\"#E5ECF6\",\"caxis\":{\"gridcolor\":\"white\",\"linecolor\":\"white\",\"ticks\":\"\"}},\"title\":{\"x\":0.05},\"xaxis\":{\"automargin\":true,\"gridcolor\":\"white\",\"linecolor\":\"white\",\"ticks\":\"\",\"title\":{\"standoff\":15},\"zerolinecolor\":\"white\",\"zerolinewidth\":2},\"yaxis\":{\"automargin\":true,\"gridcolor\":\"white\",\"linecolor\":\"white\",\"ticks\":\"\",\"title\":{\"standoff\":15},\"zerolinecolor\":\"white\",\"zerolinewidth\":2}}},\"xaxis\":{\"anchor\":\"y\",\"domain\":[0.0,1.0],\"title\":{\"text\":\"Salario M\\u00eas\"}},\"yaxis\":{\"anchor\":\"x\",\"domain\":[0.0,1.0],\"title\":{\"text\":\"count\"}},\"legend\":{\"tracegroupgap\":0},\"margin\":{\"t\":60},\"barmode\":\"relative\"},                        {\"responsive\": true}                    ).then(function(){\n",
              "                            \n",
              "var gd = document.getElementById('4a1047fd-6359-4413-9651-396150db56a0');\n",
              "var x = new MutationObserver(function (mutations, observer) {{\n",
              "        var display = window.getComputedStyle(gd).display;\n",
              "        if (!display || display === 'none') {{\n",
              "            console.log([gd, 'removed!']);\n",
              "            Plotly.purge(gd);\n",
              "            observer.disconnect();\n",
              "        }}\n",
              "}});\n",
              "\n",
              "// Listen for the removal of the full notebook cells\n",
              "var notebookContainer = gd.closest('#notebook-container');\n",
              "if (notebookContainer) {{\n",
              "    x.observe(notebookContainer, {childList: true});\n",
              "}}\n",
              "\n",
              "// Listen for the clearing of the current output cell\n",
              "var outputEl = gd.closest('.output');\n",
              "if (outputEl) {{\n",
              "    x.observe(outputEl, {childList: true});\n",
              "}}\n",
              "\n",
              "                        })                };                            </script>        </div>\n",
              "</body>\n",
              "</html>"
            ]
          },
          "metadata": {},
          "output_type": "display_data"
        },
        {
          "data": {
            "text/html": [
              "<html>\n",
              "<head><meta charset=\"utf-8\" /></head>\n",
              "<body>\n",
              "    <div>            <script src=\"https://cdnjs.cloudflare.com/ajax/libs/mathjax/2.7.5/MathJax.js?config=TeX-AMS-MML_SVG\"></script><script type=\"text/javascript\">if (window.MathJax) {MathJax.Hub.Config({SVG: {font: \"STIX-Web\"}});}</script>                <script type=\"text/javascript\">window.PlotlyConfig = {MathJaxConfig: 'local'};</script>\n",
              "        <script src=\"https://cdn.plot.ly/plotly-2.8.3.min.js\"></script>                <div id=\"a9986031-73df-48ff-8819-59b69578cfb7\" class=\"plotly-graph-div\" style=\"height:525px; width:100%;\"></div>            <script type=\"text/javascript\">                                    window.PLOTLYENV=window.PLOTLYENV || {};                                    if (document.getElementById(\"a9986031-73df-48ff-8819-59b69578cfb7\")) {                    Plotly.newPlot(                        \"a9986031-73df-48ff-8819-59b69578cfb7\",                        [{\"alignmentgroup\":\"True\",\"bingroup\":\"x\",\"hovertemplate\":\"Estado Civil=%{x}<br>count=%{y}<extra></extra>\",\"legendgroup\":\"\",\"marker\":{\"color\":\"#636efa\",\"pattern\":{\"shape\":\"\"}},\"name\":\"\",\"offsetgroup\":\"\",\"orientation\":\"v\",\"showlegend\":false,\"x\":[3,3,3,3,3,3,3,3,3,3,3,0,3,0,3,3,0,0,3,3,0,3,3,3,3,3,3,3,3,3,4,2,4,3,0,1,3,0,0,3,3,3,0,3,3,3,3,3,3,1,3,3,3,3,3,3,3,0,0,3,3,3,0,3,3,3,3,3,3,3,3,0,3,1,3,3,3,3,3,3,3,3,3,3,3,3,3,3,3,3,3,3,3,3,3,3,3,3,3,0,0,0,3,3,0,3,3,3,3,0,0,0,0,3,3,3,3,3,3,0,3,3,3,3,3,3,3,3,0,0,3,3,0,3,3,0,0,3,2,3,3,3,0,3,0,0,3,0,0,3,3,3,3,0,0,3,3,0,3,3,3,3,0,0,3,1,3,1,3,3,3,0,3,3,0,3,3,3,3,3,3,3,1,3,3,3,3,3,3,3,3,3,3,3,3,0,3,3,3,3,3,3,3,3,3,0,0,0,3,3,0,3,3,3,3,3,3,3,0,0,3,3,0,3,0,1,3,0,3,3,3,3,0,3,3,3,3,1,0,0,3,0,3,3,3,3,3,3,0,1,3,3,3,0,0,3,0,3,0,3,3,3,0,0,3,3,3,0,1,3,3,3,3,3,3,0,0,3,0,3,3,3,3,3,3,3,3,0,0,0,3,3,0,3,4,1,0,3,3,3,3,3,0,3,3,3,0,3,3,3,3,0,0,3,0,3,3,0,3,3,3,0,3,3,3,3,3,0,3,3,3,3,3,3,3,0,3,3,3,0,3,1,3,0,3,0,0,3,3,3,3,3,0,3,3,3,3,3,3,3,3,0,3,0,3,3,3,0,3,3,3,1,3,3,0,3,3,3,3,3,3,0,3,3,0,0,3,3,3,3,3,1,3,3,3,3,3,3,0,0,3,3,3,3,0,3,3,3,3,3,3,3,0,3,0,3,0,0,3,3,0,3,3,3,3,0,3,3,0,0,3,3,3,0,3,3,0,0,3,0,0,0,0,3,3,3,3,3,3,3,3,3,0,3,3,3,3,3,3,3,3,3,3,3,3,0,3,3,0,0,3,0,3,3,0],\"xaxis\":\"x\",\"yaxis\":\"y\",\"type\":\"histogram\"}],                        {\"template\":{\"data\":{\"bar\":[{\"error_x\":{\"color\":\"#2a3f5f\"},\"error_y\":{\"color\":\"#2a3f5f\"},\"marker\":{\"line\":{\"color\":\"#E5ECF6\",\"width\":0.5},\"pattern\":{\"fillmode\":\"overlay\",\"size\":10,\"solidity\":0.2}},\"type\":\"bar\"}],\"barpolar\":[{\"marker\":{\"line\":{\"color\":\"#E5ECF6\",\"width\":0.5},\"pattern\":{\"fillmode\":\"overlay\",\"size\":10,\"solidity\":0.2}},\"type\":\"barpolar\"}],\"carpet\":[{\"aaxis\":{\"endlinecolor\":\"#2a3f5f\",\"gridcolor\":\"white\",\"linecolor\":\"white\",\"minorgridcolor\":\"white\",\"startlinecolor\":\"#2a3f5f\"},\"baxis\":{\"endlinecolor\":\"#2a3f5f\",\"gridcolor\":\"white\",\"linecolor\":\"white\",\"minorgridcolor\":\"white\",\"startlinecolor\":\"#2a3f5f\"},\"type\":\"carpet\"}],\"choropleth\":[{\"colorbar\":{\"outlinewidth\":0,\"ticks\":\"\"},\"type\":\"choropleth\"}],\"contour\":[{\"colorbar\":{\"outlinewidth\":0,\"ticks\":\"\"},\"colorscale\":[[0.0,\"#0d0887\"],[0.1111111111111111,\"#46039f\"],[0.2222222222222222,\"#7201a8\"],[0.3333333333333333,\"#9c179e\"],[0.4444444444444444,\"#bd3786\"],[0.5555555555555556,\"#d8576b\"],[0.6666666666666666,\"#ed7953\"],[0.7777777777777778,\"#fb9f3a\"],[0.8888888888888888,\"#fdca26\"],[1.0,\"#f0f921\"]],\"type\":\"contour\"}],\"contourcarpet\":[{\"colorbar\":{\"outlinewidth\":0,\"ticks\":\"\"},\"type\":\"contourcarpet\"}],\"heatmap\":[{\"colorbar\":{\"outlinewidth\":0,\"ticks\":\"\"},\"colorscale\":[[0.0,\"#0d0887\"],[0.1111111111111111,\"#46039f\"],[0.2222222222222222,\"#7201a8\"],[0.3333333333333333,\"#9c179e\"],[0.4444444444444444,\"#bd3786\"],[0.5555555555555556,\"#d8576b\"],[0.6666666666666666,\"#ed7953\"],[0.7777777777777778,\"#fb9f3a\"],[0.8888888888888888,\"#fdca26\"],[1.0,\"#f0f921\"]],\"type\":\"heatmap\"}],\"heatmapgl\":[{\"colorbar\":{\"outlinewidth\":0,\"ticks\":\"\"},\"colorscale\":[[0.0,\"#0d0887\"],[0.1111111111111111,\"#46039f\"],[0.2222222222222222,\"#7201a8\"],[0.3333333333333333,\"#9c179e\"],[0.4444444444444444,\"#bd3786\"],[0.5555555555555556,\"#d8576b\"],[0.6666666666666666,\"#ed7953\"],[0.7777777777777778,\"#fb9f3a\"],[0.8888888888888888,\"#fdca26\"],[1.0,\"#f0f921\"]],\"type\":\"heatmapgl\"}],\"histogram\":[{\"marker\":{\"pattern\":{\"fillmode\":\"overlay\",\"size\":10,\"solidity\":0.2}},\"type\":\"histogram\"}],\"histogram2d\":[{\"colorbar\":{\"outlinewidth\":0,\"ticks\":\"\"},\"colorscale\":[[0.0,\"#0d0887\"],[0.1111111111111111,\"#46039f\"],[0.2222222222222222,\"#7201a8\"],[0.3333333333333333,\"#9c179e\"],[0.4444444444444444,\"#bd3786\"],[0.5555555555555556,\"#d8576b\"],[0.6666666666666666,\"#ed7953\"],[0.7777777777777778,\"#fb9f3a\"],[0.8888888888888888,\"#fdca26\"],[1.0,\"#f0f921\"]],\"type\":\"histogram2d\"}],\"histogram2dcontour\":[{\"colorbar\":{\"outlinewidth\":0,\"ticks\":\"\"},\"colorscale\":[[0.0,\"#0d0887\"],[0.1111111111111111,\"#46039f\"],[0.2222222222222222,\"#7201a8\"],[0.3333333333333333,\"#9c179e\"],[0.4444444444444444,\"#bd3786\"],[0.5555555555555556,\"#d8576b\"],[0.6666666666666666,\"#ed7953\"],[0.7777777777777778,\"#fb9f3a\"],[0.8888888888888888,\"#fdca26\"],[1.0,\"#f0f921\"]],\"type\":\"histogram2dcontour\"}],\"mesh3d\":[{\"colorbar\":{\"outlinewidth\":0,\"ticks\":\"\"},\"type\":\"mesh3d\"}],\"parcoords\":[{\"line\":{\"colorbar\":{\"outlinewidth\":0,\"ticks\":\"\"}},\"type\":\"parcoords\"}],\"pie\":[{\"automargin\":true,\"type\":\"pie\"}],\"scatter\":[{\"marker\":{\"colorbar\":{\"outlinewidth\":0,\"ticks\":\"\"}},\"type\":\"scatter\"}],\"scatter3d\":[{\"line\":{\"colorbar\":{\"outlinewidth\":0,\"ticks\":\"\"}},\"marker\":{\"colorbar\":{\"outlinewidth\":0,\"ticks\":\"\"}},\"type\":\"scatter3d\"}],\"scattercarpet\":[{\"marker\":{\"colorbar\":{\"outlinewidth\":0,\"ticks\":\"\"}},\"type\":\"scattercarpet\"}],\"scattergeo\":[{\"marker\":{\"colorbar\":{\"outlinewidth\":0,\"ticks\":\"\"}},\"type\":\"scattergeo\"}],\"scattergl\":[{\"marker\":{\"colorbar\":{\"outlinewidth\":0,\"ticks\":\"\"}},\"type\":\"scattergl\"}],\"scattermapbox\":[{\"marker\":{\"colorbar\":{\"outlinewidth\":0,\"ticks\":\"\"}},\"type\":\"scattermapbox\"}],\"scatterpolar\":[{\"marker\":{\"colorbar\":{\"outlinewidth\":0,\"ticks\":\"\"}},\"type\":\"scatterpolar\"}],\"scatterpolargl\":[{\"marker\":{\"colorbar\":{\"outlinewidth\":0,\"ticks\":\"\"}},\"type\":\"scatterpolargl\"}],\"scatterternary\":[{\"marker\":{\"colorbar\":{\"outlinewidth\":0,\"ticks\":\"\"}},\"type\":\"scatterternary\"}],\"surface\":[{\"colorbar\":{\"outlinewidth\":0,\"ticks\":\"\"},\"colorscale\":[[0.0,\"#0d0887\"],[0.1111111111111111,\"#46039f\"],[0.2222222222222222,\"#7201a8\"],[0.3333333333333333,\"#9c179e\"],[0.4444444444444444,\"#bd3786\"],[0.5555555555555556,\"#d8576b\"],[0.6666666666666666,\"#ed7953\"],[0.7777777777777778,\"#fb9f3a\"],[0.8888888888888888,\"#fdca26\"],[1.0,\"#f0f921\"]],\"type\":\"surface\"}],\"table\":[{\"cells\":{\"fill\":{\"color\":\"#EBF0F8\"},\"line\":{\"color\":\"white\"}},\"header\":{\"fill\":{\"color\":\"#C8D4E3\"},\"line\":{\"color\":\"white\"}},\"type\":\"table\"}]},\"layout\":{\"annotationdefaults\":{\"arrowcolor\":\"#2a3f5f\",\"arrowhead\":0,\"arrowwidth\":1},\"autotypenumbers\":\"strict\",\"coloraxis\":{\"colorbar\":{\"outlinewidth\":0,\"ticks\":\"\"}},\"colorscale\":{\"diverging\":[[0,\"#8e0152\"],[0.1,\"#c51b7d\"],[0.2,\"#de77ae\"],[0.3,\"#f1b6da\"],[0.4,\"#fde0ef\"],[0.5,\"#f7f7f7\"],[0.6,\"#e6f5d0\"],[0.7,\"#b8e186\"],[0.8,\"#7fbc41\"],[0.9,\"#4d9221\"],[1,\"#276419\"]],\"sequential\":[[0.0,\"#0d0887\"],[0.1111111111111111,\"#46039f\"],[0.2222222222222222,\"#7201a8\"],[0.3333333333333333,\"#9c179e\"],[0.4444444444444444,\"#bd3786\"],[0.5555555555555556,\"#d8576b\"],[0.6666666666666666,\"#ed7953\"],[0.7777777777777778,\"#fb9f3a\"],[0.8888888888888888,\"#fdca26\"],[1.0,\"#f0f921\"]],\"sequentialminus\":[[0.0,\"#0d0887\"],[0.1111111111111111,\"#46039f\"],[0.2222222222222222,\"#7201a8\"],[0.3333333333333333,\"#9c179e\"],[0.4444444444444444,\"#bd3786\"],[0.5555555555555556,\"#d8576b\"],[0.6666666666666666,\"#ed7953\"],[0.7777777777777778,\"#fb9f3a\"],[0.8888888888888888,\"#fdca26\"],[1.0,\"#f0f921\"]]},\"colorway\":[\"#636efa\",\"#EF553B\",\"#00cc96\",\"#ab63fa\",\"#FFA15A\",\"#19d3f3\",\"#FF6692\",\"#B6E880\",\"#FF97FF\",\"#FECB52\"],\"font\":{\"color\":\"#2a3f5f\"},\"geo\":{\"bgcolor\":\"white\",\"lakecolor\":\"white\",\"landcolor\":\"#E5ECF6\",\"showlakes\":true,\"showland\":true,\"subunitcolor\":\"white\"},\"hoverlabel\":{\"align\":\"left\"},\"hovermode\":\"closest\",\"mapbox\":{\"style\":\"light\"},\"paper_bgcolor\":\"white\",\"plot_bgcolor\":\"#E5ECF6\",\"polar\":{\"angularaxis\":{\"gridcolor\":\"white\",\"linecolor\":\"white\",\"ticks\":\"\"},\"bgcolor\":\"#E5ECF6\",\"radialaxis\":{\"gridcolor\":\"white\",\"linecolor\":\"white\",\"ticks\":\"\"}},\"scene\":{\"xaxis\":{\"backgroundcolor\":\"#E5ECF6\",\"gridcolor\":\"white\",\"gridwidth\":2,\"linecolor\":\"white\",\"showbackground\":true,\"ticks\":\"\",\"zerolinecolor\":\"white\"},\"yaxis\":{\"backgroundcolor\":\"#E5ECF6\",\"gridcolor\":\"white\",\"gridwidth\":2,\"linecolor\":\"white\",\"showbackground\":true,\"ticks\":\"\",\"zerolinecolor\":\"white\"},\"zaxis\":{\"backgroundcolor\":\"#E5ECF6\",\"gridcolor\":\"white\",\"gridwidth\":2,\"linecolor\":\"white\",\"showbackground\":true,\"ticks\":\"\",\"zerolinecolor\":\"white\"}},\"shapedefaults\":{\"line\":{\"color\":\"#2a3f5f\"}},\"ternary\":{\"aaxis\":{\"gridcolor\":\"white\",\"linecolor\":\"white\",\"ticks\":\"\"},\"baxis\":{\"gridcolor\":\"white\",\"linecolor\":\"white\",\"ticks\":\"\"},\"bgcolor\":\"#E5ECF6\",\"caxis\":{\"gridcolor\":\"white\",\"linecolor\":\"white\",\"ticks\":\"\"}},\"title\":{\"x\":0.05},\"xaxis\":{\"automargin\":true,\"gridcolor\":\"white\",\"linecolor\":\"white\",\"ticks\":\"\",\"title\":{\"standoff\":15},\"zerolinecolor\":\"white\",\"zerolinewidth\":2},\"yaxis\":{\"automargin\":true,\"gridcolor\":\"white\",\"linecolor\":\"white\",\"ticks\":\"\",\"title\":{\"standoff\":15},\"zerolinecolor\":\"white\",\"zerolinewidth\":2}}},\"xaxis\":{\"anchor\":\"y\",\"domain\":[0.0,1.0],\"title\":{\"text\":\"Estado Civil\"}},\"yaxis\":{\"anchor\":\"x\",\"domain\":[0.0,1.0],\"title\":{\"text\":\"count\"}},\"legend\":{\"tracegroupgap\":0},\"margin\":{\"t\":60},\"barmode\":\"relative\"},                        {\"responsive\": true}                    ).then(function(){\n",
              "                            \n",
              "var gd = document.getElementById('a9986031-73df-48ff-8819-59b69578cfb7');\n",
              "var x = new MutationObserver(function (mutations, observer) {{\n",
              "        var display = window.getComputedStyle(gd).display;\n",
              "        if (!display || display === 'none') {{\n",
              "            console.log([gd, 'removed!']);\n",
              "            Plotly.purge(gd);\n",
              "            observer.disconnect();\n",
              "        }}\n",
              "}});\n",
              "\n",
              "// Listen for the removal of the full notebook cells\n",
              "var notebookContainer = gd.closest('#notebook-container');\n",
              "if (notebookContainer) {{\n",
              "    x.observe(notebookContainer, {childList: true});\n",
              "}}\n",
              "\n",
              "// Listen for the clearing of the current output cell\n",
              "var outputEl = gd.closest('.output');\n",
              "if (outputEl) {{\n",
              "    x.observe(outputEl, {childList: true});\n",
              "}}\n",
              "\n",
              "                        })                };                            </script>        </div>\n",
              "</body>\n",
              "</html>"
            ]
          },
          "metadata": {},
          "output_type": "display_data"
        },
        {
          "data": {
            "text/html": [
              "<html>\n",
              "<head><meta charset=\"utf-8\" /></head>\n",
              "<body>\n",
              "    <div>            <script src=\"https://cdnjs.cloudflare.com/ajax/libs/mathjax/2.7.5/MathJax.js?config=TeX-AMS-MML_SVG\"></script><script type=\"text/javascript\">if (window.MathJax) {MathJax.Hub.Config({SVG: {font: \"STIX-Web\"}});}</script>                <script type=\"text/javascript\">window.PlotlyConfig = {MathJaxConfig: 'local'};</script>\n",
              "        <script src=\"https://cdn.plot.ly/plotly-2.8.3.min.js\"></script>                <div id=\"c9033c11-a173-4ef3-8609-d1511a89c9d2\" class=\"plotly-graph-div\" style=\"height:525px; width:100%;\"></div>            <script type=\"text/javascript\">                                    window.PLOTLYENV=window.PLOTLYENV || {};                                    if (document.getElementById(\"c9033c11-a173-4ef3-8609-d1511a89c9d2\")) {                    Plotly.newPlot(                        \"c9033c11-a173-4ef3-8609-d1511a89c9d2\",                        [{\"alignmentgroup\":\"True\",\"bingroup\":\"x\",\"hovertemplate\":\"Escolaridade =%{x}<br>count=%{y}<extra></extra>\",\"legendgroup\":\"\",\"marker\":{\"color\":\"#636efa\",\"pattern\":{\"shape\":\"\"}},\"name\":\"\",\"offsetgroup\":\"\",\"orientation\":\"v\",\"showlegend\":false,\"x\":[2,2,2,2,2,2,2,2,2,2,2,2,2,2,2,2,2,2,2,2,4,2,2,2,2,2,2,2,2,2,4,2,2,2,4,2,2,2,2,2,2,5,4,2,2,2,5,5,5,5,2,5,2,4,5,2,2,2,2,2,2,2,2,2,2,2,2,2,2,2,2,2,2,2,2,2,2,2,5,2,5,2,5,5,2,2,2,2,5,2,2,5,5,2,5,2,2,2,2,2,2,2,2,2,2,4,6,5,4,5,4,4,2,2,2,2,4,2,2,2,2,2,2,5,2,2,4,2,2,4,2,2,2,2,2,2,2,2,2,2,2,2,2,2,2,4,5,2,5,2,2,4,5,2,2,2,2,4,2,2,0,2,2,2,2,2,2,2,2,2,2,2,2,2,2,5,2,5,5,3,4,4,2,2,5,2,2,2,5,5,2,5,5,2,4,5,5,2,2,2,2,5,2,2,2,2,2,2,2,2,4,2,5,5,2,5,2,4,4,3,2,2,4,2,2,2,2,2,5,2,5,2,2,2,4,2,2,4,1,2,2,4,2,4,4,5,2,2,3,4,2,4,2,2,2,2,2,5,2,2,2,2,2,4,2,4,2,2,2,2,2,2,2,0,2,2,2,2,2,2,5,2,2,5,5,5,5,2,2,2,2,2,2,5,4,2,2,2,5,2,2,2,2,5,2,2,2,5,2,2,2,2,2,2,2,5,2,2,5,5,2,2,5,5,5,5,5,2,2,5,5,5,5,5,5,2,5,5,5,2,2,5,4,2,5,2,5,5,5,0,5,5,5,5,5,5,5,5,5,2,5,5,5,5,5,5,5,5,5,5,5,4,5,5,5,5,2,5,5,5,5,5,5,2,4,5,5,5,2,2,5,5,5,5,2,5,5,2,4,4,2,5,2,5,2,5,5,2,2,2,2,5,4,5,2,5,2,2,2,2,5,5,4,2,2,5,5,2,4,5,2,5,5,4,5,2,2,4,5,5,2,5,5,4,4,5,5,5,5,5,5,5,2,5,5,5,5,4,2,5,5,5,5,5,2,5,5,5,5,2,4,5,4,5,2],\"xaxis\":\"x\",\"yaxis\":\"y\",\"type\":\"histogram\"}],                        {\"template\":{\"data\":{\"bar\":[{\"error_x\":{\"color\":\"#2a3f5f\"},\"error_y\":{\"color\":\"#2a3f5f\"},\"marker\":{\"line\":{\"color\":\"#E5ECF6\",\"width\":0.5},\"pattern\":{\"fillmode\":\"overlay\",\"size\":10,\"solidity\":0.2}},\"type\":\"bar\"}],\"barpolar\":[{\"marker\":{\"line\":{\"color\":\"#E5ECF6\",\"width\":0.5},\"pattern\":{\"fillmode\":\"overlay\",\"size\":10,\"solidity\":0.2}},\"type\":\"barpolar\"}],\"carpet\":[{\"aaxis\":{\"endlinecolor\":\"#2a3f5f\",\"gridcolor\":\"white\",\"linecolor\":\"white\",\"minorgridcolor\":\"white\",\"startlinecolor\":\"#2a3f5f\"},\"baxis\":{\"endlinecolor\":\"#2a3f5f\",\"gridcolor\":\"white\",\"linecolor\":\"white\",\"minorgridcolor\":\"white\",\"startlinecolor\":\"#2a3f5f\"},\"type\":\"carpet\"}],\"choropleth\":[{\"colorbar\":{\"outlinewidth\":0,\"ticks\":\"\"},\"type\":\"choropleth\"}],\"contour\":[{\"colorbar\":{\"outlinewidth\":0,\"ticks\":\"\"},\"colorscale\":[[0.0,\"#0d0887\"],[0.1111111111111111,\"#46039f\"],[0.2222222222222222,\"#7201a8\"],[0.3333333333333333,\"#9c179e\"],[0.4444444444444444,\"#bd3786\"],[0.5555555555555556,\"#d8576b\"],[0.6666666666666666,\"#ed7953\"],[0.7777777777777778,\"#fb9f3a\"],[0.8888888888888888,\"#fdca26\"],[1.0,\"#f0f921\"]],\"type\":\"contour\"}],\"contourcarpet\":[{\"colorbar\":{\"outlinewidth\":0,\"ticks\":\"\"},\"type\":\"contourcarpet\"}],\"heatmap\":[{\"colorbar\":{\"outlinewidth\":0,\"ticks\":\"\"},\"colorscale\":[[0.0,\"#0d0887\"],[0.1111111111111111,\"#46039f\"],[0.2222222222222222,\"#7201a8\"],[0.3333333333333333,\"#9c179e\"],[0.4444444444444444,\"#bd3786\"],[0.5555555555555556,\"#d8576b\"],[0.6666666666666666,\"#ed7953\"],[0.7777777777777778,\"#fb9f3a\"],[0.8888888888888888,\"#fdca26\"],[1.0,\"#f0f921\"]],\"type\":\"heatmap\"}],\"heatmapgl\":[{\"colorbar\":{\"outlinewidth\":0,\"ticks\":\"\"},\"colorscale\":[[0.0,\"#0d0887\"],[0.1111111111111111,\"#46039f\"],[0.2222222222222222,\"#7201a8\"],[0.3333333333333333,\"#9c179e\"],[0.4444444444444444,\"#bd3786\"],[0.5555555555555556,\"#d8576b\"],[0.6666666666666666,\"#ed7953\"],[0.7777777777777778,\"#fb9f3a\"],[0.8888888888888888,\"#fdca26\"],[1.0,\"#f0f921\"]],\"type\":\"heatmapgl\"}],\"histogram\":[{\"marker\":{\"pattern\":{\"fillmode\":\"overlay\",\"size\":10,\"solidity\":0.2}},\"type\":\"histogram\"}],\"histogram2d\":[{\"colorbar\":{\"outlinewidth\":0,\"ticks\":\"\"},\"colorscale\":[[0.0,\"#0d0887\"],[0.1111111111111111,\"#46039f\"],[0.2222222222222222,\"#7201a8\"],[0.3333333333333333,\"#9c179e\"],[0.4444444444444444,\"#bd3786\"],[0.5555555555555556,\"#d8576b\"],[0.6666666666666666,\"#ed7953\"],[0.7777777777777778,\"#fb9f3a\"],[0.8888888888888888,\"#fdca26\"],[1.0,\"#f0f921\"]],\"type\":\"histogram2d\"}],\"histogram2dcontour\":[{\"colorbar\":{\"outlinewidth\":0,\"ticks\":\"\"},\"colorscale\":[[0.0,\"#0d0887\"],[0.1111111111111111,\"#46039f\"],[0.2222222222222222,\"#7201a8\"],[0.3333333333333333,\"#9c179e\"],[0.4444444444444444,\"#bd3786\"],[0.5555555555555556,\"#d8576b\"],[0.6666666666666666,\"#ed7953\"],[0.7777777777777778,\"#fb9f3a\"],[0.8888888888888888,\"#fdca26\"],[1.0,\"#f0f921\"]],\"type\":\"histogram2dcontour\"}],\"mesh3d\":[{\"colorbar\":{\"outlinewidth\":0,\"ticks\":\"\"},\"type\":\"mesh3d\"}],\"parcoords\":[{\"line\":{\"colorbar\":{\"outlinewidth\":0,\"ticks\":\"\"}},\"type\":\"parcoords\"}],\"pie\":[{\"automargin\":true,\"type\":\"pie\"}],\"scatter\":[{\"marker\":{\"colorbar\":{\"outlinewidth\":0,\"ticks\":\"\"}},\"type\":\"scatter\"}],\"scatter3d\":[{\"line\":{\"colorbar\":{\"outlinewidth\":0,\"ticks\":\"\"}},\"marker\":{\"colorbar\":{\"outlinewidth\":0,\"ticks\":\"\"}},\"type\":\"scatter3d\"}],\"scattercarpet\":[{\"marker\":{\"colorbar\":{\"outlinewidth\":0,\"ticks\":\"\"}},\"type\":\"scattercarpet\"}],\"scattergeo\":[{\"marker\":{\"colorbar\":{\"outlinewidth\":0,\"ticks\":\"\"}},\"type\":\"scattergeo\"}],\"scattergl\":[{\"marker\":{\"colorbar\":{\"outlinewidth\":0,\"ticks\":\"\"}},\"type\":\"scattergl\"}],\"scattermapbox\":[{\"marker\":{\"colorbar\":{\"outlinewidth\":0,\"ticks\":\"\"}},\"type\":\"scattermapbox\"}],\"scatterpolar\":[{\"marker\":{\"colorbar\":{\"outlinewidth\":0,\"ticks\":\"\"}},\"type\":\"scatterpolar\"}],\"scatterpolargl\":[{\"marker\":{\"colorbar\":{\"outlinewidth\":0,\"ticks\":\"\"}},\"type\":\"scatterpolargl\"}],\"scatterternary\":[{\"marker\":{\"colorbar\":{\"outlinewidth\":0,\"ticks\":\"\"}},\"type\":\"scatterternary\"}],\"surface\":[{\"colorbar\":{\"outlinewidth\":0,\"ticks\":\"\"},\"colorscale\":[[0.0,\"#0d0887\"],[0.1111111111111111,\"#46039f\"],[0.2222222222222222,\"#7201a8\"],[0.3333333333333333,\"#9c179e\"],[0.4444444444444444,\"#bd3786\"],[0.5555555555555556,\"#d8576b\"],[0.6666666666666666,\"#ed7953\"],[0.7777777777777778,\"#fb9f3a\"],[0.8888888888888888,\"#fdca26\"],[1.0,\"#f0f921\"]],\"type\":\"surface\"}],\"table\":[{\"cells\":{\"fill\":{\"color\":\"#EBF0F8\"},\"line\":{\"color\":\"white\"}},\"header\":{\"fill\":{\"color\":\"#C8D4E3\"},\"line\":{\"color\":\"white\"}},\"type\":\"table\"}]},\"layout\":{\"annotationdefaults\":{\"arrowcolor\":\"#2a3f5f\",\"arrowhead\":0,\"arrowwidth\":1},\"autotypenumbers\":\"strict\",\"coloraxis\":{\"colorbar\":{\"outlinewidth\":0,\"ticks\":\"\"}},\"colorscale\":{\"diverging\":[[0,\"#8e0152\"],[0.1,\"#c51b7d\"],[0.2,\"#de77ae\"],[0.3,\"#f1b6da\"],[0.4,\"#fde0ef\"],[0.5,\"#f7f7f7\"],[0.6,\"#e6f5d0\"],[0.7,\"#b8e186\"],[0.8,\"#7fbc41\"],[0.9,\"#4d9221\"],[1,\"#276419\"]],\"sequential\":[[0.0,\"#0d0887\"],[0.1111111111111111,\"#46039f\"],[0.2222222222222222,\"#7201a8\"],[0.3333333333333333,\"#9c179e\"],[0.4444444444444444,\"#bd3786\"],[0.5555555555555556,\"#d8576b\"],[0.6666666666666666,\"#ed7953\"],[0.7777777777777778,\"#fb9f3a\"],[0.8888888888888888,\"#fdca26\"],[1.0,\"#f0f921\"]],\"sequentialminus\":[[0.0,\"#0d0887\"],[0.1111111111111111,\"#46039f\"],[0.2222222222222222,\"#7201a8\"],[0.3333333333333333,\"#9c179e\"],[0.4444444444444444,\"#bd3786\"],[0.5555555555555556,\"#d8576b\"],[0.6666666666666666,\"#ed7953\"],[0.7777777777777778,\"#fb9f3a\"],[0.8888888888888888,\"#fdca26\"],[1.0,\"#f0f921\"]]},\"colorway\":[\"#636efa\",\"#EF553B\",\"#00cc96\",\"#ab63fa\",\"#FFA15A\",\"#19d3f3\",\"#FF6692\",\"#B6E880\",\"#FF97FF\",\"#FECB52\"],\"font\":{\"color\":\"#2a3f5f\"},\"geo\":{\"bgcolor\":\"white\",\"lakecolor\":\"white\",\"landcolor\":\"#E5ECF6\",\"showlakes\":true,\"showland\":true,\"subunitcolor\":\"white\"},\"hoverlabel\":{\"align\":\"left\"},\"hovermode\":\"closest\",\"mapbox\":{\"style\":\"light\"},\"paper_bgcolor\":\"white\",\"plot_bgcolor\":\"#E5ECF6\",\"polar\":{\"angularaxis\":{\"gridcolor\":\"white\",\"linecolor\":\"white\",\"ticks\":\"\"},\"bgcolor\":\"#E5ECF6\",\"radialaxis\":{\"gridcolor\":\"white\",\"linecolor\":\"white\",\"ticks\":\"\"}},\"scene\":{\"xaxis\":{\"backgroundcolor\":\"#E5ECF6\",\"gridcolor\":\"white\",\"gridwidth\":2,\"linecolor\":\"white\",\"showbackground\":true,\"ticks\":\"\",\"zerolinecolor\":\"white\"},\"yaxis\":{\"backgroundcolor\":\"#E5ECF6\",\"gridcolor\":\"white\",\"gridwidth\":2,\"linecolor\":\"white\",\"showbackground\":true,\"ticks\":\"\",\"zerolinecolor\":\"white\"},\"zaxis\":{\"backgroundcolor\":\"#E5ECF6\",\"gridcolor\":\"white\",\"gridwidth\":2,\"linecolor\":\"white\",\"showbackground\":true,\"ticks\":\"\",\"zerolinecolor\":\"white\"}},\"shapedefaults\":{\"line\":{\"color\":\"#2a3f5f\"}},\"ternary\":{\"aaxis\":{\"gridcolor\":\"white\",\"linecolor\":\"white\",\"ticks\":\"\"},\"baxis\":{\"gridcolor\":\"white\",\"linecolor\":\"white\",\"ticks\":\"\"},\"bgcolor\":\"#E5ECF6\",\"caxis\":{\"gridcolor\":\"white\",\"linecolor\":\"white\",\"ticks\":\"\"}},\"title\":{\"x\":0.05},\"xaxis\":{\"automargin\":true,\"gridcolor\":\"white\",\"linecolor\":\"white\",\"ticks\":\"\",\"title\":{\"standoff\":15},\"zerolinecolor\":\"white\",\"zerolinewidth\":2},\"yaxis\":{\"automargin\":true,\"gridcolor\":\"white\",\"linecolor\":\"white\",\"ticks\":\"\",\"title\":{\"standoff\":15},\"zerolinecolor\":\"white\",\"zerolinewidth\":2}}},\"xaxis\":{\"anchor\":\"y\",\"domain\":[0.0,1.0],\"title\":{\"text\":\"Escolaridade \"}},\"yaxis\":{\"anchor\":\"x\",\"domain\":[0.0,1.0],\"title\":{\"text\":\"count\"}},\"legend\":{\"tracegroupgap\":0},\"margin\":{\"t\":60},\"barmode\":\"relative\"},                        {\"responsive\": true}                    ).then(function(){\n",
              "                            \n",
              "var gd = document.getElementById('c9033c11-a173-4ef3-8609-d1511a89c9d2');\n",
              "var x = new MutationObserver(function (mutations, observer) {{\n",
              "        var display = window.getComputedStyle(gd).display;\n",
              "        if (!display || display === 'none') {{\n",
              "            console.log([gd, 'removed!']);\n",
              "            Plotly.purge(gd);\n",
              "            observer.disconnect();\n",
              "        }}\n",
              "}});\n",
              "\n",
              "// Listen for the removal of the full notebook cells\n",
              "var notebookContainer = gd.closest('#notebook-container');\n",
              "if (notebookContainer) {{\n",
              "    x.observe(notebookContainer, {childList: true});\n",
              "}}\n",
              "\n",
              "// Listen for the clearing of the current output cell\n",
              "var outputEl = gd.closest('.output');\n",
              "if (outputEl) {{\n",
              "    x.observe(outputEl, {childList: true});\n",
              "}}\n",
              "\n",
              "                        })                };                            </script>        </div>\n",
              "</body>\n",
              "</html>"
            ]
          },
          "metadata": {},
          "output_type": "display_data"
        },
        {
          "data": {
            "text/html": [
              "<html>\n",
              "<head><meta charset=\"utf-8\" /></head>\n",
              "<body>\n",
              "    <div>            <script src=\"https://cdnjs.cloudflare.com/ajax/libs/mathjax/2.7.5/MathJax.js?config=TeX-AMS-MML_SVG\"></script><script type=\"text/javascript\">if (window.MathJax) {MathJax.Hub.Config({SVG: {font: \"STIX-Web\"}});}</script>                <script type=\"text/javascript\">window.PlotlyConfig = {MathJaxConfig: 'local'};</script>\n",
              "        <script src=\"https://cdn.plot.ly/plotly-2.8.3.min.js\"></script>                <div id=\"0d7b2840-6356-4342-8a95-2e5d6e41c47d\" class=\"plotly-graph-div\" style=\"height:525px; width:100%;\"></div>            <script type=\"text/javascript\">                                    window.PLOTLYENV=window.PLOTLYENV || {};                                    if (document.getElementById(\"0d7b2840-6356-4342-8a95-2e5d6e41c47d\")) {                    Plotly.newPlot(                        \"0d7b2840-6356-4342-8a95-2e5d6e41c47d\",                        [{\"alignmentgroup\":\"True\",\"bingroup\":\"x\",\"hovertemplate\":\"Idade=%{x}<br>count=%{y}<extra></extra>\",\"legendgroup\":\"\",\"marker\":{\"color\":\"#636efa\",\"pattern\":{\"shape\":\"\"}},\"name\":\"\",\"offsetgroup\":\"\",\"orientation\":\"v\",\"showlegend\":false,\"x\":[30,31,34,36,28,34,30,25,28,24,41,40,30,35,31,32,55,41,29,49,39,27,25,35,23,25,24,31,28,33,35,40,34,29,33,34,30,32,38,27,27,23,51,30,25,24,32,23,26,28,30,24,27,32,23,28,29,36,38,24,36,37,35,22,23,25,30,24,24,31,39,31,36,39,44,24,28,24,31,28,24,28,24,25,26,26,23,25,23,23,27,22,24,34,22,26,25,34,25,39,39,27,26,29,39,26,31,21,31,37,40,32,41,24,26,24,37,23,37,30,27,30,27,22,32,25,26,30,33,35,32,26,38,35,37,35,34,26,42,32,31,34,27,21,38,40,21,40,25,35,43,27,23,36,37,25,23,41,22,31,26,26,27,32,30,36,23,40,30,25,36,36,28,27,33,26,32,23,34,46,35,35,38,25,35,49,27,28,26,25,31,20,22,20,31,21,31,25,21,28,23,21,29,22,29,40,23,29,34,22,61,31,25,27,33,31,33,34,55,43,24,36,51,38,46,51,30,41,20,21,21,31,34,28,36,30,31,32,51,42,28,54,36,39,48,33,29,24,48,34,30,31,29,32,57,31,42,21,28,25,31,41,40,27,44,39,26,32,34,24,37,27,32,18,22,30,37,28,40,29,18,27,41,24,21,22,43,43,42,39,28,27,42,29,44,49,27,32,24,32,26,28,41,21,25,21,37,19,26,30,22,48,32,40,43,19,33,30,21,23,30,32,23,21,21,22,22,29,25,20,20,23,26,21,22,44,22,21,33,31,34,28,52,31,26,35,33,27,22,21,22,19,39,24,29,28,23,21,19,40,19,29,30,31,25,31,19,27,19,25,25,52,29,33,29,21,32,19,21,20,28,32,22,27,45,36,27,23,36,25,28,53,36,24,30,22,23,35,37,33,26,21,23,31,29,30,19,28,31,45,33,31,50,22,35,35,31,64,33,36,37,22,27,22,36,33,33,24,33,23,31,20,23,45,23,33,20,29,22,30,36,32,26,28,26,23,19,19,30,38,20,23,32,27,22,26,27,26,24,20,24,19,32,35,30,55,20,27,24,38,29,41,30,32,65],\"xaxis\":\"x\",\"yaxis\":\"y\",\"type\":\"histogram\"}],                        {\"template\":{\"data\":{\"bar\":[{\"error_x\":{\"color\":\"#2a3f5f\"},\"error_y\":{\"color\":\"#2a3f5f\"},\"marker\":{\"line\":{\"color\":\"#E5ECF6\",\"width\":0.5},\"pattern\":{\"fillmode\":\"overlay\",\"size\":10,\"solidity\":0.2}},\"type\":\"bar\"}],\"barpolar\":[{\"marker\":{\"line\":{\"color\":\"#E5ECF6\",\"width\":0.5},\"pattern\":{\"fillmode\":\"overlay\",\"size\":10,\"solidity\":0.2}},\"type\":\"barpolar\"}],\"carpet\":[{\"aaxis\":{\"endlinecolor\":\"#2a3f5f\",\"gridcolor\":\"white\",\"linecolor\":\"white\",\"minorgridcolor\":\"white\",\"startlinecolor\":\"#2a3f5f\"},\"baxis\":{\"endlinecolor\":\"#2a3f5f\",\"gridcolor\":\"white\",\"linecolor\":\"white\",\"minorgridcolor\":\"white\",\"startlinecolor\":\"#2a3f5f\"},\"type\":\"carpet\"}],\"choropleth\":[{\"colorbar\":{\"outlinewidth\":0,\"ticks\":\"\"},\"type\":\"choropleth\"}],\"contour\":[{\"colorbar\":{\"outlinewidth\":0,\"ticks\":\"\"},\"colorscale\":[[0.0,\"#0d0887\"],[0.1111111111111111,\"#46039f\"],[0.2222222222222222,\"#7201a8\"],[0.3333333333333333,\"#9c179e\"],[0.4444444444444444,\"#bd3786\"],[0.5555555555555556,\"#d8576b\"],[0.6666666666666666,\"#ed7953\"],[0.7777777777777778,\"#fb9f3a\"],[0.8888888888888888,\"#fdca26\"],[1.0,\"#f0f921\"]],\"type\":\"contour\"}],\"contourcarpet\":[{\"colorbar\":{\"outlinewidth\":0,\"ticks\":\"\"},\"type\":\"contourcarpet\"}],\"heatmap\":[{\"colorbar\":{\"outlinewidth\":0,\"ticks\":\"\"},\"colorscale\":[[0.0,\"#0d0887\"],[0.1111111111111111,\"#46039f\"],[0.2222222222222222,\"#7201a8\"],[0.3333333333333333,\"#9c179e\"],[0.4444444444444444,\"#bd3786\"],[0.5555555555555556,\"#d8576b\"],[0.6666666666666666,\"#ed7953\"],[0.7777777777777778,\"#fb9f3a\"],[0.8888888888888888,\"#fdca26\"],[1.0,\"#f0f921\"]],\"type\":\"heatmap\"}],\"heatmapgl\":[{\"colorbar\":{\"outlinewidth\":0,\"ticks\":\"\"},\"colorscale\":[[0.0,\"#0d0887\"],[0.1111111111111111,\"#46039f\"],[0.2222222222222222,\"#7201a8\"],[0.3333333333333333,\"#9c179e\"],[0.4444444444444444,\"#bd3786\"],[0.5555555555555556,\"#d8576b\"],[0.6666666666666666,\"#ed7953\"],[0.7777777777777778,\"#fb9f3a\"],[0.8888888888888888,\"#fdca26\"],[1.0,\"#f0f921\"]],\"type\":\"heatmapgl\"}],\"histogram\":[{\"marker\":{\"pattern\":{\"fillmode\":\"overlay\",\"size\":10,\"solidity\":0.2}},\"type\":\"histogram\"}],\"histogram2d\":[{\"colorbar\":{\"outlinewidth\":0,\"ticks\":\"\"},\"colorscale\":[[0.0,\"#0d0887\"],[0.1111111111111111,\"#46039f\"],[0.2222222222222222,\"#7201a8\"],[0.3333333333333333,\"#9c179e\"],[0.4444444444444444,\"#bd3786\"],[0.5555555555555556,\"#d8576b\"],[0.6666666666666666,\"#ed7953\"],[0.7777777777777778,\"#fb9f3a\"],[0.8888888888888888,\"#fdca26\"],[1.0,\"#f0f921\"]],\"type\":\"histogram2d\"}],\"histogram2dcontour\":[{\"colorbar\":{\"outlinewidth\":0,\"ticks\":\"\"},\"colorscale\":[[0.0,\"#0d0887\"],[0.1111111111111111,\"#46039f\"],[0.2222222222222222,\"#7201a8\"],[0.3333333333333333,\"#9c179e\"],[0.4444444444444444,\"#bd3786\"],[0.5555555555555556,\"#d8576b\"],[0.6666666666666666,\"#ed7953\"],[0.7777777777777778,\"#fb9f3a\"],[0.8888888888888888,\"#fdca26\"],[1.0,\"#f0f921\"]],\"type\":\"histogram2dcontour\"}],\"mesh3d\":[{\"colorbar\":{\"outlinewidth\":0,\"ticks\":\"\"},\"type\":\"mesh3d\"}],\"parcoords\":[{\"line\":{\"colorbar\":{\"outlinewidth\":0,\"ticks\":\"\"}},\"type\":\"parcoords\"}],\"pie\":[{\"automargin\":true,\"type\":\"pie\"}],\"scatter\":[{\"marker\":{\"colorbar\":{\"outlinewidth\":0,\"ticks\":\"\"}},\"type\":\"scatter\"}],\"scatter3d\":[{\"line\":{\"colorbar\":{\"outlinewidth\":0,\"ticks\":\"\"}},\"marker\":{\"colorbar\":{\"outlinewidth\":0,\"ticks\":\"\"}},\"type\":\"scatter3d\"}],\"scattercarpet\":[{\"marker\":{\"colorbar\":{\"outlinewidth\":0,\"ticks\":\"\"}},\"type\":\"scattercarpet\"}],\"scattergeo\":[{\"marker\":{\"colorbar\":{\"outlinewidth\":0,\"ticks\":\"\"}},\"type\":\"scattergeo\"}],\"scattergl\":[{\"marker\":{\"colorbar\":{\"outlinewidth\":0,\"ticks\":\"\"}},\"type\":\"scattergl\"}],\"scattermapbox\":[{\"marker\":{\"colorbar\":{\"outlinewidth\":0,\"ticks\":\"\"}},\"type\":\"scattermapbox\"}],\"scatterpolar\":[{\"marker\":{\"colorbar\":{\"outlinewidth\":0,\"ticks\":\"\"}},\"type\":\"scatterpolar\"}],\"scatterpolargl\":[{\"marker\":{\"colorbar\":{\"outlinewidth\":0,\"ticks\":\"\"}},\"type\":\"scatterpolargl\"}],\"scatterternary\":[{\"marker\":{\"colorbar\":{\"outlinewidth\":0,\"ticks\":\"\"}},\"type\":\"scatterternary\"}],\"surface\":[{\"colorbar\":{\"outlinewidth\":0,\"ticks\":\"\"},\"colorscale\":[[0.0,\"#0d0887\"],[0.1111111111111111,\"#46039f\"],[0.2222222222222222,\"#7201a8\"],[0.3333333333333333,\"#9c179e\"],[0.4444444444444444,\"#bd3786\"],[0.5555555555555556,\"#d8576b\"],[0.6666666666666666,\"#ed7953\"],[0.7777777777777778,\"#fb9f3a\"],[0.8888888888888888,\"#fdca26\"],[1.0,\"#f0f921\"]],\"type\":\"surface\"}],\"table\":[{\"cells\":{\"fill\":{\"color\":\"#EBF0F8\"},\"line\":{\"color\":\"white\"}},\"header\":{\"fill\":{\"color\":\"#C8D4E3\"},\"line\":{\"color\":\"white\"}},\"type\":\"table\"}]},\"layout\":{\"annotationdefaults\":{\"arrowcolor\":\"#2a3f5f\",\"arrowhead\":0,\"arrowwidth\":1},\"autotypenumbers\":\"strict\",\"coloraxis\":{\"colorbar\":{\"outlinewidth\":0,\"ticks\":\"\"}},\"colorscale\":{\"diverging\":[[0,\"#8e0152\"],[0.1,\"#c51b7d\"],[0.2,\"#de77ae\"],[0.3,\"#f1b6da\"],[0.4,\"#fde0ef\"],[0.5,\"#f7f7f7\"],[0.6,\"#e6f5d0\"],[0.7,\"#b8e186\"],[0.8,\"#7fbc41\"],[0.9,\"#4d9221\"],[1,\"#276419\"]],\"sequential\":[[0.0,\"#0d0887\"],[0.1111111111111111,\"#46039f\"],[0.2222222222222222,\"#7201a8\"],[0.3333333333333333,\"#9c179e\"],[0.4444444444444444,\"#bd3786\"],[0.5555555555555556,\"#d8576b\"],[0.6666666666666666,\"#ed7953\"],[0.7777777777777778,\"#fb9f3a\"],[0.8888888888888888,\"#fdca26\"],[1.0,\"#f0f921\"]],\"sequentialminus\":[[0.0,\"#0d0887\"],[0.1111111111111111,\"#46039f\"],[0.2222222222222222,\"#7201a8\"],[0.3333333333333333,\"#9c179e\"],[0.4444444444444444,\"#bd3786\"],[0.5555555555555556,\"#d8576b\"],[0.6666666666666666,\"#ed7953\"],[0.7777777777777778,\"#fb9f3a\"],[0.8888888888888888,\"#fdca26\"],[1.0,\"#f0f921\"]]},\"colorway\":[\"#636efa\",\"#EF553B\",\"#00cc96\",\"#ab63fa\",\"#FFA15A\",\"#19d3f3\",\"#FF6692\",\"#B6E880\",\"#FF97FF\",\"#FECB52\"],\"font\":{\"color\":\"#2a3f5f\"},\"geo\":{\"bgcolor\":\"white\",\"lakecolor\":\"white\",\"landcolor\":\"#E5ECF6\",\"showlakes\":true,\"showland\":true,\"subunitcolor\":\"white\"},\"hoverlabel\":{\"align\":\"left\"},\"hovermode\":\"closest\",\"mapbox\":{\"style\":\"light\"},\"paper_bgcolor\":\"white\",\"plot_bgcolor\":\"#E5ECF6\",\"polar\":{\"angularaxis\":{\"gridcolor\":\"white\",\"linecolor\":\"white\",\"ticks\":\"\"},\"bgcolor\":\"#E5ECF6\",\"radialaxis\":{\"gridcolor\":\"white\",\"linecolor\":\"white\",\"ticks\":\"\"}},\"scene\":{\"xaxis\":{\"backgroundcolor\":\"#E5ECF6\",\"gridcolor\":\"white\",\"gridwidth\":2,\"linecolor\":\"white\",\"showbackground\":true,\"ticks\":\"\",\"zerolinecolor\":\"white\"},\"yaxis\":{\"backgroundcolor\":\"#E5ECF6\",\"gridcolor\":\"white\",\"gridwidth\":2,\"linecolor\":\"white\",\"showbackground\":true,\"ticks\":\"\",\"zerolinecolor\":\"white\"},\"zaxis\":{\"backgroundcolor\":\"#E5ECF6\",\"gridcolor\":\"white\",\"gridwidth\":2,\"linecolor\":\"white\",\"showbackground\":true,\"ticks\":\"\",\"zerolinecolor\":\"white\"}},\"shapedefaults\":{\"line\":{\"color\":\"#2a3f5f\"}},\"ternary\":{\"aaxis\":{\"gridcolor\":\"white\",\"linecolor\":\"white\",\"ticks\":\"\"},\"baxis\":{\"gridcolor\":\"white\",\"linecolor\":\"white\",\"ticks\":\"\"},\"bgcolor\":\"#E5ECF6\",\"caxis\":{\"gridcolor\":\"white\",\"linecolor\":\"white\",\"ticks\":\"\"}},\"title\":{\"x\":0.05},\"xaxis\":{\"automargin\":true,\"gridcolor\":\"white\",\"linecolor\":\"white\",\"ticks\":\"\",\"title\":{\"standoff\":15},\"zerolinecolor\":\"white\",\"zerolinewidth\":2},\"yaxis\":{\"automargin\":true,\"gridcolor\":\"white\",\"linecolor\":\"white\",\"ticks\":\"\",\"title\":{\"standoff\":15},\"zerolinecolor\":\"white\",\"zerolinewidth\":2}}},\"xaxis\":{\"anchor\":\"y\",\"domain\":[0.0,1.0],\"title\":{\"text\":\"Idade\"}},\"yaxis\":{\"anchor\":\"x\",\"domain\":[0.0,1.0],\"title\":{\"text\":\"count\"}},\"legend\":{\"tracegroupgap\":0},\"margin\":{\"t\":60},\"barmode\":\"relative\"},                        {\"responsive\": true}                    ).then(function(){\n",
              "                            \n",
              "var gd = document.getElementById('0d7b2840-6356-4342-8a95-2e5d6e41c47d');\n",
              "var x = new MutationObserver(function (mutations, observer) {{\n",
              "        var display = window.getComputedStyle(gd).display;\n",
              "        if (!display || display === 'none') {{\n",
              "            console.log([gd, 'removed!']);\n",
              "            Plotly.purge(gd);\n",
              "            observer.disconnect();\n",
              "        }}\n",
              "}});\n",
              "\n",
              "// Listen for the removal of the full notebook cells\n",
              "var notebookContainer = gd.closest('#notebook-container');\n",
              "if (notebookContainer) {{\n",
              "    x.observe(notebookContainer, {childList: true});\n",
              "}}\n",
              "\n",
              "// Listen for the clearing of the current output cell\n",
              "var outputEl = gd.closest('.output');\n",
              "if (outputEl) {{\n",
              "    x.observe(outputEl, {childList: true});\n",
              "}}\n",
              "\n",
              "                        })                };                            </script>        </div>\n",
              "</body>\n",
              "</html>"
            ]
          },
          "metadata": {},
          "output_type": "display_data"
        },
        {
          "data": {
            "text/html": [
              "<html>\n",
              "<head><meta charset=\"utf-8\" /></head>\n",
              "<body>\n",
              "    <div>            <script src=\"https://cdnjs.cloudflare.com/ajax/libs/mathjax/2.7.5/MathJax.js?config=TeX-AMS-MML_SVG\"></script><script type=\"text/javascript\">if (window.MathJax) {MathJax.Hub.Config({SVG: {font: \"STIX-Web\"}});}</script>                <script type=\"text/javascript\">window.PlotlyConfig = {MathJaxConfig: 'local'};</script>\n",
              "        <script src=\"https://cdn.plot.ly/plotly-2.8.3.min.js\"></script>                <div id=\"99ee9a41-6280-4c0e-85e3-3a05cd55e826\" class=\"plotly-graph-div\" style=\"height:525px; width:100%;\"></div>            <script type=\"text/javascript\">                                    window.PLOTLYENV=window.PLOTLYENV || {};                                    if (document.getElementById(\"99ee9a41-6280-4c0e-85e3-3a05cd55e826\")) {                    Plotly.newPlot(                        \"99ee9a41-6280-4c0e-85e3-3a05cd55e826\",                        [{\"alignmentgroup\":\"True\",\"bingroup\":\"x\",\"hovertemplate\":\"Tempo de casa=%{x}<br>count=%{y}<extra></extra>\",\"legendgroup\":\"\",\"marker\":{\"color\":\"#636efa\",\"pattern\":{\"shape\":\"\"}},\"name\":\"\",\"offsetgroup\":\"\",\"orientation\":\"v\",\"showlegend\":false,\"x\":[0.0,0.0,0.0,2250.0,1635.0,2167.0,1649.0,1425.0,1341.0,1334.0,4594.0,0.0,863.0,0.0,1375.0,0.0,1024.0,1389.0,1528.0,0.0,1866.0,0.0,1003.0,669.0,857.0,1347.0,997.0,1207.0,0.0,0.0,802.0,1082.0,0.0,0.0,820.0,1081.0,743.0,414.0,0.0,616.0,0.0,0.0,304.0,669.0,588.0,704.0,872.0,0.0,0.0,494.0,0.0,367.0,954.0,445.0,0.0,0.0,2573.0,2416.0,0.0,952.0,0.0,141.0,284.0,186.0,325.0,333.0,767.0,155.0,703.0,0.0,0.0,652.0,438.0,0.0,654.0,697.0,758.0,330.0,0.0,788.0,368.0,0.0,0.0,484.0,191.0,466.0,191.0,0.0,0.0,191.0,0.0,0.0,330.0,676.0,330.0,0.0,851.0,175.0,448.0,0.0,387.0,499.0,0.0,156.0,723.0,441.0,296.0,214.0,0.0,29.0,0.0,0.0,0.0,210.0,0.0,37.0,82.0,163.0,568.0,175.0,394.0,662.0,88.0,466.0,403.0,0.0,42.0,219.0,39.0,0.0,171.0,424.0,0.0,674.0,262.0,272.0,0.0,202.0,304.0,16.0,243.0,494.0,0.0,83.0,417.0,0.0,226.0,74.0,254.0,262.0,182.0,49.0,112.0,45.0,0.0,207.0,172.0,256.0,0.0,4.0,151.0,79.0,0.0,0.0,0.0,466.0,492.0,333.0,165.0,0.0,44.0,298.0,77.0,74.0,0.0,303.0,309.0,0.0,431.0,77.0,0.0,0.0,305.0,340.0,0.0,0.0,382.0,0.0,197.0,0.0,0.0,333.0,0.0,0.0,0.0,413.0,438.0,0.0,0.0,429.0,0.0,0.0,0.0,312.0,0.0,101.0,105.0,0.0,0.0,123.0,249.0,114.0,165.0,0.0,87.0,261.0,0.0,0.0,0.0,0.0,0.0,227.0,127.0,0.0,0.0,0.0,0.0,0.0,0.0,0.0,301.0,137.0,137.0,357.0,0.0,0.0,148.0,0.0,0.0,0.0,158.0,0.0,252.0,0.0,0.0,0.0,296.0,46.0,228.0,0.0,234.0,0.0,0.0,0.0,44.0,118.0,184.0,0.0,161.0,242.0,0.0,0.0,0.0,0.0,0.0,0.0,0.0,172.0,0.0,197.0,257.0,254.0,64.0,0.0,0.0,0.0,180.0,0.0,135.0,0.0,0.0,0.0,93.0,0.0,249.0,249.0,185.0,234.0,248.0,0.0,0.0,0.0,121.0,0.0,0.0,0.0,0.0,0.0,205.0,0.0,0.0,0.0,0.0,0.0,0.0,0.0,0.0,0.0,0.0,0.0,0.0,0.0,0.0,0.0,0.0,0.0,0.0,0.0,0.0,0.0,0.0,0.0,0.0,0.0,0.0,0.0,0.0,151.0,0.0,0.0,151.0,0.0,0.0,0.0,0.0,0.0,0.0,0.0,0.0,0.0,41.0,0.0,30.0,0.0,0.0,0.0,0.0,0.0,0.0,77.0,0.0,0.0,1.0,0.0,0.0,0.0,0.0,121.0,0.0,16.0,0.0,0.0,0.0,0.0,0.0,0.0,0.0,0.0,0.0,0.0,0.0,0.0,0.0,0.0,0.0,0.0,0.0,0.0,0.0,0.0,0.0,0.0,0.0,0.0,0.0,0.0,0.0,0.0,0.0,0.0,0.0,0.0,0.0,0.0,0.0,0.0,0.0,51.0,77.0,60.0,0.0,0.0,0.0,0.0,0.0,0.0,0.0,0.0,0.0,35.0,0.0,0.0,0.0,0.0,0.0,0.0,0.0,0.0,30.0,0.0,0.0,0.0,0.0,0.0,0.0,0.0,0.0,0.0,0.0,0.0,0.0,0.0,0.0,7.0,0.0,0.0,0.0,0.0,0.0,0.0,0.0,0.0,0.0,0.0,0.0,0.0,0.0,0.0,0.0,0.0,0.0,0.0,0.0,0.0,0.0,0.0,0.0,0.0,0.0,0.0,0.0,0.0,0.0,0.0,0.0,0.0,0.0,0.0,0.0,0.0,7.0,0.0,0.0,0.0,0.0],\"xaxis\":\"x\",\"yaxis\":\"y\",\"type\":\"histogram\"}],                        {\"template\":{\"data\":{\"bar\":[{\"error_x\":{\"color\":\"#2a3f5f\"},\"error_y\":{\"color\":\"#2a3f5f\"},\"marker\":{\"line\":{\"color\":\"#E5ECF6\",\"width\":0.5},\"pattern\":{\"fillmode\":\"overlay\",\"size\":10,\"solidity\":0.2}},\"type\":\"bar\"}],\"barpolar\":[{\"marker\":{\"line\":{\"color\":\"#E5ECF6\",\"width\":0.5},\"pattern\":{\"fillmode\":\"overlay\",\"size\":10,\"solidity\":0.2}},\"type\":\"barpolar\"}],\"carpet\":[{\"aaxis\":{\"endlinecolor\":\"#2a3f5f\",\"gridcolor\":\"white\",\"linecolor\":\"white\",\"minorgridcolor\":\"white\",\"startlinecolor\":\"#2a3f5f\"},\"baxis\":{\"endlinecolor\":\"#2a3f5f\",\"gridcolor\":\"white\",\"linecolor\":\"white\",\"minorgridcolor\":\"white\",\"startlinecolor\":\"#2a3f5f\"},\"type\":\"carpet\"}],\"choropleth\":[{\"colorbar\":{\"outlinewidth\":0,\"ticks\":\"\"},\"type\":\"choropleth\"}],\"contour\":[{\"colorbar\":{\"outlinewidth\":0,\"ticks\":\"\"},\"colorscale\":[[0.0,\"#0d0887\"],[0.1111111111111111,\"#46039f\"],[0.2222222222222222,\"#7201a8\"],[0.3333333333333333,\"#9c179e\"],[0.4444444444444444,\"#bd3786\"],[0.5555555555555556,\"#d8576b\"],[0.6666666666666666,\"#ed7953\"],[0.7777777777777778,\"#fb9f3a\"],[0.8888888888888888,\"#fdca26\"],[1.0,\"#f0f921\"]],\"type\":\"contour\"}],\"contourcarpet\":[{\"colorbar\":{\"outlinewidth\":0,\"ticks\":\"\"},\"type\":\"contourcarpet\"}],\"heatmap\":[{\"colorbar\":{\"outlinewidth\":0,\"ticks\":\"\"},\"colorscale\":[[0.0,\"#0d0887\"],[0.1111111111111111,\"#46039f\"],[0.2222222222222222,\"#7201a8\"],[0.3333333333333333,\"#9c179e\"],[0.4444444444444444,\"#bd3786\"],[0.5555555555555556,\"#d8576b\"],[0.6666666666666666,\"#ed7953\"],[0.7777777777777778,\"#fb9f3a\"],[0.8888888888888888,\"#fdca26\"],[1.0,\"#f0f921\"]],\"type\":\"heatmap\"}],\"heatmapgl\":[{\"colorbar\":{\"outlinewidth\":0,\"ticks\":\"\"},\"colorscale\":[[0.0,\"#0d0887\"],[0.1111111111111111,\"#46039f\"],[0.2222222222222222,\"#7201a8\"],[0.3333333333333333,\"#9c179e\"],[0.4444444444444444,\"#bd3786\"],[0.5555555555555556,\"#d8576b\"],[0.6666666666666666,\"#ed7953\"],[0.7777777777777778,\"#fb9f3a\"],[0.8888888888888888,\"#fdca26\"],[1.0,\"#f0f921\"]],\"type\":\"heatmapgl\"}],\"histogram\":[{\"marker\":{\"pattern\":{\"fillmode\":\"overlay\",\"size\":10,\"solidity\":0.2}},\"type\":\"histogram\"}],\"histogram2d\":[{\"colorbar\":{\"outlinewidth\":0,\"ticks\":\"\"},\"colorscale\":[[0.0,\"#0d0887\"],[0.1111111111111111,\"#46039f\"],[0.2222222222222222,\"#7201a8\"],[0.3333333333333333,\"#9c179e\"],[0.4444444444444444,\"#bd3786\"],[0.5555555555555556,\"#d8576b\"],[0.6666666666666666,\"#ed7953\"],[0.7777777777777778,\"#fb9f3a\"],[0.8888888888888888,\"#fdca26\"],[1.0,\"#f0f921\"]],\"type\":\"histogram2d\"}],\"histogram2dcontour\":[{\"colorbar\":{\"outlinewidth\":0,\"ticks\":\"\"},\"colorscale\":[[0.0,\"#0d0887\"],[0.1111111111111111,\"#46039f\"],[0.2222222222222222,\"#7201a8\"],[0.3333333333333333,\"#9c179e\"],[0.4444444444444444,\"#bd3786\"],[0.5555555555555556,\"#d8576b\"],[0.6666666666666666,\"#ed7953\"],[0.7777777777777778,\"#fb9f3a\"],[0.8888888888888888,\"#fdca26\"],[1.0,\"#f0f921\"]],\"type\":\"histogram2dcontour\"}],\"mesh3d\":[{\"colorbar\":{\"outlinewidth\":0,\"ticks\":\"\"},\"type\":\"mesh3d\"}],\"parcoords\":[{\"line\":{\"colorbar\":{\"outlinewidth\":0,\"ticks\":\"\"}},\"type\":\"parcoords\"}],\"pie\":[{\"automargin\":true,\"type\":\"pie\"}],\"scatter\":[{\"marker\":{\"colorbar\":{\"outlinewidth\":0,\"ticks\":\"\"}},\"type\":\"scatter\"}],\"scatter3d\":[{\"line\":{\"colorbar\":{\"outlinewidth\":0,\"ticks\":\"\"}},\"marker\":{\"colorbar\":{\"outlinewidth\":0,\"ticks\":\"\"}},\"type\":\"scatter3d\"}],\"scattercarpet\":[{\"marker\":{\"colorbar\":{\"outlinewidth\":0,\"ticks\":\"\"}},\"type\":\"scattercarpet\"}],\"scattergeo\":[{\"marker\":{\"colorbar\":{\"outlinewidth\":0,\"ticks\":\"\"}},\"type\":\"scattergeo\"}],\"scattergl\":[{\"marker\":{\"colorbar\":{\"outlinewidth\":0,\"ticks\":\"\"}},\"type\":\"scattergl\"}],\"scattermapbox\":[{\"marker\":{\"colorbar\":{\"outlinewidth\":0,\"ticks\":\"\"}},\"type\":\"scattermapbox\"}],\"scatterpolar\":[{\"marker\":{\"colorbar\":{\"outlinewidth\":0,\"ticks\":\"\"}},\"type\":\"scatterpolar\"}],\"scatterpolargl\":[{\"marker\":{\"colorbar\":{\"outlinewidth\":0,\"ticks\":\"\"}},\"type\":\"scatterpolargl\"}],\"scatterternary\":[{\"marker\":{\"colorbar\":{\"outlinewidth\":0,\"ticks\":\"\"}},\"type\":\"scatterternary\"}],\"surface\":[{\"colorbar\":{\"outlinewidth\":0,\"ticks\":\"\"},\"colorscale\":[[0.0,\"#0d0887\"],[0.1111111111111111,\"#46039f\"],[0.2222222222222222,\"#7201a8\"],[0.3333333333333333,\"#9c179e\"],[0.4444444444444444,\"#bd3786\"],[0.5555555555555556,\"#d8576b\"],[0.6666666666666666,\"#ed7953\"],[0.7777777777777778,\"#fb9f3a\"],[0.8888888888888888,\"#fdca26\"],[1.0,\"#f0f921\"]],\"type\":\"surface\"}],\"table\":[{\"cells\":{\"fill\":{\"color\":\"#EBF0F8\"},\"line\":{\"color\":\"white\"}},\"header\":{\"fill\":{\"color\":\"#C8D4E3\"},\"line\":{\"color\":\"white\"}},\"type\":\"table\"}]},\"layout\":{\"annotationdefaults\":{\"arrowcolor\":\"#2a3f5f\",\"arrowhead\":0,\"arrowwidth\":1},\"autotypenumbers\":\"strict\",\"coloraxis\":{\"colorbar\":{\"outlinewidth\":0,\"ticks\":\"\"}},\"colorscale\":{\"diverging\":[[0,\"#8e0152\"],[0.1,\"#c51b7d\"],[0.2,\"#de77ae\"],[0.3,\"#f1b6da\"],[0.4,\"#fde0ef\"],[0.5,\"#f7f7f7\"],[0.6,\"#e6f5d0\"],[0.7,\"#b8e186\"],[0.8,\"#7fbc41\"],[0.9,\"#4d9221\"],[1,\"#276419\"]],\"sequential\":[[0.0,\"#0d0887\"],[0.1111111111111111,\"#46039f\"],[0.2222222222222222,\"#7201a8\"],[0.3333333333333333,\"#9c179e\"],[0.4444444444444444,\"#bd3786\"],[0.5555555555555556,\"#d8576b\"],[0.6666666666666666,\"#ed7953\"],[0.7777777777777778,\"#fb9f3a\"],[0.8888888888888888,\"#fdca26\"],[1.0,\"#f0f921\"]],\"sequentialminus\":[[0.0,\"#0d0887\"],[0.1111111111111111,\"#46039f\"],[0.2222222222222222,\"#7201a8\"],[0.3333333333333333,\"#9c179e\"],[0.4444444444444444,\"#bd3786\"],[0.5555555555555556,\"#d8576b\"],[0.6666666666666666,\"#ed7953\"],[0.7777777777777778,\"#fb9f3a\"],[0.8888888888888888,\"#fdca26\"],[1.0,\"#f0f921\"]]},\"colorway\":[\"#636efa\",\"#EF553B\",\"#00cc96\",\"#ab63fa\",\"#FFA15A\",\"#19d3f3\",\"#FF6692\",\"#B6E880\",\"#FF97FF\",\"#FECB52\"],\"font\":{\"color\":\"#2a3f5f\"},\"geo\":{\"bgcolor\":\"white\",\"lakecolor\":\"white\",\"landcolor\":\"#E5ECF6\",\"showlakes\":true,\"showland\":true,\"subunitcolor\":\"white\"},\"hoverlabel\":{\"align\":\"left\"},\"hovermode\":\"closest\",\"mapbox\":{\"style\":\"light\"},\"paper_bgcolor\":\"white\",\"plot_bgcolor\":\"#E5ECF6\",\"polar\":{\"angularaxis\":{\"gridcolor\":\"white\",\"linecolor\":\"white\",\"ticks\":\"\"},\"bgcolor\":\"#E5ECF6\",\"radialaxis\":{\"gridcolor\":\"white\",\"linecolor\":\"white\",\"ticks\":\"\"}},\"scene\":{\"xaxis\":{\"backgroundcolor\":\"#E5ECF6\",\"gridcolor\":\"white\",\"gridwidth\":2,\"linecolor\":\"white\",\"showbackground\":true,\"ticks\":\"\",\"zerolinecolor\":\"white\"},\"yaxis\":{\"backgroundcolor\":\"#E5ECF6\",\"gridcolor\":\"white\",\"gridwidth\":2,\"linecolor\":\"white\",\"showbackground\":true,\"ticks\":\"\",\"zerolinecolor\":\"white\"},\"zaxis\":{\"backgroundcolor\":\"#E5ECF6\",\"gridcolor\":\"white\",\"gridwidth\":2,\"linecolor\":\"white\",\"showbackground\":true,\"ticks\":\"\",\"zerolinecolor\":\"white\"}},\"shapedefaults\":{\"line\":{\"color\":\"#2a3f5f\"}},\"ternary\":{\"aaxis\":{\"gridcolor\":\"white\",\"linecolor\":\"white\",\"ticks\":\"\"},\"baxis\":{\"gridcolor\":\"white\",\"linecolor\":\"white\",\"ticks\":\"\"},\"bgcolor\":\"#E5ECF6\",\"caxis\":{\"gridcolor\":\"white\",\"linecolor\":\"white\",\"ticks\":\"\"}},\"title\":{\"x\":0.05},\"xaxis\":{\"automargin\":true,\"gridcolor\":\"white\",\"linecolor\":\"white\",\"ticks\":\"\",\"title\":{\"standoff\":15},\"zerolinecolor\":\"white\",\"zerolinewidth\":2},\"yaxis\":{\"automargin\":true,\"gridcolor\":\"white\",\"linecolor\":\"white\",\"ticks\":\"\",\"title\":{\"standoff\":15},\"zerolinecolor\":\"white\",\"zerolinewidth\":2}}},\"xaxis\":{\"anchor\":\"y\",\"domain\":[0.0,1.0],\"title\":{\"text\":\"Tempo de casa\"}},\"yaxis\":{\"anchor\":\"x\",\"domain\":[0.0,1.0],\"title\":{\"text\":\"count\"}},\"legend\":{\"tracegroupgap\":0},\"margin\":{\"t\":60},\"barmode\":\"relative\"},                        {\"responsive\": true}                    ).then(function(){\n",
              "                            \n",
              "var gd = document.getElementById('99ee9a41-6280-4c0e-85e3-3a05cd55e826');\n",
              "var x = new MutationObserver(function (mutations, observer) {{\n",
              "        var display = window.getComputedStyle(gd).display;\n",
              "        if (!display || display === 'none') {{\n",
              "            console.log([gd, 'removed!']);\n",
              "            Plotly.purge(gd);\n",
              "            observer.disconnect();\n",
              "        }}\n",
              "}});\n",
              "\n",
              "// Listen for the removal of the full notebook cells\n",
              "var notebookContainer = gd.closest('#notebook-container');\n",
              "if (notebookContainer) {{\n",
              "    x.observe(notebookContainer, {childList: true});\n",
              "}}\n",
              "\n",
              "// Listen for the clearing of the current output cell\n",
              "var outputEl = gd.closest('.output');\n",
              "if (outputEl) {{\n",
              "    x.observe(outputEl, {childList: true});\n",
              "}}\n",
              "\n",
              "                        })                };                            </script>        </div>\n",
              "</body>\n",
              "</html>"
            ]
          },
          "metadata": {},
          "output_type": "display_data"
        }
      ],
      "source": [
        "baseHist = base\n",
        "baseHist = baseHist.drop(['Dt Admissao','Dt Saida', 'Cargo', 'Genero', 'Estado', 'Cidade', 'Area', 'Dt Nascimento', '3 Meses >', '6 Meses >', '9 Meses >', '12 Meses >'], axis=1)\n",
        "baseHist.fillna(0,inplace = True)\n",
        "def mostra_hist(coluna):\n",
        "  hist = px.histogram(baseHist,x=coluna)\n",
        "  hist.show()\n",
        "for columns in baseHist:\n",
        "  mostra_hist(columns)"
      ]
    },
    {
      "cell_type": "markdown",
      "metadata": {
        "id": "yWrnBsn-zQcx"
      },
      "source": [
        "### Relação Proporcional de TurnOver por Gênero\n",
        "Relaciona os pedidos de demissão de cada gênero e compara-os com os ativos "
      ]
    },
    {
      "cell_type": "code",
      "execution_count": 18,
      "metadata": {
        "colab": {
          "base_uri": "https://localhost:8080/",
          "height": 667
        },
        "id": "nt77gRDwzt2k",
        "outputId": "fb92ed21-f353-4697-b017-f28614231ae1"
      },
      "outputs": [
        {
          "name": "stdout",
          "output_type": "stream",
          "text": [
            "102\n",
            "23\n",
            "207\n",
            "77\n"
          ]
        },
        {
          "name": "stderr",
          "output_type": "stream",
          "text": [
            "/usr/local/lib/python3.7/dist-packages/ipykernel_launcher.py:8: SettingWithCopyWarning:\n",
            "\n",
            "\n",
            "A value is trying to be set on a copy of a slice from a DataFrame.\n",
            "Try using .loc[row_indexer,col_indexer] = value instead\n",
            "\n",
            "See the caveats in the documentation: https://pandas.pydata.org/pandas-docs/stable/user_guide/indexing.html#returning-a-view-versus-a-copy\n",
            "\n",
            "/usr/local/lib/python3.7/dist-packages/ipykernel_launcher.py:14: SettingWithCopyWarning:\n",
            "\n",
            "\n",
            "A value is trying to be set on a copy of a slice from a DataFrame.\n",
            "Try using .loc[row_indexer,col_indexer] = value instead\n",
            "\n",
            "See the caveats in the documentation: https://pandas.pydata.org/pandas-docs/stable/user_guide/indexing.html#returning-a-view-versus-a-copy\n",
            "\n"
          ]
        },
        {
          "data": {
            "image/png": "[encoded data removed]",
            "text/plain": [
              "<Figure size 288x360 with 1 Axes>"
            ]
          },
          "metadata": {
            "needs_background": "light"
          },
          "output_type": "display_data"
        }
      ],
      "source": [
        "# Código da relação turnover por gênero\n",
        "DF1 = pd.read_excel(\"/content/drive/Shareddrives/grupo5_modulo3/Everymind | Grupo 5.xlsx\", \"Everymind1\")\n",
        "DF1.columns = [c.replace(' ', '_') for c in DF1.columns]\n",
        "\n",
        "# Procura o gênero dos colaboradores que pediram demissão da empresa, representados por \"Pedido de Demissão\" na coluna \"Tipo_Saida\"\n",
        "DF1_FIRED = DF1.loc[DF1[\"Tipo_Saida\"] == \"Pedido de Demissão\"]\n",
        "# Retira os espaços dos gêneros\n",
        "DF1_FIRED[\"Genero\"] = DF1_FIRED[\"Genero\"].str.strip()\n",
        "\n",
        "DF1[\"Tipo_Saida\"].fillna(0, inplace=True)\n",
        "# Procura o gênero dos colaboradores que ainda estão ativos na empresa, representados por \"0\" na coluna \"Tipo_Saida\"\n",
        "DF1_ACTIVE = DF1.loc[DF1[\"Tipo_Saida\"] == 0]\n",
        "# Retira os espaços dos gêneros\n",
        "DF1_ACTIVE[\"Genero\"] = DF1_ACTIVE[\"Genero\"].str.strip()\n",
        "\n",
        "\n",
        "# Converte a coluna \"Genero\" em uma lista e faz contagem de cada um que pediu demissão\n",
        "DF1_FIRED_GENDER = DF1_FIRED['Genero'].to_numpy()\n",
        "MascFired = 0\n",
        "FemFired = 0\n",
        "for i in DF1_FIRED_GENDER:\n",
        "  if i == \"Masculino\":\n",
        "    MascFired += 1\n",
        "  if i == \"Feminino\":\n",
        "    FemFired += 1\n",
        "print(MascFired)\n",
        "print(FemFired)\n",
        "\n",
        "\n",
        "# Converte a coluna \"Genero\" em uma lista e faz contagem de cada um que ainda está na ativa\n",
        "DF1_ACTIVE_GENDER = DF1_ACTIVE['Genero'].to_numpy()\n",
        "MascActive = 0\n",
        "FemActive = 0\n",
        "for i in DF1_ACTIVE_GENDER:\n",
        "  if i == \"Masculino\":\n",
        "    MascActive += 1\n",
        "  if i == \"Feminino\":\n",
        "    FemActive += 1\n",
        "print(MascActive)\n",
        "print(FemActive)\n",
        "\n",
        "\n",
        "# Faz a relação entre os homens que pediram demissão com o total\n",
        "MascRel = MascFired/(MascFired+MascActive)\n",
        "MascRel\n",
        "\n",
        "# Faz a relação entre as mulheres que pediram demissão com o total\n",
        "FemRel = FemFired/(FemFired+FemActive)\n",
        "FemRel\n",
        "\n",
        "\n",
        "import matplotlib.pyplot as plt\n",
        "names = [\" TurnOver Feminino\", \"TurnOver Masculino\"]\n",
        "values = [FemRel, MascRel]\n",
        "plt.figure(figsize=(4,5))\n",
        "plt.bar(names, values)\n",
        "plt.show()"
      ]
    },
    {
      "cell_type": "code",
      "execution_count": 18,
      "metadata": {
        "id": "2j2pPS8h34k0"
      },
      "outputs": [],
      "source": []
    },
    {
      "cell_type": "markdown",
      "metadata": {
        "id": "Iv6BwEGJ41Se"
      },
      "source": [
        "###Relação proporcional de tipo de saída e cargo\n",
        "Relação entre os pedidos de demissão e seus respectivos cargos.\n"
      ]
    },
    {
      "cell_type": "code",
      "execution_count": 19,
      "metadata": {
        "colab": {
          "base_uri": "https://localhost:8080/",
          "height": 835
        },
        "id": "zKgwaFfn57Hj",
        "outputId": "dd4cd548-6349-4195-fb45-430d749f6356"
      },
      "outputs": [
        {
          "data": {
            "text/html": [
              "\n",
              "  <div id=\"df-5d24a4fb-8638-4e75-88f9-b2fd371dc4fe\">\n",
              "    <div class=\"colab-df-container\">\n",
              "      <div>\n",
              "<style scoped>\n",
              "    .dataframe tbody tr th:only-of-type {\n",
              "        vertical-align: middle;\n",
              "    }\n",
              "\n",
              "    .dataframe tbody tr th {\n",
              "        vertical-align: top;\n",
              "    }\n",
              "\n",
              "    .dataframe thead th {\n",
              "        text-align: right;\n",
              "    }\n",
              "</style>\n",
              "<table border=\"1\" class=\"dataframe\">\n",
              "  <thead>\n",
              "    <tr style=\"text-align: right;\">\n",
              "      <th></th>\n",
              "      <th>Matricula</th>\n",
              "      <th>Nome_Completo</th>\n",
              "      <th>Dt_Admissao</th>\n",
              "      <th>Dt_Saida</th>\n",
              "      <th>Tipo_Saida</th>\n",
              "      <th>Cargo</th>\n",
              "      <th>Salario_Mês</th>\n",
              "      <th>Dt_Nascimento</th>\n",
              "      <th>Genero</th>\n",
              "      <th>Etnia</th>\n",
              "      <th>Estado_Civil</th>\n",
              "      <th>Escolaridade_</th>\n",
              "      <th>Estado</th>\n",
              "      <th>Cidade</th>\n",
              "      <th>Area</th>\n",
              "      <th>Idade</th>\n",
              "      <th>Tempo_de_casa</th>\n",
              "      <th>Unnamed:_17</th>\n",
              "      <th>Unnamed:_18</th>\n",
              "      <th>Unnamed:_19</th>\n",
              "    </tr>\n",
              "  </thead>\n",
              "  <tbody>\n",
              "    <tr>\n",
              "      <th>3</th>\n",
              "      <td>7.0</td>\n",
              "      <td>Pessoa Colaboradora 291</td>\n",
              "      <td>2015-09-01 00:00:00</td>\n",
              "      <td>2021-10-29 00:00:00</td>\n",
              "      <td>Pedido de Demissão</td>\n",
              "      <td>Arquiteto</td>\n",
              "      <td>7000.000</td>\n",
              "      <td>1986-08-31 00:00:00</td>\n",
              "      <td>Masculino</td>\n",
              "      <td>Parda</td>\n",
              "      <td>Solteiro</td>\n",
              "      <td>Graduação</td>\n",
              "      <td>SP</td>\n",
              "      <td>São Paulo</td>\n",
              "      <td>Core &amp; Industrias</td>\n",
              "      <td>36.0</td>\n",
              "      <td>2250</td>\n",
              "      <td>NaN</td>\n",
              "      <td>NaN</td>\n",
              "      <td>NaN</td>\n",
              "    </tr>\n",
              "    <tr>\n",
              "      <th>4</th>\n",
              "      <td>8.0</td>\n",
              "      <td>Pessoa Colaboradora 412</td>\n",
              "      <td>2015-12-07 00:00:00</td>\n",
              "      <td>2020-05-29 00:00:00</td>\n",
              "      <td>Pedido de Demissão</td>\n",
              "      <td>Dev Pl</td>\n",
              "      <td>2750.000</td>\n",
              "      <td>1994-06-27 00:00:00</td>\n",
              "      <td>Masculino</td>\n",
              "      <td>Parda</td>\n",
              "      <td>Solteiro</td>\n",
              "      <td>Graduação</td>\n",
              "      <td>SP</td>\n",
              "      <td>São Paulo</td>\n",
              "      <td>CPG &amp; Retail</td>\n",
              "      <td>28.0</td>\n",
              "      <td>1635</td>\n",
              "      <td>NaN</td>\n",
              "      <td>NaN</td>\n",
              "      <td>NaN</td>\n",
              "    </tr>\n",
              "    <tr>\n",
              "      <th>5</th>\n",
              "      <td>9.0</td>\n",
              "      <td>Pessoa Colaboradora 425</td>\n",
              "      <td>2015-12-07 00:00:00</td>\n",
              "      <td>2021-11-12 00:00:00</td>\n",
              "      <td>Pedido de Demissão</td>\n",
              "      <td>Arquiteto</td>\n",
              "      <td>6500.000</td>\n",
              "      <td>1988-07-07 00:00:00</td>\n",
              "      <td>Masculino</td>\n",
              "      <td>Parda</td>\n",
              "      <td>Solteiro</td>\n",
              "      <td>Graduação</td>\n",
              "      <td>SP</td>\n",
              "      <td>São Paulo</td>\n",
              "      <td>Core &amp; Industrias</td>\n",
              "      <td>34.0</td>\n",
              "      <td>2167</td>\n",
              "      <td>NaN</td>\n",
              "      <td>NaN</td>\n",
              "      <td>NaN</td>\n",
              "    </tr>\n",
              "    <tr>\n",
              "      <th>6</th>\n",
              "      <td>13.0</td>\n",
              "      <td>Pessoa Colaboradora 417</td>\n",
              "      <td>2016-12-05 00:00:00</td>\n",
              "      <td>2021-06-11 00:00:00</td>\n",
              "      <td>Pedido de Demissão</td>\n",
              "      <td>Arquiteto</td>\n",
              "      <td>5000.000</td>\n",
              "      <td>1992-08-05 00:00:00</td>\n",
              "      <td>Masculino</td>\n",
              "      <td>Parda</td>\n",
              "      <td>Solteiro</td>\n",
              "      <td>Graduação</td>\n",
              "      <td>SP</td>\n",
              "      <td>São Paulo</td>\n",
              "      <td>Core &amp; Industrias</td>\n",
              "      <td>30.0</td>\n",
              "      <td>1649</td>\n",
              "      <td>NaN</td>\n",
              "      <td>NaN</td>\n",
              "      <td>NaN</td>\n",
              "    </tr>\n",
              "    <tr>\n",
              "      <th>7</th>\n",
              "      <td>14.0</td>\n",
              "      <td>Pessoa Colaboradora 393</td>\n",
              "      <td>2016-12-05 00:00:00</td>\n",
              "      <td>2020-10-30 00:00:00</td>\n",
              "      <td>Pedido de Demissão</td>\n",
              "      <td>Dev Pl</td>\n",
              "      <td>2068.600</td>\n",
              "      <td>1996-11-17 00:00:00</td>\n",
              "      <td>Masculino</td>\n",
              "      <td>Parda</td>\n",
              "      <td>Solteiro</td>\n",
              "      <td>Graduação</td>\n",
              "      <td>SP</td>\n",
              "      <td>Guarulhos</td>\n",
              "      <td>CPG &amp; Retail</td>\n",
              "      <td>25.0</td>\n",
              "      <td>1425</td>\n",
              "      <td>NaN</td>\n",
              "      <td>NaN</td>\n",
              "      <td>NaN</td>\n",
              "    </tr>\n",
              "    <tr>\n",
              "      <th>...</th>\n",
              "      <td>...</td>\n",
              "      <td>...</td>\n",
              "      <td>...</td>\n",
              "      <td>...</td>\n",
              "      <td>...</td>\n",
              "      <td>...</td>\n",
              "      <td>...</td>\n",
              "      <td>...</td>\n",
              "      <td>...</td>\n",
              "      <td>...</td>\n",
              "      <td>...</td>\n",
              "      <td>...</td>\n",
              "      <td>...</td>\n",
              "      <td>...</td>\n",
              "      <td>...</td>\n",
              "      <td>...</td>\n",
              "      <td>...</td>\n",
              "      <td>...</td>\n",
              "      <td>...</td>\n",
              "      <td>...</td>\n",
              "    </tr>\n",
              "    <tr>\n",
              "      <th>282</th>\n",
              "      <td>336.0</td>\n",
              "      <td>Pessoa Colaboradora 350</td>\n",
              "      <td>2021-11-08 00:00:00</td>\n",
              "      <td>2022-02-09 00:00:00</td>\n",
              "      <td>Pedido de Demissão</td>\n",
              "      <td>Dev Especialista</td>\n",
              "      <td>6101.600</td>\n",
              "      <td>1980-12-13 00:00:00</td>\n",
              "      <td>Masculino</td>\n",
              "      <td>Não Informada</td>\n",
              "      <td>Solteiro</td>\n",
              "      <td>Graduação</td>\n",
              "      <td>SC</td>\n",
              "      <td>Florianópolis</td>\n",
              "      <td>CPG &amp; Retail</td>\n",
              "      <td>41.0</td>\n",
              "      <td>295</td>\n",
              "      <td>NaN</td>\n",
              "      <td>NaN</td>\n",
              "      <td>NaN</td>\n",
              "    </tr>\n",
              "    <tr>\n",
              "      <th>287</th>\n",
              "      <td>341.0</td>\n",
              "      <td>Pessoa Colaboradora 319</td>\n",
              "      <td>2021-11-16 00:00:00</td>\n",
              "      <td>2022-07-08 00:00:00</td>\n",
              "      <td>Pedido de Demissão</td>\n",
              "      <td>Gerente</td>\n",
              "      <td>5593.135</td>\n",
              "      <td>1979-09-02 00:00:00</td>\n",
              "      <td>Masculino</td>\n",
              "      <td>Não Informada</td>\n",
              "      <td>Casado</td>\n",
              "      <td>Graduação</td>\n",
              "      <td>SP</td>\n",
              "      <td>Barueri</td>\n",
              "      <td>AMS</td>\n",
              "      <td>43.0</td>\n",
              "      <td>287</td>\n",
              "      <td>NaN</td>\n",
              "      <td>NaN</td>\n",
              "      <td>NaN</td>\n",
              "    </tr>\n",
              "    <tr>\n",
              "      <th>292</th>\n",
              "      <td>346.0</td>\n",
              "      <td>Pessoa Colaboradora 329</td>\n",
              "      <td>2021-12-01 00:00:00</td>\n",
              "      <td>2022-04-01 00:00:00</td>\n",
              "      <td>Pedido de Demissão</td>\n",
              "      <td>Gerente</td>\n",
              "      <td>6302.915</td>\n",
              "      <td>1979-09-18 00:00:00</td>\n",
              "      <td>Masculino</td>\n",
              "      <td>Não Informada</td>\n",
              "      <td>Casado</td>\n",
              "      <td>Graduação</td>\n",
              "      <td>SP</td>\n",
              "      <td>São Paulo</td>\n",
              "      <td>Analytics</td>\n",
              "      <td>42.0</td>\n",
              "      <td>121</td>\n",
              "      <td>NaN</td>\n",
              "      <td>NaN</td>\n",
              "      <td>NaN</td>\n",
              "    </tr>\n",
              "    <tr>\n",
              "      <th>298</th>\n",
              "      <td>352.0</td>\n",
              "      <td>Pessoa Colaboradora 338</td>\n",
              "      <td>2021-12-08 00:00:00</td>\n",
              "      <td>2022-07-01 00:00:00</td>\n",
              "      <td>Pedido de Demissão</td>\n",
              "      <td>Dev Jr</td>\n",
              "      <td>2269.050</td>\n",
              "      <td>1998-08-22 00:00:00</td>\n",
              "      <td>Masculino</td>\n",
              "      <td>Não Informada</td>\n",
              "      <td>Solteiro</td>\n",
              "      <td>Superior incompleto</td>\n",
              "      <td>RJ</td>\n",
              "      <td>Rio de Janeiro</td>\n",
              "      <td>Analytics</td>\n",
              "      <td>24.0</td>\n",
              "      <td>205</td>\n",
              "      <td>NaN</td>\n",
              "      <td>NaN</td>\n",
              "      <td>NaN</td>\n",
              "    </tr>\n",
              "    <tr>\n",
              "      <th>357</th>\n",
              "      <td>411.0</td>\n",
              "      <td>Pessoa Colaboradora 359</td>\n",
              "      <td>2022-03-16 00:00:00</td>\n",
              "      <td>2022-07-15 00:00:00</td>\n",
              "      <td>Pedido de Demissão</td>\n",
              "      <td>Trainee - Dev</td>\n",
              "      <td>1017.000</td>\n",
              "      <td>2000-10-23 00:00:00</td>\n",
              "      <td>Masculino</td>\n",
              "      <td>Amarela</td>\n",
              "      <td>Solteiro</td>\n",
              "      <td>Superior incompleto</td>\n",
              "      <td>SP</td>\n",
              "      <td>Osasco</td>\n",
              "      <td>CPG &amp; Retail</td>\n",
              "      <td>21.0</td>\n",
              "      <td>167</td>\n",
              "      <td>NaN</td>\n",
              "      <td>NaN</td>\n",
              "      <td>NaN</td>\n",
              "    </tr>\n",
              "  </tbody>\n",
              "</table>\n",
              "<p>125 rows × 20 columns</p>\n",
              "</div>\n",
              "      <button class=\"colab-df-convert\" onclick=\"convertToInteractive('df-5d24a4fb-8638-4e75-88f9-b2fd371dc4fe')\"\n",
              "              title=\"Convert this dataframe to an interactive table.\"\n",
              "              style=\"display:none;\">\n",
              "        \n",
              "  <svg xmlns=\"http://www.w3.org/2000/svg\" height=\"24px\"viewBox=\"0 0 24 24\"\n",
              "       width=\"24px\">\n",
              "    <path d=\"M0 0h24v24H0V0z\" fill=\"none\"/>\n",
              "    <path d=\"M18.56 5.44l.94 2.06.94-2.06 2.06-.94-2.06-.94-.94-2.06-.94 2.06-2.06.94zm-11 1L8.5 8.5l.94-2.06 2.06-.94-2.06-.94L8.5 2.5l-.94 2.06-2.06.94zm10 10l.94 2.06.94-2.06 2.06-.94-2.06-.94-.94-2.06-.94 2.06-2.06.94z\"/><path d=\"M17.41 7.96l-1.37-1.37c-.4-.4-.92-.59-1.43-.59-.52 0-1.04.2-1.43.59L10.3 9.45l-7.72 7.72c-.78.78-.78 2.05 0 2.83L4 21.41c.39.39.9.59 1.41.59.51 0 1.02-.2 1.41-.59l7.78-7.78 2.81-2.81c.8-.78.8-2.07 0-2.86zM5.41 20L4 18.59l7.72-7.72 1.47 1.35L5.41 20z\"/>\n",
              "  </svg>\n",
              "      </button>\n",
              "      \n",
              "  <style>\n",
              "    .colab-df-container {\n",
              "      display:flex;\n",
              "      flex-wrap:wrap;\n",
              "      gap: 12px;\n",
              "    }\n",
              "\n",
              "    .colab-df-convert {\n",
              "      background-color: #E8F0FE;\n",
              "      border: none;\n",
              "      border-radius: 50%;\n",
              "      cursor: pointer;\n",
              "      display: none;\n",
              "      fill: #1967D2;\n",
              "      height: 32px;\n",
              "      padding: 0 0 0 0;\n",
              "      width: 32px;\n",
              "    }\n",
              "\n",
              "    .colab-df-convert:hover {\n",
              "      background-color: #E2EBFA;\n",
              "      box-shadow: 0px 1px 2px rgba(60, 64, 67, 0.3), 0px 1px 3px 1px rgba(60, 64, 67, 0.15);\n",
              "      fill: #174EA6;\n",
              "    }\n",
              "\n",
              "    [theme=dark] .colab-df-convert {\n",
              "      background-color: #3B4455;\n",
              "      fill: #D2E3FC;\n",
              "    }\n",
              "\n",
              "    [theme=dark] .colab-df-convert:hover {\n",
              "      background-color: #434B5C;\n",
              "      box-shadow: 0px 1px 3px 1px rgba(0, 0, 0, 0.15);\n",
              "      filter: drop-shadow(0px 1px 2px rgba(0, 0, 0, 0.3));\n",
              "      fill: #FFFFFF;\n",
              "    }\n",
              "  </style>\n",
              "\n",
              "      <script>\n",
              "        const buttonEl =\n",
              "          document.querySelector('#df-5d24a4fb-8638-4e75-88f9-b2fd371dc4fe button.colab-df-convert');\n",
              "        buttonEl.style.display =\n",
              "          google.colab.kernel.accessAllowed ? 'block' : 'none';\n",
              "\n",
              "        async function convertToInteractive(key) {\n",
              "          const element = document.querySelector('#df-5d24a4fb-8638-4e75-88f9-b2fd371dc4fe');\n",
              "          const dataTable =\n",
              "            await google.colab.kernel.invokeFunction('convertToInteractive',\n",
              "                                                     [key], {});\n",
              "          if (!dataTable) return;\n",
              "\n",
              "          const docLinkHtml = 'Like what you see? Visit the ' +\n",
              "            '<a target=\"_blank\" href=https://colab.research.google.com/notebooks/data_table.ipynb>data table notebook</a>'\n",
              "            + ' to learn more about interactive tables.';\n",
              "          element.innerHTML = '';\n",
              "          dataTable['output_type'] = 'display_data';\n",
              "          await google.colab.output.renderOutput(dataTable, element);\n",
              "          const docLink = document.createElement('div');\n",
              "          docLink.innerHTML = docLinkHtml;\n",
              "          element.appendChild(docLink);\n",
              "        }\n",
              "      </script>\n",
              "    </div>\n",
              "  </div>\n",
              "  "
            ],
            "text/plain": [
              "     Matricula            Nome_Completo          Dt_Admissao  \\\n",
              "3          7.0  Pessoa Colaboradora 291  2015-09-01 00:00:00   \n",
              "4          8.0  Pessoa Colaboradora 412  2015-12-07 00:00:00   \n",
              "5          9.0  Pessoa Colaboradora 425  2015-12-07 00:00:00   \n",
              "6         13.0  Pessoa Colaboradora 417  2016-12-05 00:00:00   \n",
              "7         14.0  Pessoa Colaboradora 393  2016-12-05 00:00:00   \n",
              "..         ...                      ...                  ...   \n",
              "282      336.0  Pessoa Colaboradora 350  2021-11-08 00:00:00   \n",
              "287      341.0  Pessoa Colaboradora 319  2021-11-16 00:00:00   \n",
              "292      346.0  Pessoa Colaboradora 329  2021-12-01 00:00:00   \n",
              "298      352.0  Pessoa Colaboradora 338  2021-12-08 00:00:00   \n",
              "357      411.0  Pessoa Colaboradora 359  2022-03-16 00:00:00   \n",
              "\n",
              "                Dt_Saida          Tipo_Saida              Cargo  Salario_Mês  \\\n",
              "3    2021-10-29 00:00:00  Pedido de Demissão          Arquiteto     7000.000   \n",
              "4    2020-05-29 00:00:00  Pedido de Demissão             Dev Pl     2750.000   \n",
              "5    2021-11-12 00:00:00  Pedido de Demissão          Arquiteto     6500.000   \n",
              "6    2021-06-11 00:00:00  Pedido de Demissão          Arquiteto     5000.000   \n",
              "7    2020-10-30 00:00:00  Pedido de Demissão             Dev Pl     2068.600   \n",
              "..                   ...                 ...                ...          ...   \n",
              "282  2022-02-09 00:00:00  Pedido de Demissão   Dev Especialista     6101.600   \n",
              "287  2022-07-08 00:00:00  Pedido de Demissão            Gerente     5593.135   \n",
              "292  2022-04-01 00:00:00  Pedido de Demissão            Gerente     6302.915   \n",
              "298  2022-07-01 00:00:00  Pedido de Demissão             Dev Jr     2269.050   \n",
              "357  2022-07-15 00:00:00  Pedido de Demissão      Trainee - Dev     1017.000   \n",
              "\n",
              "           Dt_Nascimento      Genero          Etnia Estado_Civil  \\\n",
              "3    1986-08-31 00:00:00  Masculino           Parda    Solteiro    \n",
              "4    1994-06-27 00:00:00  Masculino           Parda    Solteiro    \n",
              "5    1988-07-07 00:00:00  Masculino           Parda    Solteiro    \n",
              "6    1992-08-05 00:00:00  Masculino           Parda    Solteiro    \n",
              "7    1996-11-17 00:00:00  Masculino           Parda    Solteiro    \n",
              "..                   ...         ...            ...          ...   \n",
              "282  1980-12-13 00:00:00  Masculino   Não Informada    Solteiro    \n",
              "287  1979-09-02 00:00:00  Masculino   Não Informada      Casado    \n",
              "292  1979-09-18 00:00:00  Masculino   Não Informada      Casado    \n",
              "298  1998-08-22 00:00:00  Masculino   Não Informada    Solteiro    \n",
              "357  2000-10-23 00:00:00  Masculino         Amarela    Solteiro    \n",
              "\n",
              "           Escolaridade_ Estado          Cidade               Area  Idade  \\\n",
              "3              Graduação     SP       São Paulo  Core & Industrias   36.0   \n",
              "4              Graduação     SP       São Paulo       CPG & Retail   28.0   \n",
              "5              Graduação     SP       São Paulo  Core & Industrias   34.0   \n",
              "6              Graduação     SP       São Paulo  Core & Industrias   30.0   \n",
              "7              Graduação     SP       Guarulhos       CPG & Retail   25.0   \n",
              "..                   ...    ...             ...                ...    ...   \n",
              "282            Graduação     SC   Florianópolis       CPG & Retail   41.0   \n",
              "287            Graduação     SP         Barueri                AMS   43.0   \n",
              "292            Graduação     SP       São Paulo          Analytics   42.0   \n",
              "298  Superior incompleto     RJ  Rio de Janeiro          Analytics   24.0   \n",
              "357  Superior incompleto     SP          Osasco       CPG & Retail   21.0   \n",
              "\n",
              "    Tempo_de_casa  Unnamed:_17 Unnamed:_18 Unnamed:_19  \n",
              "3            2250          NaN         NaN         NaN  \n",
              "4            1635          NaN         NaN         NaN  \n",
              "5            2167          NaN         NaN         NaN  \n",
              "6            1649          NaN         NaN         NaN  \n",
              "7            1425          NaN         NaN         NaN  \n",
              "..            ...          ...         ...         ...  \n",
              "282           295          NaN         NaN         NaN  \n",
              "287           287          NaN         NaN         NaN  \n",
              "292           121          NaN         NaN         NaN  \n",
              "298           205          NaN         NaN         NaN  \n",
              "357           167          NaN         NaN         NaN  \n",
              "\n",
              "[125 rows x 20 columns]"
            ]
          },
          "execution_count": 19,
          "metadata": {},
          "output_type": "execute_result"
        }
      ],
      "source": [
        "DF1 = pd.read_excel(\"/content/drive/Shareddrives/grupo5_modulo3/Everymind | Grupo 5.xlsx\", \"Everymind1\")\n",
        "DF1.columns = [c.replace(' ', '_') for c in DF1.columns]\n",
        "DF1_FIRED = DF1.loc[DF1[\"Tipo_Saida\"] == \"Pedido de Demissão\"]\n",
        "DF1_FIRED"
      ]
    },
    {
      "cell_type": "markdown",
      "metadata": {
        "id": "wbpf7FL75FE0"
      },
      "source": [
        "## Teste"
      ]
    },
    {
      "cell_type": "code",
      "execution_count": 20,
      "metadata": {
        "colab": {
          "base_uri": "https://localhost:8080/"
        },
        "id": "I5OogcOJ6uJQ",
        "outputId": "907cda78-ceea-487d-ddbe-478401a2fb71"
      },
      "outputs": [
        {
          "data": {
            "text/plain": [
              "0.5"
            ]
          },
          "execution_count": 20,
          "metadata": {},
          "output_type": "execute_result"
        }
      ],
      "source": [
        "DF1[\"Tipo_Saida\"].fillna(0, inplace=True)\n",
        "DF1_ACTIVE = DF1.loc[DF1[\"Tipo_Saida\"] == 0]\n",
        "DF1_ACTIVE_ARQ = DF1_ACTIVE.loc[DF1[\"Cargo\"] == \"Arquiteto\"]\n",
        "DF1_FIRED_ARQ = DF1_FIRED.loc[DF1[\"Cargo\"] == \"Arquiteto\"]\n",
        "AtivosArq= DF1_ACTIVE_ARQ['Cargo'].count()\n",
        "DemitidosArq= (DF1_FIRED_ARQ['Cargo'].count())\n",
        "RelArq= DemitidosArq/(AtivosArq + DemitidosArq)\n",
        "RelArq"
      ]
    },
    {
      "cell_type": "code",
      "execution_count": 21,
      "metadata": {
        "colab": {
          "base_uri": "https://localhost:8080/"
        },
        "id": "wc2JkTJH6wX5",
        "outputId": "f6108271-f250-42f6-d5b4-e480e12aa313"
      },
      "outputs": [
        {
          "data": {
            "text/plain": [
              "0.5614035087719298"
            ]
          },
          "execution_count": 21,
          "metadata": {},
          "output_type": "execute_result"
        }
      ],
      "source": [
        "DF1[\"Tipo_Saida\"].fillna(0, inplace=True)\n",
        "DF1_ACTIVE = DF1.loc[DF1[\"Tipo_Saida\"] == 0]\n",
        "DF1_ACTIVE_DEVPL= DF1_ACTIVE.loc[DF1[\"Cargo\"] == \" Dev Pl\"]\n",
        "DF1_FIRED_DEVPL = DF1_FIRED.loc[DF1[\"Cargo\"] == \" Dev Pl\"]\n",
        "AtivosDev= DF1_ACTIVE_DEVPL['Cargo'].count()\n",
        "DemitidosDev= (DF1_FIRED_DEVPL['Cargo'].count())\n",
        "RelDev= DemitidosDev/(AtivosDev + DemitidosDev)\n",
        "RelDev"
      ]
    },
    {
      "cell_type": "code",
      "execution_count": 22,
      "metadata": {
        "colab": {
          "base_uri": "https://localhost:8080/"
        },
        "id": "Wni93nbg6xYC",
        "outputId": "086ab802-3e6e-4fab-fa81-f8da087aec24"
      },
      "outputs": [
        {
          "data": {
            "text/plain": [
              "0.4"
            ]
          },
          "execution_count": 22,
          "metadata": {},
          "output_type": "execute_result"
        }
      ],
      "source": [
        "DF1[\"Tipo_Saida\"].fillna(0, inplace=True)\n",
        "DF1_ACTIVE = DF1.loc[DF1[\"Tipo_Saida\"] == 0]\n",
        "DF1_ACTIVE_DEVSR= DF1_ACTIVE.loc[DF1[\"Cargo\"] == \" Dev Sr\"]\n",
        "DF1_FIRED_DEVSR = DF1_FIRED.loc[DF1[\"Cargo\"] == \" Dev Sr\"]\n",
        "AtivosDevSr= DF1_ACTIVE_DEVSR['Cargo'].count()\n",
        "DemitidosDevSr= (DF1_FIRED_DEVSR['Cargo'].count())\n",
        "RelDevSr= DemitidosDevSr/(AtivosDevSr + DemitidosDevSr)\n",
        "RelDevSr"
      ]
    },
    {
      "cell_type": "code",
      "execution_count": 23,
      "metadata": {
        "colab": {
          "base_uri": "https://localhost:8080/"
        },
        "id": "kEAXwZoP62Ch",
        "outputId": "790e382c-8f62-4781-95bf-cd3fec6324a9"
      },
      "outputs": [
        {
          "data": {
            "text/plain": [
              "0.42857142857142855"
            ]
          },
          "execution_count": 23,
          "metadata": {},
          "output_type": "execute_result"
        }
      ],
      "source": [
        "DF1[\"Tipo_Saida\"].fillna(0, inplace=True)\n",
        "DF1_ACTIVE = DF1.loc[DF1[\"Tipo_Saida\"] == 0]\n",
        "DF1_ACTIVE_DEVESP= DF1_ACTIVE.loc[DF1[\"Cargo\"] == \" Dev Especialista\"]\n",
        "DF1_FIRED_DEVESP = DF1_FIRED.loc[DF1[\"Cargo\"] == \" Dev Especialista\"]\n",
        "AtivosDevEsp= DF1_ACTIVE_DEVESP['Cargo'].count()\n",
        "DemitidosDevEsp = (DF1_FIRED_DEVESP['Cargo'].count())\n",
        "RelDevEsp= DemitidosDevEsp/(AtivosDevEsp + DemitidosDevEsp)\n",
        "RelDevEsp"
      ]
    },
    {
      "cell_type": "code",
      "execution_count": 24,
      "metadata": {
        "colab": {
          "base_uri": "https://localhost:8080/"
        },
        "id": "a7rtfbT964kL",
        "outputId": "7080666b-a867-4d65-f3f5-92cd144b8784"
      },
      "outputs": [
        {
          "name": "stderr",
          "output_type": "stream",
          "text": [
            "/usr/local/lib/python3.7/dist-packages/ipykernel_launcher.py:7: RuntimeWarning:\n",
            "\n",
            "invalid value encountered in long_scalars\n",
            "\n"
          ]
        },
        {
          "data": {
            "text/plain": [
              "nan"
            ]
          },
          "execution_count": 24,
          "metadata": {},
          "output_type": "execute_result"
        }
      ],
      "source": [
        "DF1[\"Tipo_Saida\"].fillna(0, inplace=True)\n",
        "DF1_ACTIVE = DF1.loc[DF1[\"Tipo_Saida\"] == 0]\n",
        "DF1_ACTIVE_DIR= DF1_ACTIVE.loc[DF1[\"Cargo\"] == \" Diretor\"]\n",
        "DF1_FIRED_DIR = DF1_FIRED.loc[DF1[\"Cargo\"] == \" Diretor\"]\n",
        "AtivosDir= DF1_ACTIVE_DIR['Cargo'].count()\n",
        "DemitidosDir= (DF1_FIRED_DIR['Cargo'].count())\n",
        "RelDir= DemitidosDir/(AtivosDir + DemitidosDir)\n",
        "RelDir"
      ]
    },
    {
      "cell_type": "code",
      "execution_count": 25,
      "metadata": {
        "colab": {
          "base_uri": "https://localhost:8080/"
        },
        "id": "Fm2ZVCVL65Wf",
        "outputId": "4fcdb5d0-dcb3-4183-c475-3f4364c137ad"
      },
      "outputs": [
        {
          "name": "stderr",
          "output_type": "stream",
          "text": [
            "/usr/local/lib/python3.7/dist-packages/ipykernel_launcher.py:7: RuntimeWarning:\n",
            "\n",
            "invalid value encountered in long_scalars\n",
            "\n"
          ]
        },
        {
          "data": {
            "text/plain": [
              "nan"
            ]
          },
          "execution_count": 25,
          "metadata": {},
          "output_type": "execute_result"
        }
      ],
      "source": [
        "DF1[\"Tipo_Saida\"].fillna(0, inplace=True)\n",
        "DF1_ACTIVE = DF1.loc[DF1[\"Tipo_Saida\"] == 0]\n",
        "DF1_ACTIVE_GER= DF1_ACTIVE.loc[DF1[\"Cargo\"] == \" Gerente Sr\"]\n",
        "DF1_FIRED_GER = DF1_FIRED.loc[DF1[\"Cargo\"] == \" Gerente Sr\"]\n",
        "AtivosGer= DF1_ACTIVE_GER['Cargo'].count()\n",
        "DemitidosGer= (DF1_FIRED_GER['Cargo'].count())\n",
        "RelGer= DemitidosGer/(AtivosGer + DemitidosGer)\n",
        "RelGer"
      ]
    },
    {
      "cell_type": "code",
      "execution_count": 26,
      "metadata": {
        "colab": {
          "base_uri": "https://localhost:8080/"
        },
        "id": "PCB5Ozov67cx",
        "outputId": "8f6ef665-e432-49e1-e679-45efbc007a70"
      },
      "outputs": [
        {
          "data": {
            "text/plain": [
              "0.3684210526315789"
            ]
          },
          "execution_count": 26,
          "metadata": {},
          "output_type": "execute_result"
        }
      ],
      "source": [
        "DF1[\"Tipo_Saida\"].fillna(0, inplace=True)\n",
        "DF1_ACTIVE = DF1.loc[DF1[\"Tipo_Saida\"] == 0]\n",
        "DF1_ACTIVE_FUNC= DF1_ACTIVE.loc[DF1[\"Cargo\"] == \" Funcional Pl\"]\n",
        "DF1_FIRED_FUNC = DF1_FIRED.loc[DF1[\"Cargo\"] == \" Funcional Pl\"]\n",
        "AtivosFunc= DF1_ACTIVE_FUNC['Cargo'].count()\n",
        "DemitidosFunc= (DF1_FIRED_FUNC['Cargo'].count())\n",
        "RelFunc= DemitidosFunc/(AtivosFunc + DemitidosFunc)\n",
        "RelFunc"
      ]
    },
    {
      "cell_type": "code",
      "execution_count": 27,
      "metadata": {
        "colab": {
          "base_uri": "https://localhost:8080/"
        },
        "id": "Y4qDG1Zq69Zs",
        "outputId": "bc798d95-ce6b-481d-8f9e-0d13f130d53e"
      },
      "outputs": [
        {
          "data": {
            "text/plain": [
              "0.42857142857142855"
            ]
          },
          "execution_count": 27,
          "metadata": {},
          "output_type": "execute_result"
        }
      ],
      "source": [
        "DF1[\"Tipo_Saida\"].fillna(0, inplace=True)\n",
        "DF1_ACTIVE = DF1.loc[DF1[\"Tipo_Saida\"] == 0]\n",
        "DF1_ACTIVE_FUNCSR= DF1_ACTIVE.loc[DF1[\"Cargo\"] == \" Funcional Sr\"]\n",
        "DF1_FIRED_FUNCSR = DF1_FIRED.loc[DF1[\"Cargo\"] == \" Funcional Sr\"]\n",
        "AtivosFuncSR= DF1_ACTIVE_FUNCSR['Cargo'].count()\n",
        "DemitidosFuncSR= (DF1_FIRED_FUNCSR['Cargo'].count())\n",
        "RelFuncSR= DemitidosFuncSR/(AtivosFuncSR + DemitidosFuncSR)\n",
        "RelFuncSR"
      ]
    },
    {
      "cell_type": "code",
      "execution_count": 28,
      "metadata": {
        "colab": {
          "base_uri": "https://localhost:8080/"
        },
        "id": "VbcAh6Ms6_KP",
        "outputId": "2632d8c4-5d43-49fc-eebc-8e0221ff4852"
      },
      "outputs": [
        {
          "name": "stderr",
          "output_type": "stream",
          "text": [
            "/usr/local/lib/python3.7/dist-packages/ipykernel_launcher.py:7: RuntimeWarning:\n",
            "\n",
            "invalid value encountered in long_scalars\n",
            "\n"
          ]
        },
        {
          "data": {
            "text/plain": [
              "nan"
            ]
          },
          "execution_count": 28,
          "metadata": {},
          "output_type": "execute_result"
        }
      ],
      "source": [
        "DF1[\"Tipo_Saida\"].fillna(0, inplace=True)\n",
        "DF1_ACTIVE = DF1.loc[DF1[\"Tipo_Saida\"] == 0]\n",
        "DF1_ACTIVE_Consultor= DF1_ACTIVE.loc[DF1[\"Cargo\"] == \" Consultor\"]\n",
        "DF1_FIRED_Consultor = DF1_FIRED.loc[DF1[\"Cargo\"] == \" Consultor\"]\n",
        "AtivosConsultor= DF1_ACTIVE_Consultor['Cargo'].count()\n",
        "DemitidosConsultor= (DF1_FIRED_Consultor['Cargo'].count())\n",
        "RelConsultor= DemitidosConsultor/(AtivosConsultor + DemitidosConsultor)\n",
        "RelConsultor"
      ]
    },
    {
      "cell_type": "code",
      "execution_count": 29,
      "metadata": {
        "colab": {
          "base_uri": "https://localhost:8080/"
        },
        "id": "PnA_akA57BPl",
        "outputId": "71f6110e-c8e6-46a0-ed76-b6fe9cff8643"
      },
      "outputs": [
        {
          "data": {
            "text/plain": [
              "0.40384615384615385"
            ]
          },
          "execution_count": 29,
          "metadata": {},
          "output_type": "execute_result"
        }
      ],
      "source": [
        "DF1[\"Tipo_Saida\"].fillna(0, inplace=True)\n",
        "DF1_ACTIVE = DF1.loc[DF1[\"Tipo_Saida\"] == 0]\n",
        "DF1_ACTIVE_DEVJR= DF1_ACTIVE.loc[DF1[\"Cargo\"] == \" Dev Jr\"]\n",
        "DF1_FIRED_DEVJR = DF1_FIRED.loc[DF1[\"Cargo\"] == \" Dev Jr\"]\n",
        "AtivosDevJR= DF1_ACTIVE_DEVJR['Cargo'].count()\n",
        "DemitidosDevJr= (DF1_FIRED_DEVJR['Cargo'].count())\n",
        "RelDevJr= DemitidosDevJr/(AtivosDevJR + DemitidosDevJr)\n",
        "RelDevJr"
      ]
    },
    {
      "cell_type": "code",
      "execution_count": 30,
      "metadata": {
        "colab": {
          "base_uri": "https://localhost:8080/"
        },
        "id": "2bPwUoLx7DRj",
        "outputId": "48269821-3ba6-4823-fe26-8612bacee161"
      },
      "outputs": [
        {
          "data": {
            "text/plain": [
              "0.6666666666666666"
            ]
          },
          "execution_count": 30,
          "metadata": {},
          "output_type": "execute_result"
        }
      ],
      "source": [
        "DF1[\"Tipo_Saida\"].fillna(0, inplace=True)\n",
        "DF1_ACTIVE = DF1.loc[DF1[\"Tipo_Saida\"] == 0]\n",
        "DF1_ACTIVE_SCRUMJR= DF1_ACTIVE.loc[DF1[\"Cargo\"] == \" Scrum Master Jr\"]\n",
        "DF1_FIRED_SCRUMJR = DF1_FIRED.loc[DF1[\"Cargo\"] == \" Scrum Master Jr\"]\n",
        "AtivosScrumJr= DF1_ACTIVE_SCRUMJR['Cargo'].count()\n",
        "DemitidosScrumJr= (DF1_FIRED_SCRUMJR['Cargo'].count())\n",
        "RelScrumJr= DemitidosScrumJr/(AtivosScrumJr + DemitidosScrumJr)\n",
        "RelScrumJr"
      ]
    },
    {
      "cell_type": "code",
      "execution_count": 31,
      "metadata": {
        "colab": {
          "base_uri": "https://localhost:8080/"
        },
        "id": "t-YLpwml7FGc",
        "outputId": "9d0663c1-519d-467d-a653-14c316c70649"
      },
      "outputs": [
        {
          "name": "stderr",
          "output_type": "stream",
          "text": [
            "/usr/local/lib/python3.7/dist-packages/ipykernel_launcher.py:7: RuntimeWarning:\n",
            "\n",
            "invalid value encountered in long_scalars\n",
            "\n"
          ]
        },
        {
          "data": {
            "text/plain": [
              "nan"
            ]
          },
          "execution_count": 31,
          "metadata": {},
          "output_type": "execute_result"
        }
      ],
      "source": [
        "DF1[\"Tipo_Saida\"].fillna(0, inplace=True)\n",
        "DF1_ACTIVE = DF1.loc[DF1[\"Tipo_Saida\"] == 0]\n",
        "DF1_ACTIVE_GERENTE= DF1_ACTIVE.loc[DF1[\"Cargo\"] == \" Gerente\"]\n",
        "DF1_FIRED_GERENTE = DF1_FIRED.loc[DF1[\"Cargo\"] == \" Gerente\"]\n",
        "AtivosGerente= DF1_ACTIVE_GERENTE['Cargo'].count()\n",
        "DemitidosGerente= (DF1_FIRED_GERENTE['Cargo'].count())\n",
        "RelGerente= DemitidosGerente/(AtivosGerente + DemitidosGerente)\n",
        "RelGerente"
      ]
    },
    {
      "cell_type": "code",
      "execution_count": 32,
      "metadata": {
        "colab": {
          "base_uri": "https://localhost:8080/"
        },
        "id": "B2U_XP1y7IBp",
        "outputId": "376dd890-8e07-49e9-8b49-7229b7d3d25b"
      },
      "outputs": [
        {
          "data": {
            "text/plain": [
              "0.47619047619047616"
            ]
          },
          "execution_count": 32,
          "metadata": {},
          "output_type": "execute_result"
        }
      ],
      "source": [
        "DF1[\"Tipo_Saida\"].fillna(0, inplace=True)\n",
        "DF1_ACTIVE = DF1.loc[DF1[\"Tipo_Saida\"] == 0]\n",
        "DF1_ACTIVE_FUNCJR= DF1_ACTIVE.loc[DF1[\"Cargo\"] == \" Funcional Jr\"]\n",
        "DF1_FIRED_FUNCJR = DF1_FIRED.loc[DF1[\"Cargo\"] == \" Funcional Jr\"]\n",
        "AtivosFuncJr= DF1_ACTIVE_FUNCJR['Cargo'].count()\n",
        "DemitidosFuncJr= (DF1_FIRED_FUNCJR['Cargo'].count())\n",
        "RelFuncJr= DemitidosFuncJr/(AtivosFuncJr + DemitidosFuncJr)\n",
        "RelFuncJr"
      ]
    },
    {
      "cell_type": "code",
      "execution_count": 33,
      "metadata": {
        "colab": {
          "base_uri": "https://localhost:8080/"
        },
        "id": "XIHnx7z67I6A",
        "outputId": "7bc14880-d8b0-43f6-f40e-fd030f398548"
      },
      "outputs": [
        {
          "name": "stderr",
          "output_type": "stream",
          "text": [
            "/usr/local/lib/python3.7/dist-packages/ipykernel_launcher.py:7: RuntimeWarning:\n",
            "\n",
            "invalid value encountered in long_scalars\n",
            "\n"
          ]
        },
        {
          "data": {
            "text/plain": [
              "nan"
            ]
          },
          "execution_count": 33,
          "metadata": {},
          "output_type": "execute_result"
        }
      ],
      "source": [
        "DF1[\"Tipo_Saida\"].fillna(0, inplace=True)\n",
        "DF1_ACTIVE = DF1.loc[DF1[\"Tipo_Saida\"] == 0]\n",
        "DF1_ACTIVE_TRAINEEDEV= DF1_ACTIVE.loc[DF1[\"Cargo\"] == \" Trainee - Dev\"]\n",
        "DF1_FIRED_TRAINEEDEV = DF1_FIRED.loc[DF1[\"Cargo\"] == \" Trainee - Dev\"]\n",
        "AtivosTraineeDev= DF1_ACTIVE_TRAINEEDEV['Cargo'].count()\n",
        "DemitidosTraineeDev= (DF1_FIRED_TRAINEEDEV['Cargo'].count())\n",
        "RelTraineeDev= DemitidosTraineeDev/(AtivosTraineeDev + DemitidosTraineeDev)\n",
        "RelTraineeDev"
      ]
    },
    {
      "cell_type": "code",
      "execution_count": 34,
      "metadata": {
        "colab": {
          "base_uri": "https://localhost:8080/"
        },
        "id": "jWnsjD047L7L",
        "outputId": "e9154748-2bad-4ba9-f625-aba7e2b60548"
      },
      "outputs": [
        {
          "name": "stderr",
          "output_type": "stream",
          "text": [
            "/usr/local/lib/python3.7/dist-packages/ipykernel_launcher.py:7: RuntimeWarning:\n",
            "\n",
            "invalid value encountered in long_scalars\n",
            "\n"
          ]
        },
        {
          "data": {
            "text/plain": [
              "nan"
            ]
          },
          "execution_count": 34,
          "metadata": {},
          "output_type": "execute_result"
        }
      ],
      "source": [
        "DF1[\"Tipo_Saida\"].fillna(0, inplace=True)\n",
        "DF1_ACTIVE = DF1.loc[DF1[\"Tipo_Saida\"] == 0]\n",
        "DF1_ACTIVE_GERENTEPV= DF1_ACTIVE.loc[DF1[\"Cargo\"] == \" Gerente PV\"]\n",
        "DF1_FIRED_GERENTEPV = DF1_FIRED.loc[DF1[\"Cargo\"] == \" Gerente PV\"]\n",
        "AtivosGerentePV= DF1_ACTIVE_GERENTEPV['Cargo'].count()\n",
        "DemitidosGerentePV= (DF1_FIRED_GERENTEPV['Cargo'].count())\n",
        "RelGerentePV= DemitidosGerentePV/(AtivosGerentePV + DemitidosGerentePV)\n",
        "RelGerentePV"
      ]
    },
    {
      "cell_type": "code",
      "execution_count": 35,
      "metadata": {
        "colab": {
          "base_uri": "https://localhost:8080/"
        },
        "id": "6MQ0jd_J7Ms4",
        "outputId": "7d136d19-7358-44b1-ef69-40d83cf373e4"
      },
      "outputs": [
        {
          "name": "stderr",
          "output_type": "stream",
          "text": [
            "/usr/local/lib/python3.7/dist-packages/ipykernel_launcher.py:7: RuntimeWarning:\n",
            "\n",
            "invalid value encountered in long_scalars\n",
            "\n"
          ]
        },
        {
          "data": {
            "text/plain": [
              "nan"
            ]
          },
          "execution_count": 35,
          "metadata": {},
          "output_type": "execute_result"
        }
      ],
      "source": [
        "DF1[\"Tipo_Saida\"].fillna(0, inplace=True)\n",
        "DF1_ACTIVE = DF1.loc[DF1[\"Tipo_Saida\"] == 0]\n",
        "DF1_ACTIVE_ASSII= DF1_ACTIVE.loc[DF1[\"Cargo\"] == \" Assistente II\"]\n",
        "DF1_FIRED_ASSII = DF1_FIRED.loc[DF1[\"Cargo\"] == \" Assistente II\"]\n",
        "AtivosAssistenteII= DF1_ACTIVE_ASSII['Cargo'].count()\n",
        "DemitidosAssistenteII= (DF1_FIRED_ASSII['Cargo'].count())\n",
        "RelAssistenteII= DemitidosAssistenteII/(AtivosAssistenteII + DemitidosAssistenteII)\n",
        "RelAssistenteII"
      ]
    },
    {
      "cell_type": "code",
      "execution_count": 36,
      "metadata": {
        "colab": {
          "base_uri": "https://localhost:8080/"
        },
        "id": "HJZNH1ME7PLj",
        "outputId": "27951dd5-e1ef-4ae3-d5e4-e88514a6d9aa"
      },
      "outputs": [
        {
          "name": "stderr",
          "output_type": "stream",
          "text": [
            "/usr/local/lib/python3.7/dist-packages/ipykernel_launcher.py:7: RuntimeWarning:\n",
            "\n",
            "invalid value encountered in long_scalars\n",
            "\n"
          ]
        },
        {
          "data": {
            "text/plain": [
              "nan"
            ]
          },
          "execution_count": 36,
          "metadata": {},
          "output_type": "execute_result"
        }
      ],
      "source": [
        "DF1[\"Tipo_Saida\"].fillna(0, inplace=True)\n",
        "DF1_ACTIVE = DF1.loc[DF1[\"Tipo_Saida\"] == 0]\n",
        "DF1_ACTIVE_GERENTEVENDASI= DF1_ACTIVE.loc[DF1[\"Cargo\"] == \" Gente Vendas I\"]\n",
        "DF1_FIRED_GERENTEVENDASI = DF1_FIRED.loc[DF1[\"Cargo\"] == \" Gerente Vendas I\"]\n",
        "AtivosGerenteVendasI= DF1_ACTIVE_GERENTEVENDASI['Cargo'].count()\n",
        "DemitidosGerenteVendasI = (DF1_FIRED_GERENTEVENDASI['Cargo'].count())\n",
        "RelGerVenI= DemitidosGerenteVendasI/(AtivosGerenteVendasI + DemitidosGerenteVendasI)\n",
        "RelGerVenI"
      ]
    },
    {
      "cell_type": "code",
      "execution_count": 37,
      "metadata": {
        "colab": {
          "base_uri": "https://localhost:8080/"
        },
        "id": "MsnCYanx7SEy",
        "outputId": "6a268432-1255-4b62-a88a-8af47057897c"
      },
      "outputs": [
        {
          "data": {
            "text/plain": [
              "0.3333333333333333"
            ]
          },
          "execution_count": 37,
          "metadata": {},
          "output_type": "execute_result"
        }
      ],
      "source": [
        "DF1[\"Tipo_Saida\"].fillna(0, inplace=True)\n",
        "DF1_ACTIVE = DF1.loc[DF1[\"Tipo_Saida\"] == 0]\n",
        "DF1_ACTIVE_FUNCESP= DF1_ACTIVE.loc[DF1[\"Cargo\"] == \" Funcional Especialista\"]\n",
        "DF1_FIRED_FUNCESP = DF1_FIRED.loc[DF1[\"Cargo\"] == \" Funcional Especialista\"]\n",
        "AtivosFuncESP= DF1_ACTIVE_FUNCESP['Cargo'].count()\n",
        "DemitidosFuncESP= (DF1_FIRED_FUNCESP['Cargo'].count())\n",
        "RelFuncESP= DemitidosFuncESP/(AtivosFuncESP + DemitidosFuncESP)\n",
        "RelFuncESP"
      ]
    },
    {
      "cell_type": "code",
      "execution_count": 38,
      "metadata": {
        "colab": {
          "base_uri": "https://localhost:8080/"
        },
        "id": "epc0pXNS7VWe",
        "outputId": "6d945ad7-0d58-4537-da8a-a3f587185b4f"
      },
      "outputs": [
        {
          "name": "stderr",
          "output_type": "stream",
          "text": [
            "/usr/local/lib/python3.7/dist-packages/ipykernel_launcher.py:7: RuntimeWarning:\n",
            "\n",
            "invalid value encountered in long_scalars\n",
            "\n"
          ]
        },
        {
          "data": {
            "text/plain": [
              "nan"
            ]
          },
          "execution_count": 38,
          "metadata": {},
          "output_type": "execute_result"
        }
      ],
      "source": [
        "DF1[\"Tipo_Saida\"].fillna(0, inplace=True)\n",
        "DF1_ACTIVE = DF1.loc[DF1[\"Tipo_Saida\"] == 0]\n",
        "DF1_ACTIVE_TESTESR= DF1_ACTIVE.loc[DF1[\"Cargo\"] == \" Teste Sr\"]\n",
        "DF1_FIRED_TESTESR = DF1_FIRED.loc[DF1[\"Cargo\"] == \" Teste Sr\"]\n",
        "AtivosTester= DF1_ACTIVE_TESTESR['Cargo'].count()\n",
        "DemitidosTester= (DF1_FIRED_TESTESR['Cargo'].count())\n",
        "RelTesteSr= DemitidosTester/(AtivosTester + DemitidosTester)\n",
        "RelTesteSr"
      ]
    },
    {
      "cell_type": "code",
      "execution_count": 39,
      "metadata": {
        "colab": {
          "base_uri": "https://localhost:8080/"
        },
        "id": "1_PJvQrZ7XJp",
        "outputId": "2b53eefc-abaf-4e87-d293-b7179f8436b8"
      },
      "outputs": [
        {
          "name": "stderr",
          "output_type": "stream",
          "text": [
            "/usr/local/lib/python3.7/dist-packages/ipykernel_launcher.py:7: RuntimeWarning:\n",
            "\n",
            "invalid value encountered in long_scalars\n",
            "\n"
          ]
        },
        {
          "data": {
            "text/plain": [
              "nan"
            ]
          },
          "execution_count": 39,
          "metadata": {},
          "output_type": "execute_result"
        }
      ],
      "source": [
        "DF1[\"Tipo_Saida\"].fillna(0, inplace=True)\n",
        "DF1_ACTIVE = DF1.loc[DF1[\"Tipo_Saida\"] == 0]\n",
        "DF1_ACTIVE_COMERCIALIS= DF1_ACTIVE.loc[DF1[\"Cargo\"] == \" Comercial IS\"]\n",
        "DF1_FIRED_COMERCIALIS = DF1_FIRED.loc[DF1[\"Cargo\"] == \" Comercial IS\"]\n",
        "AtivosComercialIS= DF1_ACTIVE_COMERCIALIS['Cargo'].count()\n",
        "DemitidosComercialIS= (DF1_FIRED_COMERCIALIS['Cargo'].count())\n",
        "RelComercialIS= DemitidosComercialIS/(AtivosComercialIS + DemitidosComercialIS)\n",
        "RelComercialIS"
      ]
    },
    {
      "cell_type": "code",
      "execution_count": 40,
      "metadata": {
        "colab": {
          "base_uri": "https://localhost:8080/"
        },
        "id": "_ZTlyUsb7Y6V",
        "outputId": "c5987304-3768-44e4-9f27-720e241d4865"
      },
      "outputs": [
        {
          "name": "stderr",
          "output_type": "stream",
          "text": [
            "/usr/local/lib/python3.7/dist-packages/ipykernel_launcher.py:7: RuntimeWarning:\n",
            "\n",
            "invalid value encountered in long_scalars\n",
            "\n"
          ]
        },
        {
          "data": {
            "text/plain": [
              "nan"
            ]
          },
          "execution_count": 40,
          "metadata": {},
          "output_type": "execute_result"
        }
      ],
      "source": [
        "DF1[\"Tipo_Saida\"].fillna(0, inplace=True)\n",
        "DF1_ACTIVE = DF1.loc[DF1[\"Tipo_Saida\"] == 0]\n",
        "DF1_ACTIVE_GERENTEVENDASII= DF1_ACTIVE.loc[DF1[\"Cargo\"] == \" Gente Vendas II\"]\n",
        "DF1_FIRED_GERENTEVENDASII = DF1_FIRED.loc[DF1[\"Cargo\"] == \" Gerente Vendas II\"]\n",
        "AtivosGerenteVendasII= DF1_ACTIVE_GERENTEVENDASII['Cargo'].count()\n",
        "DemitidosGerenteVendasII= (DF1_FIRED_GERENTEVENDASII['Cargo'].count())\n",
        "RelGerVendII= DemitidosGerenteVendasII/(AtivosGerenteVendasII + DemitidosGerenteVendasII)\n",
        "RelGerVendII"
      ]
    },
    {
      "cell_type": "code",
      "execution_count": 41,
      "metadata": {
        "colab": {
          "base_uri": "https://localhost:8080/"
        },
        "id": "85S1Oyfo7Z1G",
        "outputId": "da905f99-d97c-4099-d30d-047d00221af7"
      },
      "outputs": [
        {
          "name": "stderr",
          "output_type": "stream",
          "text": [
            "/usr/local/lib/python3.7/dist-packages/ipykernel_launcher.py:7: RuntimeWarning:\n",
            "\n",
            "invalid value encountered in long_scalars\n",
            "\n"
          ]
        },
        {
          "data": {
            "text/plain": [
              "nan"
            ]
          },
          "execution_count": 41,
          "metadata": {},
          "output_type": "execute_result"
        }
      ],
      "source": [
        "DF1[\"Tipo_Saida\"].fillna(0, inplace=True)\n",
        "DF1_ACTIVE = DF1.loc[DF1[\"Tipo_Saida\"] == 0]\n",
        "DF1_ACTIVE_VICEPRES= DF1_ACTIVE.loc[DF1[\"Cargo\"] == \" Vice Presidente\"]\n",
        "DF1_FIRED_VICEPRES = DF1_FIRED.loc[DF1[\"Cargo\"] == \" Vice Presidente\"]\n",
        "AtivosVicePres= DF1_ACTIVE_VICEPRES['Cargo'].count()\n",
        "DemitidosVicePres= (DF1_FIRED_VICEPRES['Cargo'].count())\n",
        "RelVicePres= DemitidosVicePres/(AtivosVicePres + DemitidosVicePres)\n",
        "RelVicePres"
      ]
    },
    {
      "cell_type": "code",
      "execution_count": 42,
      "metadata": {
        "colab": {
          "base_uri": "https://localhost:8080/"
        },
        "id": "s4ApDeT-7eBO",
        "outputId": "8e6e9efa-e8f8-4d86-8963-bbc8a6101875"
      },
      "outputs": [
        {
          "name": "stderr",
          "output_type": "stream",
          "text": [
            "/usr/local/lib/python3.7/dist-packages/ipykernel_launcher.py:7: RuntimeWarning:\n",
            "\n",
            "invalid value encountered in long_scalars\n",
            "\n"
          ]
        },
        {
          "data": {
            "text/plain": [
              "nan"
            ]
          },
          "execution_count": 42,
          "metadata": {},
          "output_type": "execute_result"
        }
      ],
      "source": [
        "DF1[\"Tipo_Saida\"].fillna(0, inplace=True)\n",
        "DF1_ACTIVE = DF1.loc[DF1[\"Tipo_Saida\"] == 0]\n",
        "DF1_ACTIVE_GERENTECS= DF1_ACTIVE.loc[DF1[\"Cargo\"] == \" Gente CS Sr\"]\n",
        "DF1_FIRED_GERENTECS = DF1_FIRED.loc[DF1[\"Cargo\"] == \" Gerente CS Sr\"]\n",
        "AtivosGerenteCS= DF1_ACTIVE_GERENTECS['Cargo'].count()\n",
        "DemitidosGerenteCS= (DF1_FIRED_GERENTECS['Cargo'].count())\n",
        "RelGerenteCS= DemitidosGerenteCS/(AtivosGerenteCS + DemitidosGerenteCS)\n",
        "RelGerenteCS"
      ]
    },
    {
      "cell_type": "code",
      "execution_count": 43,
      "metadata": {
        "colab": {
          "base_uri": "https://localhost:8080/"
        },
        "id": "I7lDS6xr7kb9",
        "outputId": "f247bf92-f554-4fdf-825a-e0e6af5fdc4c"
      },
      "outputs": [
        {
          "name": "stderr",
          "output_type": "stream",
          "text": [
            "/usr/local/lib/python3.7/dist-packages/ipykernel_launcher.py:7: RuntimeWarning:\n",
            "\n",
            "invalid value encountered in long_scalars\n",
            "\n"
          ]
        },
        {
          "data": {
            "text/plain": [
              "nan"
            ]
          },
          "execution_count": 43,
          "metadata": {},
          "output_type": "execute_result"
        }
      ],
      "source": [
        "DF1[\"Tipo_Saida\"].fillna(0, inplace=True)\n",
        "DF1_ACTIVE = DF1.loc[DF1[\"Tipo_Saida\"] == 0]\n",
        "DF1_ACTIVE_LIMPEZA= DF1_ACTIVE.loc[DF1[\"Cargo\"] == \" Auxiliar de Limpeza\"]\n",
        "DF1_FIRED_LIMPEZA = DF1_FIRED.loc[DF1[\"Cargo\"] == \" Auxiliar de Limpeza\"]\n",
        "AtivosLimpeza= DF1_ACTIVE_LIMPEZA['Cargo'].count()\n",
        "DemitidosLimpeza= (DF1_FIRED_LIMPEZA['Cargo'].count())\n",
        "RelLimpeza= DemitidosLimpeza/(AtivosLimpeza + DemitidosLimpeza)\n",
        "RelLimpeza"
      ]
    },
    {
      "cell_type": "code",
      "execution_count": 44,
      "metadata": {
        "colab": {
          "base_uri": "https://localhost:8080/"
        },
        "id": "2M0MOLKf7mgU",
        "outputId": "72ac1fc4-bdbb-4736-abdc-862168e2bb83"
      },
      "outputs": [
        {
          "name": "stderr",
          "output_type": "stream",
          "text": [
            "/usr/local/lib/python3.7/dist-packages/ipykernel_launcher.py:7: RuntimeWarning:\n",
            "\n",
            "invalid value encountered in long_scalars\n",
            "\n"
          ]
        },
        {
          "data": {
            "text/plain": [
              "nan"
            ]
          },
          "execution_count": 44,
          "metadata": {},
          "output_type": "execute_result"
        }
      ],
      "source": [
        "DF1[\"Tipo_Saida\"].fillna(0, inplace=True)\n",
        "DF1_ACTIVE = DF1.loc[DF1[\"Tipo_Saida\"] == 0]\n",
        "DF1_ACTIVE_GERENTEVENDASIII= DF1_ACTIVE.loc[DF1[\"Cargo\"] == \" Gente Vendas III\"]\n",
        "DF1_FIRED_GERENTEVENDASIII = DF1_FIRED.loc[DF1[\"Cargo\"] == \" Gerente Vendas III\"]\n",
        "AtivosGERENTEVENDASIII= DF1_ACTIVE_GERENTEVENDASIII['Cargo'].count()\n",
        "DemitidosGERENTEVENDASIII= (DF1_FIRED_GERENTEVENDASIII['Cargo'].count())\n",
        "RelGERENTEVENDASIII= DemitidosGERENTEVENDASIII/(AtivosGERENTEVENDASIII + DemitidosGERENTEVENDASIII)\n",
        "RelGERENTEVENDASIII"
      ]
    },
    {
      "cell_type": "code",
      "execution_count": 45,
      "metadata": {
        "colab": {
          "base_uri": "https://localhost:8080/"
        },
        "id": "6hen9F8H7ngY",
        "outputId": "5c025d0b-9876-4280-c56e-951c56b412ac"
      },
      "outputs": [
        {
          "data": {
            "text/plain": [
              "0.0"
            ]
          },
          "execution_count": 45,
          "metadata": {},
          "output_type": "execute_result"
        }
      ],
      "source": [
        "DF1[\"Tipo_Saida\"].fillna(0, inplace=True)\n",
        "DF1_ACTIVE = DF1.loc[DF1[\"Tipo_Saida\"] == 0]\n",
        "DF1_ACTIVE_PESSOASPL= DF1_ACTIVE.loc[DF1[\"Cargo\"] == \" Pessoas Pl\"]\n",
        "DF1_FIRED_PESSOASPL = DF1_FIRED.loc[DF1[\"Cargo\"] == \" Pessoas Pl\"]\n",
        "AtivosPessoasPL= DF1_ACTIVE_PESSOASPL['Cargo'].count()\n",
        "DemitidosPessoasPL= (DF1_FIRED_PESSOASPL['Cargo'].count())\n",
        "RelPessoasPL= DemitidosPessoasPL/(AtivosPessoasPL + DemitidosPessoasPL)\n",
        "RelPessoasPL"
      ]
    },
    {
      "cell_type": "code",
      "execution_count": 46,
      "metadata": {
        "colab": {
          "base_uri": "https://localhost:8080/"
        },
        "id": "GSwp8xuK7plf",
        "outputId": "c09dacf4-5640-4acf-a6f4-265003a6a04c"
      },
      "outputs": [
        {
          "name": "stderr",
          "output_type": "stream",
          "text": [
            "/usr/local/lib/python3.7/dist-packages/ipykernel_launcher.py:7: RuntimeWarning:\n",
            "\n",
            "invalid value encountered in long_scalars\n",
            "\n"
          ]
        },
        {
          "data": {
            "text/plain": [
              "nan"
            ]
          },
          "execution_count": 46,
          "metadata": {},
          "output_type": "execute_result"
        }
      ],
      "source": [
        "DF1[\"Tipo_Saida\"].fillna(0, inplace=True)\n",
        "DF1_ACTIVE = DF1.loc[DF1[\"Tipo_Saida\"] == 0]\n",
        "DF1_ACTIVE_TRAINEEFUNC= DF1_ACTIVE.loc[DF1[\"Cargo\"] == \" Trainee - Funcional\"]\n",
        "DF1_FIRED_TRAINEEFUNC = DF1_FIRED.loc[DF1[\"Cargo\"] == \" Trainee - Funcional\"]\n",
        "AtivosTraineefunc= DF1_ACTIVE_TRAINEEFUNC['Cargo'].count()\n",
        "DemitidosTraineefunc= (DF1_FIRED_TRAINEEFUNC['Cargo'].count())\n",
        "RelTraineefunc = DemitidosTraineefunc/(AtivosTraineefunc + DemitidosTraineefunc)\n",
        "RelTraineefunc"
      ]
    },
    {
      "cell_type": "code",
      "execution_count": 47,
      "metadata": {
        "colab": {
          "base_uri": "https://localhost:8080/"
        },
        "id": "YLmDqw4Z7ry3",
        "outputId": "25cd2f63-8ea8-4cce-bc11-3af71ea07b5b"
      },
      "outputs": [
        {
          "name": "stderr",
          "output_type": "stream",
          "text": [
            "/usr/local/lib/python3.7/dist-packages/ipykernel_launcher.py:7: RuntimeWarning:\n",
            "\n",
            "invalid value encountered in long_scalars\n",
            "\n"
          ]
        },
        {
          "data": {
            "text/plain": [
              "nan"
            ]
          },
          "execution_count": 47,
          "metadata": {},
          "output_type": "execute_result"
        }
      ],
      "source": [
        "DF1[\"Tipo_Saida\"].fillna(0, inplace=True)\n",
        "DF1_ACTIVE = DF1.loc[DF1[\"Tipo_Saida\"] == 0]\n",
        "DF1_ACTIVE_ARQSR= DF1_ACTIVE.loc[DF1[\"Cargo\"] == \" Arquiteto Sr\"]\n",
        "DF1_FIRED_ARQSR = DF1_FIRED.loc[DF1[\"Cargo\"] == \" Arquiteto Sr\"]\n",
        "AtivosArqSr= DF1_ACTIVE_ARQSR['Cargo'].count()\n",
        "DemitidosArqSr= (DF1_FIRED_ARQSR['Cargo'].count())\n",
        "RelArqSr= DemitidosArqSr/(AtivosArqSr + DemitidosArqSr)\n",
        "RelArqSr"
      ]
    },
    {
      "cell_type": "code",
      "execution_count": 48,
      "metadata": {
        "colab": {
          "base_uri": "https://localhost:8080/"
        },
        "id": "p4WKqPHW7vWg",
        "outputId": "ea133658-47e0-452d-b4bc-f3d55f9a9f63"
      },
      "outputs": [
        {
          "data": {
            "text/plain": [
              "0.0"
            ]
          },
          "execution_count": 48,
          "metadata": {},
          "output_type": "execute_result"
        }
      ],
      "source": [
        "DF1[\"Tipo_Saida\"].fillna(0, inplace=True)\n",
        "DF1_ACTIVE = DF1.loc[DF1[\"Tipo_Saida\"] == 0]\n",
        "DF1_ACTIVE_FINANJR= DF1_ACTIVE.loc[DF1[\"Cargo\"] == \" Financeiro Jr\"]\n",
        "DF1_FIRED_FINANJR = DF1_FIRED.loc[DF1[\"Cargo\"] == \" Financeiro Jr\"]\n",
        "AtivosFinanJr= DF1_ACTIVE_FINANJR['Cargo'].count()\n",
        "DemitidosFinanJr= (DF1_FIRED_FINANJR['Cargo'].count())\n",
        "RelFinanJr= DemitidosFinanJr/(AtivosFinanJr + DemitidosFinanJr)\n",
        "RelFinanJr"
      ]
    },
    {
      "cell_type": "code",
      "execution_count": 49,
      "metadata": {
        "colab": {
          "base_uri": "https://localhost:8080/"
        },
        "id": "tB9iQSTS7ydz",
        "outputId": "022845fd-12a0-45da-f9b8-bb35fb67d5e4"
      },
      "outputs": [
        {
          "name": "stderr",
          "output_type": "stream",
          "text": [
            "/usr/local/lib/python3.7/dist-packages/ipykernel_launcher.py:7: RuntimeWarning:\n",
            "\n",
            "divide by zero encountered in long_scalars\n",
            "\n"
          ]
        },
        {
          "data": {
            "text/plain": [
              "0.0"
            ]
          },
          "execution_count": 49,
          "metadata": {},
          "output_type": "execute_result"
        }
      ],
      "source": [
        "DF1[\"Tipo_Saida\"].fillna(0, inplace=True)\n",
        "DF1_ACTIVE = DF1.loc[DF1[\"Tipo_Saida\"] == 0]\n",
        "DF1_ACTIVE_COMERCIALPL= DF1_ACTIVE.loc[DF1[\"Cargo\"] == \" Comercial Pl\"]\n",
        "DF1_FIRED_COMERCIALPL = DF1_FIRED.loc[DF1[\"Cargo\"] == \" Comercial Pl\"]\n",
        "AtivosComercialPL= DF1_ACTIVE_COMERCIALPL['Cargo'].count()\n",
        "DemitidosComercialPL= (DF1_FIRED_COMERCIALPL['Cargo'].count())\n",
        "RelComercialPL= DemitidosComercialPL/(AtivosComercialPL/DemitidosComercialPL)\n",
        "RelComercialPL"
      ]
    },
    {
      "cell_type": "code",
      "execution_count": 50,
      "metadata": {
        "colab": {
          "base_uri": "https://localhost:8080/"
        },
        "id": "uUUiZs_y70uQ",
        "outputId": "c39bb12e-409e-4886-b5ad-a3610feae102"
      },
      "outputs": [
        {
          "name": "stderr",
          "output_type": "stream",
          "text": [
            "/usr/local/lib/python3.7/dist-packages/ipykernel_launcher.py:7: RuntimeWarning:\n",
            "\n",
            "invalid value encountered in long_scalars\n",
            "\n"
          ]
        },
        {
          "data": {
            "text/plain": [
              "nan"
            ]
          },
          "execution_count": 50,
          "metadata": {},
          "output_type": "execute_result"
        }
      ],
      "source": [
        "DF1[\"Tipo_Saida\"].fillna(0, inplace=True)\n",
        "DF1_ACTIVE = DF1.loc[DF1[\"Tipo_Saida\"] == 0]\n",
        "DF1_ACTIVE_EDUCPL= DF1_ACTIVE.loc[DF1[\"Cargo\"] == \"Educação Pl\"]\n",
        "DF1_FIRED_EDUCPL = DF1_FIRED.loc[DF1[\"Cargo\"] == \" Educação Pl\"]\n",
        "AtivosEducPL = DF1_ACTIVE_EDUCPL['Cargo'].count()\n",
        "DemitidosEduPL = (DF1_FIRED_EDUCPL['Cargo'].count())\n",
        "RelEducPL = DemitidosEduPL/(AtivosEducPL + DemitidosEduPL)\n",
        "RelEducPL"
      ]
    },
    {
      "cell_type": "code",
      "execution_count": 51,
      "metadata": {
        "colab": {
          "base_uri": "https://localhost:8080/"
        },
        "id": "iBhkopme72Yl",
        "outputId": "4982e7af-b0fb-4e5a-b726-6f512296b5d3"
      },
      "outputs": [
        {
          "data": {
            "text/plain": [
              "0.0"
            ]
          },
          "execution_count": 51,
          "metadata": {},
          "output_type": "execute_result"
        }
      ],
      "source": [
        "DF1[\"Tipo_Saida\"].fillna(0, inplace=True)\n",
        "DF1_ACTIVE = DF1.loc[DF1[\"Tipo_Saida\"] == 0]\n",
        "DF1_ACTIVE_MARKPL = DF1_ACTIVE.loc[DF1[\"Cargo\"] == \" Marketing PL\"]\n",
        "DF1_FIRED_MARKPL = DF1_FIRED.loc[DF1[\"Cargo\"] == \" Marketing PL\"]\n",
        "AtivosMarketingPL = DF1_ACTIVE_MARKPL['Cargo'].count()\n",
        "DemitidosMarketingPL = (DF1_FIRED_MARKPL['Cargo'].count())\n",
        "RelMarketingPL = DemitidosMarketingPL/(AtivosMarketingPL + DemitidosMarketingPL)\n",
        "RelMarketingPL"
      ]
    },
    {
      "cell_type": "code",
      "execution_count": 52,
      "metadata": {
        "colab": {
          "base_uri": "https://localhost:8080/"
        },
        "id": "TP4-h0kh76II",
        "outputId": "d6ed0d7b-5eb4-45eb-ed59-d5edafe58999"
      },
      "outputs": [
        {
          "data": {
            "text/plain": [
              "0.0"
            ]
          },
          "execution_count": 52,
          "metadata": {},
          "output_type": "execute_result"
        }
      ],
      "source": [
        "DF1[\"Tipo_Saida\"].fillna(0, inplace=True)\n",
        "DF1_ACTIVE = DF1.loc[DF1[\"Tipo_Saida\"] == 0]\n",
        "DF1_ACTIVE_TESTEJR = DF1_ACTIVE.loc[DF1[\"Cargo\"] == \" Teste Jr\"]\n",
        "DF1_FIRED_TESTEJR = DF1_FIRED.loc[DF1[\"Cargo\"] == \" Teste Jr\"]\n",
        "AtivosTesteJr = DF1_ACTIVE_TESTEJR['Cargo'].count()\n",
        "DemitidosTesteJr = (DF1_FIRED_TESTEJR['Cargo'].count())\n",
        "RelTesteJr = DemitidosTesteJr/(AtivosTesteJr + DemitidosTesteJr)\n",
        "RelTesteJr"
      ]
    },
    {
      "cell_type": "code",
      "execution_count": 53,
      "metadata": {
        "colab": {
          "base_uri": "https://localhost:8080/"
        },
        "id": "W8Y4yGR377Fj",
        "outputId": "2d83ee0d-695c-461d-d7e3-be0d9e887ece"
      },
      "outputs": [
        {
          "name": "stderr",
          "output_type": "stream",
          "text": [
            "/usr/local/lib/python3.7/dist-packages/ipykernel_launcher.py:7: RuntimeWarning:\n",
            "\n",
            "invalid value encountered in long_scalars\n",
            "\n"
          ]
        },
        {
          "data": {
            "text/plain": [
              "nan"
            ]
          },
          "execution_count": 53,
          "metadata": {},
          "output_type": "execute_result"
        }
      ],
      "source": [
        "DF1[\"Tipo_Saida\"].fillna(0, inplace=True)\n",
        "DF1_ACTIVE = DF1.loc[DF1[\"Tipo_Saida\"] == 0]\n",
        "DF1_ACTIVE_ASSISI= DF1_ACTIVE.loc[DF1[\"Cargo\"] == \" Assistente I\"]\n",
        "DF1_FIRED_ASSISI = DF1_FIRED.loc[DF1[\"Cargo\"] == \" Assistente I\"]\n",
        "AtivosAssisI= DF1_ACTIVE_ASSISI['Cargo'].count()\n",
        "DemitidosAssisI= (DF1_ACTIVE_ASSISI['Cargo'].count())\n",
        "RelAssisI= DemitidosAssisI/ (AtivosAssisI + DemitidosAssisI)\n",
        "RelAssisI"
      ]
    },
    {
      "cell_type": "code",
      "execution_count": 54,
      "metadata": {
        "colab": {
          "base_uri": "https://localhost:8080/"
        },
        "id": "ZU6MOfgU8Ano",
        "outputId": "314bf11a-8881-4799-ee00-d78f53b5cae1"
      },
      "outputs": [
        {
          "data": {
            "text/plain": [
              "0.4"
            ]
          },
          "execution_count": 54,
          "metadata": {},
          "output_type": "execute_result"
        }
      ],
      "source": [
        "import math\n",
        "\n",
        "if math.isnan(RelAssisI):\n",
        "  RelAssisI = 0\n",
        "if math.isnan(RelTesteJr):\n",
        "  RelTesteJr= 0\n",
        "RelMarketingPL\n",
        "if math.isnan(RelEducPL):\n",
        "  RelEducPL = 0\n",
        "RelComercialPL\n",
        "RelFinanJr\n",
        "if math.isnan(RelArqSr):\n",
        "  RelArqSr = 0\n",
        "if math.isnan(RelTraineefunc):\n",
        "  RelTraineefunc = 0\n",
        "RelPessoasPL\n",
        "if math.isnan(RelGERENTEVENDASIII):\n",
        "  RelGERENTEVENDASIII = 0\n",
        "if math.isnan(RelLimpeza):\n",
        "  RelLimpeza = 0\n",
        "if math.isnan(RelGerenteCS):\n",
        "  RelGerenteCS = 0\n",
        "if math.isnan(RelVicePres):\n",
        "  RelVicePres = 0\n",
        "if math.isnan(RelGerVendII):\n",
        "  RelGerVendII = 0\n",
        "if math.isnan(RelComercialIS):\n",
        "  RelComercialIS = 0\n",
        "if math.isnan(RelTesteSr):\n",
        "  RelTesteSr = 0\n",
        "RelFuncESP\n",
        "if math.isnan(RelGerVenI):\n",
        "  RelGerVenI = 0\n",
        "if math.isnan(RelAssistenteII):\n",
        "  RelAssistenteII = 0\n",
        "if math.isnan(RelGerentePV):\n",
        "  RelGerentePV = 0\n",
        "if math.isnan(RelTraineeDev):\n",
        "  RelTraineeDev = 0\n",
        "RelFuncJr\n",
        "if math.isnan(RelGerente):\n",
        "  RelGerente = 0\n",
        "RelScrumJr\n",
        "RelDevJr\n",
        "if math.isnan(RelConsultor):\n",
        "  RelConsultor = 0\n",
        "RelFuncSR\n",
        "RelFunc\n",
        "if math.isnan(RelGer):\n",
        "  RelGer = 0\n",
        "if math.isnan(RelDir):\n",
        "  RelDir = 0\n",
        "\n",
        "RelDevEsp\n",
        "RelArq\n",
        "RelDev\n",
        "RelDevSr"
      ]
    },
    {
      "cell_type": "markdown",
      "metadata": {
        "id": "3_Ij4pfw5XJP"
      },
      "source": [
        "## Graphs\n"
      ]
    },
    {
      "cell_type": "code",
      "execution_count": 55,
      "metadata": {
        "colab": {
          "base_uri": "https://localhost:8080/",
          "height": 270
        },
        "id": "OvheYp4_8Ed3",
        "outputId": "3b22c091-c06f-40a6-a0ac-e443bbc278b1"
      },
      "outputs": [
        {
          "data": {
            "image/png": "[encoded data removed]",
            "text/plain": [
              "<Figure size 5256x720 with 1 Axes>"
            ]
          },
          "metadata": {
            "needs_background": "light"
          },
          "output_type": "display_data"
        }
      ],
      "source": [
        "import matplotlib.pyplot as plt\n",
        "names = [\n",
        "  'RelAssisI',\n",
        "  'RelTesteJr',\n",
        "  'RelMarketingPL',\n",
        "  'RelEducPL',\n",
        "  'RelComercialPL',\n",
        "  'RelFinanJr',\n",
        "  'RelArqSr',\n",
        "  'RelTraineefunc',\n",
        "  'RelPessoasPL',\n",
        "  'RelGERENTEVENDASIII',\n",
        "  'RelLimpeza',\n",
        "  'RelGerenteCS',\n",
        "  'RelVicePres',\n",
        "  'RelGerVendII', \n",
        "  'RelComercialIS',\n",
        "  'RelTesteSr',\n",
        "  'RelFuncESP',\n",
        "  'RelGerVenI',\n",
        "  'RelAssistenteII',\n",
        "  'RelGerentePV',\n",
        "  'RelTraineeDev',\n",
        "  'RelFuncJr',\n",
        "  'RelGerente',\n",
        "  'RelScrumJr',\n",
        "  'RelDevJr',\n",
        "  'RelConsultor',\n",
        "  'RelFuncSR',\n",
        "  'RelFunc',\n",
        "  'RelGer',\n",
        "  'RelDir',\n",
        "  'RelDevEsp',\n",
        "  'RelArq',\n",
        "  'RelDev',\n",
        "  'RelDevSr'\n",
        "]\n",
        "\n",
        "values = [\n",
        "    RelAssisI,\n",
        "  RelTesteJr,\n",
        "  RelMarketingPL,\n",
        "  RelEducPL,\n",
        "  RelComercialPL,\n",
        "  RelFinanJr,\n",
        "  RelArqSr,\n",
        "  RelTraineefunc,\n",
        "  RelPessoasPL,\n",
        "  RelGERENTEVENDASIII,\n",
        "  RelLimpeza,\n",
        "  RelGerenteCS,\n",
        "  RelVicePres,\n",
        "  RelGerVendII,\n",
        "  RelComercialIS,\n",
        "  RelTesteSr,\n",
        "  RelFuncESP,\n",
        "  RelGerVenI,\n",
        "  RelAssistenteII,\n",
        "  RelGerentePV,\n",
        "  RelTraineeDev,\n",
        "  RelFuncJr,\n",
        "  RelGerente,\n",
        "  RelScrumJr,\n",
        "  RelDevJr,\n",
        "  RelConsultor,\n",
        "  RelFuncSR,\n",
        "  RelFunc,\n",
        "  RelGer,\n",
        "  RelDir,\n",
        "  RelDevEsp,\n",
        "  RelArq,\n",
        "  RelDev,\n",
        "  RelDevSr\n",
        "]\n",
        "\n",
        "plt.figure(figsize=(73,10))\n",
        "plt.bar(names, values)\n",
        "\n",
        "plt.show()"
      ]
    },
    {
      "cell_type": "code",
      "execution_count": 56,
      "metadata": {
        "colab": {
          "base_uri": "https://localhost:8080/",
          "height": 468
        },
        "id": "0YY3Kozsvzy6",
        "outputId": "9b0c713a-b628-45bc-b4c6-cacb66fcf21e"
      },
      "outputs": [
        {
          "data": {
            "text/html": [
              "\n",
              "  <div id=\"df-cb24661d-4666-427f-8743-b79623faf98c\">\n",
              "    <div class=\"colab-df-container\">\n",
              "      <div>\n",
              "<style scoped>\n",
              "    .dataframe tbody tr th:only-of-type {\n",
              "        vertical-align: middle;\n",
              "    }\n",
              "\n",
              "    .dataframe tbody tr th {\n",
              "        vertical-align: top;\n",
              "    }\n",
              "\n",
              "    .dataframe thead th {\n",
              "        text-align: right;\n",
              "    }\n",
              "</style>\n",
              "<table border=\"1\" class=\"dataframe\">\n",
              "  <thead>\n",
              "    <tr style=\"text-align: right;\">\n",
              "      <th></th>\n",
              "      <th>Matricula</th>\n",
              "      <th>Dt Admissao</th>\n",
              "      <th>Dt Saida</th>\n",
              "      <th>Tipo Saida</th>\n",
              "      <th>Cargo</th>\n",
              "      <th>Salario Mês</th>\n",
              "      <th>Dt Nascimento</th>\n",
              "      <th>Genero</th>\n",
              "      <th>Estado Civil</th>\n",
              "      <th>Escolaridade</th>\n",
              "      <th>Estado</th>\n",
              "      <th>Cidade</th>\n",
              "      <th>Area</th>\n",
              "      <th>Idade</th>\n",
              "      <th>3 Meses &gt;</th>\n",
              "      <th>6 Meses &gt;</th>\n",
              "      <th>9 Meses &gt;</th>\n",
              "      <th>12 Meses &gt;</th>\n",
              "      <th>Tempo de casa</th>\n",
              "    </tr>\n",
              "  </thead>\n",
              "  <tbody>\n",
              "    <tr>\n",
              "      <th>0</th>\n",
              "      <td>2.0</td>\n",
              "      <td>2015-02-02</td>\n",
              "      <td>NaT</td>\n",
              "      <td>4</td>\n",
              "      <td>Gerente Sr</td>\n",
              "      <td>9914.4</td>\n",
              "      <td>1992-01-25</td>\n",
              "      <td>Masculino</td>\n",
              "      <td>3</td>\n",
              "      <td>2</td>\n",
              "      <td>SP</td>\n",
              "      <td>São Paulo</td>\n",
              "      <td>CPG &amp; Retail</td>\n",
              "      <td>30</td>\n",
              "      <td>0</td>\n",
              "      <td>0</td>\n",
              "      <td>0</td>\n",
              "      <td>0</td>\n",
              "      <td>NaN</td>\n",
              "    </tr>\n",
              "    <tr>\n",
              "      <th>1</th>\n",
              "      <td>3.0</td>\n",
              "      <td>2015-03-26</td>\n",
              "      <td>NaT</td>\n",
              "      <td>4</td>\n",
              "      <td>Gerente Sr</td>\n",
              "      <td>8250.0</td>\n",
              "      <td>1991-08-03</td>\n",
              "      <td>Masculino</td>\n",
              "      <td>3</td>\n",
              "      <td>2</td>\n",
              "      <td>SP</td>\n",
              "      <td>Osasco</td>\n",
              "      <td>CPG &amp; Retail</td>\n",
              "      <td>31</td>\n",
              "      <td>0</td>\n",
              "      <td>0</td>\n",
              "      <td>0</td>\n",
              "      <td>0</td>\n",
              "      <td>NaN</td>\n",
              "    </tr>\n",
              "    <tr>\n",
              "      <th>2</th>\n",
              "      <td>4.0</td>\n",
              "      <td>2015-04-05</td>\n",
              "      <td>NaT</td>\n",
              "      <td>4</td>\n",
              "      <td>Arquiteto Sr</td>\n",
              "      <td>9914.4</td>\n",
              "      <td>1988-03-05</td>\n",
              "      <td>Masculino</td>\n",
              "      <td>3</td>\n",
              "      <td>2</td>\n",
              "      <td>SP</td>\n",
              "      <td>São Paulo</td>\n",
              "      <td>Education</td>\n",
              "      <td>34</td>\n",
              "      <td>0</td>\n",
              "      <td>0</td>\n",
              "      <td>0</td>\n",
              "      <td>1</td>\n",
              "      <td>NaN</td>\n",
              "    </tr>\n",
              "    <tr>\n",
              "      <th>3</th>\n",
              "      <td>7.0</td>\n",
              "      <td>2015-09-01</td>\n",
              "      <td>2021-10-29</td>\n",
              "      <td>1</td>\n",
              "      <td>Arquiteto</td>\n",
              "      <td>7000.0</td>\n",
              "      <td>1986-08-31</td>\n",
              "      <td>Masculino</td>\n",
              "      <td>3</td>\n",
              "      <td>2</td>\n",
              "      <td>SP</td>\n",
              "      <td>São Paulo</td>\n",
              "      <td>Core &amp; Industrias</td>\n",
              "      <td>36</td>\n",
              "      <td>0</td>\n",
              "      <td>0</td>\n",
              "      <td>0</td>\n",
              "      <td>1</td>\n",
              "      <td>2250.0</td>\n",
              "    </tr>\n",
              "    <tr>\n",
              "      <th>4</th>\n",
              "      <td>8.0</td>\n",
              "      <td>2015-12-07</td>\n",
              "      <td>2020-05-29</td>\n",
              "      <td>1</td>\n",
              "      <td>Dev Pl</td>\n",
              "      <td>2750.0</td>\n",
              "      <td>1994-06-27</td>\n",
              "      <td>Masculino</td>\n",
              "      <td>3</td>\n",
              "      <td>2</td>\n",
              "      <td>SP</td>\n",
              "      <td>São Paulo</td>\n",
              "      <td>CPG &amp; Retail</td>\n",
              "      <td>28</td>\n",
              "      <td>0</td>\n",
              "      <td>0</td>\n",
              "      <td>0</td>\n",
              "      <td>2</td>\n",
              "      <td>1635.0</td>\n",
              "    </tr>\n",
              "    <tr>\n",
              "      <th>...</th>\n",
              "      <td>...</td>\n",
              "      <td>...</td>\n",
              "      <td>...</td>\n",
              "      <td>...</td>\n",
              "      <td>...</td>\n",
              "      <td>...</td>\n",
              "      <td>...</td>\n",
              "      <td>...</td>\n",
              "      <td>...</td>\n",
              "      <td>...</td>\n",
              "      <td>...</td>\n",
              "      <td>...</td>\n",
              "      <td>...</td>\n",
              "      <td>...</td>\n",
              "      <td>...</td>\n",
              "      <td>...</td>\n",
              "      <td>...</td>\n",
              "      <td>...</td>\n",
              "      <td>...</td>\n",
              "    </tr>\n",
              "    <tr>\n",
              "      <th>470</th>\n",
              "      <td>526.0</td>\n",
              "      <td>2022-07-18</td>\n",
              "      <td>2022-07-25</td>\n",
              "      <td>3</td>\n",
              "      <td>Dev Jr</td>\n",
              "      <td>1500.0</td>\n",
              "      <td>1993-07-15</td>\n",
              "      <td>Feminino</td>\n",
              "      <td>3</td>\n",
              "      <td>4</td>\n",
              "      <td>PR</td>\n",
              "      <td>Colombo</td>\n",
              "      <td>Integration</td>\n",
              "      <td>29</td>\n",
              "      <td>0</td>\n",
              "      <td>0</td>\n",
              "      <td>0</td>\n",
              "      <td>0</td>\n",
              "      <td>7.0</td>\n",
              "    </tr>\n",
              "    <tr>\n",
              "      <th>471</th>\n",
              "      <td>527.0</td>\n",
              "      <td>2022-07-18</td>\n",
              "      <td>NaT</td>\n",
              "      <td>4</td>\n",
              "      <td>Arquiteto</td>\n",
              "      <td>7000.0</td>\n",
              "      <td>1981-08-16</td>\n",
              "      <td>Masculino</td>\n",
              "      <td>0</td>\n",
              "      <td>5</td>\n",
              "      <td>SP</td>\n",
              "      <td>Guarulhos</td>\n",
              "      <td>Mkt Cloud</td>\n",
              "      <td>41</td>\n",
              "      <td>0</td>\n",
              "      <td>0</td>\n",
              "      <td>0</td>\n",
              "      <td>0</td>\n",
              "      <td>NaN</td>\n",
              "    </tr>\n",
              "    <tr>\n",
              "      <th>472</th>\n",
              "      <td>528.0</td>\n",
              "      <td>2022-07-18</td>\n",
              "      <td>NaT</td>\n",
              "      <td>4</td>\n",
              "      <td>Dev Jr</td>\n",
              "      <td>1750.0</td>\n",
              "      <td>1991-12-05</td>\n",
              "      <td>Masculino</td>\n",
              "      <td>3</td>\n",
              "      <td>4</td>\n",
              "      <td>DF</td>\n",
              "      <td>Brasília</td>\n",
              "      <td>Integration</td>\n",
              "      <td>30</td>\n",
              "      <td>0</td>\n",
              "      <td>0</td>\n",
              "      <td>0</td>\n",
              "      <td>0</td>\n",
              "      <td>NaN</td>\n",
              "    </tr>\n",
              "    <tr>\n",
              "      <th>473</th>\n",
              "      <td>529.0</td>\n",
              "      <td>2022-07-18</td>\n",
              "      <td>NaT</td>\n",
              "      <td>4</td>\n",
              "      <td>Dev Pl</td>\n",
              "      <td>2750.0</td>\n",
              "      <td>1990-01-18</td>\n",
              "      <td>Masculino</td>\n",
              "      <td>3</td>\n",
              "      <td>5</td>\n",
              "      <td>MG</td>\n",
              "      <td>Unaí</td>\n",
              "      <td>Commerce</td>\n",
              "      <td>32</td>\n",
              "      <td>0</td>\n",
              "      <td>0</td>\n",
              "      <td>0</td>\n",
              "      <td>0</td>\n",
              "      <td>NaN</td>\n",
              "    </tr>\n",
              "    <tr>\n",
              "      <th>474</th>\n",
              "      <td>530.0</td>\n",
              "      <td>2022-07-18</td>\n",
              "      <td>NaT</td>\n",
              "      <td>4</td>\n",
              "      <td>Dev Especialista</td>\n",
              "      <td>5500.0</td>\n",
              "      <td>1956-11-13</td>\n",
              "      <td>Masculino</td>\n",
              "      <td>0</td>\n",
              "      <td>2</td>\n",
              "      <td>SP</td>\n",
              "      <td>Jundiaí</td>\n",
              "      <td>Analytics</td>\n",
              "      <td>65</td>\n",
              "      <td>0</td>\n",
              "      <td>0</td>\n",
              "      <td>0</td>\n",
              "      <td>0</td>\n",
              "      <td>NaN</td>\n",
              "    </tr>\n",
              "  </tbody>\n",
              "</table>\n",
              "<p>475 rows × 19 columns</p>\n",
              "</div>\n",
              "      <button class=\"colab-df-convert\" onclick=\"convertToInteractive('df-cb24661d-4666-427f-8743-b79623faf98c')\"\n",
              "              title=\"Convert this dataframe to an interactive table.\"\n",
              "              style=\"display:none;\">\n",
              "        \n",
              "  <svg xmlns=\"http://www.w3.org/2000/svg\" height=\"24px\"viewBox=\"0 0 24 24\"\n",
              "       width=\"24px\">\n",
              "    <path d=\"M0 0h24v24H0V0z\" fill=\"none\"/>\n",
              "    <path d=\"M18.56 5.44l.94 2.06.94-2.06 2.06-.94-2.06-.94-.94-2.06-.94 2.06-2.06.94zm-11 1L8.5 8.5l.94-2.06 2.06-.94-2.06-.94L8.5 2.5l-.94 2.06-2.06.94zm10 10l.94 2.06.94-2.06 2.06-.94-2.06-.94-.94-2.06-.94 2.06-2.06.94z\"/><path d=\"M17.41 7.96l-1.37-1.37c-.4-.4-.92-.59-1.43-.59-.52 0-1.04.2-1.43.59L10.3 9.45l-7.72 7.72c-.78.78-.78 2.05 0 2.83L4 21.41c.39.39.9.59 1.41.59.51 0 1.02-.2 1.41-.59l7.78-7.78 2.81-2.81c.8-.78.8-2.07 0-2.86zM5.41 20L4 18.59l7.72-7.72 1.47 1.35L5.41 20z\"/>\n",
              "  </svg>\n",
              "      </button>\n",
              "      \n",
              "  <style>\n",
              "    .colab-df-container {\n",
              "      display:flex;\n",
              "      flex-wrap:wrap;\n",
              "      gap: 12px;\n",
              "    }\n",
              "\n",
              "    .colab-df-convert {\n",
              "      background-color: #E8F0FE;\n",
              "      border: none;\n",
              "      border-radius: 50%;\n",
              "      cursor: pointer;\n",
              "      display: none;\n",
              "      fill: #1967D2;\n",
              "      height: 32px;\n",
              "      padding: 0 0 0 0;\n",
              "      width: 32px;\n",
              "    }\n",
              "\n",
              "    .colab-df-convert:hover {\n",
              "      background-color: #E2EBFA;\n",
              "      box-shadow: 0px 1px 2px rgba(60, 64, 67, 0.3), 0px 1px 3px 1px rgba(60, 64, 67, 0.15);\n",
              "      fill: #174EA6;\n",
              "    }\n",
              "\n",
              "    [theme=dark] .colab-df-convert {\n",
              "      background-color: #3B4455;\n",
              "      fill: #D2E3FC;\n",
              "    }\n",
              "\n",
              "    [theme=dark] .colab-df-convert:hover {\n",
              "      background-color: #434B5C;\n",
              "      box-shadow: 0px 1px 3px 1px rgba(0, 0, 0, 0.15);\n",
              "      filter: drop-shadow(0px 1px 2px rgba(0, 0, 0, 0.3));\n",
              "      fill: #FFFFFF;\n",
              "    }\n",
              "  </style>\n",
              "\n",
              "      <script>\n",
              "        const buttonEl =\n",
              "          document.querySelector('#df-cb24661d-4666-427f-8743-b79623faf98c button.colab-df-convert');\n",
              "        buttonEl.style.display =\n",
              "          google.colab.kernel.accessAllowed ? 'block' : 'none';\n",
              "\n",
              "        async function convertToInteractive(key) {\n",
              "          const element = document.querySelector('#df-cb24661d-4666-427f-8743-b79623faf98c');\n",
              "          const dataTable =\n",
              "            await google.colab.kernel.invokeFunction('convertToInteractive',\n",
              "                                                     [key], {});\n",
              "          if (!dataTable) return;\n",
              "\n",
              "          const docLinkHtml = 'Like what you see? Visit the ' +\n",
              "            '<a target=\"_blank\" href=https://colab.research.google.com/notebooks/data_table.ipynb>data table notebook</a>'\n",
              "            + ' to learn more about interactive tables.';\n",
              "          element.innerHTML = '';\n",
              "          dataTable['output_type'] = 'display_data';\n",
              "          await google.colab.output.renderOutput(dataTable, element);\n",
              "          const docLink = document.createElement('div');\n",
              "          docLink.innerHTML = docLinkHtml;\n",
              "          element.appendChild(docLink);\n",
              "        }\n",
              "      </script>\n",
              "    </div>\n",
              "  </div>\n",
              "  "
            ],
            "text/plain": [
              "     Matricula Dt Admissao   Dt Saida  Tipo Saida             Cargo  \\\n",
              "0          2.0  2015-02-02        NaT           4        Gerente Sr   \n",
              "1          3.0  2015-03-26        NaT           4        Gerente Sr   \n",
              "2          4.0  2015-04-05        NaT           4      Arquiteto Sr   \n",
              "3          7.0  2015-09-01 2021-10-29           1         Arquiteto   \n",
              "4          8.0  2015-12-07 2020-05-29           1            Dev Pl   \n",
              "..         ...         ...        ...         ...               ...   \n",
              "470      526.0  2022-07-18 2022-07-25           3            Dev Jr   \n",
              "471      527.0  2022-07-18        NaT           4         Arquiteto   \n",
              "472      528.0  2022-07-18        NaT           4            Dev Jr   \n",
              "473      529.0  2022-07-18        NaT           4            Dev Pl   \n",
              "474      530.0  2022-07-18        NaT           4  Dev Especialista   \n",
              "\n",
              "     Salario Mês Dt Nascimento     Genero  Estado Civil  Escolaridade  Estado  \\\n",
              "0         9914.4    1992-01-25  Masculino             3              2     SP   \n",
              "1         8250.0    1991-08-03  Masculino             3              2     SP   \n",
              "2         9914.4    1988-03-05  Masculino             3              2     SP   \n",
              "3         7000.0    1986-08-31  Masculino             3              2     SP   \n",
              "4         2750.0    1994-06-27  Masculino             3              2     SP   \n",
              "..           ...           ...        ...           ...            ...    ...   \n",
              "470       1500.0    1993-07-15   Feminino             3              4     PR   \n",
              "471       7000.0    1981-08-16  Masculino             0              5     SP   \n",
              "472       1750.0    1991-12-05  Masculino             3              4     DF   \n",
              "473       2750.0    1990-01-18  Masculino             3              5     MG   \n",
              "474       5500.0    1956-11-13  Masculino             0              2     SP   \n",
              "\n",
              "        Cidade               Area  Idade  3 Meses >  6 Meses >  9 Meses >  \\\n",
              "0    São Paulo       CPG & Retail     30          0          0          0   \n",
              "1       Osasco       CPG & Retail     31          0          0          0   \n",
              "2    São Paulo          Education     34          0          0          0   \n",
              "3    São Paulo  Core & Industrias     36          0          0          0   \n",
              "4    São Paulo       CPG & Retail     28          0          0          0   \n",
              "..         ...                ...    ...        ...        ...        ...   \n",
              "470    Colombo        Integration     29          0          0          0   \n",
              "471  Guarulhos          Mkt Cloud     41          0          0          0   \n",
              "472   Brasília        Integration     30          0          0          0   \n",
              "473       Unaí           Commerce     32          0          0          0   \n",
              "474    Jundiaí          Analytics     65          0          0          0   \n",
              "\n",
              "     12 Meses >  Tempo de casa  \n",
              "0             0            NaN  \n",
              "1             0            NaN  \n",
              "2             1            NaN  \n",
              "3             1         2250.0  \n",
              "4             2         1635.0  \n",
              "..          ...            ...  \n",
              "470           0            7.0  \n",
              "471           0            NaN  \n",
              "472           0            NaN  \n",
              "473           0            NaN  \n",
              "474           0            NaN  \n",
              "\n",
              "[475 rows x 19 columns]"
            ]
          },
          "execution_count": 56,
          "metadata": {},
          "output_type": "execute_result"
        }
      ],
      "source": [
        "base"
      ]
    },
    {
      "cell_type": "code",
      "execution_count": 58,
      "metadata": {
        "colab": {
          "base_uri": "https://localhost:8080/"
        },
        "id": "xk96pabgLUqJ",
        "outputId": "75e58882-aac2-415b-9be9-c709c52f5b92"
      },
      "outputs": [
        {
          "data": {
            "text/plain": [
              "Index(['Matricula', 'Dt Admissao', 'Dt Saida', 'Tipo Saida', 'Cargo',\n",
              "       'Salario Mês', 'Dt Nascimento', 'Genero', 'Estado Civil',\n",
              "       'Escolaridade ', 'Estado', 'Cidade', 'Area', 'Idade', '3 Meses >',\n",
              "       '6 Meses >', '9 Meses >', '12 Meses >', 'Tempo de casa'],\n",
              "      dtype='object')"
            ]
          },
          "execution_count": 58,
          "metadata": {},
          "output_type": "execute_result"
        }
      ],
      "source": [
        "base.columns"
      ]
    },
    {
      "cell_type": "code",
      "execution_count": 59,
      "metadata": {
        "id": "sQYJRkssS-Yl"
      },
      "outputs": [],
      "source": [
        "base_sem_nan = base[['Tempo de casa', 'Idade', 'Tipo Saida']].dropna()"
      ]
    },
    {
      "cell_type": "code",
      "execution_count": 60,
      "metadata": {
        "colab": {
          "base_uri": "https://localhost:8080/"
        },
        "id": "ZqLQ3-MNfzPi",
        "outputId": "ca2a66d2-0ccd-4bba-941f-ce318d1bdc55"
      },
      "outputs": [
        {
          "data": {
            "text/plain": [
              "3      1\n",
              "4      1\n",
              "5      1\n",
              "6      1\n",
              "7      1\n",
              "      ..\n",
              "399    3\n",
              "409    3\n",
              "418    3\n",
              "433    3\n",
              "470    3\n",
              "Name: Tipo Saida, Length: 191, dtype: int64"
            ]
          },
          "execution_count": 60,
          "metadata": {},
          "output_type": "execute_result"
        }
      ],
      "source": [
        "# base_sem_nan[['Tempo de casa', 'Idade']]\n",
        "base_sem_nan['Tipo Saida']"
      ]
    },
    {
      "cell_type": "code",
      "execution_count": 61,
      "metadata": {
        "colab": {
          "base_uri": "https://localhost:8080/"
        },
        "id": "B6dJ9TPxHcqQ",
        "outputId": "97aca346-9899-413e-f6dd-d6ca2ef32f15"
      },
      "outputs": [
        {
          "name": "stdout",
          "output_type": "stream",
          "text": [
            "(133, 2)\n",
            "(133,)\n",
            "(58, 2)\n",
            "(58,)\n"
          ]
        }
      ],
      "source": [
        "import sklearn\n",
        "from sklearn.model_selection import train_test_split\n",
        "\n",
        "# Dividindo x e y\n",
        "x = base_sem_nan[['Tempo de casa', 'Idade']]\n",
        "y = base_sem_nan['Tipo Saida']\n",
        "\n",
        "# Dividindo dados para treino e dados para teste\n",
        "x_train, x_test, y_train, y_test = train_test_split(x, y, \n",
        "                                                    test_size = 0.3, \n",
        "                                                    random_state = 1) # qualquer valor como semente do pseudo-random\n",
        "print(x_train.shape)\n",
        "print(y_train.shape)\n",
        "print(x_test.shape)\n",
        "print(y_test.shape)\n"
      ]
    },
    {
      "cell_type": "code",
      "execution_count": 62,
      "metadata": {
        "id": "Zw7R120TKeR4"
      },
      "outputs": [],
      "source": [
        "from sklearn.preprocessing import MinMaxScaler\n",
        "\n",
        "# Instaciando o objeto scaler\n",
        "scaler = MinMaxScaler()\n",
        "\n",
        "# Fit + transform no conjunto de treino\n",
        "# Utilizando explicitamente as colunas de ambos os lados força que o\n",
        "# resultado da normalização ainda seja o dataframe (muito mais facil de manipular) e não um numpy array\n",
        "x_train[['Tempo de casa', 'Idade']] = scaler.fit_transform(x_train[['Tempo de casa', 'Idade']])\n",
        "\n",
        "# Agora utilizando o scaler no conjunto de teste\n",
        "# Utilizar apenas o transform, pois fit é só no conjunto de treino,\n",
        "# o conjunto de teste é utilizado para medir a capacidade de generalização do modelo no mundo real (dados não vistos)\n",
        "# então faz sentido que a mesma normalização treinada e submetida ao conjunto de treino seja apenas aplicada no de teste\n",
        "x_test[['Tempo de casa', 'Idade']] = scaler.transform(x_test[['Tempo de casa', 'Idade']])"
      ]
    },
    {
      "cell_type": "markdown",
      "metadata": {
        "id": "QiJG_I6KySZk"
      },
      "source": [
        "### Percentual de acurácia do modelo\n",
        "\n",
        "É estabelecido pela biblioteca sklearn com importação de uma ferramenta"
      ]
    },
    {
      "cell_type": "code",
      "execution_count": 63,
      "metadata": {
        "colab": {
          "base_uri": "https://localhost:8080/"
        },
        "id": "iLjxkLrCxjRX",
        "outputId": "7e3199fd-9b29-4f17-c64d-539bb24a70b6"
      },
      "outputs": [
        {
          "data": {
            "text/plain": [
              "KNeighborsClassifier(n_neighbors=7)"
            ]
          },
          "execution_count": 63,
          "metadata": {},
          "output_type": "execute_result"
        }
      ],
      "source": [
        "from sklearn.neighbors import KNeighborsClassifier\n",
        "\n",
        "# Instaciação do obj Algoritmo\n",
        "knn = KNeighborsClassifier(n_neighbors=7)\n",
        "# Treino # x = Features, y = Label/Target\n",
        "knn.fit(x_train, y_train.squeeze()) # squeeze() -> df para series"
      ]
    },
    {
      "cell_type": "code",
      "execution_count": 64,
      "metadata": {
        "colab": {
          "base_uri": "https://localhost:8080/"
        },
        "id": "ph3l-dDKTbqI",
        "outputId": "871883a0-f917-4739-ea8c-86f2ec602298"
      },
      "outputs": [
        {
          "name": "stdout",
          "output_type": "stream",
          "text": [
            "Acuracidade (treino):  0.6842105263157895\n",
            "Acuracidade (teste):  0.6379310344827587\n"
          ]
        }
      ],
      "source": [
        "# Teste de Acuracidade (accuracy)\n",
        "print('Acuracidade (treino): ', knn.score( x_train, y_train ))\n",
        "print('Acuracidade (teste): ', knn.score( x_test, y_test ))"
      ]
    },
    {
      "cell_type": "markdown",
      "metadata": {
        "id": "MWeNEWDYLAFu"
      },
      "source": [
        "### KNN - k-Nearest-Neighbors"
      ]
    },
    {
      "cell_type": "code",
      "execution_count": 65,
      "metadata": {
        "colab": {
          "base_uri": "https://localhost:8080/"
        },
        "id": "qFXdnRW5K4CN",
        "outputId": "a9c33ef6-8c54-4fc4-bfa8-3bcdc5437acf"
      },
      "outputs": [
        {
          "data": {
            "text/plain": [
              "KNeighborsClassifier(n_neighbors=7)"
            ]
          },
          "execution_count": 65,
          "metadata": {},
          "output_type": "execute_result"
        }
      ],
      "source": [
        "from sklearn.neighbors import KNeighborsClassifier\n",
        "\n",
        "# Instaciação do obj Algoritmo\n",
        "knn = KNeighborsClassifier(n_neighbors=7)\n",
        "# Treino # x = Features, y = Label/Target\n",
        "knn.fit( x_train, y_train.squeeze() ) # squeeze() -> df para series"
      ]
    },
    {
      "cell_type": "code",
      "execution_count": 66,
      "metadata": {
        "colab": {
          "base_uri": "https://localhost:8080/"
        },
        "id": "-zeWP40oQHUC",
        "outputId": "0a4b400b-7ba7-4cc4-d8ef-fc35259a2247"
      },
      "outputs": [
        {
          "data": {
            "text/plain": [
              "array([1, 1, 1, 3, 1, 1, 1, 1, 1, 1, 0, 1, 1, 1, 3, 1, 3, 1, 1, 1, 1, 1,\n",
              "       1, 0, 1, 1, 1, 1, 1, 1, 1, 1, 1, 1, 1, 1, 1, 1, 1, 1, 0, 3, 1, 1,\n",
              "       1, 0, 1, 1, 0, 1, 1, 1, 1, 1, 1, 1, 3, 1])"
            ]
          },
          "execution_count": 66,
          "metadata": {},
          "output_type": "execute_result"
        }
      ],
      "source": [
        "y_pred = knn.predict(x_test)\n",
        "y_pred"
      ]
    },
    {
      "cell_type": "code",
      "execution_count": 67,
      "metadata": {
        "colab": {
          "base_uri": "https://localhost:8080/"
        },
        "id": "5UBl78hkQH5P",
        "outputId": "e2f6a687-cdd2-4f97-eb4e-2d918d634ab2"
      },
      "outputs": [
        {
          "data": {
            "text/plain": [
              "array([[0.        , 1.        , 0.        , 0.        ],\n",
              "       [0.        , 1.        , 0.        , 0.        ],\n",
              "       [0.        , 0.42857143, 0.28571429, 0.28571429],\n",
              "       [0.14285714, 0.28571429, 0.        , 0.57142857],\n",
              "       [0.        , 1.        , 0.        , 0.        ],\n",
              "       [0.        , 1.        , 0.        , 0.        ],\n",
              "       [0.        , 1.        , 0.        , 0.        ],\n",
              "       [0.        , 0.85714286, 0.        , 0.14285714],\n",
              "       [0.        , 0.71428571, 0.        , 0.28571429],\n",
              "       [0.        , 1.        , 0.        , 0.        ],\n",
              "       [0.57142857, 0.42857143, 0.        , 0.        ],\n",
              "       [0.        , 1.        , 0.        , 0.        ],\n",
              "       [0.        , 0.57142857, 0.28571429, 0.14285714],\n",
              "       [0.14285714, 0.85714286, 0.        , 0.        ],\n",
              "       [0.14285714, 0.14285714, 0.14285714, 0.57142857],\n",
              "       [0.        , 1.        , 0.        , 0.        ],\n",
              "       [0.28571429, 0.14285714, 0.14285714, 0.42857143],\n",
              "       [0.        , 0.85714286, 0.        , 0.14285714],\n",
              "       [0.14285714, 0.85714286, 0.        , 0.        ],\n",
              "       [0.        , 1.        , 0.        , 0.        ],\n",
              "       [0.        , 1.        , 0.        , 0.        ],\n",
              "       [0.14285714, 0.85714286, 0.        , 0.        ],\n",
              "       [0.42857143, 0.57142857, 0.        , 0.        ],\n",
              "       [0.42857143, 0.14285714, 0.14285714, 0.28571429],\n",
              "       [0.28571429, 0.71428571, 0.        , 0.        ],\n",
              "       [0.        , 1.        , 0.        , 0.        ],\n",
              "       [0.14285714, 0.85714286, 0.        , 0.        ],\n",
              "       [0.14285714, 0.85714286, 0.        , 0.        ],\n",
              "       [0.28571429, 0.42857143, 0.        , 0.28571429],\n",
              "       [0.        , 0.57142857, 0.14285714, 0.28571429],\n",
              "       [0.14285714, 0.85714286, 0.        , 0.        ],\n",
              "       [0.        , 0.42857143, 0.28571429, 0.28571429],\n",
              "       [0.28571429, 0.71428571, 0.        , 0.        ],\n",
              "       [0.        , 1.        , 0.        , 0.        ],\n",
              "       [0.        , 1.        , 0.        , 0.        ],\n",
              "       [0.        , 1.        , 0.        , 0.        ],\n",
              "       [0.        , 0.42857143, 0.28571429, 0.28571429],\n",
              "       [0.        , 1.        , 0.        , 0.        ],\n",
              "       [0.28571429, 0.71428571, 0.        , 0.        ],\n",
              "       [0.        , 0.85714286, 0.        , 0.14285714],\n",
              "       [0.57142857, 0.42857143, 0.        , 0.        ],\n",
              "       [0.14285714, 0.14285714, 0.        , 0.71428571],\n",
              "       [0.        , 1.        , 0.        , 0.        ],\n",
              "       [0.28571429, 0.71428571, 0.        , 0.        ],\n",
              "       [0.28571429, 0.71428571, 0.        , 0.        ],\n",
              "       [0.57142857, 0.42857143, 0.        , 0.        ],\n",
              "       [0.14285714, 0.85714286, 0.        , 0.        ],\n",
              "       [0.14285714, 0.85714286, 0.        , 0.        ],\n",
              "       [0.57142857, 0.42857143, 0.        , 0.        ],\n",
              "       [0.        , 1.        , 0.        , 0.        ],\n",
              "       [0.        , 0.85714286, 0.        , 0.14285714],\n",
              "       [0.28571429, 0.57142857, 0.        , 0.14285714],\n",
              "       [0.14285714, 0.57142857, 0.        , 0.28571429],\n",
              "       [0.        , 1.        , 0.        , 0.        ],\n",
              "       [0.        , 0.85714286, 0.14285714, 0.        ],\n",
              "       [0.14285714, 0.85714286, 0.        , 0.        ],\n",
              "       [0.14285714, 0.28571429, 0.14285714, 0.42857143],\n",
              "       [0.14285714, 0.85714286, 0.        , 0.        ]])"
            ]
          },
          "execution_count": 67,
          "metadata": {},
          "output_type": "execute_result"
        }
      ],
      "source": [
        "y_prob = knn.predict_proba(x_test)\n",
        "y_prob"
      ]
    },
    {
      "cell_type": "code",
      "execution_count": 68,
      "metadata": {
        "colab": {
          "base_uri": "https://localhost:8080/"
        },
        "id": "tCy1BNCVXGQG",
        "outputId": "dca3f219-8ae5-4a0c-f95e-0022b09894a8"
      },
      "outputs": [
        {
          "data": {
            "text/plain": [
              "array([[ 1, 10,  0,  2],\n",
              "       [ 4, 34,  0,  0],\n",
              "       [ 0,  1,  0,  1],\n",
              "       [ 0,  3,  0,  2]])"
            ]
          },
          "execution_count": 68,
          "metadata": {},
          "output_type": "execute_result"
        }
      ],
      "source": [
        "from sklearn.metrics import confusion_matrix\n",
        "\n",
        "y_true = y_test\n",
        "cm = confusion_matrix(y_true, y_pred)\n",
        "cm"
      ]
    },
    {
      "cell_type": "code",
      "execution_count": 69,
      "metadata": {
        "colab": {
          "base_uri": "https://localhost:8080/",
          "height": 279
        },
        "id": "PlseIAHbXLxn",
        "outputId": "d9190a12-8090-46a8-daf2-0f42ff8d2f0d"
      },
      "outputs": [
        {
          "data": {
            "image/png": "[encoded data removed]",
            "text/plain": [
              "<Figure size 432x288 with 2 Axes>"
            ]
          },
          "metadata": {
            "needs_background": "light"
          },
          "output_type": "display_data"
        }
      ],
      "source": [
        "import matplotlib.pyplot as plt\n",
        "from sklearn.metrics import ConfusionMatrixDisplay\n",
        "\n",
        "#Visualização da matriz de Confusão\n",
        "disp = ConfusionMatrixDisplay(confusion_matrix=cm, \n",
        "                              display_labels=knn.classes_)\n",
        "\n",
        "disp.plot()\n",
        "plt.show()"
      ]
    },
    {
      "cell_type": "markdown",
      "metadata": {
        "id": "6KyUI_-excmS"
      },
      "source": [
        "# Naive Bayes"
      ]
    },
    {
      "cell_type": "code",
      "execution_count": 77,
      "metadata": {
        "colab": {
          "base_uri": "https://localhost:8080/"
        },
        "id": "8g6_besA3m3b",
        "outputId": "efe09648-28a6-4a36-b5dd-c9699e15f4a6"
      },
      "outputs": [
        {
          "name": "stdout",
          "output_type": "stream",
          "text": [
            "Number of mislabeled points out of a total 58 points : 15\n"
          ]
        }
      ],
      "source": [
        "from sklearn.datasets import load_iris\n",
        "from sklearn.naive_bayes import GaussianNB\n",
        "\n",
        "gnb = GaussianNB()\n",
        "\n",
        "y_pred = gnb.fit(x_train, y_train).predict(x_test)\n"
      ]
    },
    {
      "cell_type": "markdown",
      "metadata": {
        "id": "EzB9Nr4833_2"
      },
      "source": [
        "# Decision Tree"
      ]
    },
    {
      "cell_type": "code",
      "execution_count": 70,
      "metadata": {
        "id": "ytIlZ_rE4-1D"
      },
      "outputs": [],
      "source": [
        "from sklearn import tree\n",
        "\n",
        "baseCopy = base[['Tempo de casa', 'Idade', 'Tipo Saida']].dropna()\n",
        "X, y = baseCopy[['Tempo de casa', 'Idade']], baseCopy['Tipo Saida'].values\n",
        "\n",
        "clf = tree.DecisionTreeClassifier()\n",
        "clf = clf.fit(X, y)"
      ]
    },
    {
      "cell_type": "code",
      "execution_count": 71,
      "metadata": {
        "colab": {
          "base_uri": "https://localhost:8080/",
          "height": 1000
        },
        "id": "EuJd9jQR5KF5",
        "outputId": "eab8267c-13ff-4229-e5ae-003cbeaa3ed6"
      },
      "outputs": [
        {
          "data": {
            "image/svg+xml": "<?xml version=\"1.0\" encoding=\"UTF-8\" standalone=\"no\"?>\n<!DOCTYPE svg PUBLIC \"-//W3C//DTD SVG 1.1//EN\"\n \"http://www.w3.org/Graphics/SVG/1.1/DTD/svg11.dtd\">\n<!-- Generated by graphviz version 2.40.1 (20161225.0304)\n -->\n<!-- Title: Tree Pages: 1 -->\n<svg width=\"2707pt\" height=\"1621pt\"\n viewBox=\"0.00 0.00 2707.00 1621.00\" xmlns=\"http://www.w3.org/2000/svg\" xmlns:xlink=\"http://www.w3.org/1999/xlink\">\n<g id=\"graph0\" class=\"graph\" transform=\"scale(1 1) rotate(0) translate(4 1617)\">\n<title>Tree</title>\n<polygon fill=\"#ffffff\" stroke=\"transparent\" points=\"-4,4 -4,-1617 2703,-1617 2703,4 -4,4\"/>\n<!-- 0 -->\n<g id=\"node1\" class=\"node\">\n<title>0</title>\n<path fill=\"#94f08c\" stroke=\"#000000\" d=\"M1519.5,-1613C1519.5,-1613 1379.5,-1613 1379.5,-1613 1373.5,-1613 1367.5,-1607 1367.5,-1601 1367.5,-1601 1367.5,-1557 1367.5,-1557 1367.5,-1551 1373.5,-1545 1379.5,-1545 1379.5,-1545 1519.5,-1545 1519.5,-1545 1525.5,-1545 1531.5,-1551 1531.5,-1557 1531.5,-1557 1531.5,-1601 1531.5,-1601 1531.5,-1607 1525.5,-1613 1519.5,-1613\"/>\n<text text-anchor=\"middle\" x=\"1449.5\" y=\"-1597.8\" font-family=\"Helvetica,sans-Serif\" font-size=\"14.00\" fill=\"#000000\">X[0] &lt;= 90.5</text>\n<text text-anchor=\"middle\" x=\"1449.5\" y=\"-1582.8\" font-family=\"Helvetica,sans-Serif\" font-size=\"14.00\" fill=\"#000000\">gini = 0.523</text>\n<text text-anchor=\"middle\" x=\"1449.5\" y=\"-1567.8\" font-family=\"Helvetica,sans-Serif\" font-size=\"14.00\" fill=\"#000000\">samples = 191</text>\n<text text-anchor=\"middle\" x=\"1449.5\" y=\"-1552.8\" font-family=\"Helvetica,sans-Serif\" font-size=\"14.00\" fill=\"#000000\">value = [33, 125, 8, 25]</text>\n</g>\n<!-- 1 -->\n<g id=\"node2\" class=\"node\">\n<title>1</title>\n<path fill=\"#e478ed\" stroke=\"#000000\" d=\"M986,-1509C986,-1509 871,-1509 871,-1509 865,-1509 859,-1503 859,-1497 859,-1497 859,-1453 859,-1453 859,-1447 865,-1441 871,-1441 871,-1441 986,-1441 986,-1441 992,-1441 998,-1447 998,-1453 998,-1453 998,-1497 998,-1497 998,-1503 992,-1509 986,-1509\"/>\n<text text-anchor=\"middle\" x=\"928.5\" y=\"-1493.8\" font-family=\"Helvetica,sans-Serif\" font-size=\"14.00\" fill=\"#000000\">X[1] &lt;= 54.5</text>\n<text text-anchor=\"middle\" x=\"928.5\" y=\"-1478.8\" font-family=\"Helvetica,sans-Serif\" font-size=\"14.00\" fill=\"#000000\">gini = 0.367</text>\n<text text-anchor=\"middle\" x=\"928.5\" y=\"-1463.8\" font-family=\"Helvetica,sans-Serif\" font-size=\"14.00\" fill=\"#000000\">samples = 33</text>\n<text text-anchor=\"middle\" x=\"928.5\" y=\"-1448.8\" font-family=\"Helvetica,sans-Serif\" font-size=\"14.00\" fill=\"#000000\">value = [0, 0, 8, 25]</text>\n</g>\n<!-- 0&#45;&gt;1 -->\n<g id=\"edge1\" class=\"edge\">\n<title>0&#45;&gt;1</title>\n<path fill=\"none\" stroke=\"#000000\" d=\"M1367.2335,-1562.5783C1268.9175,-1542.9528 1105.5302,-1510.3381 1008.3124,-1490.9318\"/>\n<polygon fill=\"#000000\" stroke=\"#000000\" points=\"1008.7371,-1487.4476 998.2454,-1488.9223 1007.3668,-1494.3122 1008.7371,-1487.4476\"/>\n<text text-anchor=\"middle\" x=\"1012.1206\" y=\"-1506.0184\" font-family=\"Helvetica,sans-Serif\" font-size=\"14.00\" fill=\"#000000\">True</text>\n</g>\n<!-- 26 -->\n<g id=\"node27\" class=\"node\">\n<title>26</title>\n<path fill=\"#78ec6d\" stroke=\"#000000\" d=\"M1564,-1509C1564,-1509 1433,-1509 1433,-1509 1427,-1509 1421,-1503 1421,-1497 1421,-1497 1421,-1453 1421,-1453 1421,-1447 1427,-1441 1433,-1441 1433,-1441 1564,-1441 1564,-1441 1570,-1441 1576,-1447 1576,-1453 1576,-1453 1576,-1497 1576,-1497 1576,-1503 1570,-1509 1564,-1509\"/>\n<text text-anchor=\"middle\" x=\"1498.5\" y=\"-1493.8\" font-family=\"Helvetica,sans-Serif\" font-size=\"14.00\" fill=\"#000000\">X[1] &lt;= 41.5</text>\n<text text-anchor=\"middle\" x=\"1498.5\" y=\"-1478.8\" font-family=\"Helvetica,sans-Serif\" font-size=\"14.00\" fill=\"#000000\">gini = 0.33</text>\n<text text-anchor=\"middle\" x=\"1498.5\" y=\"-1463.8\" font-family=\"Helvetica,sans-Serif\" font-size=\"14.00\" fill=\"#000000\">samples = 158</text>\n<text text-anchor=\"middle\" x=\"1498.5\" y=\"-1448.8\" font-family=\"Helvetica,sans-Serif\" font-size=\"14.00\" fill=\"#000000\">value = [33, 125, 0, 0]</text>\n</g>\n<!-- 0&#45;&gt;26 -->\n<g id=\"edge26\" class=\"edge\">\n<title>0&#45;&gt;26</title>\n<path fill=\"none\" stroke=\"#000000\" d=\"M1465.5444,-1544.9465C1469.5632,-1536.4169 1473.9279,-1527.153 1478.1262,-1518.2424\"/>\n<polygon fill=\"#000000\" stroke=\"#000000\" points=\"1481.3235,-1519.668 1482.4195,-1509.13 1474.9911,-1516.6844 1481.3235,-1519.668\"/>\n<text text-anchor=\"middle\" x=\"1490.8766\" y=\"-1528.9561\" font-family=\"Helvetica,sans-Serif\" font-size=\"14.00\" fill=\"#000000\">False</text>\n</g>\n<!-- 2 -->\n<g id=\"node3\" class=\"node\">\n<title>2</title>\n<path fill=\"#e270ec\" stroke=\"#000000\" d=\"M572,-1405C572,-1405 457,-1405 457,-1405 451,-1405 445,-1399 445,-1393 445,-1393 445,-1349 445,-1349 445,-1343 451,-1337 457,-1337 457,-1337 572,-1337 572,-1337 578,-1337 584,-1343 584,-1349 584,-1349 584,-1393 584,-1393 584,-1399 578,-1405 572,-1405\"/>\n<text text-anchor=\"middle\" x=\"514.5\" y=\"-1389.8\" font-family=\"Helvetica,sans-Serif\" font-size=\"14.00\" fill=\"#000000\">X[0] &lt;= 40.0</text>\n<text text-anchor=\"middle\" x=\"514.5\" y=\"-1374.8\" font-family=\"Helvetica,sans-Serif\" font-size=\"14.00\" fill=\"#000000\">gini = 0.342</text>\n<text text-anchor=\"middle\" x=\"514.5\" y=\"-1359.8\" font-family=\"Helvetica,sans-Serif\" font-size=\"14.00\" fill=\"#000000\">samples = 32</text>\n<text text-anchor=\"middle\" x=\"514.5\" y=\"-1344.8\" font-family=\"Helvetica,sans-Serif\" font-size=\"14.00\" fill=\"#000000\">value = [0, 0, 7, 25]</text>\n</g>\n<!-- 1&#45;&gt;2 -->\n<g id=\"edge2\" class=\"edge\">\n<title>1&#45;&gt;2</title>\n<path fill=\"none\" stroke=\"#000000\" d=\"M858.7387,-1457.4754C785.6293,-1439.1098 670.9511,-1410.3017 594.2901,-1391.0439\"/>\n<polygon fill=\"#000000\" stroke=\"#000000\" points=\"594.7529,-1387.5515 584.2015,-1388.5096 593.0474,-1394.3405 594.7529,-1387.5515\"/>\n</g>\n<!-- 25 -->\n<g id=\"node26\" class=\"node\">\n<title>25</title>\n<path fill=\"#399de5\" stroke=\"#000000\" d=\"M982,-1397.5C982,-1397.5 875,-1397.5 875,-1397.5 869,-1397.5 863,-1391.5 863,-1385.5 863,-1385.5 863,-1356.5 863,-1356.5 863,-1350.5 869,-1344.5 875,-1344.5 875,-1344.5 982,-1344.5 982,-1344.5 988,-1344.5 994,-1350.5 994,-1356.5 994,-1356.5 994,-1385.5 994,-1385.5 994,-1391.5 988,-1397.5 982,-1397.5\"/>\n<text text-anchor=\"middle\" x=\"928.5\" y=\"-1382.3\" font-family=\"Helvetica,sans-Serif\" font-size=\"14.00\" fill=\"#000000\">gini = 0.0</text>\n<text text-anchor=\"middle\" x=\"928.5\" y=\"-1367.3\" font-family=\"Helvetica,sans-Serif\" font-size=\"14.00\" fill=\"#000000\">samples = 1</text>\n<text text-anchor=\"middle\" x=\"928.5\" y=\"-1352.3\" font-family=\"Helvetica,sans-Serif\" font-size=\"14.00\" fill=\"#000000\">value = [0, 0, 1, 0]</text>\n</g>\n<!-- 1&#45;&gt;25 -->\n<g id=\"edge25\" class=\"edge\">\n<title>1&#45;&gt;25</title>\n<path fill=\"none\" stroke=\"#000000\" d=\"M928.5,-1440.9465C928.5,-1430.2621 928.5,-1418.4254 928.5,-1407.5742\"/>\n<polygon fill=\"#000000\" stroke=\"#000000\" points=\"932.0001,-1407.5421 928.5,-1397.5422 925.0001,-1407.5422 932.0001,-1407.5421\"/>\n</g>\n<!-- 3 -->\n<g id=\"node4\" class=\"node\">\n<title>3</title>\n<path fill=\"#db4be7\" stroke=\"#000000\" d=\"M342,-1301C342,-1301 227,-1301 227,-1301 221,-1301 215,-1295 215,-1289 215,-1289 215,-1245 215,-1245 215,-1239 221,-1233 227,-1233 227,-1233 342,-1233 342,-1233 348,-1233 354,-1239 354,-1245 354,-1245 354,-1289 354,-1289 354,-1295 348,-1301 342,-1301\"/>\n<text text-anchor=\"middle\" x=\"284.5\" y=\"-1285.8\" font-family=\"Helvetica,sans-Serif\" font-size=\"14.00\" fill=\"#000000\">X[1] &lt;= 39.5</text>\n<text text-anchor=\"middle\" x=\"284.5\" y=\"-1270.8\" font-family=\"Helvetica,sans-Serif\" font-size=\"14.00\" fill=\"#000000\">gini = 0.153</text>\n<text text-anchor=\"middle\" x=\"284.5\" y=\"-1255.8\" font-family=\"Helvetica,sans-Serif\" font-size=\"14.00\" fill=\"#000000\">samples = 12</text>\n<text text-anchor=\"middle\" x=\"284.5\" y=\"-1240.8\" font-family=\"Helvetica,sans-Serif\" font-size=\"14.00\" fill=\"#000000\">value = [0, 0, 1, 11]</text>\n</g>\n<!-- 2&#45;&gt;3 -->\n<g id=\"edge3\" class=\"edge\">\n<title>2&#45;&gt;3</title>\n<path fill=\"none\" stroke=\"#000000\" d=\"M444.8683,-1339.5143C419.2032,-1327.9093 389.9479,-1314.6808 363.5136,-1302.7279\"/>\n<polygon fill=\"#000000\" stroke=\"#000000\" points=\"364.8455,-1299.489 354.2917,-1298.558 361.9614,-1305.8673 364.8455,-1299.489\"/>\n</g>\n<!-- 8 -->\n<g id=\"node9\" class=\"node\">\n<title>8</title>\n<path fill=\"#e88ef0\" stroke=\"#000000\" d=\"M572,-1301C572,-1301 457,-1301 457,-1301 451,-1301 445,-1295 445,-1289 445,-1289 445,-1245 445,-1245 445,-1239 451,-1233 457,-1233 457,-1233 572,-1233 572,-1233 578,-1233 584,-1239 584,-1245 584,-1245 584,-1289 584,-1289 584,-1295 578,-1301 572,-1301\"/>\n<text text-anchor=\"middle\" x=\"514.5\" y=\"-1285.8\" font-family=\"Helvetica,sans-Serif\" font-size=\"14.00\" fill=\"#000000\">X[0] &lt;= 44.5</text>\n<text text-anchor=\"middle\" x=\"514.5\" y=\"-1270.8\" font-family=\"Helvetica,sans-Serif\" font-size=\"14.00\" fill=\"#000000\">gini = 0.42</text>\n<text text-anchor=\"middle\" x=\"514.5\" y=\"-1255.8\" font-family=\"Helvetica,sans-Serif\" font-size=\"14.00\" fill=\"#000000\">samples = 20</text>\n<text text-anchor=\"middle\" x=\"514.5\" y=\"-1240.8\" font-family=\"Helvetica,sans-Serif\" font-size=\"14.00\" fill=\"#000000\">value = [0, 0, 6, 14]</text>\n</g>\n<!-- 2&#45;&gt;8 -->\n<g id=\"edge8\" class=\"edge\">\n<title>2&#45;&gt;8</title>\n<path fill=\"none\" stroke=\"#000000\" d=\"M514.5,-1336.9465C514.5,-1328.776 514.5,-1319.9318 514.5,-1311.3697\"/>\n<polygon fill=\"#000000\" stroke=\"#000000\" points=\"518.0001,-1311.13 514.5,-1301.13 511.0001,-1311.13 518.0001,-1311.13\"/>\n</g>\n<!-- 4 -->\n<g id=\"node5\" class=\"node\">\n<title>4</title>\n<path fill=\"#d739e5\" stroke=\"#000000\" d=\"M189,-1189.5C189,-1189.5 82,-1189.5 82,-1189.5 76,-1189.5 70,-1183.5 70,-1177.5 70,-1177.5 70,-1148.5 70,-1148.5 70,-1142.5 76,-1136.5 82,-1136.5 82,-1136.5 189,-1136.5 189,-1136.5 195,-1136.5 201,-1142.5 201,-1148.5 201,-1148.5 201,-1177.5 201,-1177.5 201,-1183.5 195,-1189.5 189,-1189.5\"/>\n<text text-anchor=\"middle\" x=\"135.5\" y=\"-1174.3\" font-family=\"Helvetica,sans-Serif\" font-size=\"14.00\" fill=\"#000000\">gini = 0.0</text>\n<text text-anchor=\"middle\" x=\"135.5\" y=\"-1159.3\" font-family=\"Helvetica,sans-Serif\" font-size=\"14.00\" fill=\"#000000\">samples = 8</text>\n<text text-anchor=\"middle\" x=\"135.5\" y=\"-1144.3\" font-family=\"Helvetica,sans-Serif\" font-size=\"14.00\" fill=\"#000000\">value = [0, 0, 0, 8]</text>\n</g>\n<!-- 3&#45;&gt;4 -->\n<g id=\"edge4\" class=\"edge\">\n<title>3&#45;&gt;4</title>\n<path fill=\"none\" stroke=\"#000000\" d=\"M235.7118,-1232.9465C218.3528,-1220.8301 198.8709,-1207.232 181.7324,-1195.2696\"/>\n<polygon fill=\"#000000\" stroke=\"#000000\" points=\"183.7301,-1192.3957 173.5268,-1189.5422 179.7236,-1198.1358 183.7301,-1192.3957\"/>\n</g>\n<!-- 5 -->\n<g id=\"node6\" class=\"node\">\n<title>5</title>\n<path fill=\"#e47bee\" stroke=\"#000000\" d=\"M338,-1197C338,-1197 231,-1197 231,-1197 225,-1197 219,-1191 219,-1185 219,-1185 219,-1141 219,-1141 219,-1135 225,-1129 231,-1129 231,-1129 338,-1129 338,-1129 344,-1129 350,-1135 350,-1141 350,-1141 350,-1185 350,-1185 350,-1191 344,-1197 338,-1197\"/>\n<text text-anchor=\"middle\" x=\"284.5\" y=\"-1181.8\" font-family=\"Helvetica,sans-Serif\" font-size=\"14.00\" fill=\"#000000\">X[1] &lt;= 42.5</text>\n<text text-anchor=\"middle\" x=\"284.5\" y=\"-1166.8\" font-family=\"Helvetica,sans-Serif\" font-size=\"14.00\" fill=\"#000000\">gini = 0.375</text>\n<text text-anchor=\"middle\" x=\"284.5\" y=\"-1151.8\" font-family=\"Helvetica,sans-Serif\" font-size=\"14.00\" fill=\"#000000\">samples = 4</text>\n<text text-anchor=\"middle\" x=\"284.5\" y=\"-1136.8\" font-family=\"Helvetica,sans-Serif\" font-size=\"14.00\" fill=\"#000000\">value = [0, 0, 1, 3]</text>\n</g>\n<!-- 3&#45;&gt;5 -->\n<g id=\"edge5\" class=\"edge\">\n<title>3&#45;&gt;5</title>\n<path fill=\"none\" stroke=\"#000000\" d=\"M284.5,-1232.9465C284.5,-1224.776 284.5,-1215.9318 284.5,-1207.3697\"/>\n<polygon fill=\"#000000\" stroke=\"#000000\" points=\"288.0001,-1207.13 284.5,-1197.13 281.0001,-1207.13 288.0001,-1207.13\"/>\n</g>\n<!-- 6 -->\n<g id=\"node7\" class=\"node\">\n<title>6</title>\n<path fill=\"#399de5\" stroke=\"#000000\" d=\"M191,-1085.5C191,-1085.5 84,-1085.5 84,-1085.5 78,-1085.5 72,-1079.5 72,-1073.5 72,-1073.5 72,-1044.5 72,-1044.5 72,-1038.5 78,-1032.5 84,-1032.5 84,-1032.5 191,-1032.5 191,-1032.5 197,-1032.5 203,-1038.5 203,-1044.5 203,-1044.5 203,-1073.5 203,-1073.5 203,-1079.5 197,-1085.5 191,-1085.5\"/>\n<text text-anchor=\"middle\" x=\"137.5\" y=\"-1070.3\" font-family=\"Helvetica,sans-Serif\" font-size=\"14.00\" fill=\"#000000\">gini = 0.0</text>\n<text text-anchor=\"middle\" x=\"137.5\" y=\"-1055.3\" font-family=\"Helvetica,sans-Serif\" font-size=\"14.00\" fill=\"#000000\">samples = 1</text>\n<text text-anchor=\"middle\" x=\"137.5\" y=\"-1040.3\" font-family=\"Helvetica,sans-Serif\" font-size=\"14.00\" fill=\"#000000\">value = [0, 0, 1, 0]</text>\n</g>\n<!-- 5&#45;&gt;6 -->\n<g id=\"edge6\" class=\"edge\">\n<title>5&#45;&gt;6</title>\n<path fill=\"none\" stroke=\"#000000\" d=\"M236.3667,-1128.9465C219.3963,-1116.9403 200.3696,-1103.4791 183.5735,-1091.5962\"/>\n<polygon fill=\"#000000\" stroke=\"#000000\" points=\"185.2013,-1088.4605 175.0163,-1085.5422 181.1584,-1094.175 185.2013,-1088.4605\"/>\n</g>\n<!-- 7 -->\n<g id=\"node8\" class=\"node\">\n<title>7</title>\n<path fill=\"#d739e5\" stroke=\"#000000\" d=\"M340,-1085.5C340,-1085.5 233,-1085.5 233,-1085.5 227,-1085.5 221,-1079.5 221,-1073.5 221,-1073.5 221,-1044.5 221,-1044.5 221,-1038.5 227,-1032.5 233,-1032.5 233,-1032.5 340,-1032.5 340,-1032.5 346,-1032.5 352,-1038.5 352,-1044.5 352,-1044.5 352,-1073.5 352,-1073.5 352,-1079.5 346,-1085.5 340,-1085.5\"/>\n<text text-anchor=\"middle\" x=\"286.5\" y=\"-1070.3\" font-family=\"Helvetica,sans-Serif\" font-size=\"14.00\" fill=\"#000000\">gini = 0.0</text>\n<text text-anchor=\"middle\" x=\"286.5\" y=\"-1055.3\" font-family=\"Helvetica,sans-Serif\" font-size=\"14.00\" fill=\"#000000\">samples = 3</text>\n<text text-anchor=\"middle\" x=\"286.5\" y=\"-1040.3\" font-family=\"Helvetica,sans-Serif\" font-size=\"14.00\" fill=\"#000000\">value = [0, 0, 0, 3]</text>\n</g>\n<!-- 5&#45;&gt;7 -->\n<g id=\"edge7\" class=\"edge\">\n<title>5&#45;&gt;7</title>\n<path fill=\"none\" stroke=\"#000000\" d=\"M285.1549,-1128.9465C285.3603,-1118.2621 285.588,-1106.4254 285.7966,-1095.5742\"/>\n<polygon fill=\"#000000\" stroke=\"#000000\" points=\"289.2966,-1095.6076 285.9896,-1085.5422 282.2979,-1095.473 289.2966,-1095.6076\"/>\n</g>\n<!-- 9 -->\n<g id=\"node10\" class=\"node\">\n<title>9</title>\n<path fill=\"#399de5\" stroke=\"#000000\" d=\"M487,-1189.5C487,-1189.5 380,-1189.5 380,-1189.5 374,-1189.5 368,-1183.5 368,-1177.5 368,-1177.5 368,-1148.5 368,-1148.5 368,-1142.5 374,-1136.5 380,-1136.5 380,-1136.5 487,-1136.5 487,-1136.5 493,-1136.5 499,-1142.5 499,-1148.5 499,-1148.5 499,-1177.5 499,-1177.5 499,-1183.5 493,-1189.5 487,-1189.5\"/>\n<text text-anchor=\"middle\" x=\"433.5\" y=\"-1174.3\" font-family=\"Helvetica,sans-Serif\" font-size=\"14.00\" fill=\"#000000\">gini = 0.0</text>\n<text text-anchor=\"middle\" x=\"433.5\" y=\"-1159.3\" font-family=\"Helvetica,sans-Serif\" font-size=\"14.00\" fill=\"#000000\">samples = 3</text>\n<text text-anchor=\"middle\" x=\"433.5\" y=\"-1144.3\" font-family=\"Helvetica,sans-Serif\" font-size=\"14.00\" fill=\"#000000\">value = [0, 0, 3, 0]</text>\n</g>\n<!-- 8&#45;&gt;9 -->\n<g id=\"edge9\" class=\"edge\">\n<title>8&#45;&gt;9</title>\n<path fill=\"none\" stroke=\"#000000\" d=\"M487.9776,-1232.9465C479.1413,-1221.6012 469.2932,-1208.9567 460.4266,-1197.5724\"/>\n<polygon fill=\"#000000\" stroke=\"#000000\" points=\"463.0783,-1195.281 454.1723,-1189.5422 457.5556,-1199.5823 463.0783,-1195.281\"/>\n</g>\n<!-- 10 -->\n<g id=\"node11\" class=\"node\">\n<title>10</title>\n<path fill=\"#e063eb\" stroke=\"#000000\" d=\"M644,-1197C644,-1197 529,-1197 529,-1197 523,-1197 517,-1191 517,-1185 517,-1185 517,-1141 517,-1141 517,-1135 523,-1129 529,-1129 529,-1129 644,-1129 644,-1129 650,-1129 656,-1135 656,-1141 656,-1141 656,-1185 656,-1185 656,-1191 650,-1197 644,-1197\"/>\n<text text-anchor=\"middle\" x=\"586.5\" y=\"-1181.8\" font-family=\"Helvetica,sans-Serif\" font-size=\"14.00\" fill=\"#000000\">X[0] &lt;= 78.0</text>\n<text text-anchor=\"middle\" x=\"586.5\" y=\"-1166.8\" font-family=\"Helvetica,sans-Serif\" font-size=\"14.00\" fill=\"#000000\">gini = 0.291</text>\n<text text-anchor=\"middle\" x=\"586.5\" y=\"-1151.8\" font-family=\"Helvetica,sans-Serif\" font-size=\"14.00\" fill=\"#000000\">samples = 17</text>\n<text text-anchor=\"middle\" x=\"586.5\" y=\"-1136.8\" font-family=\"Helvetica,sans-Serif\" font-size=\"14.00\" fill=\"#000000\">value = [0, 0, 3, 14]</text>\n</g>\n<!-- 8&#45;&gt;10 -->\n<g id=\"edge10\" class=\"edge\">\n<title>8&#45;&gt;10</title>\n<path fill=\"none\" stroke=\"#000000\" d=\"M538.0755,-1232.9465C544.1671,-1224.1475 550.7996,-1214.5672 557.1466,-1205.3993\"/>\n<polygon fill=\"#000000\" stroke=\"#000000\" points=\"560.0571,-1207.3442 562.8715,-1197.13 554.3017,-1203.3597 560.0571,-1207.3442\"/>\n</g>\n<!-- 11 -->\n<g id=\"node12\" class=\"node\">\n<title>11</title>\n<path fill=\"#e47bee\" stroke=\"#000000\" d=\"M491,-1093C491,-1093 384,-1093 384,-1093 378,-1093 372,-1087 372,-1081 372,-1081 372,-1037 372,-1037 372,-1031 378,-1025 384,-1025 384,-1025 491,-1025 491,-1025 497,-1025 503,-1031 503,-1037 503,-1037 503,-1081 503,-1081 503,-1087 497,-1093 491,-1093\"/>\n<text text-anchor=\"middle\" x=\"437.5\" y=\"-1077.8\" font-family=\"Helvetica,sans-Serif\" font-size=\"14.00\" fill=\"#000000\">X[0] &lt;= 75.5</text>\n<text text-anchor=\"middle\" x=\"437.5\" y=\"-1062.8\" font-family=\"Helvetica,sans-Serif\" font-size=\"14.00\" fill=\"#000000\">gini = 0.375</text>\n<text text-anchor=\"middle\" x=\"437.5\" y=\"-1047.8\" font-family=\"Helvetica,sans-Serif\" font-size=\"14.00\" fill=\"#000000\">samples = 12</text>\n<text text-anchor=\"middle\" x=\"437.5\" y=\"-1032.8\" font-family=\"Helvetica,sans-Serif\" font-size=\"14.00\" fill=\"#000000\">value = [0, 0, 3, 9]</text>\n</g>\n<!-- 10&#45;&gt;11 -->\n<g id=\"edge11\" class=\"edge\">\n<title>10&#45;&gt;11</title>\n<path fill=\"none\" stroke=\"#000000\" d=\"M537.7118,-1128.9465C523.9479,-1119.3395 508.8494,-1108.8009 494.6426,-1098.8848\"/>\n<polygon fill=\"#000000\" stroke=\"#000000\" points=\"496.6011,-1095.9835 486.3978,-1093.13 492.5946,-1101.7236 496.6011,-1095.9835\"/>\n</g>\n<!-- 24 -->\n<g id=\"node25\" class=\"node\">\n<title>24</title>\n<path fill=\"#d739e5\" stroke=\"#000000\" d=\"M640,-1085.5C640,-1085.5 533,-1085.5 533,-1085.5 527,-1085.5 521,-1079.5 521,-1073.5 521,-1073.5 521,-1044.5 521,-1044.5 521,-1038.5 527,-1032.5 533,-1032.5 533,-1032.5 640,-1032.5 640,-1032.5 646,-1032.5 652,-1038.5 652,-1044.5 652,-1044.5 652,-1073.5 652,-1073.5 652,-1079.5 646,-1085.5 640,-1085.5\"/>\n<text text-anchor=\"middle\" x=\"586.5\" y=\"-1070.3\" font-family=\"Helvetica,sans-Serif\" font-size=\"14.00\" fill=\"#000000\">gini = 0.0</text>\n<text text-anchor=\"middle\" x=\"586.5\" y=\"-1055.3\" font-family=\"Helvetica,sans-Serif\" font-size=\"14.00\" fill=\"#000000\">samples = 5</text>\n<text text-anchor=\"middle\" x=\"586.5\" y=\"-1040.3\" font-family=\"Helvetica,sans-Serif\" font-size=\"14.00\" fill=\"#000000\">value = [0, 0, 0, 5]</text>\n</g>\n<!-- 10&#45;&gt;24 -->\n<g id=\"edge24\" class=\"edge\">\n<title>10&#45;&gt;24</title>\n<path fill=\"none\" stroke=\"#000000\" d=\"M586.5,-1128.9465C586.5,-1118.2621 586.5,-1106.4254 586.5,-1095.5742\"/>\n<polygon fill=\"#000000\" stroke=\"#000000\" points=\"590.0001,-1095.5421 586.5,-1085.5422 583.0001,-1095.5422 590.0001,-1095.5421\"/>\n</g>\n<!-- 12 -->\n<g id=\"node13\" class=\"node\">\n<title>12</title>\n<path fill=\"#dd55e9\" stroke=\"#000000\" d=\"M342,-989C342,-989 235,-989 235,-989 229,-989 223,-983 223,-977 223,-977 223,-933 223,-933 223,-927 229,-921 235,-921 235,-921 342,-921 342,-921 348,-921 354,-927 354,-933 354,-933 354,-977 354,-977 354,-983 348,-989 342,-989\"/>\n<text text-anchor=\"middle\" x=\"288.5\" y=\"-973.8\" font-family=\"Helvetica,sans-Serif\" font-size=\"14.00\" fill=\"#000000\">X[1] &lt;= 29.5</text>\n<text text-anchor=\"middle\" x=\"288.5\" y=\"-958.8\" font-family=\"Helvetica,sans-Serif\" font-size=\"14.00\" fill=\"#000000\">gini = 0.219</text>\n<text text-anchor=\"middle\" x=\"288.5\" y=\"-943.8\" font-family=\"Helvetica,sans-Serif\" font-size=\"14.00\" fill=\"#000000\">samples = 8</text>\n<text text-anchor=\"middle\" x=\"288.5\" y=\"-928.8\" font-family=\"Helvetica,sans-Serif\" font-size=\"14.00\" fill=\"#000000\">value = [0, 0, 1, 7]</text>\n</g>\n<!-- 11&#45;&gt;12 -->\n<g id=\"edge12\" class=\"edge\">\n<title>11&#45;&gt;12</title>\n<path fill=\"none\" stroke=\"#000000\" d=\"M388.7118,-1024.9465C374.9479,-1015.3395 359.8494,-1004.8009 345.6426,-994.8848\"/>\n<polygon fill=\"#000000\" stroke=\"#000000\" points=\"347.6011,-991.9835 337.3978,-989.13 343.5946,-997.7236 347.6011,-991.9835\"/>\n</g>\n<!-- 19 -->\n<g id=\"node20\" class=\"node\">\n<title>19</title>\n<path fill=\"#ffffff\" stroke=\"#000000\" d=\"M491,-989C491,-989 384,-989 384,-989 378,-989 372,-983 372,-977 372,-977 372,-933 372,-933 372,-927 378,-921 384,-921 384,-921 491,-921 491,-921 497,-921 503,-927 503,-933 503,-933 503,-977 503,-977 503,-983 497,-989 491,-989\"/>\n<text text-anchor=\"middle\" x=\"437.5\" y=\"-973.8\" font-family=\"Helvetica,sans-Serif\" font-size=\"14.00\" fill=\"#000000\">X[1] &lt;= 24.5</text>\n<text text-anchor=\"middle\" x=\"437.5\" y=\"-958.8\" font-family=\"Helvetica,sans-Serif\" font-size=\"14.00\" fill=\"#000000\">gini = 0.5</text>\n<text text-anchor=\"middle\" x=\"437.5\" y=\"-943.8\" font-family=\"Helvetica,sans-Serif\" font-size=\"14.00\" fill=\"#000000\">samples = 4</text>\n<text text-anchor=\"middle\" x=\"437.5\" y=\"-928.8\" font-family=\"Helvetica,sans-Serif\" font-size=\"14.00\" fill=\"#000000\">value = [0, 0, 2, 2]</text>\n</g>\n<!-- 11&#45;&gt;19 -->\n<g id=\"edge19\" class=\"edge\">\n<title>11&#45;&gt;19</title>\n<path fill=\"none\" stroke=\"#000000\" d=\"M437.5,-1024.9465C437.5,-1016.776 437.5,-1007.9318 437.5,-999.3697\"/>\n<polygon fill=\"#000000\" stroke=\"#000000\" points=\"441.0001,-999.13 437.5,-989.13 434.0001,-999.13 441.0001,-999.13\"/>\n</g>\n<!-- 13 -->\n<g id=\"node14\" class=\"node\">\n<title>13</title>\n<path fill=\"#eb9cf2\" stroke=\"#000000\" d=\"M193,-885C193,-885 86,-885 86,-885 80,-885 74,-879 74,-873 74,-873 74,-829 74,-829 74,-823 80,-817 86,-817 86,-817 193,-817 193,-817 199,-817 205,-823 205,-829 205,-829 205,-873 205,-873 205,-879 199,-885 193,-885\"/>\n<text text-anchor=\"middle\" x=\"139.5\" y=\"-869.8\" font-family=\"Helvetica,sans-Serif\" font-size=\"14.00\" fill=\"#000000\">X[0] &lt;= 47.5</text>\n<text text-anchor=\"middle\" x=\"139.5\" y=\"-854.8\" font-family=\"Helvetica,sans-Serif\" font-size=\"14.00\" fill=\"#000000\">gini = 0.444</text>\n<text text-anchor=\"middle\" x=\"139.5\" y=\"-839.8\" font-family=\"Helvetica,sans-Serif\" font-size=\"14.00\" fill=\"#000000\">samples = 3</text>\n<text text-anchor=\"middle\" x=\"139.5\" y=\"-824.8\" font-family=\"Helvetica,sans-Serif\" font-size=\"14.00\" fill=\"#000000\">value = [0, 0, 1, 2]</text>\n</g>\n<!-- 12&#45;&gt;13 -->\n<g id=\"edge13\" class=\"edge\">\n<title>12&#45;&gt;13</title>\n<path fill=\"none\" stroke=\"#000000\" d=\"M239.7118,-920.9465C225.9479,-911.3395 210.8494,-900.8009 196.6426,-890.8848\"/>\n<polygon fill=\"#000000\" stroke=\"#000000\" points=\"198.6011,-887.9835 188.3978,-885.13 194.5946,-893.7236 198.6011,-887.9835\"/>\n</g>\n<!-- 18 -->\n<g id=\"node19\" class=\"node\">\n<title>18</title>\n<path fill=\"#d739e5\" stroke=\"#000000\" d=\"M342,-877.5C342,-877.5 235,-877.5 235,-877.5 229,-877.5 223,-871.5 223,-865.5 223,-865.5 223,-836.5 223,-836.5 223,-830.5 229,-824.5 235,-824.5 235,-824.5 342,-824.5 342,-824.5 348,-824.5 354,-830.5 354,-836.5 354,-836.5 354,-865.5 354,-865.5 354,-871.5 348,-877.5 342,-877.5\"/>\n<text text-anchor=\"middle\" x=\"288.5\" y=\"-862.3\" font-family=\"Helvetica,sans-Serif\" font-size=\"14.00\" fill=\"#000000\">gini = 0.0</text>\n<text text-anchor=\"middle\" x=\"288.5\" y=\"-847.3\" font-family=\"Helvetica,sans-Serif\" font-size=\"14.00\" fill=\"#000000\">samples = 5</text>\n<text text-anchor=\"middle\" x=\"288.5\" y=\"-832.3\" font-family=\"Helvetica,sans-Serif\" font-size=\"14.00\" fill=\"#000000\">value = [0, 0, 0, 5]</text>\n</g>\n<!-- 12&#45;&gt;18 -->\n<g id=\"edge18\" class=\"edge\">\n<title>12&#45;&gt;18</title>\n<path fill=\"none\" stroke=\"#000000\" d=\"M288.5,-920.9465C288.5,-910.2621 288.5,-898.4254 288.5,-887.5742\"/>\n<polygon fill=\"#000000\" stroke=\"#000000\" points=\"292.0001,-887.5421 288.5,-877.5422 285.0001,-887.5422 292.0001,-887.5421\"/>\n</g>\n<!-- 14 -->\n<g id=\"node15\" class=\"node\">\n<title>14</title>\n<path fill=\"#d739e5\" stroke=\"#000000\" d=\"M119,-773.5C119,-773.5 12,-773.5 12,-773.5 6,-773.5 0,-767.5 0,-761.5 0,-761.5 0,-732.5 0,-732.5 0,-726.5 6,-720.5 12,-720.5 12,-720.5 119,-720.5 119,-720.5 125,-720.5 131,-726.5 131,-732.5 131,-732.5 131,-761.5 131,-761.5 131,-767.5 125,-773.5 119,-773.5\"/>\n<text text-anchor=\"middle\" x=\"65.5\" y=\"-758.3\" font-family=\"Helvetica,sans-Serif\" font-size=\"14.00\" fill=\"#000000\">gini = 0.0</text>\n<text text-anchor=\"middle\" x=\"65.5\" y=\"-743.3\" font-family=\"Helvetica,sans-Serif\" font-size=\"14.00\" fill=\"#000000\">samples = 1</text>\n<text text-anchor=\"middle\" x=\"65.5\" y=\"-728.3\" font-family=\"Helvetica,sans-Serif\" font-size=\"14.00\" fill=\"#000000\">value = [0, 0, 0, 1]</text>\n</g>\n<!-- 13&#45;&gt;14 -->\n<g id=\"edge14\" class=\"edge\">\n<title>13&#45;&gt;14</title>\n<path fill=\"none\" stroke=\"#000000\" d=\"M115.2696,-816.9465C107.2754,-805.7113 98.3746,-793.2021 90.3358,-781.9043\"/>\n<polygon fill=\"#000000\" stroke=\"#000000\" points=\"93.0351,-779.6609 84.3858,-773.5422 87.3316,-783.7192 93.0351,-779.6609\"/>\n</g>\n<!-- 15 -->\n<g id=\"node16\" class=\"node\">\n<title>15</title>\n<path fill=\"#ffffff\" stroke=\"#000000\" d=\"M268,-781C268,-781 161,-781 161,-781 155,-781 149,-775 149,-769 149,-769 149,-725 149,-725 149,-719 155,-713 161,-713 161,-713 268,-713 268,-713 274,-713 280,-719 280,-725 280,-725 280,-769 280,-769 280,-775 274,-781 268,-781\"/>\n<text text-anchor=\"middle\" x=\"214.5\" y=\"-765.8\" font-family=\"Helvetica,sans-Serif\" font-size=\"14.00\" fill=\"#000000\">X[0] &lt;= 61.5</text>\n<text text-anchor=\"middle\" x=\"214.5\" y=\"-750.8\" font-family=\"Helvetica,sans-Serif\" font-size=\"14.00\" fill=\"#000000\">gini = 0.5</text>\n<text text-anchor=\"middle\" x=\"214.5\" y=\"-735.8\" font-family=\"Helvetica,sans-Serif\" font-size=\"14.00\" fill=\"#000000\">samples = 2</text>\n<text text-anchor=\"middle\" x=\"214.5\" y=\"-720.8\" font-family=\"Helvetica,sans-Serif\" font-size=\"14.00\" fill=\"#000000\">value = [0, 0, 1, 1]</text>\n</g>\n<!-- 13&#45;&gt;15 -->\n<g id=\"edge15\" class=\"edge\">\n<title>13&#45;&gt;15</title>\n<path fill=\"none\" stroke=\"#000000\" d=\"M164.0578,-816.9465C170.4032,-808.1475 177.3121,-798.5672 183.9236,-789.3993\"/>\n<polygon fill=\"#000000\" stroke=\"#000000\" points=\"186.8766,-791.2882 189.887,-781.13 181.1989,-787.1937 186.8766,-791.2882\"/>\n</g>\n<!-- 16 -->\n<g id=\"node17\" class=\"node\">\n<title>16</title>\n<path fill=\"#399de5\" stroke=\"#000000\" d=\"M193,-669.5C193,-669.5 86,-669.5 86,-669.5 80,-669.5 74,-663.5 74,-657.5 74,-657.5 74,-628.5 74,-628.5 74,-622.5 80,-616.5 86,-616.5 86,-616.5 193,-616.5 193,-616.5 199,-616.5 205,-622.5 205,-628.5 205,-628.5 205,-657.5 205,-657.5 205,-663.5 199,-669.5 193,-669.5\"/>\n<text text-anchor=\"middle\" x=\"139.5\" y=\"-654.3\" font-family=\"Helvetica,sans-Serif\" font-size=\"14.00\" fill=\"#000000\">gini = 0.0</text>\n<text text-anchor=\"middle\" x=\"139.5\" y=\"-639.3\" font-family=\"Helvetica,sans-Serif\" font-size=\"14.00\" fill=\"#000000\">samples = 1</text>\n<text text-anchor=\"middle\" x=\"139.5\" y=\"-624.3\" font-family=\"Helvetica,sans-Serif\" font-size=\"14.00\" fill=\"#000000\">value = [0, 0, 1, 0]</text>\n</g>\n<!-- 15&#45;&gt;16 -->\n<g id=\"edge16\" class=\"edge\">\n<title>15&#45;&gt;16</title>\n<path fill=\"none\" stroke=\"#000000\" d=\"M189.9422,-712.9465C181.8399,-701.7113 172.8188,-689.2021 164.6714,-677.9043\"/>\n<polygon fill=\"#000000\" stroke=\"#000000\" points=\"167.3291,-675.6058 158.641,-669.5422 161.6514,-679.7003 167.3291,-675.6058\"/>\n</g>\n<!-- 17 -->\n<g id=\"node18\" class=\"node\">\n<title>17</title>\n<path fill=\"#d739e5\" stroke=\"#000000\" d=\"M342,-669.5C342,-669.5 235,-669.5 235,-669.5 229,-669.5 223,-663.5 223,-657.5 223,-657.5 223,-628.5 223,-628.5 223,-622.5 229,-616.5 235,-616.5 235,-616.5 342,-616.5 342,-616.5 348,-616.5 354,-622.5 354,-628.5 354,-628.5 354,-657.5 354,-657.5 354,-663.5 348,-669.5 342,-669.5\"/>\n<text text-anchor=\"middle\" x=\"288.5\" y=\"-654.3\" font-family=\"Helvetica,sans-Serif\" font-size=\"14.00\" fill=\"#000000\">gini = 0.0</text>\n<text text-anchor=\"middle\" x=\"288.5\" y=\"-639.3\" font-family=\"Helvetica,sans-Serif\" font-size=\"14.00\" fill=\"#000000\">samples = 1</text>\n<text text-anchor=\"middle\" x=\"288.5\" y=\"-624.3\" font-family=\"Helvetica,sans-Serif\" font-size=\"14.00\" fill=\"#000000\">value = [0, 0, 0, 1]</text>\n</g>\n<!-- 15&#45;&gt;17 -->\n<g id=\"edge17\" class=\"edge\">\n<title>15&#45;&gt;17</title>\n<path fill=\"none\" stroke=\"#000000\" d=\"M238.7304,-712.9465C246.7246,-701.7113 255.6254,-689.2021 263.6642,-677.9043\"/>\n<polygon fill=\"#000000\" stroke=\"#000000\" points=\"266.6684,-679.7192 269.6142,-669.5422 260.9649,-675.6609 266.6684,-679.7192\"/>\n</g>\n<!-- 20 -->\n<g id=\"node21\" class=\"node\">\n<title>20</title>\n<path fill=\"#d739e5\" stroke=\"#000000\" d=\"M491,-877.5C491,-877.5 384,-877.5 384,-877.5 378,-877.5 372,-871.5 372,-865.5 372,-865.5 372,-836.5 372,-836.5 372,-830.5 378,-824.5 384,-824.5 384,-824.5 491,-824.5 491,-824.5 497,-824.5 503,-830.5 503,-836.5 503,-836.5 503,-865.5 503,-865.5 503,-871.5 497,-877.5 491,-877.5\"/>\n<text text-anchor=\"middle\" x=\"437.5\" y=\"-862.3\" font-family=\"Helvetica,sans-Serif\" font-size=\"14.00\" fill=\"#000000\">gini = 0.0</text>\n<text text-anchor=\"middle\" x=\"437.5\" y=\"-847.3\" font-family=\"Helvetica,sans-Serif\" font-size=\"14.00\" fill=\"#000000\">samples = 1</text>\n<text text-anchor=\"middle\" x=\"437.5\" y=\"-832.3\" font-family=\"Helvetica,sans-Serif\" font-size=\"14.00\" fill=\"#000000\">value = [0, 0, 0, 1]</text>\n</g>\n<!-- 19&#45;&gt;20 -->\n<g id=\"edge20\" class=\"edge\">\n<title>19&#45;&gt;20</title>\n<path fill=\"none\" stroke=\"#000000\" d=\"M437.5,-920.9465C437.5,-910.2621 437.5,-898.4254 437.5,-887.5742\"/>\n<polygon fill=\"#000000\" stroke=\"#000000\" points=\"441.0001,-887.5421 437.5,-877.5422 434.0001,-887.5422 441.0001,-887.5421\"/>\n</g>\n<!-- 21 -->\n<g id=\"node22\" class=\"node\">\n<title>21</title>\n<path fill=\"#9ccef2\" stroke=\"#000000\" d=\"M640,-885C640,-885 533,-885 533,-885 527,-885 521,-879 521,-873 521,-873 521,-829 521,-829 521,-823 527,-817 533,-817 533,-817 640,-817 640,-817 646,-817 652,-823 652,-829 652,-829 652,-873 652,-873 652,-879 646,-885 640,-885\"/>\n<text text-anchor=\"middle\" x=\"586.5\" y=\"-869.8\" font-family=\"Helvetica,sans-Serif\" font-size=\"14.00\" fill=\"#000000\">X[1] &lt;= 41.5</text>\n<text text-anchor=\"middle\" x=\"586.5\" y=\"-854.8\" font-family=\"Helvetica,sans-Serif\" font-size=\"14.00\" fill=\"#000000\">gini = 0.444</text>\n<text text-anchor=\"middle\" x=\"586.5\" y=\"-839.8\" font-family=\"Helvetica,sans-Serif\" font-size=\"14.00\" fill=\"#000000\">samples = 3</text>\n<text text-anchor=\"middle\" x=\"586.5\" y=\"-824.8\" font-family=\"Helvetica,sans-Serif\" font-size=\"14.00\" fill=\"#000000\">value = [0, 0, 2, 1]</text>\n</g>\n<!-- 19&#45;&gt;21 -->\n<g id=\"edge21\" class=\"edge\">\n<title>19&#45;&gt;21</title>\n<path fill=\"none\" stroke=\"#000000\" d=\"M486.2882,-920.9465C500.0521,-911.3395 515.1506,-900.8009 529.3574,-890.8848\"/>\n<polygon fill=\"#000000\" stroke=\"#000000\" points=\"531.4054,-893.7236 537.6022,-885.13 527.3989,-887.9835 531.4054,-893.7236\"/>\n</g>\n<!-- 22 -->\n<g id=\"node23\" class=\"node\">\n<title>22</title>\n<path fill=\"#399de5\" stroke=\"#000000\" d=\"M492,-773.5C492,-773.5 385,-773.5 385,-773.5 379,-773.5 373,-767.5 373,-761.5 373,-761.5 373,-732.5 373,-732.5 373,-726.5 379,-720.5 385,-720.5 385,-720.5 492,-720.5 492,-720.5 498,-720.5 504,-726.5 504,-732.5 504,-732.5 504,-761.5 504,-761.5 504,-767.5 498,-773.5 492,-773.5\"/>\n<text text-anchor=\"middle\" x=\"438.5\" y=\"-758.3\" font-family=\"Helvetica,sans-Serif\" font-size=\"14.00\" fill=\"#000000\">gini = 0.0</text>\n<text text-anchor=\"middle\" x=\"438.5\" y=\"-743.3\" font-family=\"Helvetica,sans-Serif\" font-size=\"14.00\" fill=\"#000000\">samples = 2</text>\n<text text-anchor=\"middle\" x=\"438.5\" y=\"-728.3\" font-family=\"Helvetica,sans-Serif\" font-size=\"14.00\" fill=\"#000000\">value = [0, 0, 2, 0]</text>\n</g>\n<!-- 21&#45;&gt;22 -->\n<g id=\"edge22\" class=\"edge\">\n<title>21&#45;&gt;22</title>\n<path fill=\"none\" stroke=\"#000000\" d=\"M538.0393,-816.9465C520.9535,-804.9403 501.7972,-791.4791 484.887,-779.5962\"/>\n<polygon fill=\"#000000\" stroke=\"#000000\" points=\"486.4658,-776.428 476.2715,-773.5422 482.4412,-782.1553 486.4658,-776.428\"/>\n</g>\n<!-- 23 -->\n<g id=\"node24\" class=\"node\">\n<title>23</title>\n<path fill=\"#d739e5\" stroke=\"#000000\" d=\"M641,-773.5C641,-773.5 534,-773.5 534,-773.5 528,-773.5 522,-767.5 522,-761.5 522,-761.5 522,-732.5 522,-732.5 522,-726.5 528,-720.5 534,-720.5 534,-720.5 641,-720.5 641,-720.5 647,-720.5 653,-726.5 653,-732.5 653,-732.5 653,-761.5 653,-761.5 653,-767.5 647,-773.5 641,-773.5\"/>\n<text text-anchor=\"middle\" x=\"587.5\" y=\"-758.3\" font-family=\"Helvetica,sans-Serif\" font-size=\"14.00\" fill=\"#000000\">gini = 0.0</text>\n<text text-anchor=\"middle\" x=\"587.5\" y=\"-743.3\" font-family=\"Helvetica,sans-Serif\" font-size=\"14.00\" fill=\"#000000\">samples = 1</text>\n<text text-anchor=\"middle\" x=\"587.5\" y=\"-728.3\" font-family=\"Helvetica,sans-Serif\" font-size=\"14.00\" fill=\"#000000\">value = [0, 0, 0, 1]</text>\n</g>\n<!-- 21&#45;&gt;23 -->\n<g id=\"edge23\" class=\"edge\">\n<title>21&#45;&gt;23</title>\n<path fill=\"none\" stroke=\"#000000\" d=\"M586.8274,-816.9465C586.9302,-806.2621 587.044,-794.4254 587.1483,-783.5742\"/>\n<polygon fill=\"#000000\" stroke=\"#000000\" points=\"590.6484,-783.5754 587.2448,-773.5422 583.6487,-783.508 590.6484,-783.5754\"/>\n</g>\n<!-- 27 -->\n<g id=\"node28\" class=\"node\">\n<title>27</title>\n<path fill=\"#6feb64\" stroke=\"#000000\" d=\"M1564,-1405C1564,-1405 1433,-1405 1433,-1405 1427,-1405 1421,-1399 1421,-1393 1421,-1393 1421,-1349 1421,-1349 1421,-1343 1427,-1337 1433,-1337 1433,-1337 1564,-1337 1564,-1337 1570,-1337 1576,-1343 1576,-1349 1576,-1349 1576,-1393 1576,-1393 1576,-1399 1570,-1405 1564,-1405\"/>\n<text text-anchor=\"middle\" x=\"1498.5\" y=\"-1389.8\" font-family=\"Helvetica,sans-Serif\" font-size=\"14.00\" fill=\"#000000\">X[1] &lt;= 25.5</text>\n<text text-anchor=\"middle\" x=\"1498.5\" y=\"-1374.8\" font-family=\"Helvetica,sans-Serif\" font-size=\"14.00\" fill=\"#000000\">gini = 0.294</text>\n<text text-anchor=\"middle\" x=\"1498.5\" y=\"-1359.8\" font-family=\"Helvetica,sans-Serif\" font-size=\"14.00\" fill=\"#000000\">samples = 145</text>\n<text text-anchor=\"middle\" x=\"1498.5\" y=\"-1344.8\" font-family=\"Helvetica,sans-Serif\" font-size=\"14.00\" fill=\"#000000\">value = [26, 119, 0, 0]</text>\n</g>\n<!-- 26&#45;&gt;27 -->\n<g id=\"edge27\" class=\"edge\">\n<title>26&#45;&gt;27</title>\n<path fill=\"none\" stroke=\"#000000\" d=\"M1498.5,-1440.9465C1498.5,-1432.776 1498.5,-1423.9318 1498.5,-1415.3697\"/>\n<polygon fill=\"#000000\" stroke=\"#000000\" points=\"1502.0001,-1415.13 1498.5,-1405.13 1495.0001,-1415.13 1502.0001,-1415.13\"/>\n</g>\n<!-- 110 -->\n<g id=\"node111\" class=\"node\">\n<title>110</title>\n<path fill=\"#fbede3\" stroke=\"#000000\" d=\"M2153,-1405C2153,-1405 2046,-1405 2046,-1405 2040,-1405 2034,-1399 2034,-1393 2034,-1393 2034,-1349 2034,-1349 2034,-1343 2040,-1337 2046,-1337 2046,-1337 2153,-1337 2153,-1337 2159,-1337 2165,-1343 2165,-1349 2165,-1349 2165,-1393 2165,-1393 2165,-1399 2159,-1405 2153,-1405\"/>\n<text text-anchor=\"middle\" x=\"2099.5\" y=\"-1389.8\" font-family=\"Helvetica,sans-Serif\" font-size=\"14.00\" fill=\"#000000\">X[0] &lt;= 479.0</text>\n<text text-anchor=\"middle\" x=\"2099.5\" y=\"-1374.8\" font-family=\"Helvetica,sans-Serif\" font-size=\"14.00\" fill=\"#000000\">gini = 0.497</text>\n<text text-anchor=\"middle\" x=\"2099.5\" y=\"-1359.8\" font-family=\"Helvetica,sans-Serif\" font-size=\"14.00\" fill=\"#000000\">samples = 13</text>\n<text text-anchor=\"middle\" x=\"2099.5\" y=\"-1344.8\" font-family=\"Helvetica,sans-Serif\" font-size=\"14.00\" fill=\"#000000\">value = [7, 6, 0, 0]</text>\n</g>\n<!-- 26&#45;&gt;110 -->\n<g id=\"edge110\" class=\"edge\">\n<title>26&#45;&gt;110</title>\n<path fill=\"none\" stroke=\"#000000\" d=\"M1576.1468,-1461.5636C1691.9641,-1441.522 1908.6105,-1404.0325 2023.4771,-1384.1554\"/>\n<polygon fill=\"#000000\" stroke=\"#000000\" points=\"2024.337,-1387.5587 2033.5938,-1382.4047 2023.1434,-1380.6612 2024.337,-1387.5587\"/>\n</g>\n<!-- 28 -->\n<g id=\"node29\" class=\"node\">\n<title>28</title>\n<path fill=\"#9ef196\" stroke=\"#000000\" d=\"M1290,-1301C1290,-1301 1167,-1301 1167,-1301 1161,-1301 1155,-1295 1155,-1289 1155,-1289 1155,-1245 1155,-1245 1155,-1239 1161,-1233 1167,-1233 1167,-1233 1290,-1233 1290,-1233 1296,-1233 1302,-1239 1302,-1245 1302,-1245 1302,-1289 1302,-1289 1302,-1295 1296,-1301 1290,-1301\"/>\n<text text-anchor=\"middle\" x=\"1228.5\" y=\"-1285.8\" font-family=\"Helvetica,sans-Serif\" font-size=\"14.00\" fill=\"#000000\">X[0] &lt;= 642.5</text>\n<text text-anchor=\"middle\" x=\"1228.5\" y=\"-1270.8\" font-family=\"Helvetica,sans-Serif\" font-size=\"14.00\" fill=\"#000000\">gini = 0.435</text>\n<text text-anchor=\"middle\" x=\"1228.5\" y=\"-1255.8\" font-family=\"Helvetica,sans-Serif\" font-size=\"14.00\" fill=\"#000000\">samples = 50</text>\n<text text-anchor=\"middle\" x=\"1228.5\" y=\"-1240.8\" font-family=\"Helvetica,sans-Serif\" font-size=\"14.00\" fill=\"#000000\">value = [16, 34, 0, 0]</text>\n</g>\n<!-- 27&#45;&gt;28 -->\n<g id=\"edge28\" class=\"edge\">\n<title>27&#45;&gt;28</title>\n<path fill=\"none\" stroke=\"#000000\" d=\"M1420.767,-1341.0584C1386.7335,-1327.9492 1346.7393,-1312.544 1312.0672,-1299.1888\"/>\n<polygon fill=\"#000000\" stroke=\"#000000\" points=\"1313.0281,-1295.8084 1302.4384,-1295.48 1310.512,-1302.3405 1313.0281,-1295.8084\"/>\n</g>\n<!-- 69 -->\n<g id=\"node70\" class=\"node\">\n<title>69</title>\n<path fill=\"#5de850\" stroke=\"#000000\" d=\"M1726,-1301C1726,-1301 1603,-1301 1603,-1301 1597,-1301 1591,-1295 1591,-1289 1591,-1289 1591,-1245 1591,-1245 1591,-1239 1597,-1233 1603,-1233 1603,-1233 1726,-1233 1726,-1233 1732,-1233 1738,-1239 1738,-1245 1738,-1245 1738,-1289 1738,-1289 1738,-1295 1732,-1301 1726,-1301\"/>\n<text text-anchor=\"middle\" x=\"1664.5\" y=\"-1285.8\" font-family=\"Helvetica,sans-Serif\" font-size=\"14.00\" fill=\"#000000\">X[0] &lt;= 194.0</text>\n<text text-anchor=\"middle\" x=\"1664.5\" y=\"-1270.8\" font-family=\"Helvetica,sans-Serif\" font-size=\"14.00\" fill=\"#000000\">gini = 0.188</text>\n<text text-anchor=\"middle\" x=\"1664.5\" y=\"-1255.8\" font-family=\"Helvetica,sans-Serif\" font-size=\"14.00\" fill=\"#000000\">samples = 95</text>\n<text text-anchor=\"middle\" x=\"1664.5\" y=\"-1240.8\" font-family=\"Helvetica,sans-Serif\" font-size=\"14.00\" fill=\"#000000\">value = [10, 85, 0, 0]</text>\n</g>\n<!-- 27&#45;&gt;69 -->\n<g id=\"edge69\" class=\"edge\">\n<title>27&#45;&gt;69</title>\n<path fill=\"none\" stroke=\"#000000\" d=\"M1552.8546,-1336.9465C1568.3322,-1327.2497 1585.3246,-1316.6039 1601.2812,-1306.6069\"/>\n<polygon fill=\"#000000\" stroke=\"#000000\" points=\"1603.4072,-1309.4052 1610.0233,-1301.13 1599.6908,-1303.4732 1603.4072,-1309.4052\"/>\n</g>\n<!-- 29 -->\n<g id=\"node30\" class=\"node\">\n<title>29</title>\n<path fill=\"#baf5b5\" stroke=\"#000000\" d=\"M1028,-1197C1028,-1197 905,-1197 905,-1197 899,-1197 893,-1191 893,-1185 893,-1185 893,-1141 893,-1141 893,-1135 899,-1129 905,-1129 905,-1129 1028,-1129 1028,-1129 1034,-1129 1040,-1135 1040,-1141 1040,-1141 1040,-1185 1040,-1185 1040,-1191 1034,-1197 1028,-1197\"/>\n<text text-anchor=\"middle\" x=\"966.5\" y=\"-1181.8\" font-family=\"Helvetica,sans-Serif\" font-size=\"14.00\" fill=\"#000000\">X[0] &lt;= 327.5</text>\n<text text-anchor=\"middle\" x=\"966.5\" y=\"-1166.8\" font-family=\"Helvetica,sans-Serif\" font-size=\"14.00\" fill=\"#000000\">gini = 0.473</text>\n<text text-anchor=\"middle\" x=\"966.5\" y=\"-1151.8\" font-family=\"Helvetica,sans-Serif\" font-size=\"14.00\" fill=\"#000000\">samples = 39</text>\n<text text-anchor=\"middle\" x=\"966.5\" y=\"-1136.8\" font-family=\"Helvetica,sans-Serif\" font-size=\"14.00\" fill=\"#000000\">value = [15, 24, 0, 0]</text>\n</g>\n<!-- 28&#45;&gt;29 -->\n<g id=\"edge29\" class=\"edge\">\n<title>28&#45;&gt;29</title>\n<path fill=\"none\" stroke=\"#000000\" d=\"M1154.8212,-1237.7534C1122.033,-1224.7383 1083.2771,-1209.3543 1049.4733,-1195.936\"/>\n<polygon fill=\"#000000\" stroke=\"#000000\" points=\"1050.6652,-1192.6435 1040.0793,-1192.2071 1048.0825,-1199.1496 1050.6652,-1192.6435\"/>\n</g>\n<!-- 64 -->\n<g id=\"node65\" class=\"node\">\n<title>64</title>\n<path fill=\"#59e84d\" stroke=\"#000000\" d=\"M1286,-1197C1286,-1197 1171,-1197 1171,-1197 1165,-1197 1159,-1191 1159,-1185 1159,-1185 1159,-1141 1159,-1141 1159,-1135 1165,-1129 1171,-1129 1171,-1129 1286,-1129 1286,-1129 1292,-1129 1298,-1135 1298,-1141 1298,-1141 1298,-1185 1298,-1185 1298,-1191 1292,-1197 1286,-1197\"/>\n<text text-anchor=\"middle\" x=\"1228.5\" y=\"-1181.8\" font-family=\"Helvetica,sans-Serif\" font-size=\"14.00\" fill=\"#000000\">X[0] &lt;= 1168.5</text>\n<text text-anchor=\"middle\" x=\"1228.5\" y=\"-1166.8\" font-family=\"Helvetica,sans-Serif\" font-size=\"14.00\" fill=\"#000000\">gini = 0.165</text>\n<text text-anchor=\"middle\" x=\"1228.5\" y=\"-1151.8\" font-family=\"Helvetica,sans-Serif\" font-size=\"14.00\" fill=\"#000000\">samples = 11</text>\n<text text-anchor=\"middle\" x=\"1228.5\" y=\"-1136.8\" font-family=\"Helvetica,sans-Serif\" font-size=\"14.00\" fill=\"#000000\">value = [1, 10, 0, 0]</text>\n</g>\n<!-- 28&#45;&gt;64 -->\n<g id=\"edge64\" class=\"edge\">\n<title>28&#45;&gt;64</title>\n<path fill=\"none\" stroke=\"#000000\" d=\"M1228.5,-1232.9465C1228.5,-1224.776 1228.5,-1215.9318 1228.5,-1207.3697\"/>\n<polygon fill=\"#000000\" stroke=\"#000000\" points=\"1232.0001,-1207.13 1228.5,-1197.13 1225.0001,-1207.13 1232.0001,-1207.13\"/>\n</g>\n<!-- 30 -->\n<g id=\"node31\" class=\"node\">\n<title>30</title>\n<path fill=\"#8fef86\" stroke=\"#000000\" d=\"M797,-1093C797,-1093 682,-1093 682,-1093 676,-1093 670,-1087 670,-1081 670,-1081 670,-1037 670,-1037 670,-1031 676,-1025 682,-1025 682,-1025 797,-1025 797,-1025 803,-1025 809,-1031 809,-1037 809,-1037 809,-1081 809,-1081 809,-1087 803,-1093 797,-1093\"/>\n<text text-anchor=\"middle\" x=\"739.5\" y=\"-1077.8\" font-family=\"Helvetica,sans-Serif\" font-size=\"14.00\" fill=\"#000000\">X[1] &lt;= 20.5</text>\n<text text-anchor=\"middle\" x=\"739.5\" y=\"-1062.8\" font-family=\"Helvetica,sans-Serif\" font-size=\"14.00\" fill=\"#000000\">gini = 0.403</text>\n<text text-anchor=\"middle\" x=\"739.5\" y=\"-1047.8\" font-family=\"Helvetica,sans-Serif\" font-size=\"14.00\" fill=\"#000000\">samples = 25</text>\n<text text-anchor=\"middle\" x=\"739.5\" y=\"-1032.8\" font-family=\"Helvetica,sans-Serif\" font-size=\"14.00\" fill=\"#000000\">value = [7, 18, 0, 0]</text>\n</g>\n<!-- 29&#45;&gt;30 -->\n<g id=\"edge30\" class=\"edge\">\n<title>29&#45;&gt;30</title>\n<path fill=\"none\" stroke=\"#000000\" d=\"M892.7996,-1129.2342C869.0375,-1118.3476 842.6105,-1106.2401 818.4834,-1095.1862\"/>\n<polygon fill=\"#000000\" stroke=\"#000000\" points=\"819.9084,-1091.9893 809.3593,-1091.006 816.9928,-1098.3532 819.9084,-1091.9893\"/>\n</g>\n<!-- 51 -->\n<g id=\"node52\" class=\"node\">\n<title>51</title>\n<path fill=\"#f8e0ce\" stroke=\"#000000\" d=\"M1020,-1093C1020,-1093 913,-1093 913,-1093 907,-1093 901,-1087 901,-1081 901,-1081 901,-1037 901,-1037 901,-1031 907,-1025 913,-1025 913,-1025 1020,-1025 1020,-1025 1026,-1025 1032,-1031 1032,-1037 1032,-1037 1032,-1081 1032,-1081 1032,-1087 1026,-1093 1020,-1093\"/>\n<text text-anchor=\"middle\" x=\"966.5\" y=\"-1077.8\" font-family=\"Helvetica,sans-Serif\" font-size=\"14.00\" fill=\"#000000\">X[0] &lt;= 331.5</text>\n<text text-anchor=\"middle\" x=\"966.5\" y=\"-1062.8\" font-family=\"Helvetica,sans-Serif\" font-size=\"14.00\" fill=\"#000000\">gini = 0.49</text>\n<text text-anchor=\"middle\" x=\"966.5\" y=\"-1047.8\" font-family=\"Helvetica,sans-Serif\" font-size=\"14.00\" fill=\"#000000\">samples = 14</text>\n<text text-anchor=\"middle\" x=\"966.5\" y=\"-1032.8\" font-family=\"Helvetica,sans-Serif\" font-size=\"14.00\" fill=\"#000000\">value = [8, 6, 0, 0]</text>\n</g>\n<!-- 29&#45;&gt;51 -->\n<g id=\"edge51\" class=\"edge\">\n<title>29&#45;&gt;51</title>\n<path fill=\"none\" stroke=\"#000000\" d=\"M966.5,-1128.9465C966.5,-1120.776 966.5,-1111.9318 966.5,-1103.3697\"/>\n<polygon fill=\"#000000\" stroke=\"#000000\" points=\"970.0001,-1103.13 966.5,-1093.13 963.0001,-1103.13 970.0001,-1103.13\"/>\n</g>\n<!-- 31 -->\n<g id=\"node32\" class=\"node\">\n<title>31</title>\n<path fill=\"#e58139\" stroke=\"#000000\" d=\"M640,-981.5C640,-981.5 533,-981.5 533,-981.5 527,-981.5 521,-975.5 521,-969.5 521,-969.5 521,-940.5 521,-940.5 521,-934.5 527,-928.5 533,-928.5 533,-928.5 640,-928.5 640,-928.5 646,-928.5 652,-934.5 652,-940.5 652,-940.5 652,-969.5 652,-969.5 652,-975.5 646,-981.5 640,-981.5\"/>\n<text text-anchor=\"middle\" x=\"586.5\" y=\"-966.3\" font-family=\"Helvetica,sans-Serif\" font-size=\"14.00\" fill=\"#000000\">gini = 0.0</text>\n<text text-anchor=\"middle\" x=\"586.5\" y=\"-951.3\" font-family=\"Helvetica,sans-Serif\" font-size=\"14.00\" fill=\"#000000\">samples = 1</text>\n<text text-anchor=\"middle\" x=\"586.5\" y=\"-936.3\" font-family=\"Helvetica,sans-Serif\" font-size=\"14.00\" fill=\"#000000\">value = [1, 0, 0, 0]</text>\n</g>\n<!-- 30&#45;&gt;31 -->\n<g id=\"edge31\" class=\"edge\">\n<title>30&#45;&gt;31</title>\n<path fill=\"none\" stroke=\"#000000\" d=\"M689.4021,-1024.9465C671.577,-1012.8301 651.5721,-999.232 633.9735,-987.2696\"/>\n<polygon fill=\"#000000\" stroke=\"#000000\" points=\"635.7855,-984.2692 625.5476,-981.5422 631.8503,-990.0584 635.7855,-984.2692\"/>\n</g>\n<!-- 32 -->\n<g id=\"node33\" class=\"node\">\n<title>32</title>\n<path fill=\"#84ee7b\" stroke=\"#000000\" d=\"M797,-989C797,-989 682,-989 682,-989 676,-989 670,-983 670,-977 670,-977 670,-933 670,-933 670,-927 676,-921 682,-921 682,-921 797,-921 797,-921 803,-921 809,-927 809,-933 809,-933 809,-977 809,-977 809,-983 803,-989 797,-989\"/>\n<text text-anchor=\"middle\" x=\"739.5\" y=\"-973.8\" font-family=\"Helvetica,sans-Serif\" font-size=\"14.00\" fill=\"#000000\">X[1] &lt;= 24.5</text>\n<text text-anchor=\"middle\" x=\"739.5\" y=\"-958.8\" font-family=\"Helvetica,sans-Serif\" font-size=\"14.00\" fill=\"#000000\">gini = 0.375</text>\n<text text-anchor=\"middle\" x=\"739.5\" y=\"-943.8\" font-family=\"Helvetica,sans-Serif\" font-size=\"14.00\" fill=\"#000000\">samples = 24</text>\n<text text-anchor=\"middle\" x=\"739.5\" y=\"-928.8\" font-family=\"Helvetica,sans-Serif\" font-size=\"14.00\" fill=\"#000000\">value = [6, 18, 0, 0]</text>\n</g>\n<!-- 30&#45;&gt;32 -->\n<g id=\"edge32\" class=\"edge\">\n<title>30&#45;&gt;32</title>\n<path fill=\"none\" stroke=\"#000000\" d=\"M739.5,-1024.9465C739.5,-1016.776 739.5,-1007.9318 739.5,-999.3697\"/>\n<polygon fill=\"#000000\" stroke=\"#000000\" points=\"743.0001,-999.13 739.5,-989.13 736.0001,-999.13 743.0001,-999.13\"/>\n</g>\n<!-- 33 -->\n<g id=\"node34\" class=\"node\">\n<title>33</title>\n<path fill=\"#96f08e\" stroke=\"#000000\" d=\"M797,-885C797,-885 682,-885 682,-885 676,-885 670,-879 670,-873 670,-873 670,-829 670,-829 670,-823 676,-817 682,-817 682,-817 797,-817 797,-817 803,-817 809,-823 809,-829 809,-829 809,-873 809,-873 809,-879 803,-885 797,-885\"/>\n<text text-anchor=\"middle\" x=\"739.5\" y=\"-869.8\" font-family=\"Helvetica,sans-Serif\" font-size=\"14.00\" fill=\"#000000\">X[0] &lt;= 139.0</text>\n<text text-anchor=\"middle\" x=\"739.5\" y=\"-854.8\" font-family=\"Helvetica,sans-Serif\" font-size=\"14.00\" fill=\"#000000\">gini = 0.42</text>\n<text text-anchor=\"middle\" x=\"739.5\" y=\"-839.8\" font-family=\"Helvetica,sans-Serif\" font-size=\"14.00\" fill=\"#000000\">samples = 20</text>\n<text text-anchor=\"middle\" x=\"739.5\" y=\"-824.8\" font-family=\"Helvetica,sans-Serif\" font-size=\"14.00\" fill=\"#000000\">value = [6, 14, 0, 0]</text>\n</g>\n<!-- 32&#45;&gt;33 -->\n<g id=\"edge33\" class=\"edge\">\n<title>32&#45;&gt;33</title>\n<path fill=\"none\" stroke=\"#000000\" d=\"M739.5,-920.9465C739.5,-912.776 739.5,-903.9318 739.5,-895.3697\"/>\n<polygon fill=\"#000000\" stroke=\"#000000\" points=\"743.0001,-895.13 739.5,-885.13 736.0001,-895.13 743.0001,-895.13\"/>\n</g>\n<!-- 50 -->\n<g id=\"node51\" class=\"node\">\n<title>50</title>\n<path fill=\"#47e539\" stroke=\"#000000\" d=\"M946,-877.5C946,-877.5 839,-877.5 839,-877.5 833,-877.5 827,-871.5 827,-865.5 827,-865.5 827,-836.5 827,-836.5 827,-830.5 833,-824.5 839,-824.5 839,-824.5 946,-824.5 946,-824.5 952,-824.5 958,-830.5 958,-836.5 958,-836.5 958,-865.5 958,-865.5 958,-871.5 952,-877.5 946,-877.5\"/>\n<text text-anchor=\"middle\" x=\"892.5\" y=\"-862.3\" font-family=\"Helvetica,sans-Serif\" font-size=\"14.00\" fill=\"#000000\">gini = 0.0</text>\n<text text-anchor=\"middle\" x=\"892.5\" y=\"-847.3\" font-family=\"Helvetica,sans-Serif\" font-size=\"14.00\" fill=\"#000000\">samples = 4</text>\n<text text-anchor=\"middle\" x=\"892.5\" y=\"-832.3\" font-family=\"Helvetica,sans-Serif\" font-size=\"14.00\" fill=\"#000000\">value = [0, 4, 0, 0]</text>\n</g>\n<!-- 32&#45;&gt;50 -->\n<g id=\"edge50\" class=\"edge\">\n<title>32&#45;&gt;50</title>\n<path fill=\"none\" stroke=\"#000000\" d=\"M789.5979,-920.9465C807.423,-908.8301 827.4279,-895.232 845.0265,-883.2696\"/>\n<polygon fill=\"#000000\" stroke=\"#000000\" points=\"847.1497,-886.0584 853.4524,-877.5422 843.2145,-880.2692 847.1497,-886.0584\"/>\n</g>\n<!-- 34 -->\n<g id=\"node35\" class=\"node\">\n<title>34</title>\n<path fill=\"#47e539\" stroke=\"#000000\" d=\"M792,-773.5C792,-773.5 685,-773.5 685,-773.5 679,-773.5 673,-767.5 673,-761.5 673,-761.5 673,-732.5 673,-732.5 673,-726.5 679,-720.5 685,-720.5 685,-720.5 792,-720.5 792,-720.5 798,-720.5 804,-726.5 804,-732.5 804,-732.5 804,-761.5 804,-761.5 804,-767.5 798,-773.5 792,-773.5\"/>\n<text text-anchor=\"middle\" x=\"738.5\" y=\"-758.3\" font-family=\"Helvetica,sans-Serif\" font-size=\"14.00\" fill=\"#000000\">gini = 0.0</text>\n<text text-anchor=\"middle\" x=\"738.5\" y=\"-743.3\" font-family=\"Helvetica,sans-Serif\" font-size=\"14.00\" fill=\"#000000\">samples = 4</text>\n<text text-anchor=\"middle\" x=\"738.5\" y=\"-728.3\" font-family=\"Helvetica,sans-Serif\" font-size=\"14.00\" fill=\"#000000\">value = [0, 4, 0, 0]</text>\n</g>\n<!-- 33&#45;&gt;34 -->\n<g id=\"edge34\" class=\"edge\">\n<title>33&#45;&gt;34</title>\n<path fill=\"none\" stroke=\"#000000\" d=\"M739.1726,-816.9465C739.0698,-806.2621 738.956,-794.4254 738.8517,-783.5742\"/>\n<polygon fill=\"#000000\" stroke=\"#000000\" points=\"742.3513,-783.508 738.7552,-773.5422 735.3516,-783.5754 742.3513,-783.508\"/>\n</g>\n<!-- 35 -->\n<g id=\"node36\" class=\"node\">\n<title>35</title>\n<path fill=\"#b5f5b0\" stroke=\"#000000\" d=\"M949,-781C949,-781 834,-781 834,-781 828,-781 822,-775 822,-769 822,-769 822,-725 822,-725 822,-719 828,-713 834,-713 834,-713 949,-713 949,-713 955,-713 961,-719 961,-725 961,-725 961,-769 961,-769 961,-775 955,-781 949,-781\"/>\n<text text-anchor=\"middle\" x=\"891.5\" y=\"-765.8\" font-family=\"Helvetica,sans-Serif\" font-size=\"14.00\" fill=\"#000000\">X[0] &lt;= 275.0</text>\n<text text-anchor=\"middle\" x=\"891.5\" y=\"-750.8\" font-family=\"Helvetica,sans-Serif\" font-size=\"14.00\" fill=\"#000000\">gini = 0.469</text>\n<text text-anchor=\"middle\" x=\"891.5\" y=\"-735.8\" font-family=\"Helvetica,sans-Serif\" font-size=\"14.00\" fill=\"#000000\">samples = 16</text>\n<text text-anchor=\"middle\" x=\"891.5\" y=\"-720.8\" font-family=\"Helvetica,sans-Serif\" font-size=\"14.00\" fill=\"#000000\">value = [6, 10, 0, 0]</text>\n</g>\n<!-- 33&#45;&gt;35 -->\n<g id=\"edge35\" class=\"edge\">\n<title>33&#45;&gt;35</title>\n<path fill=\"none\" stroke=\"#000000\" d=\"M789.2705,-816.9465C803.3115,-807.3395 818.714,-796.8009 833.2068,-786.8848\"/>\n<polygon fill=\"#000000\" stroke=\"#000000\" points=\"835.341,-789.6655 841.6177,-781.13 831.3882,-783.8883 835.341,-789.6655\"/>\n</g>\n<!-- 36 -->\n<g id=\"node37\" class=\"node\">\n<title>36</title>\n<path fill=\"#e5fbe3\" stroke=\"#000000\" d=\"M873,-677C873,-677 766,-677 766,-677 760,-677 754,-671 754,-665 754,-665 754,-621 754,-621 754,-615 760,-609 766,-609 766,-609 873,-609 873,-609 879,-609 885,-615 885,-621 885,-621 885,-665 885,-665 885,-671 879,-677 873,-677\"/>\n<text text-anchor=\"middle\" x=\"819.5\" y=\"-661.8\" font-family=\"Helvetica,sans-Serif\" font-size=\"14.00\" fill=\"#000000\">X[0] &lt;= 237.5</text>\n<text text-anchor=\"middle\" x=\"819.5\" y=\"-646.8\" font-family=\"Helvetica,sans-Serif\" font-size=\"14.00\" fill=\"#000000\">gini = 0.497</text>\n<text text-anchor=\"middle\" x=\"819.5\" y=\"-631.8\" font-family=\"Helvetica,sans-Serif\" font-size=\"14.00\" fill=\"#000000\">samples = 13</text>\n<text text-anchor=\"middle\" x=\"819.5\" y=\"-616.8\" font-family=\"Helvetica,sans-Serif\" font-size=\"14.00\" fill=\"#000000\">value = [6, 7, 0, 0]</text>\n</g>\n<!-- 35&#45;&gt;36 -->\n<g id=\"edge36\" class=\"edge\">\n<title>35&#45;&gt;36</title>\n<path fill=\"none\" stroke=\"#000000\" d=\"M867.9245,-712.9465C861.8329,-704.1475 855.2004,-694.5672 848.8534,-685.3993\"/>\n<polygon fill=\"#000000\" stroke=\"#000000\" points=\"851.6983,-683.3597 843.1285,-677.13 845.9429,-687.3442 851.6983,-683.3597\"/>\n</g>\n<!-- 49 -->\n<g id=\"node50\" class=\"node\">\n<title>49</title>\n<path fill=\"#47e539\" stroke=\"#000000\" d=\"M1022,-669.5C1022,-669.5 915,-669.5 915,-669.5 909,-669.5 903,-663.5 903,-657.5 903,-657.5 903,-628.5 903,-628.5 903,-622.5 909,-616.5 915,-616.5 915,-616.5 1022,-616.5 1022,-616.5 1028,-616.5 1034,-622.5 1034,-628.5 1034,-628.5 1034,-657.5 1034,-657.5 1034,-663.5 1028,-669.5 1022,-669.5\"/>\n<text text-anchor=\"middle\" x=\"968.5\" y=\"-654.3\" font-family=\"Helvetica,sans-Serif\" font-size=\"14.00\" fill=\"#000000\">gini = 0.0</text>\n<text text-anchor=\"middle\" x=\"968.5\" y=\"-639.3\" font-family=\"Helvetica,sans-Serif\" font-size=\"14.00\" fill=\"#000000\">samples = 3</text>\n<text text-anchor=\"middle\" x=\"968.5\" y=\"-624.3\" font-family=\"Helvetica,sans-Serif\" font-size=\"14.00\" fill=\"#000000\">value = [0, 3, 0, 0]</text>\n</g>\n<!-- 35&#45;&gt;49 -->\n<g id=\"edge49\" class=\"edge\">\n<title>35&#45;&gt;49</title>\n<path fill=\"none\" stroke=\"#000000\" d=\"M916.7127,-712.9465C925.0311,-701.7113 934.2927,-689.2021 942.6574,-677.9043\"/>\n<polygon fill=\"#000000\" stroke=\"#000000\" points=\"945.7111,-679.6618 948.8486,-669.5422 940.0852,-675.4965 945.7111,-679.6618\"/>\n</g>\n<!-- 37 -->\n<g id=\"node38\" class=\"node\">\n<title>37</title>\n<path fill=\"#b0f4aa\" stroke=\"#000000\" d=\"M803,-573C803,-573 696,-573 696,-573 690,-573 684,-567 684,-561 684,-561 684,-517 684,-517 684,-511 690,-505 696,-505 696,-505 803,-505 803,-505 809,-505 815,-511 815,-517 815,-517 815,-561 815,-561 815,-567 809,-573 803,-573\"/>\n<text text-anchor=\"middle\" x=\"749.5\" y=\"-557.8\" font-family=\"Helvetica,sans-Serif\" font-size=\"14.00\" fill=\"#000000\">X[1] &lt;= 22.5</text>\n<text text-anchor=\"middle\" x=\"749.5\" y=\"-542.8\" font-family=\"Helvetica,sans-Serif\" font-size=\"14.00\" fill=\"#000000\">gini = 0.463</text>\n<text text-anchor=\"middle\" x=\"749.5\" y=\"-527.8\" font-family=\"Helvetica,sans-Serif\" font-size=\"14.00\" fill=\"#000000\">samples = 11</text>\n<text text-anchor=\"middle\" x=\"749.5\" y=\"-512.8\" font-family=\"Helvetica,sans-Serif\" font-size=\"14.00\" fill=\"#000000\">value = [4, 7, 0, 0]</text>\n</g>\n<!-- 36&#45;&gt;37 -->\n<g id=\"edge37\" class=\"edge\">\n<title>36&#45;&gt;37</title>\n<path fill=\"none\" stroke=\"#000000\" d=\"M796.5794,-608.9465C790.7174,-600.2373 784.3402,-590.7626 778.227,-581.6801\"/>\n<polygon fill=\"#000000\" stroke=\"#000000\" points=\"780.9595,-579.4716 772.4721,-573.13 775.1524,-583.3802 780.9595,-579.4716\"/>\n</g>\n<!-- 48 -->\n<g id=\"node49\" class=\"node\">\n<title>48</title>\n<path fill=\"#e58139\" stroke=\"#000000\" d=\"M952,-565.5C952,-565.5 845,-565.5 845,-565.5 839,-565.5 833,-559.5 833,-553.5 833,-553.5 833,-524.5 833,-524.5 833,-518.5 839,-512.5 845,-512.5 845,-512.5 952,-512.5 952,-512.5 958,-512.5 964,-518.5 964,-524.5 964,-524.5 964,-553.5 964,-553.5 964,-559.5 958,-565.5 952,-565.5\"/>\n<text text-anchor=\"middle\" x=\"898.5\" y=\"-550.3\" font-family=\"Helvetica,sans-Serif\" font-size=\"14.00\" fill=\"#000000\">gini = 0.0</text>\n<text text-anchor=\"middle\" x=\"898.5\" y=\"-535.3\" font-family=\"Helvetica,sans-Serif\" font-size=\"14.00\" fill=\"#000000\">samples = 2</text>\n<text text-anchor=\"middle\" x=\"898.5\" y=\"-520.3\" font-family=\"Helvetica,sans-Serif\" font-size=\"14.00\" fill=\"#000000\">value = [2, 0, 0, 0]</text>\n</g>\n<!-- 36&#45;&gt;48 -->\n<g id=\"edge48\" class=\"edge\">\n<title>36&#45;&gt;48</title>\n<path fill=\"none\" stroke=\"#000000\" d=\"M845.3676,-608.9465C853.9857,-597.6012 863.5906,-584.9567 872.2383,-573.5724\"/>\n<polygon fill=\"#000000\" stroke=\"#000000\" points=\"875.0763,-575.6224 878.3382,-565.5422 869.5021,-571.3882 875.0763,-575.6224\"/>\n</g>\n<!-- 38 -->\n<g id=\"node39\" class=\"node\">\n<title>38</title>\n<path fill=\"#47e539\" stroke=\"#000000\" d=\"M729,-461.5C729,-461.5 622,-461.5 622,-461.5 616,-461.5 610,-455.5 610,-449.5 610,-449.5 610,-420.5 610,-420.5 610,-414.5 616,-408.5 622,-408.5 622,-408.5 729,-408.5 729,-408.5 735,-408.5 741,-414.5 741,-420.5 741,-420.5 741,-449.5 741,-449.5 741,-455.5 735,-461.5 729,-461.5\"/>\n<text text-anchor=\"middle\" x=\"675.5\" y=\"-446.3\" font-family=\"Helvetica,sans-Serif\" font-size=\"14.00\" fill=\"#000000\">gini = 0.0</text>\n<text text-anchor=\"middle\" x=\"675.5\" y=\"-431.3\" font-family=\"Helvetica,sans-Serif\" font-size=\"14.00\" fill=\"#000000\">samples = 3</text>\n<text text-anchor=\"middle\" x=\"675.5\" y=\"-416.3\" font-family=\"Helvetica,sans-Serif\" font-size=\"14.00\" fill=\"#000000\">value = [0, 3, 0, 0]</text>\n</g>\n<!-- 37&#45;&gt;38 -->\n<g id=\"edge38\" class=\"edge\">\n<title>37&#45;&gt;38</title>\n<path fill=\"none\" stroke=\"#000000\" d=\"M725.2696,-504.9465C717.2754,-493.7113 708.3746,-481.2021 700.3358,-469.9043\"/>\n<polygon fill=\"#000000\" stroke=\"#000000\" points=\"703.0351,-467.6609 694.3858,-461.5422 697.3316,-471.7192 703.0351,-467.6609\"/>\n</g>\n<!-- 39 -->\n<g id=\"node40\" class=\"node\">\n<title>39</title>\n<path fill=\"#ffffff\" stroke=\"#000000\" d=\"M878,-469C878,-469 771,-469 771,-469 765,-469 759,-463 759,-457 759,-457 759,-413 759,-413 759,-407 765,-401 771,-401 771,-401 878,-401 878,-401 884,-401 890,-407 890,-413 890,-413 890,-457 890,-457 890,-463 884,-469 878,-469\"/>\n<text text-anchor=\"middle\" x=\"824.5\" y=\"-453.8\" font-family=\"Helvetica,sans-Serif\" font-size=\"14.00\" fill=\"#000000\">X[0] &lt;= 159.0</text>\n<text text-anchor=\"middle\" x=\"824.5\" y=\"-438.8\" font-family=\"Helvetica,sans-Serif\" font-size=\"14.00\" fill=\"#000000\">gini = 0.5</text>\n<text text-anchor=\"middle\" x=\"824.5\" y=\"-423.8\" font-family=\"Helvetica,sans-Serif\" font-size=\"14.00\" fill=\"#000000\">samples = 8</text>\n<text text-anchor=\"middle\" x=\"824.5\" y=\"-408.8\" font-family=\"Helvetica,sans-Serif\" font-size=\"14.00\" fill=\"#000000\">value = [4, 4, 0, 0]</text>\n</g>\n<!-- 37&#45;&gt;39 -->\n<g id=\"edge39\" class=\"edge\">\n<title>37&#45;&gt;39</title>\n<path fill=\"none\" stroke=\"#000000\" d=\"M774.0578,-504.9465C780.4032,-496.1475 787.3121,-486.5672 793.9236,-477.3993\"/>\n<polygon fill=\"#000000\" stroke=\"#000000\" points=\"796.8766,-479.2882 799.887,-469.13 791.1989,-475.1937 796.8766,-479.2882\"/>\n</g>\n<!-- 40 -->\n<g id=\"node41\" class=\"node\">\n<title>40</title>\n<path fill=\"#e58139\" stroke=\"#000000\" d=\"M804,-357.5C804,-357.5 697,-357.5 697,-357.5 691,-357.5 685,-351.5 685,-345.5 685,-345.5 685,-316.5 685,-316.5 685,-310.5 691,-304.5 697,-304.5 697,-304.5 804,-304.5 804,-304.5 810,-304.5 816,-310.5 816,-316.5 816,-316.5 816,-345.5 816,-345.5 816,-351.5 810,-357.5 804,-357.5\"/>\n<text text-anchor=\"middle\" x=\"750.5\" y=\"-342.3\" font-family=\"Helvetica,sans-Serif\" font-size=\"14.00\" fill=\"#000000\">gini = 0.0</text>\n<text text-anchor=\"middle\" x=\"750.5\" y=\"-327.3\" font-family=\"Helvetica,sans-Serif\" font-size=\"14.00\" fill=\"#000000\">samples = 1</text>\n<text text-anchor=\"middle\" x=\"750.5\" y=\"-312.3\" font-family=\"Helvetica,sans-Serif\" font-size=\"14.00\" fill=\"#000000\">value = [1, 0, 0, 0]</text>\n</g>\n<!-- 39&#45;&gt;40 -->\n<g id=\"edge40\" class=\"edge\">\n<title>39&#45;&gt;40</title>\n<path fill=\"none\" stroke=\"#000000\" d=\"M800.2696,-400.9465C792.2754,-389.7113 783.3746,-377.2021 775.3358,-365.9043\"/>\n<polygon fill=\"#000000\" stroke=\"#000000\" points=\"778.0351,-363.6609 769.3858,-357.5422 772.3316,-367.7192 778.0351,-363.6609\"/>\n</g>\n<!-- 41 -->\n<g id=\"node42\" class=\"node\">\n<title>41</title>\n<path fill=\"#d1f8ce\" stroke=\"#000000\" d=\"M953,-365C953,-365 846,-365 846,-365 840,-365 834,-359 834,-353 834,-353 834,-309 834,-309 834,-303 840,-297 846,-297 846,-297 953,-297 953,-297 959,-297 965,-303 965,-309 965,-309 965,-353 965,-353 965,-359 959,-365 953,-365\"/>\n<text text-anchor=\"middle\" x=\"899.5\" y=\"-349.8\" font-family=\"Helvetica,sans-Serif\" font-size=\"14.00\" fill=\"#000000\">X[0] &lt;= 181.5</text>\n<text text-anchor=\"middle\" x=\"899.5\" y=\"-334.8\" font-family=\"Helvetica,sans-Serif\" font-size=\"14.00\" fill=\"#000000\">gini = 0.49</text>\n<text text-anchor=\"middle\" x=\"899.5\" y=\"-319.8\" font-family=\"Helvetica,sans-Serif\" font-size=\"14.00\" fill=\"#000000\">samples = 7</text>\n<text text-anchor=\"middle\" x=\"899.5\" y=\"-304.8\" font-family=\"Helvetica,sans-Serif\" font-size=\"14.00\" fill=\"#000000\">value = [3, 4, 0, 0]</text>\n</g>\n<!-- 39&#45;&gt;41 -->\n<g id=\"edge41\" class=\"edge\">\n<title>39&#45;&gt;41</title>\n<path fill=\"none\" stroke=\"#000000\" d=\"M849.0578,-400.9465C855.4032,-392.1475 862.3121,-382.5672 868.9236,-373.3993\"/>\n<polygon fill=\"#000000\" stroke=\"#000000\" points=\"871.8766,-375.2882 874.887,-365.13 866.1989,-371.1937 871.8766,-375.2882\"/>\n</g>\n<!-- 42 -->\n<g id=\"node43\" class=\"node\">\n<title>42</title>\n<path fill=\"#47e539\" stroke=\"#000000\" d=\"M878,-253.5C878,-253.5 771,-253.5 771,-253.5 765,-253.5 759,-247.5 759,-241.5 759,-241.5 759,-212.5 759,-212.5 759,-206.5 765,-200.5 771,-200.5 771,-200.5 878,-200.5 878,-200.5 884,-200.5 890,-206.5 890,-212.5 890,-212.5 890,-241.5 890,-241.5 890,-247.5 884,-253.5 878,-253.5\"/>\n<text text-anchor=\"middle\" x=\"824.5\" y=\"-238.3\" font-family=\"Helvetica,sans-Serif\" font-size=\"14.00\" fill=\"#000000\">gini = 0.0</text>\n<text text-anchor=\"middle\" x=\"824.5\" y=\"-223.3\" font-family=\"Helvetica,sans-Serif\" font-size=\"14.00\" fill=\"#000000\">samples = 2</text>\n<text text-anchor=\"middle\" x=\"824.5\" y=\"-208.3\" font-family=\"Helvetica,sans-Serif\" font-size=\"14.00\" fill=\"#000000\">value = [0, 2, 0, 0]</text>\n</g>\n<!-- 41&#45;&gt;42 -->\n<g id=\"edge42\" class=\"edge\">\n<title>41&#45;&gt;42</title>\n<path fill=\"none\" stroke=\"#000000\" d=\"M874.9422,-296.9465C866.8399,-285.7113 857.8188,-273.2021 849.6714,-261.9043\"/>\n<polygon fill=\"#000000\" stroke=\"#000000\" points=\"852.3291,-259.6058 843.641,-253.5422 846.6514,-263.7003 852.3291,-259.6058\"/>\n</g>\n<!-- 43 -->\n<g id=\"node44\" class=\"node\">\n<title>43</title>\n<path fill=\"#f6d5bd\" stroke=\"#000000\" d=\"M1027,-261C1027,-261 920,-261 920,-261 914,-261 908,-255 908,-249 908,-249 908,-205 908,-205 908,-199 914,-193 920,-193 920,-193 1027,-193 1027,-193 1033,-193 1039,-199 1039,-205 1039,-205 1039,-249 1039,-249 1039,-255 1033,-261 1027,-261\"/>\n<text text-anchor=\"middle\" x=\"973.5\" y=\"-245.8\" font-family=\"Helvetica,sans-Serif\" font-size=\"14.00\" fill=\"#000000\">X[0] &lt;= 194.0</text>\n<text text-anchor=\"middle\" x=\"973.5\" y=\"-230.8\" font-family=\"Helvetica,sans-Serif\" font-size=\"14.00\" fill=\"#000000\">gini = 0.48</text>\n<text text-anchor=\"middle\" x=\"973.5\" y=\"-215.8\" font-family=\"Helvetica,sans-Serif\" font-size=\"14.00\" fill=\"#000000\">samples = 5</text>\n<text text-anchor=\"middle\" x=\"973.5\" y=\"-200.8\" font-family=\"Helvetica,sans-Serif\" font-size=\"14.00\" fill=\"#000000\">value = [3, 2, 0, 0]</text>\n</g>\n<!-- 41&#45;&gt;43 -->\n<g id=\"edge43\" class=\"edge\">\n<title>41&#45;&gt;43</title>\n<path fill=\"none\" stroke=\"#000000\" d=\"M923.7304,-296.9465C929.9912,-288.1475 936.808,-278.5672 943.3313,-269.3993\"/>\n<polygon fill=\"#000000\" stroke=\"#000000\" points=\"946.2694,-271.3071 949.2152,-261.13 940.5658,-267.2488 946.2694,-271.3071\"/>\n</g>\n<!-- 44 -->\n<g id=\"node45\" class=\"node\">\n<title>44</title>\n<path fill=\"#e58139\" stroke=\"#000000\" d=\"M952,-149.5C952,-149.5 845,-149.5 845,-149.5 839,-149.5 833,-143.5 833,-137.5 833,-137.5 833,-108.5 833,-108.5 833,-102.5 839,-96.5 845,-96.5 845,-96.5 952,-96.5 952,-96.5 958,-96.5 964,-102.5 964,-108.5 964,-108.5 964,-137.5 964,-137.5 964,-143.5 958,-149.5 952,-149.5\"/>\n<text text-anchor=\"middle\" x=\"898.5\" y=\"-134.3\" font-family=\"Helvetica,sans-Serif\" font-size=\"14.00\" fill=\"#000000\">gini = 0.0</text>\n<text text-anchor=\"middle\" x=\"898.5\" y=\"-119.3\" font-family=\"Helvetica,sans-Serif\" font-size=\"14.00\" fill=\"#000000\">samples = 2</text>\n<text text-anchor=\"middle\" x=\"898.5\" y=\"-104.3\" font-family=\"Helvetica,sans-Serif\" font-size=\"14.00\" fill=\"#000000\">value = [2, 0, 0, 0]</text>\n</g>\n<!-- 43&#45;&gt;44 -->\n<g id=\"edge44\" class=\"edge\">\n<title>43&#45;&gt;44</title>\n<path fill=\"none\" stroke=\"#000000\" d=\"M948.9422,-192.9465C940.8399,-181.7113 931.8188,-169.2021 923.6714,-157.9043\"/>\n<polygon fill=\"#000000\" stroke=\"#000000\" points=\"926.3291,-155.6058 917.641,-149.5422 920.6514,-159.7003 926.3291,-155.6058\"/>\n</g>\n<!-- 45 -->\n<g id=\"node46\" class=\"node\">\n<title>45</title>\n<path fill=\"#a3f29c\" stroke=\"#000000\" d=\"M1101,-157C1101,-157 994,-157 994,-157 988,-157 982,-151 982,-145 982,-145 982,-101 982,-101 982,-95 988,-89 994,-89 994,-89 1101,-89 1101,-89 1107,-89 1113,-95 1113,-101 1113,-101 1113,-145 1113,-145 1113,-151 1107,-157 1101,-157\"/>\n<text text-anchor=\"middle\" x=\"1047.5\" y=\"-141.8\" font-family=\"Helvetica,sans-Serif\" font-size=\"14.00\" fill=\"#000000\">X[0] &lt;= 207.5</text>\n<text text-anchor=\"middle\" x=\"1047.5\" y=\"-126.8\" font-family=\"Helvetica,sans-Serif\" font-size=\"14.00\" fill=\"#000000\">gini = 0.444</text>\n<text text-anchor=\"middle\" x=\"1047.5\" y=\"-111.8\" font-family=\"Helvetica,sans-Serif\" font-size=\"14.00\" fill=\"#000000\">samples = 3</text>\n<text text-anchor=\"middle\" x=\"1047.5\" y=\"-96.8\" font-family=\"Helvetica,sans-Serif\" font-size=\"14.00\" fill=\"#000000\">value = [1, 2, 0, 0]</text>\n</g>\n<!-- 43&#45;&gt;45 -->\n<g id=\"edge45\" class=\"edge\">\n<title>43&#45;&gt;45</title>\n<path fill=\"none\" stroke=\"#000000\" d=\"M997.7304,-192.9465C1003.9912,-184.1475 1010.808,-174.5672 1017.3313,-165.3993\"/>\n<polygon fill=\"#000000\" stroke=\"#000000\" points=\"1020.2694,-167.3071 1023.2152,-157.13 1014.5658,-163.2488 1020.2694,-167.3071\"/>\n</g>\n<!-- 46 -->\n<g id=\"node47\" class=\"node\">\n<title>46</title>\n<path fill=\"#47e539\" stroke=\"#000000\" d=\"M1026,-53C1026,-53 919,-53 919,-53 913,-53 907,-47 907,-41 907,-41 907,-12 907,-12 907,-6 913,0 919,0 919,0 1026,0 1026,0 1032,0 1038,-6 1038,-12 1038,-12 1038,-41 1038,-41 1038,-47 1032,-53 1026,-53\"/>\n<text text-anchor=\"middle\" x=\"972.5\" y=\"-37.8\" font-family=\"Helvetica,sans-Serif\" font-size=\"14.00\" fill=\"#000000\">gini = 0.0</text>\n<text text-anchor=\"middle\" x=\"972.5\" y=\"-22.8\" font-family=\"Helvetica,sans-Serif\" font-size=\"14.00\" fill=\"#000000\">samples = 2</text>\n<text text-anchor=\"middle\" x=\"972.5\" y=\"-7.8\" font-family=\"Helvetica,sans-Serif\" font-size=\"14.00\" fill=\"#000000\">value = [0, 2, 0, 0]</text>\n</g>\n<!-- 45&#45;&gt;46 -->\n<g id=\"edge46\" class=\"edge\">\n<title>45&#45;&gt;46</title>\n<path fill=\"none\" stroke=\"#000000\" d=\"M1021.0578,-88.9777C1014.0833,-80.0039 1006.5484,-70.3089 999.5427,-61.295\"/>\n<polygon fill=\"#000000\" stroke=\"#000000\" points=\"1002.1891,-58.9964 993.289,-53.2485 996.6621,-63.292 1002.1891,-58.9964\"/>\n</g>\n<!-- 47 -->\n<g id=\"node48\" class=\"node\">\n<title>47</title>\n<path fill=\"#e58139\" stroke=\"#000000\" d=\"M1175,-53C1175,-53 1068,-53 1068,-53 1062,-53 1056,-47 1056,-41 1056,-41 1056,-12 1056,-12 1056,-6 1062,0 1068,0 1068,0 1175,0 1175,0 1181,0 1187,-6 1187,-12 1187,-12 1187,-41 1187,-41 1187,-47 1181,-53 1175,-53\"/>\n<text text-anchor=\"middle\" x=\"1121.5\" y=\"-37.8\" font-family=\"Helvetica,sans-Serif\" font-size=\"14.00\" fill=\"#000000\">gini = 0.0</text>\n<text text-anchor=\"middle\" x=\"1121.5\" y=\"-22.8\" font-family=\"Helvetica,sans-Serif\" font-size=\"14.00\" fill=\"#000000\">samples = 1</text>\n<text text-anchor=\"middle\" x=\"1121.5\" y=\"-7.8\" font-family=\"Helvetica,sans-Serif\" font-size=\"14.00\" fill=\"#000000\">value = [1, 0, 0, 0]</text>\n</g>\n<!-- 45&#45;&gt;47 -->\n<g id=\"edge47\" class=\"edge\">\n<title>45&#45;&gt;47</title>\n<path fill=\"none\" stroke=\"#000000\" d=\"M1073.5896,-88.9777C1080.4711,-80.0039 1087.9056,-70.3089 1094.8178,-61.295\"/>\n<polygon fill=\"#000000\" stroke=\"#000000\" points=\"1097.6804,-63.3137 1100.9882,-53.2485 1092.1256,-59.0541 1097.6804,-63.3137\"/>\n</g>\n<!-- 52 -->\n<g id=\"node53\" class=\"node\">\n<title>52</title>\n<path fill=\"#e58139\" stroke=\"#000000\" d=\"M946,-981.5C946,-981.5 839,-981.5 839,-981.5 833,-981.5 827,-975.5 827,-969.5 827,-969.5 827,-940.5 827,-940.5 827,-934.5 833,-928.5 839,-928.5 839,-928.5 946,-928.5 946,-928.5 952,-928.5 958,-934.5 958,-940.5 958,-940.5 958,-969.5 958,-969.5 958,-975.5 952,-981.5 946,-981.5\"/>\n<text text-anchor=\"middle\" x=\"892.5\" y=\"-966.3\" font-family=\"Helvetica,sans-Serif\" font-size=\"14.00\" fill=\"#000000\">gini = 0.0</text>\n<text text-anchor=\"middle\" x=\"892.5\" y=\"-951.3\" font-family=\"Helvetica,sans-Serif\" font-size=\"14.00\" fill=\"#000000\">samples = 3</text>\n<text text-anchor=\"middle\" x=\"892.5\" y=\"-936.3\" font-family=\"Helvetica,sans-Serif\" font-size=\"14.00\" fill=\"#000000\">value = [3, 0, 0, 0]</text>\n</g>\n<!-- 51&#45;&gt;52 -->\n<g id=\"edge52\" class=\"edge\">\n<title>51&#45;&gt;52</title>\n<path fill=\"none\" stroke=\"#000000\" d=\"M942.2696,-1024.9465C934.2754,-1013.7113 925.3746,-1001.2021 917.3358,-989.9043\"/>\n<polygon fill=\"#000000\" stroke=\"#000000\" points=\"920.0351,-987.6609 911.3858,-981.5422 914.3316,-991.7192 920.0351,-987.6609\"/>\n</g>\n<!-- 53 -->\n<g id=\"node54\" class=\"node\">\n<title>53</title>\n<path fill=\"#e0fbde\" stroke=\"#000000\" d=\"M1095,-989C1095,-989 988,-989 988,-989 982,-989 976,-983 976,-977 976,-977 976,-933 976,-933 976,-927 982,-921 988,-921 988,-921 1095,-921 1095,-921 1101,-921 1107,-927 1107,-933 1107,-933 1107,-977 1107,-977 1107,-983 1101,-989 1095,-989\"/>\n<text text-anchor=\"middle\" x=\"1041.5\" y=\"-973.8\" font-family=\"Helvetica,sans-Serif\" font-size=\"14.00\" fill=\"#000000\">X[0] &lt;= 353.5</text>\n<text text-anchor=\"middle\" x=\"1041.5\" y=\"-958.8\" font-family=\"Helvetica,sans-Serif\" font-size=\"14.00\" fill=\"#000000\">gini = 0.496</text>\n<text text-anchor=\"middle\" x=\"1041.5\" y=\"-943.8\" font-family=\"Helvetica,sans-Serif\" font-size=\"14.00\" fill=\"#000000\">samples = 11</text>\n<text text-anchor=\"middle\" x=\"1041.5\" y=\"-928.8\" font-family=\"Helvetica,sans-Serif\" font-size=\"14.00\" fill=\"#000000\">value = [5, 6, 0, 0]</text>\n</g>\n<!-- 51&#45;&gt;53 -->\n<g id=\"edge53\" class=\"edge\">\n<title>51&#45;&gt;53</title>\n<path fill=\"none\" stroke=\"#000000\" d=\"M991.0578,-1024.9465C997.4032,-1016.1475 1004.3121,-1006.5672 1010.9236,-997.3993\"/>\n<polygon fill=\"#000000\" stroke=\"#000000\" points=\"1013.8766,-999.2882 1016.887,-989.13 1008.1989,-995.1937 1013.8766,-999.2882\"/>\n</g>\n<!-- 54 -->\n<g id=\"node55\" class=\"node\">\n<title>54</title>\n<path fill=\"#47e539\" stroke=\"#000000\" d=\"M1095,-877.5C1095,-877.5 988,-877.5 988,-877.5 982,-877.5 976,-871.5 976,-865.5 976,-865.5 976,-836.5 976,-836.5 976,-830.5 982,-824.5 988,-824.5 988,-824.5 1095,-824.5 1095,-824.5 1101,-824.5 1107,-830.5 1107,-836.5 1107,-836.5 1107,-865.5 1107,-865.5 1107,-871.5 1101,-877.5 1095,-877.5\"/>\n<text text-anchor=\"middle\" x=\"1041.5\" y=\"-862.3\" font-family=\"Helvetica,sans-Serif\" font-size=\"14.00\" fill=\"#000000\">gini = 0.0</text>\n<text text-anchor=\"middle\" x=\"1041.5\" y=\"-847.3\" font-family=\"Helvetica,sans-Serif\" font-size=\"14.00\" fill=\"#000000\">samples = 3</text>\n<text text-anchor=\"middle\" x=\"1041.5\" y=\"-832.3\" font-family=\"Helvetica,sans-Serif\" font-size=\"14.00\" fill=\"#000000\">value = [0, 3, 0, 0]</text>\n</g>\n<!-- 53&#45;&gt;54 -->\n<g id=\"edge54\" class=\"edge\">\n<title>53&#45;&gt;54</title>\n<path fill=\"none\" stroke=\"#000000\" d=\"M1041.5,-920.9465C1041.5,-910.2621 1041.5,-898.4254 1041.5,-887.5742\"/>\n<polygon fill=\"#000000\" stroke=\"#000000\" points=\"1045.0001,-887.5421 1041.5,-877.5422 1038.0001,-887.5422 1045.0001,-887.5421\"/>\n</g>\n<!-- 55 -->\n<g id=\"node56\" class=\"node\">\n<title>55</title>\n<path fill=\"#f5cdb0\" stroke=\"#000000\" d=\"M1244,-885C1244,-885 1137,-885 1137,-885 1131,-885 1125,-879 1125,-873 1125,-873 1125,-829 1125,-829 1125,-823 1131,-817 1137,-817 1137,-817 1244,-817 1244,-817 1250,-817 1256,-823 1256,-829 1256,-829 1256,-873 1256,-873 1256,-879 1250,-885 1244,-885\"/>\n<text text-anchor=\"middle\" x=\"1190.5\" y=\"-869.8\" font-family=\"Helvetica,sans-Serif\" font-size=\"14.00\" fill=\"#000000\">X[1] &lt;= 24.5</text>\n<text text-anchor=\"middle\" x=\"1190.5\" y=\"-854.8\" font-family=\"Helvetica,sans-Serif\" font-size=\"14.00\" fill=\"#000000\">gini = 0.469</text>\n<text text-anchor=\"middle\" x=\"1190.5\" y=\"-839.8\" font-family=\"Helvetica,sans-Serif\" font-size=\"14.00\" fill=\"#000000\">samples = 8</text>\n<text text-anchor=\"middle\" x=\"1190.5\" y=\"-824.8\" font-family=\"Helvetica,sans-Serif\" font-size=\"14.00\" fill=\"#000000\">value = [5, 3, 0, 0]</text>\n</g>\n<!-- 53&#45;&gt;55 -->\n<g id=\"edge55\" class=\"edge\">\n<title>53&#45;&gt;55</title>\n<path fill=\"none\" stroke=\"#000000\" d=\"M1090.2882,-920.9465C1104.0521,-911.3395 1119.1506,-900.8009 1133.3574,-890.8848\"/>\n<polygon fill=\"#000000\" stroke=\"#000000\" points=\"1135.4054,-893.7236 1141.6022,-885.13 1131.3989,-887.9835 1135.4054,-893.7236\"/>\n</g>\n<!-- 56 -->\n<g id=\"node57\" class=\"node\">\n<title>56</title>\n<path fill=\"#c2f6bd\" stroke=\"#000000\" d=\"M1189,-781C1189,-781 1082,-781 1082,-781 1076,-781 1070,-775 1070,-769 1070,-769 1070,-725 1070,-725 1070,-719 1076,-713 1082,-713 1082,-713 1189,-713 1189,-713 1195,-713 1201,-719 1201,-725 1201,-725 1201,-769 1201,-769 1201,-775 1195,-781 1189,-781\"/>\n<text text-anchor=\"middle\" x=\"1135.5\" y=\"-765.8\" font-family=\"Helvetica,sans-Serif\" font-size=\"14.00\" fill=\"#000000\">X[0] &lt;= 439.5</text>\n<text text-anchor=\"middle\" x=\"1135.5\" y=\"-750.8\" font-family=\"Helvetica,sans-Serif\" font-size=\"14.00\" fill=\"#000000\">gini = 0.48</text>\n<text text-anchor=\"middle\" x=\"1135.5\" y=\"-735.8\" font-family=\"Helvetica,sans-Serif\" font-size=\"14.00\" fill=\"#000000\">samples = 5</text>\n<text text-anchor=\"middle\" x=\"1135.5\" y=\"-720.8\" font-family=\"Helvetica,sans-Serif\" font-size=\"14.00\" fill=\"#000000\">value = [2, 3, 0, 0]</text>\n</g>\n<!-- 55&#45;&gt;56 -->\n<g id=\"edge56\" class=\"edge\">\n<title>55&#45;&gt;56</title>\n<path fill=\"none\" stroke=\"#000000\" d=\"M1172.4909,-816.9465C1167.9801,-808.4169 1163.0809,-799.153 1158.3686,-790.2424\"/>\n<polygon fill=\"#000000\" stroke=\"#000000\" points=\"1161.3185,-788.3337 1153.5495,-781.13 1155.1306,-791.6062 1161.3185,-788.3337\"/>\n</g>\n<!-- 63 -->\n<g id=\"node64\" class=\"node\">\n<title>63</title>\n<path fill=\"#e58139\" stroke=\"#000000\" d=\"M1338,-773.5C1338,-773.5 1231,-773.5 1231,-773.5 1225,-773.5 1219,-767.5 1219,-761.5 1219,-761.5 1219,-732.5 1219,-732.5 1219,-726.5 1225,-720.5 1231,-720.5 1231,-720.5 1338,-720.5 1338,-720.5 1344,-720.5 1350,-726.5 1350,-732.5 1350,-732.5 1350,-761.5 1350,-761.5 1350,-767.5 1344,-773.5 1338,-773.5\"/>\n<text text-anchor=\"middle\" x=\"1284.5\" y=\"-758.3\" font-family=\"Helvetica,sans-Serif\" font-size=\"14.00\" fill=\"#000000\">gini = 0.0</text>\n<text text-anchor=\"middle\" x=\"1284.5\" y=\"-743.3\" font-family=\"Helvetica,sans-Serif\" font-size=\"14.00\" fill=\"#000000\">samples = 3</text>\n<text text-anchor=\"middle\" x=\"1284.5\" y=\"-728.3\" font-family=\"Helvetica,sans-Serif\" font-size=\"14.00\" fill=\"#000000\">value = [3, 0, 0, 0]</text>\n</g>\n<!-- 55&#45;&gt;63 -->\n<g id=\"edge63\" class=\"edge\">\n<title>55&#45;&gt;63</title>\n<path fill=\"none\" stroke=\"#000000\" d=\"M1221.2791,-816.9465C1231.6331,-805.491 1243.1842,-792.711 1253.5513,-781.2412\"/>\n<polygon fill=\"#000000\" stroke=\"#000000\" points=\"1256.4011,-783.3078 1260.51,-773.5422 1251.208,-778.614 1256.4011,-783.3078\"/>\n</g>\n<!-- 57 -->\n<g id=\"node58\" class=\"node\">\n<title>57</title>\n<path fill=\"#f2c09c\" stroke=\"#000000\" d=\"M1189,-677C1189,-677 1082,-677 1082,-677 1076,-677 1070,-671 1070,-665 1070,-665 1070,-621 1070,-621 1070,-615 1076,-609 1082,-609 1082,-609 1189,-609 1189,-609 1195,-609 1201,-615 1201,-621 1201,-621 1201,-665 1201,-665 1201,-671 1195,-677 1189,-677\"/>\n<text text-anchor=\"middle\" x=\"1135.5\" y=\"-661.8\" font-family=\"Helvetica,sans-Serif\" font-size=\"14.00\" fill=\"#000000\">X[0] &lt;= 367.5</text>\n<text text-anchor=\"middle\" x=\"1135.5\" y=\"-646.8\" font-family=\"Helvetica,sans-Serif\" font-size=\"14.00\" fill=\"#000000\">gini = 0.444</text>\n<text text-anchor=\"middle\" x=\"1135.5\" y=\"-631.8\" font-family=\"Helvetica,sans-Serif\" font-size=\"14.00\" fill=\"#000000\">samples = 3</text>\n<text text-anchor=\"middle\" x=\"1135.5\" y=\"-616.8\" font-family=\"Helvetica,sans-Serif\" font-size=\"14.00\" fill=\"#000000\">value = [2, 1, 0, 0]</text>\n</g>\n<!-- 56&#45;&gt;57 -->\n<g id=\"edge57\" class=\"edge\">\n<title>56&#45;&gt;57</title>\n<path fill=\"none\" stroke=\"#000000\" d=\"M1135.5,-712.9465C1135.5,-704.776 1135.5,-695.9318 1135.5,-687.3697\"/>\n<polygon fill=\"#000000\" stroke=\"#000000\" points=\"1139.0001,-687.13 1135.5,-677.13 1132.0001,-687.13 1139.0001,-687.13\"/>\n</g>\n<!-- 62 -->\n<g id=\"node63\" class=\"node\">\n<title>62</title>\n<path fill=\"#47e539\" stroke=\"#000000\" d=\"M1338,-669.5C1338,-669.5 1231,-669.5 1231,-669.5 1225,-669.5 1219,-663.5 1219,-657.5 1219,-657.5 1219,-628.5 1219,-628.5 1219,-622.5 1225,-616.5 1231,-616.5 1231,-616.5 1338,-616.5 1338,-616.5 1344,-616.5 1350,-622.5 1350,-628.5 1350,-628.5 1350,-657.5 1350,-657.5 1350,-663.5 1344,-669.5 1338,-669.5\"/>\n<text text-anchor=\"middle\" x=\"1284.5\" y=\"-654.3\" font-family=\"Helvetica,sans-Serif\" font-size=\"14.00\" fill=\"#000000\">gini = 0.0</text>\n<text text-anchor=\"middle\" x=\"1284.5\" y=\"-639.3\" font-family=\"Helvetica,sans-Serif\" font-size=\"14.00\" fill=\"#000000\">samples = 2</text>\n<text text-anchor=\"middle\" x=\"1284.5\" y=\"-624.3\" font-family=\"Helvetica,sans-Serif\" font-size=\"14.00\" fill=\"#000000\">value = [0, 2, 0, 0]</text>\n</g>\n<!-- 56&#45;&gt;62 -->\n<g id=\"edge62\" class=\"edge\">\n<title>56&#45;&gt;62</title>\n<path fill=\"none\" stroke=\"#000000\" d=\"M1184.2882,-712.9465C1201.6472,-700.8301 1221.1291,-687.232 1238.2676,-675.2696\"/>\n<polygon fill=\"#000000\" stroke=\"#000000\" points=\"1240.2764,-678.1358 1246.4732,-669.5422 1236.2699,-672.3957 1240.2764,-678.1358\"/>\n</g>\n<!-- 58 -->\n<g id=\"node59\" class=\"node\">\n<title>58</title>\n<path fill=\"#e58139\" stroke=\"#000000\" d=\"M1110,-565.5C1110,-565.5 1003,-565.5 1003,-565.5 997,-565.5 991,-559.5 991,-553.5 991,-553.5 991,-524.5 991,-524.5 991,-518.5 997,-512.5 1003,-512.5 1003,-512.5 1110,-512.5 1110,-512.5 1116,-512.5 1122,-518.5 1122,-524.5 1122,-524.5 1122,-553.5 1122,-553.5 1122,-559.5 1116,-565.5 1110,-565.5\"/>\n<text text-anchor=\"middle\" x=\"1056.5\" y=\"-550.3\" font-family=\"Helvetica,sans-Serif\" font-size=\"14.00\" fill=\"#000000\">gini = 0.0</text>\n<text text-anchor=\"middle\" x=\"1056.5\" y=\"-535.3\" font-family=\"Helvetica,sans-Serif\" font-size=\"14.00\" fill=\"#000000\">samples = 1</text>\n<text text-anchor=\"middle\" x=\"1056.5\" y=\"-520.3\" font-family=\"Helvetica,sans-Serif\" font-size=\"14.00\" fill=\"#000000\">value = [1, 0, 0, 0]</text>\n</g>\n<!-- 57&#45;&gt;58 -->\n<g id=\"edge58\" class=\"edge\">\n<title>57&#45;&gt;58</title>\n<path fill=\"none\" stroke=\"#000000\" d=\"M1109.6324,-608.9465C1101.0143,-597.6012 1091.4094,-584.9567 1082.7617,-573.5724\"/>\n<polygon fill=\"#000000\" stroke=\"#000000\" points=\"1085.4979,-571.3882 1076.6618,-565.5422 1079.9237,-575.6224 1085.4979,-571.3882\"/>\n</g>\n<!-- 59 -->\n<g id=\"node60\" class=\"node\">\n<title>59</title>\n<path fill=\"#ffffff\" stroke=\"#000000\" d=\"M1259,-573C1259,-573 1152,-573 1152,-573 1146,-573 1140,-567 1140,-561 1140,-561 1140,-517 1140,-517 1140,-511 1146,-505 1152,-505 1152,-505 1259,-505 1259,-505 1265,-505 1271,-511 1271,-517 1271,-517 1271,-561 1271,-561 1271,-567 1265,-573 1259,-573\"/>\n<text text-anchor=\"middle\" x=\"1205.5\" y=\"-557.8\" font-family=\"Helvetica,sans-Serif\" font-size=\"14.00\" fill=\"#000000\">X[1] &lt;= 22.5</text>\n<text text-anchor=\"middle\" x=\"1205.5\" y=\"-542.8\" font-family=\"Helvetica,sans-Serif\" font-size=\"14.00\" fill=\"#000000\">gini = 0.5</text>\n<text text-anchor=\"middle\" x=\"1205.5\" y=\"-527.8\" font-family=\"Helvetica,sans-Serif\" font-size=\"14.00\" fill=\"#000000\">samples = 2</text>\n<text text-anchor=\"middle\" x=\"1205.5\" y=\"-512.8\" font-family=\"Helvetica,sans-Serif\" font-size=\"14.00\" fill=\"#000000\">value = [1, 1, 0, 0]</text>\n</g>\n<!-- 57&#45;&gt;59 -->\n<g id=\"edge59\" class=\"edge\">\n<title>57&#45;&gt;59</title>\n<path fill=\"none\" stroke=\"#000000\" d=\"M1158.4206,-608.9465C1164.2826,-600.2373 1170.6598,-590.7626 1176.773,-581.6801\"/>\n<polygon fill=\"#000000\" stroke=\"#000000\" points=\"1179.8476,-583.3802 1182.5279,-573.13 1174.0405,-579.4716 1179.8476,-583.3802\"/>\n</g>\n<!-- 60 -->\n<g id=\"node61\" class=\"node\">\n<title>60</title>\n<path fill=\"#e58139\" stroke=\"#000000\" d=\"M1119,-461.5C1119,-461.5 1012,-461.5 1012,-461.5 1006,-461.5 1000,-455.5 1000,-449.5 1000,-449.5 1000,-420.5 1000,-420.5 1000,-414.5 1006,-408.5 1012,-408.5 1012,-408.5 1119,-408.5 1119,-408.5 1125,-408.5 1131,-414.5 1131,-420.5 1131,-420.5 1131,-449.5 1131,-449.5 1131,-455.5 1125,-461.5 1119,-461.5\"/>\n<text text-anchor=\"middle\" x=\"1065.5\" y=\"-446.3\" font-family=\"Helvetica,sans-Serif\" font-size=\"14.00\" fill=\"#000000\">gini = 0.0</text>\n<text text-anchor=\"middle\" x=\"1065.5\" y=\"-431.3\" font-family=\"Helvetica,sans-Serif\" font-size=\"14.00\" fill=\"#000000\">samples = 1</text>\n<text text-anchor=\"middle\" x=\"1065.5\" y=\"-416.3\" font-family=\"Helvetica,sans-Serif\" font-size=\"14.00\" fill=\"#000000\">value = [1, 0, 0, 0]</text>\n</g>\n<!-- 59&#45;&gt;60 -->\n<g id=\"edge60\" class=\"edge\">\n<title>59&#45;&gt;60</title>\n<path fill=\"none\" stroke=\"#000000\" d=\"M1159.6588,-504.9465C1143.4965,-492.9403 1125.3758,-479.4791 1109.3795,-467.5962\"/>\n<polygon fill=\"#000000\" stroke=\"#000000\" points=\"1111.3444,-464.6958 1101.2298,-461.5422 1107.1701,-470.3151 1111.3444,-464.6958\"/>\n</g>\n<!-- 61 -->\n<g id=\"node62\" class=\"node\">\n<title>61</title>\n<path fill=\"#47e539\" stroke=\"#000000\" d=\"M1268,-461.5C1268,-461.5 1161,-461.5 1161,-461.5 1155,-461.5 1149,-455.5 1149,-449.5 1149,-449.5 1149,-420.5 1149,-420.5 1149,-414.5 1155,-408.5 1161,-408.5 1161,-408.5 1268,-408.5 1268,-408.5 1274,-408.5 1280,-414.5 1280,-420.5 1280,-420.5 1280,-449.5 1280,-449.5 1280,-455.5 1274,-461.5 1268,-461.5\"/>\n<text text-anchor=\"middle\" x=\"1214.5\" y=\"-446.3\" font-family=\"Helvetica,sans-Serif\" font-size=\"14.00\" fill=\"#000000\">gini = 0.0</text>\n<text text-anchor=\"middle\" x=\"1214.5\" y=\"-431.3\" font-family=\"Helvetica,sans-Serif\" font-size=\"14.00\" fill=\"#000000\">samples = 1</text>\n<text text-anchor=\"middle\" x=\"1214.5\" y=\"-416.3\" font-family=\"Helvetica,sans-Serif\" font-size=\"14.00\" fill=\"#000000\">value = [0, 1, 0, 0]</text>\n</g>\n<!-- 59&#45;&gt;61 -->\n<g id=\"edge61\" class=\"edge\">\n<title>59&#45;&gt;61</title>\n<path fill=\"none\" stroke=\"#000000\" d=\"M1208.4469,-504.9465C1209.3716,-494.2621 1210.3959,-482.4254 1211.3349,-471.5742\"/>\n<polygon fill=\"#000000\" stroke=\"#000000\" points=\"1214.8278,-471.8067 1212.2031,-461.5422 1207.8539,-471.2031 1214.8278,-471.8067\"/>\n</g>\n<!-- 65 -->\n<g id=\"node66\" class=\"node\">\n<title>65</title>\n<path fill=\"#47e539\" stroke=\"#000000\" d=\"M1207,-1085.5C1207,-1085.5 1100,-1085.5 1100,-1085.5 1094,-1085.5 1088,-1079.5 1088,-1073.5 1088,-1073.5 1088,-1044.5 1088,-1044.5 1088,-1038.5 1094,-1032.5 1100,-1032.5 1100,-1032.5 1207,-1032.5 1207,-1032.5 1213,-1032.5 1219,-1038.5 1219,-1044.5 1219,-1044.5 1219,-1073.5 1219,-1073.5 1219,-1079.5 1213,-1085.5 1207,-1085.5\"/>\n<text text-anchor=\"middle\" x=\"1153.5\" y=\"-1070.3\" font-family=\"Helvetica,sans-Serif\" font-size=\"14.00\" fill=\"#000000\">gini = 0.0</text>\n<text text-anchor=\"middle\" x=\"1153.5\" y=\"-1055.3\" font-family=\"Helvetica,sans-Serif\" font-size=\"14.00\" fill=\"#000000\">samples = 8</text>\n<text text-anchor=\"middle\" x=\"1153.5\" y=\"-1040.3\" font-family=\"Helvetica,sans-Serif\" font-size=\"14.00\" fill=\"#000000\">value = [0, 8, 0, 0]</text>\n</g>\n<!-- 64&#45;&gt;65 -->\n<g id=\"edge65\" class=\"edge\">\n<title>64&#45;&gt;65</title>\n<path fill=\"none\" stroke=\"#000000\" d=\"M1203.9422,-1128.9465C1195.8399,-1117.7113 1186.8188,-1105.2021 1178.6714,-1093.9043\"/>\n<polygon fill=\"#000000\" stroke=\"#000000\" points=\"1181.3291,-1091.6058 1172.641,-1085.5422 1175.6514,-1095.7003 1181.3291,-1091.6058\"/>\n</g>\n<!-- 66 -->\n<g id=\"node67\" class=\"node\">\n<title>66</title>\n<path fill=\"#a3f29c\" stroke=\"#000000\" d=\"M1356,-1093C1356,-1093 1249,-1093 1249,-1093 1243,-1093 1237,-1087 1237,-1081 1237,-1081 1237,-1037 1237,-1037 1237,-1031 1243,-1025 1249,-1025 1249,-1025 1356,-1025 1356,-1025 1362,-1025 1368,-1031 1368,-1037 1368,-1037 1368,-1081 1368,-1081 1368,-1087 1362,-1093 1356,-1093\"/>\n<text text-anchor=\"middle\" x=\"1302.5\" y=\"-1077.8\" font-family=\"Helvetica,sans-Serif\" font-size=\"14.00\" fill=\"#000000\">X[0] &lt;= 1340.5</text>\n<text text-anchor=\"middle\" x=\"1302.5\" y=\"-1062.8\" font-family=\"Helvetica,sans-Serif\" font-size=\"14.00\" fill=\"#000000\">gini = 0.444</text>\n<text text-anchor=\"middle\" x=\"1302.5\" y=\"-1047.8\" font-family=\"Helvetica,sans-Serif\" font-size=\"14.00\" fill=\"#000000\">samples = 3</text>\n<text text-anchor=\"middle\" x=\"1302.5\" y=\"-1032.8\" font-family=\"Helvetica,sans-Serif\" font-size=\"14.00\" fill=\"#000000\">value = [1, 2, 0, 0]</text>\n</g>\n<!-- 64&#45;&gt;66 -->\n<g id=\"edge66\" class=\"edge\">\n<title>64&#45;&gt;66</title>\n<path fill=\"none\" stroke=\"#000000\" d=\"M1252.7304,-1128.9465C1258.9912,-1120.1475 1265.808,-1110.5672 1272.3313,-1101.3993\"/>\n<polygon fill=\"#000000\" stroke=\"#000000\" points=\"1275.2694,-1103.3071 1278.2152,-1093.13 1269.5658,-1099.2488 1275.2694,-1103.3071\"/>\n</g>\n<!-- 67 -->\n<g id=\"node68\" class=\"node\">\n<title>67</title>\n<path fill=\"#e58139\" stroke=\"#000000\" d=\"M1244,-981.5C1244,-981.5 1137,-981.5 1137,-981.5 1131,-981.5 1125,-975.5 1125,-969.5 1125,-969.5 1125,-940.5 1125,-940.5 1125,-934.5 1131,-928.5 1137,-928.5 1137,-928.5 1244,-928.5 1244,-928.5 1250,-928.5 1256,-934.5 1256,-940.5 1256,-940.5 1256,-969.5 1256,-969.5 1256,-975.5 1250,-981.5 1244,-981.5\"/>\n<text text-anchor=\"middle\" x=\"1190.5\" y=\"-966.3\" font-family=\"Helvetica,sans-Serif\" font-size=\"14.00\" fill=\"#000000\">gini = 0.0</text>\n<text text-anchor=\"middle\" x=\"1190.5\" y=\"-951.3\" font-family=\"Helvetica,sans-Serif\" font-size=\"14.00\" fill=\"#000000\">samples = 1</text>\n<text text-anchor=\"middle\" x=\"1190.5\" y=\"-936.3\" font-family=\"Helvetica,sans-Serif\" font-size=\"14.00\" fill=\"#000000\">value = [1, 0, 0, 0]</text>\n</g>\n<!-- 66&#45;&gt;67 -->\n<g id=\"edge67\" class=\"edge\">\n<title>66&#45;&gt;67</title>\n<path fill=\"none\" stroke=\"#000000\" d=\"M1265.827,-1024.9465C1253.2531,-1013.2707 1239.1974,-1000.219 1226.6641,-988.5809\"/>\n<polygon fill=\"#000000\" stroke=\"#000000\" points=\"1228.7934,-985.7819 1219.0839,-981.5422 1224.0302,-990.9115 1228.7934,-985.7819\"/>\n</g>\n<!-- 68 -->\n<g id=\"node69\" class=\"node\">\n<title>68</title>\n<path fill=\"#47e539\" stroke=\"#000000\" d=\"M1393,-981.5C1393,-981.5 1286,-981.5 1286,-981.5 1280,-981.5 1274,-975.5 1274,-969.5 1274,-969.5 1274,-940.5 1274,-940.5 1274,-934.5 1280,-928.5 1286,-928.5 1286,-928.5 1393,-928.5 1393,-928.5 1399,-928.5 1405,-934.5 1405,-940.5 1405,-940.5 1405,-969.5 1405,-969.5 1405,-975.5 1399,-981.5 1393,-981.5\"/>\n<text text-anchor=\"middle\" x=\"1339.5\" y=\"-966.3\" font-family=\"Helvetica,sans-Serif\" font-size=\"14.00\" fill=\"#000000\">gini = 0.0</text>\n<text text-anchor=\"middle\" x=\"1339.5\" y=\"-951.3\" font-family=\"Helvetica,sans-Serif\" font-size=\"14.00\" fill=\"#000000\">samples = 2</text>\n<text text-anchor=\"middle\" x=\"1339.5\" y=\"-936.3\" font-family=\"Helvetica,sans-Serif\" font-size=\"14.00\" fill=\"#000000\">value = [0, 2, 0, 0]</text>\n</g>\n<!-- 66&#45;&gt;68 -->\n<g id=\"edge68\" class=\"edge\">\n<title>66&#45;&gt;68</title>\n<path fill=\"none\" stroke=\"#000000\" d=\"M1314.6152,-1024.9465C1318.4556,-1014.1519 1322.7144,-1002.1813 1326.6073,-991.2389\"/>\n<polygon fill=\"#000000\" stroke=\"#000000\" points=\"1330.0027,-992.1369 1330.0571,-981.5422 1323.4076,-989.7905 1330.0027,-992.1369\"/>\n</g>\n<!-- 70 -->\n<g id=\"node71\" class=\"node\">\n<title>70</title>\n<path fill=\"#81ed77\" stroke=\"#000000\" d=\"M1722,-1197C1722,-1197 1607,-1197 1607,-1197 1601,-1197 1595,-1191 1595,-1185 1595,-1185 1595,-1141 1595,-1141 1595,-1135 1601,-1129 1607,-1129 1607,-1129 1722,-1129 1722,-1129 1728,-1129 1734,-1135 1734,-1141 1734,-1141 1734,-1185 1734,-1185 1734,-1191 1728,-1197 1722,-1197\"/>\n<text text-anchor=\"middle\" x=\"1664.5\" y=\"-1181.8\" font-family=\"Helvetica,sans-Serif\" font-size=\"14.00\" fill=\"#000000\">X[0] &lt;= 185.5</text>\n<text text-anchor=\"middle\" x=\"1664.5\" y=\"-1166.8\" font-family=\"Helvetica,sans-Serif\" font-size=\"14.00\" fill=\"#000000\">gini = 0.363</text>\n<text text-anchor=\"middle\" x=\"1664.5\" y=\"-1151.8\" font-family=\"Helvetica,sans-Serif\" font-size=\"14.00\" fill=\"#000000\">samples = 21</text>\n<text text-anchor=\"middle\" x=\"1664.5\" y=\"-1136.8\" font-family=\"Helvetica,sans-Serif\" font-size=\"14.00\" fill=\"#000000\">value = [5, 16, 0, 0]</text>\n</g>\n<!-- 69&#45;&gt;70 -->\n<g id=\"edge70\" class=\"edge\">\n<title>69&#45;&gt;70</title>\n<path fill=\"none\" stroke=\"#000000\" d=\"M1664.5,-1232.9465C1664.5,-1224.776 1664.5,-1215.9318 1664.5,-1207.3697\"/>\n<polygon fill=\"#000000\" stroke=\"#000000\" points=\"1668.0001,-1207.13 1664.5,-1197.13 1661.0001,-1207.13 1668.0001,-1207.13\"/>\n</g>\n<!-- 87 -->\n<g id=\"node88\" class=\"node\">\n<title>87</title>\n<path fill=\"#54e747\" stroke=\"#000000\" d=\"M1953,-1197C1953,-1197 1838,-1197 1838,-1197 1832,-1197 1826,-1191 1826,-1185 1826,-1185 1826,-1141 1826,-1141 1826,-1135 1832,-1129 1838,-1129 1838,-1129 1953,-1129 1953,-1129 1959,-1129 1965,-1135 1965,-1141 1965,-1141 1965,-1185 1965,-1185 1965,-1191 1959,-1197 1953,-1197\"/>\n<text text-anchor=\"middle\" x=\"1895.5\" y=\"-1181.8\" font-family=\"Helvetica,sans-Serif\" font-size=\"14.00\" fill=\"#000000\">X[1] &lt;= 36.5</text>\n<text text-anchor=\"middle\" x=\"1895.5\" y=\"-1166.8\" font-family=\"Helvetica,sans-Serif\" font-size=\"14.00\" fill=\"#000000\">gini = 0.126</text>\n<text text-anchor=\"middle\" x=\"1895.5\" y=\"-1151.8\" font-family=\"Helvetica,sans-Serif\" font-size=\"14.00\" fill=\"#000000\">samples = 74</text>\n<text text-anchor=\"middle\" x=\"1895.5\" y=\"-1136.8\" font-family=\"Helvetica,sans-Serif\" font-size=\"14.00\" fill=\"#000000\">value = [5, 69, 0, 0]</text>\n</g>\n<!-- 69&#45;&gt;87 -->\n<g id=\"edge87\" class=\"edge\">\n<title>69&#45;&gt;87</title>\n<path fill=\"none\" stroke=\"#000000\" d=\"M1738.225,-1233.8078C1763.1555,-1222.5837 1791.0871,-1210.0084 1816.4159,-1198.605\"/>\n<polygon fill=\"#000000\" stroke=\"#000000\" points=\"1817.9378,-1201.7582 1825.6194,-1194.4614 1815.0641,-1195.3753 1817.9378,-1201.7582\"/>\n</g>\n<!-- 71 -->\n<g id=\"node72\" class=\"node\">\n<title>71</title>\n<path fill=\"#75ec6a\" stroke=\"#000000\" d=\"M1608,-1093C1608,-1093 1493,-1093 1493,-1093 1487,-1093 1481,-1087 1481,-1081 1481,-1081 1481,-1037 1481,-1037 1481,-1031 1487,-1025 1493,-1025 1493,-1025 1608,-1025 1608,-1025 1614,-1025 1620,-1031 1620,-1037 1620,-1037 1620,-1081 1620,-1081 1620,-1087 1614,-1093 1608,-1093\"/>\n<text text-anchor=\"middle\" x=\"1550.5\" y=\"-1077.8\" font-family=\"Helvetica,sans-Serif\" font-size=\"14.00\" fill=\"#000000\">X[1] &lt;= 33.0</text>\n<text text-anchor=\"middle\" x=\"1550.5\" y=\"-1062.8\" font-family=\"Helvetica,sans-Serif\" font-size=\"14.00\" fill=\"#000000\">gini = 0.32</text>\n<text text-anchor=\"middle\" x=\"1550.5\" y=\"-1047.8\" font-family=\"Helvetica,sans-Serif\" font-size=\"14.00\" fill=\"#000000\">samples = 20</text>\n<text text-anchor=\"middle\" x=\"1550.5\" y=\"-1032.8\" font-family=\"Helvetica,sans-Serif\" font-size=\"14.00\" fill=\"#000000\">value = [4, 16, 0, 0]</text>\n</g>\n<!-- 70&#45;&gt;71 -->\n<g id=\"edge71\" class=\"edge\">\n<title>70&#45;&gt;71</title>\n<path fill=\"none\" stroke=\"#000000\" d=\"M1627.1721,-1128.9465C1617.035,-1119.6986 1605.9517,-1109.5876 1595.4417,-1099.9994\"/>\n<polygon fill=\"#000000\" stroke=\"#000000\" points=\"1597.6583,-1097.284 1587.9117,-1093.13 1592.9405,-1102.4553 1597.6583,-1097.284\"/>\n</g>\n<!-- 86 -->\n<g id=\"node87\" class=\"node\">\n<title>86</title>\n<path fill=\"#e58139\" stroke=\"#000000\" d=\"M1757,-1085.5C1757,-1085.5 1650,-1085.5 1650,-1085.5 1644,-1085.5 1638,-1079.5 1638,-1073.5 1638,-1073.5 1638,-1044.5 1638,-1044.5 1638,-1038.5 1644,-1032.5 1650,-1032.5 1650,-1032.5 1757,-1032.5 1757,-1032.5 1763,-1032.5 1769,-1038.5 1769,-1044.5 1769,-1044.5 1769,-1073.5 1769,-1073.5 1769,-1079.5 1763,-1085.5 1757,-1085.5\"/>\n<text text-anchor=\"middle\" x=\"1703.5\" y=\"-1070.3\" font-family=\"Helvetica,sans-Serif\" font-size=\"14.00\" fill=\"#000000\">gini = 0.0</text>\n<text text-anchor=\"middle\" x=\"1703.5\" y=\"-1055.3\" font-family=\"Helvetica,sans-Serif\" font-size=\"14.00\" fill=\"#000000\">samples = 1</text>\n<text text-anchor=\"middle\" x=\"1703.5\" y=\"-1040.3\" font-family=\"Helvetica,sans-Serif\" font-size=\"14.00\" fill=\"#000000\">value = [1, 0, 0, 0]</text>\n</g>\n<!-- 70&#45;&gt;86 -->\n<g id=\"edge86\" class=\"edge\">\n<title>70&#45;&gt;86</title>\n<path fill=\"none\" stroke=\"#000000\" d=\"M1677.2701,-1128.9465C1681.318,-1118.1519 1685.807,-1106.1813 1689.9104,-1095.2389\"/>\n<polygon fill=\"#000000\" stroke=\"#000000\" points=\"1693.3125,-1096.1344 1693.5467,-1085.5422 1686.7582,-1093.6765 1693.3125,-1096.1344\"/>\n</g>\n<!-- 72 -->\n<g id=\"node73\" class=\"node\">\n<title>72</title>\n<path fill=\"#99f191\" stroke=\"#000000\" d=\"M1542,-989C1542,-989 1435,-989 1435,-989 1429,-989 1423,-983 1423,-977 1423,-977 1423,-933 1423,-933 1423,-927 1429,-921 1435,-921 1435,-921 1542,-921 1542,-921 1548,-921 1554,-927 1554,-933 1554,-933 1554,-977 1554,-977 1554,-983 1548,-989 1542,-989\"/>\n<text text-anchor=\"middle\" x=\"1488.5\" y=\"-973.8\" font-family=\"Helvetica,sans-Serif\" font-size=\"14.00\" fill=\"#000000\">X[0] &lt;= 116.0</text>\n<text text-anchor=\"middle\" x=\"1488.5\" y=\"-958.8\" font-family=\"Helvetica,sans-Serif\" font-size=\"14.00\" fill=\"#000000\">gini = 0.426</text>\n<text text-anchor=\"middle\" x=\"1488.5\" y=\"-943.8\" font-family=\"Helvetica,sans-Serif\" font-size=\"14.00\" fill=\"#000000\">samples = 13</text>\n<text text-anchor=\"middle\" x=\"1488.5\" y=\"-928.8\" font-family=\"Helvetica,sans-Serif\" font-size=\"14.00\" fill=\"#000000\">value = [4, 9, 0, 0]</text>\n</g>\n<!-- 71&#45;&gt;72 -->\n<g id=\"edge72\" class=\"edge\">\n<title>71&#45;&gt;72</title>\n<path fill=\"none\" stroke=\"#000000\" d=\"M1530.1989,-1024.9465C1525.0604,-1016.3271 1519.4749,-1006.9579 1514.1114,-997.9611\"/>\n<polygon fill=\"#000000\" stroke=\"#000000\" points=\"1516.9737,-995.9272 1508.8467,-989.13 1510.9611,-999.5117 1516.9737,-995.9272\"/>\n</g>\n<!-- 85 -->\n<g id=\"node86\" class=\"node\">\n<title>85</title>\n<path fill=\"#47e539\" stroke=\"#000000\" d=\"M1691,-981.5C1691,-981.5 1584,-981.5 1584,-981.5 1578,-981.5 1572,-975.5 1572,-969.5 1572,-969.5 1572,-940.5 1572,-940.5 1572,-934.5 1578,-928.5 1584,-928.5 1584,-928.5 1691,-928.5 1691,-928.5 1697,-928.5 1703,-934.5 1703,-940.5 1703,-940.5 1703,-969.5 1703,-969.5 1703,-975.5 1697,-981.5 1691,-981.5\"/>\n<text text-anchor=\"middle\" x=\"1637.5\" y=\"-966.3\" font-family=\"Helvetica,sans-Serif\" font-size=\"14.00\" fill=\"#000000\">gini = 0.0</text>\n<text text-anchor=\"middle\" x=\"1637.5\" y=\"-951.3\" font-family=\"Helvetica,sans-Serif\" font-size=\"14.00\" fill=\"#000000\">samples = 7</text>\n<text text-anchor=\"middle\" x=\"1637.5\" y=\"-936.3\" font-family=\"Helvetica,sans-Serif\" font-size=\"14.00\" fill=\"#000000\">value = [0, 7, 0, 0]</text>\n</g>\n<!-- 71&#45;&gt;85 -->\n<g id=\"edge85\" class=\"edge\">\n<title>71&#45;&gt;85</title>\n<path fill=\"none\" stroke=\"#000000\" d=\"M1578.9871,-1024.9465C1588.57,-1013.491 1599.261,-1000.711 1608.8559,-989.2412\"/>\n<polygon fill=\"#000000\" stroke=\"#000000\" points=\"1611.5646,-991.458 1615.2965,-981.5422 1606.1955,-986.9666 1611.5646,-991.458\"/>\n</g>\n<!-- 73 -->\n<g id=\"node74\" class=\"node\">\n<title>73</title>\n<path fill=\"#e58139\" stroke=\"#000000\" d=\"M1468,-877.5C1468,-877.5 1361,-877.5 1361,-877.5 1355,-877.5 1349,-871.5 1349,-865.5 1349,-865.5 1349,-836.5 1349,-836.5 1349,-830.5 1355,-824.5 1361,-824.5 1361,-824.5 1468,-824.5 1468,-824.5 1474,-824.5 1480,-830.5 1480,-836.5 1480,-836.5 1480,-865.5 1480,-865.5 1480,-871.5 1474,-877.5 1468,-877.5\"/>\n<text text-anchor=\"middle\" x=\"1414.5\" y=\"-862.3\" font-family=\"Helvetica,sans-Serif\" font-size=\"14.00\" fill=\"#000000\">gini = 0.0</text>\n<text text-anchor=\"middle\" x=\"1414.5\" y=\"-847.3\" font-family=\"Helvetica,sans-Serif\" font-size=\"14.00\" fill=\"#000000\">samples = 1</text>\n<text text-anchor=\"middle\" x=\"1414.5\" y=\"-832.3\" font-family=\"Helvetica,sans-Serif\" font-size=\"14.00\" fill=\"#000000\">value = [1, 0, 0, 0]</text>\n</g>\n<!-- 72&#45;&gt;73 -->\n<g id=\"edge73\" class=\"edge\">\n<title>72&#45;&gt;73</title>\n<path fill=\"none\" stroke=\"#000000\" d=\"M1464.2696,-920.9465C1456.2754,-909.7113 1447.3746,-897.2021 1439.3358,-885.9043\"/>\n<polygon fill=\"#000000\" stroke=\"#000000\" points=\"1442.0351,-883.6609 1433.3858,-877.5422 1436.3316,-887.7192 1442.0351,-883.6609\"/>\n</g>\n<!-- 74 -->\n<g id=\"node75\" class=\"node\">\n<title>74</title>\n<path fill=\"#84ee7b\" stroke=\"#000000\" d=\"M1617,-885C1617,-885 1510,-885 1510,-885 1504,-885 1498,-879 1498,-873 1498,-873 1498,-829 1498,-829 1498,-823 1504,-817 1510,-817 1510,-817 1617,-817 1617,-817 1623,-817 1629,-823 1629,-829 1629,-829 1629,-873 1629,-873 1629,-879 1623,-885 1617,-885\"/>\n<text text-anchor=\"middle\" x=\"1563.5\" y=\"-869.8\" font-family=\"Helvetica,sans-Serif\" font-size=\"14.00\" fill=\"#000000\">X[0] &lt;= 149.5</text>\n<text text-anchor=\"middle\" x=\"1563.5\" y=\"-854.8\" font-family=\"Helvetica,sans-Serif\" font-size=\"14.00\" fill=\"#000000\">gini = 0.375</text>\n<text text-anchor=\"middle\" x=\"1563.5\" y=\"-839.8\" font-family=\"Helvetica,sans-Serif\" font-size=\"14.00\" fill=\"#000000\">samples = 12</text>\n<text text-anchor=\"middle\" x=\"1563.5\" y=\"-824.8\" font-family=\"Helvetica,sans-Serif\" font-size=\"14.00\" fill=\"#000000\">value = [3, 9, 0, 0]</text>\n</g>\n<!-- 72&#45;&gt;74 -->\n<g id=\"edge74\" class=\"edge\">\n<title>72&#45;&gt;74</title>\n<path fill=\"none\" stroke=\"#000000\" d=\"M1513.0578,-920.9465C1519.4032,-912.1475 1526.3121,-902.5672 1532.9236,-893.3993\"/>\n<polygon fill=\"#000000\" stroke=\"#000000\" points=\"1535.8766,-895.2882 1538.887,-885.13 1530.1989,-891.1937 1535.8766,-895.2882\"/>\n</g>\n<!-- 75 -->\n<g id=\"node76\" class=\"node\">\n<title>75</title>\n<path fill=\"#47e539\" stroke=\"#000000\" d=\"M1492,-773.5C1492,-773.5 1385,-773.5 1385,-773.5 1379,-773.5 1373,-767.5 1373,-761.5 1373,-761.5 1373,-732.5 1373,-732.5 1373,-726.5 1379,-720.5 1385,-720.5 1385,-720.5 1492,-720.5 1492,-720.5 1498,-720.5 1504,-726.5 1504,-732.5 1504,-732.5 1504,-761.5 1504,-761.5 1504,-767.5 1498,-773.5 1492,-773.5\"/>\n<text text-anchor=\"middle\" x=\"1438.5\" y=\"-758.3\" font-family=\"Helvetica,sans-Serif\" font-size=\"14.00\" fill=\"#000000\">gini = 0.0</text>\n<text text-anchor=\"middle\" x=\"1438.5\" y=\"-743.3\" font-family=\"Helvetica,sans-Serif\" font-size=\"14.00\" fill=\"#000000\">samples = 3</text>\n<text text-anchor=\"middle\" x=\"1438.5\" y=\"-728.3\" font-family=\"Helvetica,sans-Serif\" font-size=\"14.00\" fill=\"#000000\">value = [0, 3, 0, 0]</text>\n</g>\n<!-- 74&#45;&gt;75 -->\n<g id=\"edge75\" class=\"edge\">\n<title>74&#45;&gt;75</title>\n<path fill=\"none\" stroke=\"#000000\" d=\"M1522.5703,-816.9465C1508.4045,-805.1606 1492.5537,-791.9726 1478.4662,-780.2519\"/>\n<polygon fill=\"#000000\" stroke=\"#000000\" points=\"1480.3275,-777.2474 1470.4016,-773.5422 1475.8504,-782.6285 1480.3275,-777.2474\"/>\n</g>\n<!-- 76 -->\n<g id=\"node77\" class=\"node\">\n<title>76</title>\n<path fill=\"#a3f29c\" stroke=\"#000000\" d=\"M1641,-781C1641,-781 1534,-781 1534,-781 1528,-781 1522,-775 1522,-769 1522,-769 1522,-725 1522,-725 1522,-719 1528,-713 1534,-713 1534,-713 1641,-713 1641,-713 1647,-713 1653,-719 1653,-725 1653,-725 1653,-769 1653,-769 1653,-775 1647,-781 1641,-781\"/>\n<text text-anchor=\"middle\" x=\"1587.5\" y=\"-765.8\" font-family=\"Helvetica,sans-Serif\" font-size=\"14.00\" fill=\"#000000\">X[1] &lt;= 28.5</text>\n<text text-anchor=\"middle\" x=\"1587.5\" y=\"-750.8\" font-family=\"Helvetica,sans-Serif\" font-size=\"14.00\" fill=\"#000000\">gini = 0.444</text>\n<text text-anchor=\"middle\" x=\"1587.5\" y=\"-735.8\" font-family=\"Helvetica,sans-Serif\" font-size=\"14.00\" fill=\"#000000\">samples = 9</text>\n<text text-anchor=\"middle\" x=\"1587.5\" y=\"-720.8\" font-family=\"Helvetica,sans-Serif\" font-size=\"14.00\" fill=\"#000000\">value = [3, 6, 0, 0]</text>\n</g>\n<!-- 74&#45;&gt;76 -->\n<g id=\"edge76\" class=\"edge\">\n<title>74&#45;&gt;76</title>\n<path fill=\"none\" stroke=\"#000000\" d=\"M1571.3585,-816.9465C1573.2647,-808.6863 1575.3298,-799.7374 1577.326,-791.0875\"/>\n<polygon fill=\"#000000\" stroke=\"#000000\" points=\"1580.7855,-791.6609 1579.6238,-781.13 1573.9648,-790.0869 1580.7855,-791.6609\"/>\n</g>\n<!-- 77 -->\n<g id=\"node78\" class=\"node\">\n<title>77</title>\n<path fill=\"#47e539\" stroke=\"#000000\" d=\"M1497,-669.5C1497,-669.5 1390,-669.5 1390,-669.5 1384,-669.5 1378,-663.5 1378,-657.5 1378,-657.5 1378,-628.5 1378,-628.5 1378,-622.5 1384,-616.5 1390,-616.5 1390,-616.5 1497,-616.5 1497,-616.5 1503,-616.5 1509,-622.5 1509,-628.5 1509,-628.5 1509,-657.5 1509,-657.5 1509,-663.5 1503,-669.5 1497,-669.5\"/>\n<text text-anchor=\"middle\" x=\"1443.5\" y=\"-654.3\" font-family=\"Helvetica,sans-Serif\" font-size=\"14.00\" fill=\"#000000\">gini = 0.0</text>\n<text text-anchor=\"middle\" x=\"1443.5\" y=\"-639.3\" font-family=\"Helvetica,sans-Serif\" font-size=\"14.00\" fill=\"#000000\">samples = 3</text>\n<text text-anchor=\"middle\" x=\"1443.5\" y=\"-624.3\" font-family=\"Helvetica,sans-Serif\" font-size=\"14.00\" fill=\"#000000\">value = [0, 3, 0, 0]</text>\n</g>\n<!-- 76&#45;&gt;77 -->\n<g id=\"edge77\" class=\"edge\">\n<title>76&#45;&gt;77</title>\n<path fill=\"none\" stroke=\"#000000\" d=\"M1540.349,-712.9465C1523.725,-700.9403 1505.0865,-687.4791 1488.6333,-675.5962\"/>\n<polygon fill=\"#000000\" stroke=\"#000000\" points=\"1490.4067,-672.5597 1480.2507,-669.5422 1486.3083,-678.2345 1490.4067,-672.5597\"/>\n</g>\n<!-- 78 -->\n<g id=\"node79\" class=\"node\">\n<title>78</title>\n<path fill=\"#ffffff\" stroke=\"#000000\" d=\"M1646,-677C1646,-677 1539,-677 1539,-677 1533,-677 1527,-671 1527,-665 1527,-665 1527,-621 1527,-621 1527,-615 1533,-609 1539,-609 1539,-609 1646,-609 1646,-609 1652,-609 1658,-615 1658,-621 1658,-621 1658,-665 1658,-665 1658,-671 1652,-677 1646,-677\"/>\n<text text-anchor=\"middle\" x=\"1592.5\" y=\"-661.8\" font-family=\"Helvetica,sans-Serif\" font-size=\"14.00\" fill=\"#000000\">X[1] &lt;= 29.5</text>\n<text text-anchor=\"middle\" x=\"1592.5\" y=\"-646.8\" font-family=\"Helvetica,sans-Serif\" font-size=\"14.00\" fill=\"#000000\">gini = 0.5</text>\n<text text-anchor=\"middle\" x=\"1592.5\" y=\"-631.8\" font-family=\"Helvetica,sans-Serif\" font-size=\"14.00\" fill=\"#000000\">samples = 6</text>\n<text text-anchor=\"middle\" x=\"1592.5\" y=\"-616.8\" font-family=\"Helvetica,sans-Serif\" font-size=\"14.00\" fill=\"#000000\">value = [3, 3, 0, 0]</text>\n</g>\n<!-- 76&#45;&gt;78 -->\n<g id=\"edge78\" class=\"edge\">\n<title>76&#45;&gt;78</title>\n<path fill=\"none\" stroke=\"#000000\" d=\"M1589.1372,-712.9465C1589.53,-704.776 1589.9552,-695.9318 1590.3668,-687.3697\"/>\n<polygon fill=\"#000000\" stroke=\"#000000\" points=\"1593.8748,-687.2866 1590.8591,-677.13 1586.8829,-686.9504 1593.8748,-687.2866\"/>\n</g>\n<!-- 79 -->\n<g id=\"node80\" class=\"node\">\n<title>79</title>\n<path fill=\"#e58139\" stroke=\"#000000\" d=\"M1501,-565.5C1501,-565.5 1394,-565.5 1394,-565.5 1388,-565.5 1382,-559.5 1382,-553.5 1382,-553.5 1382,-524.5 1382,-524.5 1382,-518.5 1388,-512.5 1394,-512.5 1394,-512.5 1501,-512.5 1501,-512.5 1507,-512.5 1513,-518.5 1513,-524.5 1513,-524.5 1513,-553.5 1513,-553.5 1513,-559.5 1507,-565.5 1501,-565.5\"/>\n<text text-anchor=\"middle\" x=\"1447.5\" y=\"-550.3\" font-family=\"Helvetica,sans-Serif\" font-size=\"14.00\" fill=\"#000000\">gini = 0.0</text>\n<text text-anchor=\"middle\" x=\"1447.5\" y=\"-535.3\" font-family=\"Helvetica,sans-Serif\" font-size=\"14.00\" fill=\"#000000\">samples = 2</text>\n<text text-anchor=\"middle\" x=\"1447.5\" y=\"-520.3\" font-family=\"Helvetica,sans-Serif\" font-size=\"14.00\" fill=\"#000000\">value = [2, 0, 0, 0]</text>\n</g>\n<!-- 78&#45;&gt;79 -->\n<g id=\"edge79\" class=\"edge\">\n<title>78&#45;&gt;79</title>\n<path fill=\"none\" stroke=\"#000000\" d=\"M1545.0216,-608.9465C1528.2821,-596.9403 1509.5142,-583.4791 1492.9467,-571.5962\"/>\n<polygon fill=\"#000000\" stroke=\"#000000\" points=\"1494.6718,-568.5264 1484.5059,-565.5422 1490.592,-574.2146 1494.6718,-568.5264\"/>\n</g>\n<!-- 80 -->\n<g id=\"node81\" class=\"node\">\n<title>80</title>\n<path fill=\"#84ee7b\" stroke=\"#000000\" d=\"M1650,-573C1650,-573 1543,-573 1543,-573 1537,-573 1531,-567 1531,-561 1531,-561 1531,-517 1531,-517 1531,-511 1537,-505 1543,-505 1543,-505 1650,-505 1650,-505 1656,-505 1662,-511 1662,-517 1662,-517 1662,-561 1662,-561 1662,-567 1656,-573 1650,-573\"/>\n<text text-anchor=\"middle\" x=\"1596.5\" y=\"-557.8\" font-family=\"Helvetica,sans-Serif\" font-size=\"14.00\" fill=\"#000000\">X[1] &lt;= 31.0</text>\n<text text-anchor=\"middle\" x=\"1596.5\" y=\"-542.8\" font-family=\"Helvetica,sans-Serif\" font-size=\"14.00\" fill=\"#000000\">gini = 0.375</text>\n<text text-anchor=\"middle\" x=\"1596.5\" y=\"-527.8\" font-family=\"Helvetica,sans-Serif\" font-size=\"14.00\" fill=\"#000000\">samples = 4</text>\n<text text-anchor=\"middle\" x=\"1596.5\" y=\"-512.8\" font-family=\"Helvetica,sans-Serif\" font-size=\"14.00\" fill=\"#000000\">value = [1, 3, 0, 0]</text>\n</g>\n<!-- 78&#45;&gt;80 -->\n<g id=\"edge80\" class=\"edge\">\n<title>78&#45;&gt;80</title>\n<path fill=\"none\" stroke=\"#000000\" d=\"M1593.8097,-608.9465C1594.124,-600.776 1594.4642,-591.9318 1594.7935,-583.3697\"/>\n<polygon fill=\"#000000\" stroke=\"#000000\" points=\"1598.3003,-583.2572 1595.1873,-573.13 1591.3055,-582.9881 1598.3003,-583.2572\"/>\n</g>\n<!-- 81 -->\n<g id=\"node82\" class=\"node\">\n<title>81</title>\n<path fill=\"#47e539\" stroke=\"#000000\" d=\"M1575,-461.5C1575,-461.5 1468,-461.5 1468,-461.5 1462,-461.5 1456,-455.5 1456,-449.5 1456,-449.5 1456,-420.5 1456,-420.5 1456,-414.5 1462,-408.5 1468,-408.5 1468,-408.5 1575,-408.5 1575,-408.5 1581,-408.5 1587,-414.5 1587,-420.5 1587,-420.5 1587,-449.5 1587,-449.5 1587,-455.5 1581,-461.5 1575,-461.5\"/>\n<text text-anchor=\"middle\" x=\"1521.5\" y=\"-446.3\" font-family=\"Helvetica,sans-Serif\" font-size=\"14.00\" fill=\"#000000\">gini = 0.0</text>\n<text text-anchor=\"middle\" x=\"1521.5\" y=\"-431.3\" font-family=\"Helvetica,sans-Serif\" font-size=\"14.00\" fill=\"#000000\">samples = 2</text>\n<text text-anchor=\"middle\" x=\"1521.5\" y=\"-416.3\" font-family=\"Helvetica,sans-Serif\" font-size=\"14.00\" fill=\"#000000\">value = [0, 2, 0, 0]</text>\n</g>\n<!-- 80&#45;&gt;81 -->\n<g id=\"edge81\" class=\"edge\">\n<title>80&#45;&gt;81</title>\n<path fill=\"none\" stroke=\"#000000\" d=\"M1571.9422,-504.9465C1563.8399,-493.7113 1554.8188,-481.2021 1546.6714,-469.9043\"/>\n<polygon fill=\"#000000\" stroke=\"#000000\" points=\"1549.3291,-467.6058 1540.641,-461.5422 1543.6514,-471.7003 1549.3291,-467.6058\"/>\n</g>\n<!-- 82 -->\n<g id=\"node83\" class=\"node\">\n<title>82</title>\n<path fill=\"#ffffff\" stroke=\"#000000\" d=\"M1724,-469C1724,-469 1617,-469 1617,-469 1611,-469 1605,-463 1605,-457 1605,-457 1605,-413 1605,-413 1605,-407 1611,-401 1617,-401 1617,-401 1724,-401 1724,-401 1730,-401 1736,-407 1736,-413 1736,-413 1736,-457 1736,-457 1736,-463 1730,-469 1724,-469\"/>\n<text text-anchor=\"middle\" x=\"1670.5\" y=\"-453.8\" font-family=\"Helvetica,sans-Serif\" font-size=\"14.00\" fill=\"#000000\">X[0] &lt;= 171.5</text>\n<text text-anchor=\"middle\" x=\"1670.5\" y=\"-438.8\" font-family=\"Helvetica,sans-Serif\" font-size=\"14.00\" fill=\"#000000\">gini = 0.5</text>\n<text text-anchor=\"middle\" x=\"1670.5\" y=\"-423.8\" font-family=\"Helvetica,sans-Serif\" font-size=\"14.00\" fill=\"#000000\">samples = 2</text>\n<text text-anchor=\"middle\" x=\"1670.5\" y=\"-408.8\" font-family=\"Helvetica,sans-Serif\" font-size=\"14.00\" fill=\"#000000\">value = [1, 1, 0, 0]</text>\n</g>\n<!-- 80&#45;&gt;82 -->\n<g id=\"edge82\" class=\"edge\">\n<title>80&#45;&gt;82</title>\n<path fill=\"none\" stroke=\"#000000\" d=\"M1620.7304,-504.9465C1626.9912,-496.1475 1633.808,-486.5672 1640.3313,-477.3993\"/>\n<polygon fill=\"#000000\" stroke=\"#000000\" points=\"1643.2694,-479.3071 1646.2152,-469.13 1637.5658,-475.2488 1643.2694,-479.3071\"/>\n</g>\n<!-- 83 -->\n<g id=\"node84\" class=\"node\">\n<title>83</title>\n<path fill=\"#e58139\" stroke=\"#000000\" d=\"M1649,-357.5C1649,-357.5 1542,-357.5 1542,-357.5 1536,-357.5 1530,-351.5 1530,-345.5 1530,-345.5 1530,-316.5 1530,-316.5 1530,-310.5 1536,-304.5 1542,-304.5 1542,-304.5 1649,-304.5 1649,-304.5 1655,-304.5 1661,-310.5 1661,-316.5 1661,-316.5 1661,-345.5 1661,-345.5 1661,-351.5 1655,-357.5 1649,-357.5\"/>\n<text text-anchor=\"middle\" x=\"1595.5\" y=\"-342.3\" font-family=\"Helvetica,sans-Serif\" font-size=\"14.00\" fill=\"#000000\">gini = 0.0</text>\n<text text-anchor=\"middle\" x=\"1595.5\" y=\"-327.3\" font-family=\"Helvetica,sans-Serif\" font-size=\"14.00\" fill=\"#000000\">samples = 1</text>\n<text text-anchor=\"middle\" x=\"1595.5\" y=\"-312.3\" font-family=\"Helvetica,sans-Serif\" font-size=\"14.00\" fill=\"#000000\">value = [1, 0, 0, 0]</text>\n</g>\n<!-- 82&#45;&gt;83 -->\n<g id=\"edge83\" class=\"edge\">\n<title>82&#45;&gt;83</title>\n<path fill=\"none\" stroke=\"#000000\" d=\"M1645.9422,-400.9465C1637.8399,-389.7113 1628.8188,-377.2021 1620.6714,-365.9043\"/>\n<polygon fill=\"#000000\" stroke=\"#000000\" points=\"1623.3291,-363.6058 1614.641,-357.5422 1617.6514,-367.7003 1623.3291,-363.6058\"/>\n</g>\n<!-- 84 -->\n<g id=\"node85\" class=\"node\">\n<title>84</title>\n<path fill=\"#47e539\" stroke=\"#000000\" d=\"M1798,-357.5C1798,-357.5 1691,-357.5 1691,-357.5 1685,-357.5 1679,-351.5 1679,-345.5 1679,-345.5 1679,-316.5 1679,-316.5 1679,-310.5 1685,-304.5 1691,-304.5 1691,-304.5 1798,-304.5 1798,-304.5 1804,-304.5 1810,-310.5 1810,-316.5 1810,-316.5 1810,-345.5 1810,-345.5 1810,-351.5 1804,-357.5 1798,-357.5\"/>\n<text text-anchor=\"middle\" x=\"1744.5\" y=\"-342.3\" font-family=\"Helvetica,sans-Serif\" font-size=\"14.00\" fill=\"#000000\">gini = 0.0</text>\n<text text-anchor=\"middle\" x=\"1744.5\" y=\"-327.3\" font-family=\"Helvetica,sans-Serif\" font-size=\"14.00\" fill=\"#000000\">samples = 1</text>\n<text text-anchor=\"middle\" x=\"1744.5\" y=\"-312.3\" font-family=\"Helvetica,sans-Serif\" font-size=\"14.00\" fill=\"#000000\">value = [0, 1, 0, 0]</text>\n</g>\n<!-- 82&#45;&gt;84 -->\n<g id=\"edge84\" class=\"edge\">\n<title>82&#45;&gt;84</title>\n<path fill=\"none\" stroke=\"#000000\" d=\"M1694.7304,-400.9465C1702.7246,-389.7113 1711.6254,-377.2021 1719.6642,-365.9043\"/>\n<polygon fill=\"#000000\" stroke=\"#000000\" points=\"1722.6684,-367.7192 1725.6142,-357.5422 1716.9649,-363.6609 1722.6684,-367.7192\"/>\n</g>\n<!-- 88 -->\n<g id=\"node89\" class=\"node\">\n<title>88</title>\n<path fill=\"#4de640\" stroke=\"#000000\" d=\"M1953,-1093C1953,-1093 1838,-1093 1838,-1093 1832,-1093 1826,-1087 1826,-1081 1826,-1081 1826,-1037 1826,-1037 1826,-1031 1832,-1025 1838,-1025 1838,-1025 1953,-1025 1953,-1025 1959,-1025 1965,-1031 1965,-1037 1965,-1037 1965,-1081 1965,-1081 1965,-1087 1959,-1093 1953,-1093\"/>\n<text text-anchor=\"middle\" x=\"1895.5\" y=\"-1077.8\" font-family=\"Helvetica,sans-Serif\" font-size=\"14.00\" fill=\"#000000\">X[0] &lt;= 675.0</text>\n<text text-anchor=\"middle\" x=\"1895.5\" y=\"-1062.8\" font-family=\"Helvetica,sans-Serif\" font-size=\"14.00\" fill=\"#000000\">gini = 0.063</text>\n<text text-anchor=\"middle\" x=\"1895.5\" y=\"-1047.8\" font-family=\"Helvetica,sans-Serif\" font-size=\"14.00\" fill=\"#000000\">samples = 61</text>\n<text text-anchor=\"middle\" x=\"1895.5\" y=\"-1032.8\" font-family=\"Helvetica,sans-Serif\" font-size=\"14.00\" fill=\"#000000\">value = [2, 59, 0, 0]</text>\n</g>\n<!-- 87&#45;&gt;88 -->\n<g id=\"edge88\" class=\"edge\">\n<title>87&#45;&gt;88</title>\n<path fill=\"none\" stroke=\"#000000\" d=\"M1895.5,-1128.9465C1895.5,-1120.776 1895.5,-1111.9318 1895.5,-1103.3697\"/>\n<polygon fill=\"#000000\" stroke=\"#000000\" points=\"1899.0001,-1103.13 1895.5,-1093.13 1892.0001,-1103.13 1899.0001,-1103.13\"/>\n</g>\n<!-- 99 -->\n<g id=\"node100\" class=\"node\">\n<title>99</title>\n<path fill=\"#7eed74\" stroke=\"#000000\" d=\"M2157,-1093C2157,-1093 2042,-1093 2042,-1093 2036,-1093 2030,-1087 2030,-1081 2030,-1081 2030,-1037 2030,-1037 2030,-1031 2036,-1025 2042,-1025 2042,-1025 2157,-1025 2157,-1025 2163,-1025 2169,-1031 2169,-1037 2169,-1037 2169,-1081 2169,-1081 2169,-1087 2163,-1093 2157,-1093\"/>\n<text text-anchor=\"middle\" x=\"2099.5\" y=\"-1077.8\" font-family=\"Helvetica,sans-Serif\" font-size=\"14.00\" fill=\"#000000\">X[0] &lt;= 360.0</text>\n<text text-anchor=\"middle\" x=\"2099.5\" y=\"-1062.8\" font-family=\"Helvetica,sans-Serif\" font-size=\"14.00\" fill=\"#000000\">gini = 0.355</text>\n<text text-anchor=\"middle\" x=\"2099.5\" y=\"-1047.8\" font-family=\"Helvetica,sans-Serif\" font-size=\"14.00\" fill=\"#000000\">samples = 13</text>\n<text text-anchor=\"middle\" x=\"2099.5\" y=\"-1032.8\" font-family=\"Helvetica,sans-Serif\" font-size=\"14.00\" fill=\"#000000\">value = [3, 10, 0, 0]</text>\n</g>\n<!-- 87&#45;&gt;99 -->\n<g id=\"edge99\" class=\"edge\">\n<title>87&#45;&gt;99</title>\n<path fill=\"none\" stroke=\"#000000\" d=\"M1962.2972,-1128.9465C1981.8463,-1118.9803 2003.3617,-1108.0117 2023.4406,-1097.7754\"/>\n<polygon fill=\"#000000\" stroke=\"#000000\" points=\"2025.2333,-1100.7901 2032.5527,-1093.13 2022.054,-1094.5537 2025.2333,-1100.7901\"/>\n</g>\n<!-- 89 -->\n<g id=\"node90\" class=\"node\">\n<title>89</title>\n<path fill=\"#51e643\" stroke=\"#000000\" d=\"M1848,-989C1848,-989 1733,-989 1733,-989 1727,-989 1721,-983 1721,-977 1721,-977 1721,-933 1721,-933 1721,-927 1727,-921 1733,-921 1733,-921 1848,-921 1848,-921 1854,-921 1860,-927 1860,-933 1860,-933 1860,-977 1860,-977 1860,-983 1854,-989 1848,-989\"/>\n<text text-anchor=\"middle\" x=\"1790.5\" y=\"-973.8\" font-family=\"Helvetica,sans-Serif\" font-size=\"14.00\" fill=\"#000000\">X[0] &lt;= 671.5</text>\n<text text-anchor=\"middle\" x=\"1790.5\" y=\"-958.8\" font-family=\"Helvetica,sans-Serif\" font-size=\"14.00\" fill=\"#000000\">gini = 0.095</text>\n<text text-anchor=\"middle\" x=\"1790.5\" y=\"-943.8\" font-family=\"Helvetica,sans-Serif\" font-size=\"14.00\" fill=\"#000000\">samples = 40</text>\n<text text-anchor=\"middle\" x=\"1790.5\" y=\"-928.8\" font-family=\"Helvetica,sans-Serif\" font-size=\"14.00\" fill=\"#000000\">value = [2, 38, 0, 0]</text>\n</g>\n<!-- 88&#45;&gt;89 -->\n<g id=\"edge89\" class=\"edge\">\n<title>88&#45;&gt;89</title>\n<path fill=\"none\" stroke=\"#000000\" d=\"M1861.1191,-1024.9465C1851.8729,-1015.7884 1841.7721,-1005.7838 1832.1757,-996.2788\"/>\n<polygon fill=\"#000000\" stroke=\"#000000\" points=\"1834.526,-993.6805 1824.9582,-989.13 1829.6,-998.6539 1834.526,-993.6805\"/>\n</g>\n<!-- 98 -->\n<g id=\"node99\" class=\"node\">\n<title>98</title>\n<path fill=\"#47e539\" stroke=\"#000000\" d=\"M2005,-981.5C2005,-981.5 1890,-981.5 1890,-981.5 1884,-981.5 1878,-975.5 1878,-969.5 1878,-969.5 1878,-940.5 1878,-940.5 1878,-934.5 1884,-928.5 1890,-928.5 1890,-928.5 2005,-928.5 2005,-928.5 2011,-928.5 2017,-934.5 2017,-940.5 2017,-940.5 2017,-969.5 2017,-969.5 2017,-975.5 2011,-981.5 2005,-981.5\"/>\n<text text-anchor=\"middle\" x=\"1947.5\" y=\"-966.3\" font-family=\"Helvetica,sans-Serif\" font-size=\"14.00\" fill=\"#000000\">gini = 0.0</text>\n<text text-anchor=\"middle\" x=\"1947.5\" y=\"-951.3\" font-family=\"Helvetica,sans-Serif\" font-size=\"14.00\" fill=\"#000000\">samples = 21</text>\n<text text-anchor=\"middle\" x=\"1947.5\" y=\"-936.3\" font-family=\"Helvetica,sans-Serif\" font-size=\"14.00\" fill=\"#000000\">value = [0, 21, 0, 0]</text>\n</g>\n<!-- 88&#45;&gt;98 -->\n<g id=\"edge98\" class=\"edge\">\n<title>88&#45;&gt;98</title>\n<path fill=\"none\" stroke=\"#000000\" d=\"M1912.5267,-1024.9465C1918.0342,-1013.9316 1924.1539,-1001.6922 1929.7149,-990.5703\"/>\n<polygon fill=\"#000000\" stroke=\"#000000\" points=\"1932.8872,-992.0517 1934.2289,-981.5422 1926.6262,-988.9212 1932.8872,-992.0517\"/>\n</g>\n<!-- 90 -->\n<g id=\"node91\" class=\"node\">\n<title>90</title>\n<path fill=\"#4ce63e\" stroke=\"#000000\" d=\"M1848,-885C1848,-885 1733,-885 1733,-885 1727,-885 1721,-879 1721,-873 1721,-873 1721,-829 1721,-829 1721,-823 1727,-817 1733,-817 1733,-817 1848,-817 1848,-817 1854,-817 1860,-823 1860,-829 1860,-829 1860,-873 1860,-873 1860,-879 1854,-885 1848,-885\"/>\n<text text-anchor=\"middle\" x=\"1790.5\" y=\"-869.8\" font-family=\"Helvetica,sans-Serif\" font-size=\"14.00\" fill=\"#000000\">X[0] &lt;= 297.0</text>\n<text text-anchor=\"middle\" x=\"1790.5\" y=\"-854.8\" font-family=\"Helvetica,sans-Serif\" font-size=\"14.00\" fill=\"#000000\">gini = 0.05</text>\n<text text-anchor=\"middle\" x=\"1790.5\" y=\"-839.8\" font-family=\"Helvetica,sans-Serif\" font-size=\"14.00\" fill=\"#000000\">samples = 39</text>\n<text text-anchor=\"middle\" x=\"1790.5\" y=\"-824.8\" font-family=\"Helvetica,sans-Serif\" font-size=\"14.00\" fill=\"#000000\">value = [1, 38, 0, 0]</text>\n</g>\n<!-- 89&#45;&gt;90 -->\n<g id=\"edge90\" class=\"edge\">\n<title>89&#45;&gt;90</title>\n<path fill=\"none\" stroke=\"#000000\" d=\"M1790.5,-920.9465C1790.5,-912.776 1790.5,-903.9318 1790.5,-895.3697\"/>\n<polygon fill=\"#000000\" stroke=\"#000000\" points=\"1794.0001,-895.13 1790.5,-885.13 1787.0001,-895.13 1794.0001,-895.13\"/>\n</g>\n<!-- 97 -->\n<g id=\"node98\" class=\"node\">\n<title>97</title>\n<path fill=\"#e58139\" stroke=\"#000000\" d=\"M1997,-877.5C1997,-877.5 1890,-877.5 1890,-877.5 1884,-877.5 1878,-871.5 1878,-865.5 1878,-865.5 1878,-836.5 1878,-836.5 1878,-830.5 1884,-824.5 1890,-824.5 1890,-824.5 1997,-824.5 1997,-824.5 2003,-824.5 2009,-830.5 2009,-836.5 2009,-836.5 2009,-865.5 2009,-865.5 2009,-871.5 2003,-877.5 1997,-877.5\"/>\n<text text-anchor=\"middle\" x=\"1943.5\" y=\"-862.3\" font-family=\"Helvetica,sans-Serif\" font-size=\"14.00\" fill=\"#000000\">gini = 0.0</text>\n<text text-anchor=\"middle\" x=\"1943.5\" y=\"-847.3\" font-family=\"Helvetica,sans-Serif\" font-size=\"14.00\" fill=\"#000000\">samples = 1</text>\n<text text-anchor=\"middle\" x=\"1943.5\" y=\"-832.3\" font-family=\"Helvetica,sans-Serif\" font-size=\"14.00\" fill=\"#000000\">value = [1, 0, 0, 0]</text>\n</g>\n<!-- 89&#45;&gt;97 -->\n<g id=\"edge97\" class=\"edge\">\n<title>89&#45;&gt;97</title>\n<path fill=\"none\" stroke=\"#000000\" d=\"M1840.5979,-920.9465C1858.423,-908.8301 1878.4279,-895.232 1896.0265,-883.2696\"/>\n<polygon fill=\"#000000\" stroke=\"#000000\" points=\"1898.1497,-886.0584 1904.4524,-877.5422 1894.2145,-880.2692 1898.1497,-886.0584\"/>\n</g>\n<!-- 91 -->\n<g id=\"node92\" class=\"node\">\n<title>91</title>\n<path fill=\"#55e748\" stroke=\"#000000\" d=\"M1812,-781C1812,-781 1697,-781 1697,-781 1691,-781 1685,-775 1685,-769 1685,-769 1685,-725 1685,-725 1685,-719 1691,-713 1697,-713 1697,-713 1812,-713 1812,-713 1818,-713 1824,-719 1824,-725 1824,-725 1824,-769 1824,-769 1824,-775 1818,-781 1812,-781\"/>\n<text text-anchor=\"middle\" x=\"1754.5\" y=\"-765.8\" font-family=\"Helvetica,sans-Serif\" font-size=\"14.00\" fill=\"#000000\">X[0] &lt;= 290.0</text>\n<text text-anchor=\"middle\" x=\"1754.5\" y=\"-750.8\" font-family=\"Helvetica,sans-Serif\" font-size=\"14.00\" fill=\"#000000\">gini = 0.133</text>\n<text text-anchor=\"middle\" x=\"1754.5\" y=\"-735.8\" font-family=\"Helvetica,sans-Serif\" font-size=\"14.00\" fill=\"#000000\">samples = 14</text>\n<text text-anchor=\"middle\" x=\"1754.5\" y=\"-720.8\" font-family=\"Helvetica,sans-Serif\" font-size=\"14.00\" fill=\"#000000\">value = [1, 13, 0, 0]</text>\n</g>\n<!-- 90&#45;&gt;91 -->\n<g id=\"edge91\" class=\"edge\">\n<title>90&#45;&gt;91</title>\n<path fill=\"none\" stroke=\"#000000\" d=\"M1778.7123,-816.9465C1775.8219,-808.5965 1772.6879,-799.5427 1769.6635,-790.8056\"/>\n<polygon fill=\"#000000\" stroke=\"#000000\" points=\"1772.8929,-789.435 1766.3142,-781.13 1766.2779,-791.7248 1772.8929,-789.435\"/>\n</g>\n<!-- 96 -->\n<g id=\"node97\" class=\"node\">\n<title>96</title>\n<path fill=\"#47e539\" stroke=\"#000000\" d=\"M1969,-773.5C1969,-773.5 1854,-773.5 1854,-773.5 1848,-773.5 1842,-767.5 1842,-761.5 1842,-761.5 1842,-732.5 1842,-732.5 1842,-726.5 1848,-720.5 1854,-720.5 1854,-720.5 1969,-720.5 1969,-720.5 1975,-720.5 1981,-726.5 1981,-732.5 1981,-732.5 1981,-761.5 1981,-761.5 1981,-767.5 1975,-773.5 1969,-773.5\"/>\n<text text-anchor=\"middle\" x=\"1911.5\" y=\"-758.3\" font-family=\"Helvetica,sans-Serif\" font-size=\"14.00\" fill=\"#000000\">gini = 0.0</text>\n<text text-anchor=\"middle\" x=\"1911.5\" y=\"-743.3\" font-family=\"Helvetica,sans-Serif\" font-size=\"14.00\" fill=\"#000000\">samples = 25</text>\n<text text-anchor=\"middle\" x=\"1911.5\" y=\"-728.3\" font-family=\"Helvetica,sans-Serif\" font-size=\"14.00\" fill=\"#000000\">value = [0, 25, 0, 0]</text>\n</g>\n<!-- 90&#45;&gt;96 -->\n<g id=\"edge96\" class=\"edge\">\n<title>90&#45;&gt;96</title>\n<path fill=\"none\" stroke=\"#000000\" d=\"M1830.1199,-816.9465C1843.8324,-805.1606 1859.1761,-791.9726 1872.8127,-780.2519\"/>\n<polygon fill=\"#000000\" stroke=\"#000000\" points=\"1875.3169,-782.7147 1880.6192,-773.5422 1870.7541,-777.4061 1875.3169,-782.7147\"/>\n</g>\n<!-- 92 -->\n<g id=\"node93\" class=\"node\">\n<title>92</title>\n<path fill=\"#47e539\" stroke=\"#000000\" d=\"M1803,-669.5C1803,-669.5 1688,-669.5 1688,-669.5 1682,-669.5 1676,-663.5 1676,-657.5 1676,-657.5 1676,-628.5 1676,-628.5 1676,-622.5 1682,-616.5 1688,-616.5 1688,-616.5 1803,-616.5 1803,-616.5 1809,-616.5 1815,-622.5 1815,-628.5 1815,-628.5 1815,-657.5 1815,-657.5 1815,-663.5 1809,-669.5 1803,-669.5\"/>\n<text text-anchor=\"middle\" x=\"1745.5\" y=\"-654.3\" font-family=\"Helvetica,sans-Serif\" font-size=\"14.00\" fill=\"#000000\">gini = 0.0</text>\n<text text-anchor=\"middle\" x=\"1745.5\" y=\"-639.3\" font-family=\"Helvetica,sans-Serif\" font-size=\"14.00\" fill=\"#000000\">samples = 12</text>\n<text text-anchor=\"middle\" x=\"1745.5\" y=\"-624.3\" font-family=\"Helvetica,sans-Serif\" font-size=\"14.00\" fill=\"#000000\">value = [0, 12, 0, 0]</text>\n</g>\n<!-- 91&#45;&gt;92 -->\n<g id=\"edge92\" class=\"edge\">\n<title>91&#45;&gt;92</title>\n<path fill=\"none\" stroke=\"#000000\" d=\"M1751.5531,-712.9465C1750.6284,-702.2621 1749.6041,-690.4254 1748.6651,-679.5742\"/>\n<polygon fill=\"#000000\" stroke=\"#000000\" points=\"1752.1461,-679.2031 1747.7969,-669.5422 1745.1722,-679.8067 1752.1461,-679.2031\"/>\n</g>\n<!-- 93 -->\n<g id=\"node94\" class=\"node\">\n<title>93</title>\n<path fill=\"#ffffff\" stroke=\"#000000\" d=\"M1952,-677C1952,-677 1845,-677 1845,-677 1839,-677 1833,-671 1833,-665 1833,-665 1833,-621 1833,-621 1833,-615 1839,-609 1845,-609 1845,-609 1952,-609 1952,-609 1958,-609 1964,-615 1964,-621 1964,-621 1964,-665 1964,-665 1964,-671 1958,-677 1952,-677\"/>\n<text text-anchor=\"middle\" x=\"1898.5\" y=\"-661.8\" font-family=\"Helvetica,sans-Serif\" font-size=\"14.00\" fill=\"#000000\">X[1] &lt;= 30.0</text>\n<text text-anchor=\"middle\" x=\"1898.5\" y=\"-646.8\" font-family=\"Helvetica,sans-Serif\" font-size=\"14.00\" fill=\"#000000\">gini = 0.5</text>\n<text text-anchor=\"middle\" x=\"1898.5\" y=\"-631.8\" font-family=\"Helvetica,sans-Serif\" font-size=\"14.00\" fill=\"#000000\">samples = 2</text>\n<text text-anchor=\"middle\" x=\"1898.5\" y=\"-616.8\" font-family=\"Helvetica,sans-Serif\" font-size=\"14.00\" fill=\"#000000\">value = [1, 1, 0, 0]</text>\n</g>\n<!-- 91&#45;&gt;93 -->\n<g id=\"edge93\" class=\"edge\">\n<title>91&#45;&gt;93</title>\n<path fill=\"none\" stroke=\"#000000\" d=\"M1801.651,-712.9465C1814.8287,-703.4293 1829.2722,-692.9978 1842.8897,-683.163\"/>\n<polygon fill=\"#000000\" stroke=\"#000000\" points=\"1845.1855,-685.8223 1851.2431,-677.13 1841.087,-680.1476 1845.1855,-685.8223\"/>\n</g>\n<!-- 94 -->\n<g id=\"node95\" class=\"node\">\n<title>94</title>\n<path fill=\"#e58139\" stroke=\"#000000\" d=\"M1877,-565.5C1877,-565.5 1770,-565.5 1770,-565.5 1764,-565.5 1758,-559.5 1758,-553.5 1758,-553.5 1758,-524.5 1758,-524.5 1758,-518.5 1764,-512.5 1770,-512.5 1770,-512.5 1877,-512.5 1877,-512.5 1883,-512.5 1889,-518.5 1889,-524.5 1889,-524.5 1889,-553.5 1889,-553.5 1889,-559.5 1883,-565.5 1877,-565.5\"/>\n<text text-anchor=\"middle\" x=\"1823.5\" y=\"-550.3\" font-family=\"Helvetica,sans-Serif\" font-size=\"14.00\" fill=\"#000000\">gini = 0.0</text>\n<text text-anchor=\"middle\" x=\"1823.5\" y=\"-535.3\" font-family=\"Helvetica,sans-Serif\" font-size=\"14.00\" fill=\"#000000\">samples = 1</text>\n<text text-anchor=\"middle\" x=\"1823.5\" y=\"-520.3\" font-family=\"Helvetica,sans-Serif\" font-size=\"14.00\" fill=\"#000000\">value = [1, 0, 0, 0]</text>\n</g>\n<!-- 93&#45;&gt;94 -->\n<g id=\"edge94\" class=\"edge\">\n<title>93&#45;&gt;94</title>\n<path fill=\"none\" stroke=\"#000000\" d=\"M1873.9422,-608.9465C1865.8399,-597.7113 1856.8188,-585.2021 1848.6714,-573.9043\"/>\n<polygon fill=\"#000000\" stroke=\"#000000\" points=\"1851.3291,-571.6058 1842.641,-565.5422 1845.6514,-575.7003 1851.3291,-571.6058\"/>\n</g>\n<!-- 95 -->\n<g id=\"node96\" class=\"node\">\n<title>95</title>\n<path fill=\"#47e539\" stroke=\"#000000\" d=\"M2026,-565.5C2026,-565.5 1919,-565.5 1919,-565.5 1913,-565.5 1907,-559.5 1907,-553.5 1907,-553.5 1907,-524.5 1907,-524.5 1907,-518.5 1913,-512.5 1919,-512.5 1919,-512.5 2026,-512.5 2026,-512.5 2032,-512.5 2038,-518.5 2038,-524.5 2038,-524.5 2038,-553.5 2038,-553.5 2038,-559.5 2032,-565.5 2026,-565.5\"/>\n<text text-anchor=\"middle\" x=\"1972.5\" y=\"-550.3\" font-family=\"Helvetica,sans-Serif\" font-size=\"14.00\" fill=\"#000000\">gini = 0.0</text>\n<text text-anchor=\"middle\" x=\"1972.5\" y=\"-535.3\" font-family=\"Helvetica,sans-Serif\" font-size=\"14.00\" fill=\"#000000\">samples = 1</text>\n<text text-anchor=\"middle\" x=\"1972.5\" y=\"-520.3\" font-family=\"Helvetica,sans-Serif\" font-size=\"14.00\" fill=\"#000000\">value = [0, 1, 0, 0]</text>\n</g>\n<!-- 93&#45;&gt;95 -->\n<g id=\"edge95\" class=\"edge\">\n<title>93&#45;&gt;95</title>\n<path fill=\"none\" stroke=\"#000000\" d=\"M1922.7304,-608.9465C1930.7246,-597.7113 1939.6254,-585.2021 1947.6642,-573.9043\"/>\n<polygon fill=\"#000000\" stroke=\"#000000\" points=\"1950.6684,-575.7192 1953.6142,-565.5422 1944.9649,-571.6609 1950.6684,-575.7192\"/>\n</g>\n<!-- 100 -->\n<g id=\"node101\" class=\"node\">\n<title>100</title>\n<path fill=\"#47e539\" stroke=\"#000000\" d=\"M2154,-981.5C2154,-981.5 2047,-981.5 2047,-981.5 2041,-981.5 2035,-975.5 2035,-969.5 2035,-969.5 2035,-940.5 2035,-940.5 2035,-934.5 2041,-928.5 2047,-928.5 2047,-928.5 2154,-928.5 2154,-928.5 2160,-928.5 2166,-934.5 2166,-940.5 2166,-940.5 2166,-969.5 2166,-969.5 2166,-975.5 2160,-981.5 2154,-981.5\"/>\n<text text-anchor=\"middle\" x=\"2100.5\" y=\"-966.3\" font-family=\"Helvetica,sans-Serif\" font-size=\"14.00\" fill=\"#000000\">gini = 0.0</text>\n<text text-anchor=\"middle\" x=\"2100.5\" y=\"-951.3\" font-family=\"Helvetica,sans-Serif\" font-size=\"14.00\" fill=\"#000000\">samples = 5</text>\n<text text-anchor=\"middle\" x=\"2100.5\" y=\"-936.3\" font-family=\"Helvetica,sans-Serif\" font-size=\"14.00\" fill=\"#000000\">value = [0, 5, 0, 0]</text>\n</g>\n<!-- 99&#45;&gt;100 -->\n<g id=\"edge100\" class=\"edge\">\n<title>99&#45;&gt;100</title>\n<path fill=\"none\" stroke=\"#000000\" d=\"M2099.8274,-1024.9465C2099.9302,-1014.2621 2100.044,-1002.4254 2100.1483,-991.5742\"/>\n<polygon fill=\"#000000\" stroke=\"#000000\" points=\"2103.6484,-991.5754 2100.2448,-981.5422 2096.6487,-991.508 2103.6484,-991.5754\"/>\n</g>\n<!-- 101 -->\n<g id=\"node102\" class=\"node\">\n<title>101</title>\n<path fill=\"#b5f5b0\" stroke=\"#000000\" d=\"M2303,-989C2303,-989 2196,-989 2196,-989 2190,-989 2184,-983 2184,-977 2184,-977 2184,-933 2184,-933 2184,-927 2190,-921 2196,-921 2196,-921 2303,-921 2303,-921 2309,-921 2315,-927 2315,-933 2315,-933 2315,-977 2315,-977 2315,-983 2309,-989 2303,-989\"/>\n<text text-anchor=\"middle\" x=\"2249.5\" y=\"-973.8\" font-family=\"Helvetica,sans-Serif\" font-size=\"14.00\" fill=\"#000000\">X[0] &lt;= 1235.5</text>\n<text text-anchor=\"middle\" x=\"2249.5\" y=\"-958.8\" font-family=\"Helvetica,sans-Serif\" font-size=\"14.00\" fill=\"#000000\">gini = 0.469</text>\n<text text-anchor=\"middle\" x=\"2249.5\" y=\"-943.8\" font-family=\"Helvetica,sans-Serif\" font-size=\"14.00\" fill=\"#000000\">samples = 8</text>\n<text text-anchor=\"middle\" x=\"2249.5\" y=\"-928.8\" font-family=\"Helvetica,sans-Serif\" font-size=\"14.00\" fill=\"#000000\">value = [3, 5, 0, 0]</text>\n</g>\n<!-- 99&#45;&gt;101 -->\n<g id=\"edge101\" class=\"edge\">\n<title>99&#45;&gt;101</title>\n<path fill=\"none\" stroke=\"#000000\" d=\"M2148.6156,-1024.9465C2162.4719,-1015.3395 2177.6717,-1004.8009 2191.9739,-994.8848\"/>\n<polygon fill=\"#000000\" stroke=\"#000000\" points=\"2194.0503,-997.7041 2200.274,-989.13 2190.0618,-991.9515 2194.0503,-997.7041\"/>\n</g>\n<!-- 102 -->\n<g id=\"node103\" class=\"node\">\n<title>102</title>\n<path fill=\"#f6d5bd\" stroke=\"#000000\" d=\"M2156,-885C2156,-885 2049,-885 2049,-885 2043,-885 2037,-879 2037,-873 2037,-873 2037,-829 2037,-829 2037,-823 2043,-817 2049,-817 2049,-817 2156,-817 2156,-817 2162,-817 2168,-823 2168,-829 2168,-829 2168,-873 2168,-873 2168,-879 2162,-885 2156,-885\"/>\n<text text-anchor=\"middle\" x=\"2102.5\" y=\"-869.8\" font-family=\"Helvetica,sans-Serif\" font-size=\"14.00\" fill=\"#000000\">X[1] &lt;= 37.5</text>\n<text text-anchor=\"middle\" x=\"2102.5\" y=\"-854.8\" font-family=\"Helvetica,sans-Serif\" font-size=\"14.00\" fill=\"#000000\">gini = 0.48</text>\n<text text-anchor=\"middle\" x=\"2102.5\" y=\"-839.8\" font-family=\"Helvetica,sans-Serif\" font-size=\"14.00\" fill=\"#000000\">samples = 5</text>\n<text text-anchor=\"middle\" x=\"2102.5\" y=\"-824.8\" font-family=\"Helvetica,sans-Serif\" font-size=\"14.00\" fill=\"#000000\">value = [3, 2, 0, 0]</text>\n</g>\n<!-- 101&#45;&gt;102 -->\n<g id=\"edge102\" class=\"edge\">\n<title>101&#45;&gt;102</title>\n<path fill=\"none\" stroke=\"#000000\" d=\"M2201.3667,-920.9465C2187.9144,-911.4293 2173.17,-900.9978 2159.2688,-891.163\"/>\n<polygon fill=\"#000000\" stroke=\"#000000\" points=\"2160.9264,-888.0483 2150.7414,-885.13 2156.8835,-893.7628 2160.9264,-888.0483\"/>\n</g>\n<!-- 109 -->\n<g id=\"node110\" class=\"node\">\n<title>109</title>\n<path fill=\"#47e539\" stroke=\"#000000\" d=\"M2305,-877.5C2305,-877.5 2198,-877.5 2198,-877.5 2192,-877.5 2186,-871.5 2186,-865.5 2186,-865.5 2186,-836.5 2186,-836.5 2186,-830.5 2192,-824.5 2198,-824.5 2198,-824.5 2305,-824.5 2305,-824.5 2311,-824.5 2317,-830.5 2317,-836.5 2317,-836.5 2317,-865.5 2317,-865.5 2317,-871.5 2311,-877.5 2305,-877.5\"/>\n<text text-anchor=\"middle\" x=\"2251.5\" y=\"-862.3\" font-family=\"Helvetica,sans-Serif\" font-size=\"14.00\" fill=\"#000000\">gini = 0.0</text>\n<text text-anchor=\"middle\" x=\"2251.5\" y=\"-847.3\" font-family=\"Helvetica,sans-Serif\" font-size=\"14.00\" fill=\"#000000\">samples = 3</text>\n<text text-anchor=\"middle\" x=\"2251.5\" y=\"-832.3\" font-family=\"Helvetica,sans-Serif\" font-size=\"14.00\" fill=\"#000000\">value = [0, 3, 0, 0]</text>\n</g>\n<!-- 101&#45;&gt;109 -->\n<g id=\"edge109\" class=\"edge\">\n<title>101&#45;&gt;109</title>\n<path fill=\"none\" stroke=\"#000000\" d=\"M2250.1549,-920.9465C2250.3603,-910.2621 2250.588,-898.4254 2250.7966,-887.5742\"/>\n<polygon fill=\"#000000\" stroke=\"#000000\" points=\"2254.2966,-887.6076 2250.9896,-877.5422 2247.2979,-887.473 2254.2966,-887.6076\"/>\n</g>\n<!-- 103 -->\n<g id=\"node104\" class=\"node\">\n<title>103</title>\n<path fill=\"#e58139\" stroke=\"#000000\" d=\"M2148,-773.5C2148,-773.5 2041,-773.5 2041,-773.5 2035,-773.5 2029,-767.5 2029,-761.5 2029,-761.5 2029,-732.5 2029,-732.5 2029,-726.5 2035,-720.5 2041,-720.5 2041,-720.5 2148,-720.5 2148,-720.5 2154,-720.5 2160,-726.5 2160,-732.5 2160,-732.5 2160,-761.5 2160,-761.5 2160,-767.5 2154,-773.5 2148,-773.5\"/>\n<text text-anchor=\"middle\" x=\"2094.5\" y=\"-758.3\" font-family=\"Helvetica,sans-Serif\" font-size=\"14.00\" fill=\"#000000\">gini = 0.0</text>\n<text text-anchor=\"middle\" x=\"2094.5\" y=\"-743.3\" font-family=\"Helvetica,sans-Serif\" font-size=\"14.00\" fill=\"#000000\">samples = 1</text>\n<text text-anchor=\"middle\" x=\"2094.5\" y=\"-728.3\" font-family=\"Helvetica,sans-Serif\" font-size=\"14.00\" fill=\"#000000\">value = [1, 0, 0, 0]</text>\n</g>\n<!-- 102&#45;&gt;103 -->\n<g id=\"edge103\" class=\"edge\">\n<title>102&#45;&gt;103</title>\n<path fill=\"none\" stroke=\"#000000\" d=\"M2099.8805,-816.9465C2099.0586,-806.2621 2098.1481,-794.4254 2097.3134,-783.5742\"/>\n<polygon fill=\"#000000\" stroke=\"#000000\" points=\"2100.7985,-783.2442 2096.5417,-773.5422 2093.8191,-783.7812 2100.7985,-783.2442\"/>\n</g>\n<!-- 104 -->\n<g id=\"node105\" class=\"node\">\n<title>104</title>\n<path fill=\"#ffffff\" stroke=\"#000000\" d=\"M2297,-781C2297,-781 2190,-781 2190,-781 2184,-781 2178,-775 2178,-769 2178,-769 2178,-725 2178,-725 2178,-719 2184,-713 2190,-713 2190,-713 2297,-713 2297,-713 2303,-713 2309,-719 2309,-725 2309,-725 2309,-769 2309,-769 2309,-775 2303,-781 2297,-781\"/>\n<text text-anchor=\"middle\" x=\"2243.5\" y=\"-765.8\" font-family=\"Helvetica,sans-Serif\" font-size=\"14.00\" fill=\"#000000\">X[0] &lt;= 402.0</text>\n<text text-anchor=\"middle\" x=\"2243.5\" y=\"-750.8\" font-family=\"Helvetica,sans-Serif\" font-size=\"14.00\" fill=\"#000000\">gini = 0.5</text>\n<text text-anchor=\"middle\" x=\"2243.5\" y=\"-735.8\" font-family=\"Helvetica,sans-Serif\" font-size=\"14.00\" fill=\"#000000\">samples = 4</text>\n<text text-anchor=\"middle\" x=\"2243.5\" y=\"-720.8\" font-family=\"Helvetica,sans-Serif\" font-size=\"14.00\" fill=\"#000000\">value = [2, 2, 0, 0]</text>\n</g>\n<!-- 102&#45;&gt;104 -->\n<g id=\"edge104\" class=\"edge\">\n<title>102&#45;&gt;104</title>\n<path fill=\"none\" stroke=\"#000000\" d=\"M2148.6687,-816.9465C2161.5719,-807.4293 2175.7145,-796.9978 2189.0483,-787.163\"/>\n<polygon fill=\"#000000\" stroke=\"#000000\" points=\"2191.2575,-789.8826 2197.2276,-781.13 2187.1023,-784.2492 2191.2575,-789.8826\"/>\n</g>\n<!-- 105 -->\n<g id=\"node106\" class=\"node\">\n<title>105</title>\n<path fill=\"#e58139\" stroke=\"#000000\" d=\"M2203,-669.5C2203,-669.5 2096,-669.5 2096,-669.5 2090,-669.5 2084,-663.5 2084,-657.5 2084,-657.5 2084,-628.5 2084,-628.5 2084,-622.5 2090,-616.5 2096,-616.5 2096,-616.5 2203,-616.5 2203,-616.5 2209,-616.5 2215,-622.5 2215,-628.5 2215,-628.5 2215,-657.5 2215,-657.5 2215,-663.5 2209,-669.5 2203,-669.5\"/>\n<text text-anchor=\"middle\" x=\"2149.5\" y=\"-654.3\" font-family=\"Helvetica,sans-Serif\" font-size=\"14.00\" fill=\"#000000\">gini = 0.0</text>\n<text text-anchor=\"middle\" x=\"2149.5\" y=\"-639.3\" font-family=\"Helvetica,sans-Serif\" font-size=\"14.00\" fill=\"#000000\">samples = 1</text>\n<text text-anchor=\"middle\" x=\"2149.5\" y=\"-624.3\" font-family=\"Helvetica,sans-Serif\" font-size=\"14.00\" fill=\"#000000\">value = [1, 0, 0, 0]</text>\n</g>\n<!-- 104&#45;&gt;105 -->\n<g id=\"edge105\" class=\"edge\">\n<title>104&#45;&gt;105</title>\n<path fill=\"none\" stroke=\"#000000\" d=\"M2212.7209,-712.9465C2202.3669,-701.491 2190.8158,-688.711 2180.4487,-677.2412\"/>\n<polygon fill=\"#000000\" stroke=\"#000000\" points=\"2182.792,-674.614 2173.49,-669.5422 2177.5989,-679.3078 2182.792,-674.614\"/>\n</g>\n<!-- 106 -->\n<g id=\"node107\" class=\"node\">\n<title>106</title>\n<path fill=\"#a3f29c\" stroke=\"#000000\" d=\"M2352,-677C2352,-677 2245,-677 2245,-677 2239,-677 2233,-671 2233,-665 2233,-665 2233,-621 2233,-621 2233,-615 2239,-609 2245,-609 2245,-609 2352,-609 2352,-609 2358,-609 2364,-615 2364,-621 2364,-621 2364,-665 2364,-665 2364,-671 2358,-677 2352,-677\"/>\n<text text-anchor=\"middle\" x=\"2298.5\" y=\"-661.8\" font-family=\"Helvetica,sans-Serif\" font-size=\"14.00\" fill=\"#000000\">X[0] &lt;= 902.5</text>\n<text text-anchor=\"middle\" x=\"2298.5\" y=\"-646.8\" font-family=\"Helvetica,sans-Serif\" font-size=\"14.00\" fill=\"#000000\">gini = 0.444</text>\n<text text-anchor=\"middle\" x=\"2298.5\" y=\"-631.8\" font-family=\"Helvetica,sans-Serif\" font-size=\"14.00\" fill=\"#000000\">samples = 3</text>\n<text text-anchor=\"middle\" x=\"2298.5\" y=\"-616.8\" font-family=\"Helvetica,sans-Serif\" font-size=\"14.00\" fill=\"#000000\">value = [1, 2, 0, 0]</text>\n</g>\n<!-- 104&#45;&gt;106 -->\n<g id=\"edge106\" class=\"edge\">\n<title>104&#45;&gt;106</title>\n<path fill=\"none\" stroke=\"#000000\" d=\"M2261.5091,-712.9465C2266.0199,-704.4169 2270.9191,-695.153 2275.6314,-686.2424\"/>\n<polygon fill=\"#000000\" stroke=\"#000000\" points=\"2278.8694,-687.6062 2280.4505,-677.13 2272.6815,-684.3337 2278.8694,-687.6062\"/>\n</g>\n<!-- 107 -->\n<g id=\"node108\" class=\"node\">\n<title>107</title>\n<path fill=\"#47e539\" stroke=\"#000000\" d=\"M2277,-565.5C2277,-565.5 2170,-565.5 2170,-565.5 2164,-565.5 2158,-559.5 2158,-553.5 2158,-553.5 2158,-524.5 2158,-524.5 2158,-518.5 2164,-512.5 2170,-512.5 2170,-512.5 2277,-512.5 2277,-512.5 2283,-512.5 2289,-518.5 2289,-524.5 2289,-524.5 2289,-553.5 2289,-553.5 2289,-559.5 2283,-565.5 2277,-565.5\"/>\n<text text-anchor=\"middle\" x=\"2223.5\" y=\"-550.3\" font-family=\"Helvetica,sans-Serif\" font-size=\"14.00\" fill=\"#000000\">gini = 0.0</text>\n<text text-anchor=\"middle\" x=\"2223.5\" y=\"-535.3\" font-family=\"Helvetica,sans-Serif\" font-size=\"14.00\" fill=\"#000000\">samples = 2</text>\n<text text-anchor=\"middle\" x=\"2223.5\" y=\"-520.3\" font-family=\"Helvetica,sans-Serif\" font-size=\"14.00\" fill=\"#000000\">value = [0, 2, 0, 0]</text>\n</g>\n<!-- 106&#45;&gt;107 -->\n<g id=\"edge107\" class=\"edge\">\n<title>106&#45;&gt;107</title>\n<path fill=\"none\" stroke=\"#000000\" d=\"M2273.9422,-608.9465C2265.8399,-597.7113 2256.8188,-585.2021 2248.6714,-573.9043\"/>\n<polygon fill=\"#000000\" stroke=\"#000000\" points=\"2251.3291,-571.6058 2242.641,-565.5422 2245.6514,-575.7003 2251.3291,-571.6058\"/>\n</g>\n<!-- 108 -->\n<g id=\"node109\" class=\"node\">\n<title>108</title>\n<path fill=\"#e58139\" stroke=\"#000000\" d=\"M2426,-565.5C2426,-565.5 2319,-565.5 2319,-565.5 2313,-565.5 2307,-559.5 2307,-553.5 2307,-553.5 2307,-524.5 2307,-524.5 2307,-518.5 2313,-512.5 2319,-512.5 2319,-512.5 2426,-512.5 2426,-512.5 2432,-512.5 2438,-518.5 2438,-524.5 2438,-524.5 2438,-553.5 2438,-553.5 2438,-559.5 2432,-565.5 2426,-565.5\"/>\n<text text-anchor=\"middle\" x=\"2372.5\" y=\"-550.3\" font-family=\"Helvetica,sans-Serif\" font-size=\"14.00\" fill=\"#000000\">gini = 0.0</text>\n<text text-anchor=\"middle\" x=\"2372.5\" y=\"-535.3\" font-family=\"Helvetica,sans-Serif\" font-size=\"14.00\" fill=\"#000000\">samples = 1</text>\n<text text-anchor=\"middle\" x=\"2372.5\" y=\"-520.3\" font-family=\"Helvetica,sans-Serif\" font-size=\"14.00\" fill=\"#000000\">value = [1, 0, 0, 0]</text>\n</g>\n<!-- 106&#45;&gt;108 -->\n<g id=\"edge108\" class=\"edge\">\n<title>106&#45;&gt;108</title>\n<path fill=\"none\" stroke=\"#000000\" d=\"M2322.7304,-608.9465C2330.7246,-597.7113 2339.6254,-585.2021 2347.6642,-573.9043\"/>\n<polygon fill=\"#000000\" stroke=\"#000000\" points=\"2350.6684,-575.7192 2353.6142,-565.5422 2344.9649,-571.6609 2350.6684,-575.7192\"/>\n</g>\n<!-- 111 -->\n<g id=\"node112\" class=\"node\">\n<title>111</title>\n<path fill=\"#f4c9aa\" stroke=\"#000000\" d=\"M2153,-1301C2153,-1301 2046,-1301 2046,-1301 2040,-1301 2034,-1295 2034,-1289 2034,-1289 2034,-1245 2034,-1245 2034,-1239 2040,-1233 2046,-1233 2046,-1233 2153,-1233 2153,-1233 2159,-1233 2165,-1239 2165,-1245 2165,-1245 2165,-1289 2165,-1289 2165,-1295 2159,-1301 2153,-1301\"/>\n<text text-anchor=\"middle\" x=\"2099.5\" y=\"-1285.8\" font-family=\"Helvetica,sans-Serif\" font-size=\"14.00\" fill=\"#000000\">X[0] &lt;= 124.0</text>\n<text text-anchor=\"middle\" x=\"2099.5\" y=\"-1270.8\" font-family=\"Helvetica,sans-Serif\" font-size=\"14.00\" fill=\"#000000\">gini = 0.463</text>\n<text text-anchor=\"middle\" x=\"2099.5\" y=\"-1255.8\" font-family=\"Helvetica,sans-Serif\" font-size=\"14.00\" fill=\"#000000\">samples = 11</text>\n<text text-anchor=\"middle\" x=\"2099.5\" y=\"-1240.8\" font-family=\"Helvetica,sans-Serif\" font-size=\"14.00\" fill=\"#000000\">value = [7, 4, 0, 0]</text>\n</g>\n<!-- 110&#45;&gt;111 -->\n<g id=\"edge111\" class=\"edge\">\n<title>110&#45;&gt;111</title>\n<path fill=\"none\" stroke=\"#000000\" d=\"M2099.5,-1336.9465C2099.5,-1328.776 2099.5,-1319.9318 2099.5,-1311.3697\"/>\n<polygon fill=\"#000000\" stroke=\"#000000\" points=\"2103.0001,-1311.13 2099.5,-1301.13 2096.0001,-1311.13 2103.0001,-1311.13\"/>\n</g>\n<!-- 124 -->\n<g id=\"node125\" class=\"node\">\n<title>124</title>\n<path fill=\"#47e539\" stroke=\"#000000\" d=\"M2302,-1293.5C2302,-1293.5 2195,-1293.5 2195,-1293.5 2189,-1293.5 2183,-1287.5 2183,-1281.5 2183,-1281.5 2183,-1252.5 2183,-1252.5 2183,-1246.5 2189,-1240.5 2195,-1240.5 2195,-1240.5 2302,-1240.5 2302,-1240.5 2308,-1240.5 2314,-1246.5 2314,-1252.5 2314,-1252.5 2314,-1281.5 2314,-1281.5 2314,-1287.5 2308,-1293.5 2302,-1293.5\"/>\n<text text-anchor=\"middle\" x=\"2248.5\" y=\"-1278.3\" font-family=\"Helvetica,sans-Serif\" font-size=\"14.00\" fill=\"#000000\">gini = 0.0</text>\n<text text-anchor=\"middle\" x=\"2248.5\" y=\"-1263.3\" font-family=\"Helvetica,sans-Serif\" font-size=\"14.00\" fill=\"#000000\">samples = 2</text>\n<text text-anchor=\"middle\" x=\"2248.5\" y=\"-1248.3\" font-family=\"Helvetica,sans-Serif\" font-size=\"14.00\" fill=\"#000000\">value = [0, 2, 0, 0]</text>\n</g>\n<!-- 110&#45;&gt;124 -->\n<g id=\"edge124\" class=\"edge\">\n<title>110&#45;&gt;124</title>\n<path fill=\"none\" stroke=\"#000000\" d=\"M2148.2882,-1336.9465C2165.6472,-1324.8301 2185.1291,-1311.232 2202.2676,-1299.2696\"/>\n<polygon fill=\"#000000\" stroke=\"#000000\" points=\"2204.2764,-1302.1358 2210.4732,-1293.5422 2200.2699,-1296.3957 2204.2764,-1302.1358\"/>\n</g>\n<!-- 112 -->\n<g id=\"node113\" class=\"node\">\n<title>112</title>\n<path fill=\"#47e539\" stroke=\"#000000\" d=\"M2153,-1189.5C2153,-1189.5 2046,-1189.5 2046,-1189.5 2040,-1189.5 2034,-1183.5 2034,-1177.5 2034,-1177.5 2034,-1148.5 2034,-1148.5 2034,-1142.5 2040,-1136.5 2046,-1136.5 2046,-1136.5 2153,-1136.5 2153,-1136.5 2159,-1136.5 2165,-1142.5 2165,-1148.5 2165,-1148.5 2165,-1177.5 2165,-1177.5 2165,-1183.5 2159,-1189.5 2153,-1189.5\"/>\n<text text-anchor=\"middle\" x=\"2099.5\" y=\"-1174.3\" font-family=\"Helvetica,sans-Serif\" font-size=\"14.00\" fill=\"#000000\">gini = 0.0</text>\n<text text-anchor=\"middle\" x=\"2099.5\" y=\"-1159.3\" font-family=\"Helvetica,sans-Serif\" font-size=\"14.00\" fill=\"#000000\">samples = 1</text>\n<text text-anchor=\"middle\" x=\"2099.5\" y=\"-1144.3\" font-family=\"Helvetica,sans-Serif\" font-size=\"14.00\" fill=\"#000000\">value = [0, 1, 0, 0]</text>\n</g>\n<!-- 111&#45;&gt;112 -->\n<g id=\"edge112\" class=\"edge\">\n<title>111&#45;&gt;112</title>\n<path fill=\"none\" stroke=\"#000000\" d=\"M2099.5,-1232.9465C2099.5,-1222.2621 2099.5,-1210.4254 2099.5,-1199.5742\"/>\n<polygon fill=\"#000000\" stroke=\"#000000\" points=\"2103.0001,-1199.5421 2099.5,-1189.5422 2096.0001,-1199.5422 2103.0001,-1199.5421\"/>\n</g>\n<!-- 113 -->\n<g id=\"node114\" class=\"node\">\n<title>113</title>\n<path fill=\"#f0b78e\" stroke=\"#000000\" d=\"M2306,-1197C2306,-1197 2199,-1197 2199,-1197 2193,-1197 2187,-1191 2187,-1185 2187,-1185 2187,-1141 2187,-1141 2187,-1135 2193,-1129 2199,-1129 2199,-1129 2306,-1129 2306,-1129 2312,-1129 2318,-1135 2318,-1141 2318,-1141 2318,-1185 2318,-1185 2318,-1191 2312,-1197 2306,-1197\"/>\n<text text-anchor=\"middle\" x=\"2252.5\" y=\"-1181.8\" font-family=\"Helvetica,sans-Serif\" font-size=\"14.00\" fill=\"#000000\">X[0] &lt;= 183.0</text>\n<text text-anchor=\"middle\" x=\"2252.5\" y=\"-1166.8\" font-family=\"Helvetica,sans-Serif\" font-size=\"14.00\" fill=\"#000000\">gini = 0.42</text>\n<text text-anchor=\"middle\" x=\"2252.5\" y=\"-1151.8\" font-family=\"Helvetica,sans-Serif\" font-size=\"14.00\" fill=\"#000000\">samples = 10</text>\n<text text-anchor=\"middle\" x=\"2252.5\" y=\"-1136.8\" font-family=\"Helvetica,sans-Serif\" font-size=\"14.00\" fill=\"#000000\">value = [7, 3, 0, 0]</text>\n</g>\n<!-- 111&#45;&gt;113 -->\n<g id=\"edge113\" class=\"edge\">\n<title>111&#45;&gt;113</title>\n<path fill=\"none\" stroke=\"#000000\" d=\"M2149.5979,-1232.9465C2163.7313,-1223.3395 2179.2352,-1212.8009 2193.8233,-1202.8848\"/>\n<polygon fill=\"#000000\" stroke=\"#000000\" points=\"2195.9868,-1205.6463 2202.2895,-1197.13 2192.0517,-1199.8571 2195.9868,-1205.6463\"/>\n</g>\n<!-- 114 -->\n<g id=\"node115\" class=\"node\">\n<title>114</title>\n<path fill=\"#e58139\" stroke=\"#000000\" d=\"M2306,-1085.5C2306,-1085.5 2199,-1085.5 2199,-1085.5 2193,-1085.5 2187,-1079.5 2187,-1073.5 2187,-1073.5 2187,-1044.5 2187,-1044.5 2187,-1038.5 2193,-1032.5 2199,-1032.5 2199,-1032.5 2306,-1032.5 2306,-1032.5 2312,-1032.5 2318,-1038.5 2318,-1044.5 2318,-1044.5 2318,-1073.5 2318,-1073.5 2318,-1079.5 2312,-1085.5 2306,-1085.5\"/>\n<text text-anchor=\"middle\" x=\"2252.5\" y=\"-1070.3\" font-family=\"Helvetica,sans-Serif\" font-size=\"14.00\" fill=\"#000000\">gini = 0.0</text>\n<text text-anchor=\"middle\" x=\"2252.5\" y=\"-1055.3\" font-family=\"Helvetica,sans-Serif\" font-size=\"14.00\" fill=\"#000000\">samples = 2</text>\n<text text-anchor=\"middle\" x=\"2252.5\" y=\"-1040.3\" font-family=\"Helvetica,sans-Serif\" font-size=\"14.00\" fill=\"#000000\">value = [2, 0, 0, 0]</text>\n</g>\n<!-- 113&#45;&gt;114 -->\n<g id=\"edge114\" class=\"edge\">\n<title>113&#45;&gt;114</title>\n<path fill=\"none\" stroke=\"#000000\" d=\"M2252.5,-1128.9465C2252.5,-1118.2621 2252.5,-1106.4254 2252.5,-1095.5742\"/>\n<polygon fill=\"#000000\" stroke=\"#000000\" points=\"2256.0001,-1095.5421 2252.5,-1085.5422 2249.0001,-1095.5422 2256.0001,-1095.5421\"/>\n</g>\n<!-- 115 -->\n<g id=\"node116\" class=\"node\">\n<title>115</title>\n<path fill=\"#f5cdb0\" stroke=\"#000000\" d=\"M2455,-1093C2455,-1093 2348,-1093 2348,-1093 2342,-1093 2336,-1087 2336,-1081 2336,-1081 2336,-1037 2336,-1037 2336,-1031 2342,-1025 2348,-1025 2348,-1025 2455,-1025 2455,-1025 2461,-1025 2467,-1031 2467,-1037 2467,-1037 2467,-1081 2467,-1081 2467,-1087 2461,-1093 2455,-1093\"/>\n<text text-anchor=\"middle\" x=\"2401.5\" y=\"-1077.8\" font-family=\"Helvetica,sans-Serif\" font-size=\"14.00\" fill=\"#000000\">X[0] &lt;= 184.5</text>\n<text text-anchor=\"middle\" x=\"2401.5\" y=\"-1062.8\" font-family=\"Helvetica,sans-Serif\" font-size=\"14.00\" fill=\"#000000\">gini = 0.469</text>\n<text text-anchor=\"middle\" x=\"2401.5\" y=\"-1047.8\" font-family=\"Helvetica,sans-Serif\" font-size=\"14.00\" fill=\"#000000\">samples = 8</text>\n<text text-anchor=\"middle\" x=\"2401.5\" y=\"-1032.8\" font-family=\"Helvetica,sans-Serif\" font-size=\"14.00\" fill=\"#000000\">value = [5, 3, 0, 0]</text>\n</g>\n<!-- 113&#45;&gt;115 -->\n<g id=\"edge115\" class=\"edge\">\n<title>113&#45;&gt;115</title>\n<path fill=\"none\" stroke=\"#000000\" d=\"M2301.2882,-1128.9465C2315.0521,-1119.3395 2330.1506,-1108.8009 2344.3574,-1098.8848\"/>\n<polygon fill=\"#000000\" stroke=\"#000000\" points=\"2346.4054,-1101.7236 2352.6022,-1093.13 2342.3989,-1095.9835 2346.4054,-1101.7236\"/>\n</g>\n<!-- 116 -->\n<g id=\"node117\" class=\"node\">\n<title>116</title>\n<path fill=\"#47e539\" stroke=\"#000000\" d=\"M2454,-981.5C2454,-981.5 2347,-981.5 2347,-981.5 2341,-981.5 2335,-975.5 2335,-969.5 2335,-969.5 2335,-940.5 2335,-940.5 2335,-934.5 2341,-928.5 2347,-928.5 2347,-928.5 2454,-928.5 2454,-928.5 2460,-928.5 2466,-934.5 2466,-940.5 2466,-940.5 2466,-969.5 2466,-969.5 2466,-975.5 2460,-981.5 2454,-981.5\"/>\n<text text-anchor=\"middle\" x=\"2400.5\" y=\"-966.3\" font-family=\"Helvetica,sans-Serif\" font-size=\"14.00\" fill=\"#000000\">gini = 0.0</text>\n<text text-anchor=\"middle\" x=\"2400.5\" y=\"-951.3\" font-family=\"Helvetica,sans-Serif\" font-size=\"14.00\" fill=\"#000000\">samples = 1</text>\n<text text-anchor=\"middle\" x=\"2400.5\" y=\"-936.3\" font-family=\"Helvetica,sans-Serif\" font-size=\"14.00\" fill=\"#000000\">value = [0, 1, 0, 0]</text>\n</g>\n<!-- 115&#45;&gt;116 -->\n<g id=\"edge116\" class=\"edge\">\n<title>115&#45;&gt;116</title>\n<path fill=\"none\" stroke=\"#000000\" d=\"M2401.1726,-1024.9465C2401.0698,-1014.2621 2400.956,-1002.4254 2400.8517,-991.5742\"/>\n<polygon fill=\"#000000\" stroke=\"#000000\" points=\"2404.3513,-991.508 2400.7552,-981.5422 2397.3516,-991.5754 2404.3513,-991.508\"/>\n</g>\n<!-- 117 -->\n<g id=\"node118\" class=\"node\">\n<title>117</title>\n<path fill=\"#efb388\" stroke=\"#000000\" d=\"M2603,-989C2603,-989 2496,-989 2496,-989 2490,-989 2484,-983 2484,-977 2484,-977 2484,-933 2484,-933 2484,-927 2490,-921 2496,-921 2496,-921 2603,-921 2603,-921 2609,-921 2615,-927 2615,-933 2615,-933 2615,-977 2615,-977 2615,-983 2609,-989 2603,-989\"/>\n<text text-anchor=\"middle\" x=\"2549.5\" y=\"-973.8\" font-family=\"Helvetica,sans-Serif\" font-size=\"14.00\" fill=\"#000000\">X[1] &lt;= 42.5</text>\n<text text-anchor=\"middle\" x=\"2549.5\" y=\"-958.8\" font-family=\"Helvetica,sans-Serif\" font-size=\"14.00\" fill=\"#000000\">gini = 0.408</text>\n<text text-anchor=\"middle\" x=\"2549.5\" y=\"-943.8\" font-family=\"Helvetica,sans-Serif\" font-size=\"14.00\" fill=\"#000000\">samples = 7</text>\n<text text-anchor=\"middle\" x=\"2549.5\" y=\"-928.8\" font-family=\"Helvetica,sans-Serif\" font-size=\"14.00\" fill=\"#000000\">value = [5, 2, 0, 0]</text>\n</g>\n<!-- 115&#45;&gt;117 -->\n<g id=\"edge117\" class=\"edge\">\n<title>115&#45;&gt;117</title>\n<path fill=\"none\" stroke=\"#000000\" d=\"M2449.9607,-1024.9465C2463.6323,-1015.3395 2478.6294,-1004.8009 2492.7409,-994.8848\"/>\n<polygon fill=\"#000000\" stroke=\"#000000\" points=\"2494.7608,-997.7432 2500.9304,-989.13 2490.7361,-992.0158 2494.7608,-997.7432\"/>\n</g>\n<!-- 118 -->\n<g id=\"node119\" class=\"node\">\n<title>118</title>\n<path fill=\"#e58139\" stroke=\"#000000\" d=\"M2455,-877.5C2455,-877.5 2348,-877.5 2348,-877.5 2342,-877.5 2336,-871.5 2336,-865.5 2336,-865.5 2336,-836.5 2336,-836.5 2336,-830.5 2342,-824.5 2348,-824.5 2348,-824.5 2455,-824.5 2455,-824.5 2461,-824.5 2467,-830.5 2467,-836.5 2467,-836.5 2467,-865.5 2467,-865.5 2467,-871.5 2461,-877.5 2455,-877.5\"/>\n<text text-anchor=\"middle\" x=\"2401.5\" y=\"-862.3\" font-family=\"Helvetica,sans-Serif\" font-size=\"14.00\" fill=\"#000000\">gini = 0.0</text>\n<text text-anchor=\"middle\" x=\"2401.5\" y=\"-847.3\" font-family=\"Helvetica,sans-Serif\" font-size=\"14.00\" fill=\"#000000\">samples = 2</text>\n<text text-anchor=\"middle\" x=\"2401.5\" y=\"-832.3\" font-family=\"Helvetica,sans-Serif\" font-size=\"14.00\" fill=\"#000000\">value = [2, 0, 0, 0]</text>\n</g>\n<!-- 117&#45;&gt;118 -->\n<g id=\"edge118\" class=\"edge\">\n<title>117&#45;&gt;118</title>\n<path fill=\"none\" stroke=\"#000000\" d=\"M2501.0393,-920.9465C2483.9535,-908.9403 2464.7972,-895.4791 2447.887,-883.5962\"/>\n<polygon fill=\"#000000\" stroke=\"#000000\" points=\"2449.4658,-880.428 2439.2715,-877.5422 2445.4412,-886.1553 2449.4658,-880.428\"/>\n</g>\n<!-- 119 -->\n<g id=\"node120\" class=\"node\">\n<title>119</title>\n<path fill=\"#f6d5bd\" stroke=\"#000000\" d=\"M2604,-885C2604,-885 2497,-885 2497,-885 2491,-885 2485,-879 2485,-873 2485,-873 2485,-829 2485,-829 2485,-823 2491,-817 2497,-817 2497,-817 2604,-817 2604,-817 2610,-817 2616,-823 2616,-829 2616,-829 2616,-873 2616,-873 2616,-879 2610,-885 2604,-885\"/>\n<text text-anchor=\"middle\" x=\"2550.5\" y=\"-869.8\" font-family=\"Helvetica,sans-Serif\" font-size=\"14.00\" fill=\"#000000\">X[0] &lt;= 231.0</text>\n<text text-anchor=\"middle\" x=\"2550.5\" y=\"-854.8\" font-family=\"Helvetica,sans-Serif\" font-size=\"14.00\" fill=\"#000000\">gini = 0.48</text>\n<text text-anchor=\"middle\" x=\"2550.5\" y=\"-839.8\" font-family=\"Helvetica,sans-Serif\" font-size=\"14.00\" fill=\"#000000\">samples = 5</text>\n<text text-anchor=\"middle\" x=\"2550.5\" y=\"-824.8\" font-family=\"Helvetica,sans-Serif\" font-size=\"14.00\" fill=\"#000000\">value = [3, 2, 0, 0]</text>\n</g>\n<!-- 117&#45;&gt;119 -->\n<g id=\"edge119\" class=\"edge\">\n<title>117&#45;&gt;119</title>\n<path fill=\"none\" stroke=\"#000000\" d=\"M2549.8274,-920.9465C2549.906,-912.776 2549.991,-903.9318 2550.0734,-895.3697\"/>\n<polygon fill=\"#000000\" stroke=\"#000000\" points=\"2553.5754,-895.1632 2550.1718,-885.13 2546.5757,-895.0958 2553.5754,-895.1632\"/>\n</g>\n<!-- 120 -->\n<g id=\"node121\" class=\"node\">\n<title>120</title>\n<path fill=\"#e58139\" stroke=\"#000000\" d=\"M2464,-773.5C2464,-773.5 2357,-773.5 2357,-773.5 2351,-773.5 2345,-767.5 2345,-761.5 2345,-761.5 2345,-732.5 2345,-732.5 2345,-726.5 2351,-720.5 2357,-720.5 2357,-720.5 2464,-720.5 2464,-720.5 2470,-720.5 2476,-726.5 2476,-732.5 2476,-732.5 2476,-761.5 2476,-761.5 2476,-767.5 2470,-773.5 2464,-773.5\"/>\n<text text-anchor=\"middle\" x=\"2410.5\" y=\"-758.3\" font-family=\"Helvetica,sans-Serif\" font-size=\"14.00\" fill=\"#000000\">gini = 0.0</text>\n<text text-anchor=\"middle\" x=\"2410.5\" y=\"-743.3\" font-family=\"Helvetica,sans-Serif\" font-size=\"14.00\" fill=\"#000000\">samples = 2</text>\n<text text-anchor=\"middle\" x=\"2410.5\" y=\"-728.3\" font-family=\"Helvetica,sans-Serif\" font-size=\"14.00\" fill=\"#000000\">value = [2, 0, 0, 0]</text>\n</g>\n<!-- 119&#45;&gt;120 -->\n<g id=\"edge120\" class=\"edge\">\n<title>119&#45;&gt;120</title>\n<path fill=\"none\" stroke=\"#000000\" d=\"M2504.6588,-816.9465C2488.4965,-804.9403 2470.3758,-791.4791 2454.3795,-779.5962\"/>\n<polygon fill=\"#000000\" stroke=\"#000000\" points=\"2456.3444,-776.6958 2446.2298,-773.5422 2452.1701,-782.3151 2456.3444,-776.6958\"/>\n</g>\n<!-- 121 -->\n<g id=\"node122\" class=\"node\">\n<title>121</title>\n<path fill=\"#a3f29c\" stroke=\"#000000\" d=\"M2613,-781C2613,-781 2506,-781 2506,-781 2500,-781 2494,-775 2494,-769 2494,-769 2494,-725 2494,-725 2494,-719 2500,-713 2506,-713 2506,-713 2613,-713 2613,-713 2619,-713 2625,-719 2625,-725 2625,-725 2625,-769 2625,-769 2625,-775 2619,-781 2613,-781\"/>\n<text text-anchor=\"middle\" x=\"2559.5\" y=\"-765.8\" font-family=\"Helvetica,sans-Serif\" font-size=\"14.00\" fill=\"#000000\">X[1] &lt;= 56.0</text>\n<text text-anchor=\"middle\" x=\"2559.5\" y=\"-750.8\" font-family=\"Helvetica,sans-Serif\" font-size=\"14.00\" fill=\"#000000\">gini = 0.444</text>\n<text text-anchor=\"middle\" x=\"2559.5\" y=\"-735.8\" font-family=\"Helvetica,sans-Serif\" font-size=\"14.00\" fill=\"#000000\">samples = 3</text>\n<text text-anchor=\"middle\" x=\"2559.5\" y=\"-720.8\" font-family=\"Helvetica,sans-Serif\" font-size=\"14.00\" fill=\"#000000\">value = [1, 2, 0, 0]</text>\n</g>\n<!-- 119&#45;&gt;121 -->\n<g id=\"edge121\" class=\"edge\">\n<title>119&#45;&gt;121</title>\n<path fill=\"none\" stroke=\"#000000\" d=\"M2553.4469,-816.9465C2554.154,-808.776 2554.9194,-799.9318 2555.6603,-791.3697\"/>\n<polygon fill=\"#000000\" stroke=\"#000000\" points=\"2559.1712,-791.3945 2556.5464,-781.13 2552.1972,-790.791 2559.1712,-791.3945\"/>\n</g>\n<!-- 122 -->\n<g id=\"node123\" class=\"node\">\n<title>122</title>\n<path fill=\"#47e539\" stroke=\"#000000\" d=\"M2538,-669.5C2538,-669.5 2431,-669.5 2431,-669.5 2425,-669.5 2419,-663.5 2419,-657.5 2419,-657.5 2419,-628.5 2419,-628.5 2419,-622.5 2425,-616.5 2431,-616.5 2431,-616.5 2538,-616.5 2538,-616.5 2544,-616.5 2550,-622.5 2550,-628.5 2550,-628.5 2550,-657.5 2550,-657.5 2550,-663.5 2544,-669.5 2538,-669.5\"/>\n<text text-anchor=\"middle\" x=\"2484.5\" y=\"-654.3\" font-family=\"Helvetica,sans-Serif\" font-size=\"14.00\" fill=\"#000000\">gini = 0.0</text>\n<text text-anchor=\"middle\" x=\"2484.5\" y=\"-639.3\" font-family=\"Helvetica,sans-Serif\" font-size=\"14.00\" fill=\"#000000\">samples = 2</text>\n<text text-anchor=\"middle\" x=\"2484.5\" y=\"-624.3\" font-family=\"Helvetica,sans-Serif\" font-size=\"14.00\" fill=\"#000000\">value = [0, 2, 0, 0]</text>\n</g>\n<!-- 121&#45;&gt;122 -->\n<g id=\"edge122\" class=\"edge\">\n<title>121&#45;&gt;122</title>\n<path fill=\"none\" stroke=\"#000000\" d=\"M2534.9422,-712.9465C2526.8399,-701.7113 2517.8188,-689.2021 2509.6714,-677.9043\"/>\n<polygon fill=\"#000000\" stroke=\"#000000\" points=\"2512.3291,-675.6058 2503.641,-669.5422 2506.6514,-679.7003 2512.3291,-675.6058\"/>\n</g>\n<!-- 123 -->\n<g id=\"node124\" class=\"node\">\n<title>123</title>\n<path fill=\"#e58139\" stroke=\"#000000\" d=\"M2687,-669.5C2687,-669.5 2580,-669.5 2580,-669.5 2574,-669.5 2568,-663.5 2568,-657.5 2568,-657.5 2568,-628.5 2568,-628.5 2568,-622.5 2574,-616.5 2580,-616.5 2580,-616.5 2687,-616.5 2687,-616.5 2693,-616.5 2699,-622.5 2699,-628.5 2699,-628.5 2699,-657.5 2699,-657.5 2699,-663.5 2693,-669.5 2687,-669.5\"/>\n<text text-anchor=\"middle\" x=\"2633.5\" y=\"-654.3\" font-family=\"Helvetica,sans-Serif\" font-size=\"14.00\" fill=\"#000000\">gini = 0.0</text>\n<text text-anchor=\"middle\" x=\"2633.5\" y=\"-639.3\" font-family=\"Helvetica,sans-Serif\" font-size=\"14.00\" fill=\"#000000\">samples = 1</text>\n<text text-anchor=\"middle\" x=\"2633.5\" y=\"-624.3\" font-family=\"Helvetica,sans-Serif\" font-size=\"14.00\" fill=\"#000000\">value = [1, 0, 0, 0]</text>\n</g>\n<!-- 121&#45;&gt;123 -->\n<g id=\"edge123\" class=\"edge\">\n<title>121&#45;&gt;123</title>\n<path fill=\"none\" stroke=\"#000000\" d=\"M2583.7304,-712.9465C2591.7246,-701.7113 2600.6254,-689.2021 2608.6642,-677.9043\"/>\n<polygon fill=\"#000000\" stroke=\"#000000\" points=\"2611.6684,-679.7192 2614.6142,-669.5422 2605.9649,-675.6609 2611.6684,-679.7192\"/>\n</g>\n</g>\n</svg>\n",
            "text/plain": [
              "<graphviz.files.Source at 0x7fb4696994d0>"
            ]
          },
          "execution_count": 71,
          "metadata": {},
          "output_type": "execute_result"
        }
      ],
      "source": [
        "import graphviz\n",
        "\n",
        "dot_data = tree.export_graphviz(clf, filled=True, rounded=True)\n",
        "\n",
        "graph = graphviz.Source(dot_data)\n",
        "graph"
      ]
    },
    {
      "cell_type": "code",
      "execution_count": 73,
      "metadata": {
        "id": "R-WXDJLWvvST"
      },
      "outputs": [],
      "source": [
        "y_pred = clf.predict(X)"
      ]
    },
    {
      "cell_type": "code",
      "execution_count": 74,
      "metadata": {
        "colab": {
          "base_uri": "https://localhost:8080/"
        },
        "id": "wm2mZxZqxSeR",
        "outputId": "91e5b95a-ebec-4ea6-a765-f225e3baec54"
      },
      "outputs": [
        {
          "name": "stdout",
          "output_type": "stream",
          "text": [
            "[[ 33   0   0   0]\n",
            " [  0 125   0   0]\n",
            " [  0   0   8   0]\n",
            " [  0   0   0  25]]\n",
            "              precision    recall  f1-score   support\n",
            "\n",
            "           0       1.00      1.00      1.00        33\n",
            "           1       1.00      1.00      1.00       125\n",
            "           2       1.00      1.00      1.00         8\n",
            "           3       1.00      1.00      1.00        25\n",
            "\n",
            "    accuracy                           1.00       191\n",
            "   macro avg       1.00      1.00      1.00       191\n",
            "weighted avg       1.00      1.00      1.00       191\n",
            "\n"
          ]
        }
      ],
      "source": [
        "from sklearn.metrics import classification_report, confusion_matrix\n",
        "print(confusion_matrix(y, y_pred))\n",
        "print(classification_report(y, y_pred))\n"
      ]
    }
  ],
  "metadata": {
    "colab": {
      "collapsed_sections": [],
      "provenance": []
    },
    "kernelspec": {
      "display_name": "Python 3.10.5 64-bit",
      "language": "python",
      "name": "python3"
    },
    "language_info": {
      "name": "python",
      "version": "3.10.5"
    },
    "vscode": {
      "interpreter": {
        "hash": "e7370f93d1d0cde622a1f8e1c04877d8463912d04d973331ad4851f04de6915a"
      }
    }
  },
  "nbformat": 4,
  "nbformat_minor": 0
}
